{
  "cells": [
    {
      "cell_type": "code",
      "execution_count": 1,
      "metadata": {
        "colab": {
          "base_uri": "https://localhost:8080/"
        },
        "id": "lN5-AcoypUan",
        "outputId": "27a0d132-984b-4db2-973c-c2482bbe5db1"
      },
      "outputs": [],
      "source": [
        "#!nvidia-smi"
      ]
    },
    {
      "cell_type": "code",
      "execution_count": 2,
      "metadata": {
        "colab": {
          "base_uri": "https://localhost:8080/"
        },
        "id": "sI_JO6jFrD7Z",
        "outputId": "54588cba-2cf6-4cf6-d06a-8c75d47e77d7"
      },
      "outputs": [],
      "source": [
        "# from google.colab import drive\n",
        "# drive.mount('/content/drive')"
      ]
    },
    {
      "attachments": {},
      "cell_type": "markdown",
      "metadata": {},
      "source": [
        "# Loading Libraries"
      ]
    },
    {
      "cell_type": "code",
      "execution_count": 2,
      "metadata": {
        "id": "SpDcPu8tmmK0"
      },
      "outputs": [],
      "source": [
        "#data management tools\n",
        "import pandas as pd\n",
        "import numpy as np\n",
        "import imblearn\n",
        "\n",
        "from imblearn.under_sampling import RandomUnderSampler\n",
        "from imblearn.over_sampling import RandomOverSampler\n",
        "from imblearn.over_sampling import SMOTE\n",
        "from imblearn.over_sampling import BorderlineSMOTE\n",
        "from imblearn.over_sampling import ADASYN\n",
        "\n",
        "import scipy.stats as stats\n",
        "\n",
        "import matplotlib.pyplot as plt\n",
        "import seaborn as sb\n",
        "import re\n",
        "import datetime\n",
        "\n",
        "# #Vectorization and Tokenizing\n",
        "from sklearn.feature_extraction.text import TfidfVectorizer, CountVectorizer\n",
        "from sklearn.preprocessing import MaxAbsScaler\n",
        "from sklearn.preprocessing import OneHotEncoder\n",
        "from sklearn.preprocessing import LabelEncoder\n",
        "\n",
        "import nltk\n",
        "from nltk.corpus import stopwords\n",
        "from nltk.tokenize import word_tokenize\n",
        "from nltk import pos_tag\n",
        "from nltk.stem import PorterStemmer\n",
        "from nltk.stem import LancasterStemmer\n",
        "\n",
        "\n",
        "# #DNN Modules\n",
        "# import torch\n",
        "# import tensorflow as tf\n",
        "# from tensorflow.keras import layers\n",
        "# from tensorflow.keras.models import Sequential\n",
        "# from tensorflow.keras.layers import Dense\n",
        "# from tensorflow.keras.layers import InputLayer\n",
        "# from tensorflow.keras import losses\n",
        "# from tensorflow.keras.regularizers import L2\n",
        "# from tensorflow.keras.utils import plot_model\n",
        "# from tensorflow.keras.layers import TextVectorization\n",
        "\n",
        "\n",
        "# #Models\n",
        "# from sklearn.ensemble import AdaBoostClassifier\n",
        "# from sklearn.neighbors import KNeighborsClassifier\n",
        "# from sklearn.svm import SVC\n",
        "from sklearn.linear_model import LogisticRegression\n",
        "# from sklearn.naive_bayes import GaussianNB\n",
        "# from sklearn.linear_model import LinearRegression\n",
        "\n",
        "\n",
        "# #Metrics and Testing\n",
        "from sklearn.model_selection import train_test_split\n",
        "from sklearn import metrics\n",
        "# from sklearn.metrics import accuracy_score\n",
        "from sklearn.metrics import confusion_matrix"
      ]
    },
    {
      "attachments": {},
      "cell_type": "markdown",
      "metadata": {},
      "source": [
        "# Dataloading and Preprocessing"
      ]
    },
    {
      "cell_type": "code",
      "execution_count": 3,
      "metadata": {
        "id": "oR_xocCCmmK3"
      },
      "outputs": [],
      "source": [
        "#My Lenovo\n",
        "#df1 = pd.read_csv('/Data/CERT/r4.2/logon.csv')\n",
        "#df2 = pd.read_csv('/Data/CERT/r4.2/device.csv')\n",
        "#df3 = pd.read_csv('/Data/CERT/r4.2/email.csv')\n",
        "#df4 = pd.read_csv('/Data/CERT/r4.2/file.csv')\n",
        "#df5 = pd.read_csv('/Data/CERT/r4.2/http.csv')\n",
        "#df6 = pd.read_csv('/Data/CERT/r4.2/psychometric.csv')\n",
        "\n",
        "#My MacBook\n",
        "df1 = pd.read_csv('/Users/ken.clements/code/praxis/CERT42/logon.csv')\n",
        "df2 = pd.read_csv('/Users/ken.clements/code/praxis/CERT42/device.csv')\n",
        "df3 = pd.read_csv('/Users/ken.clements/code/praxis/CERT42/email.csv')\n",
        "df4 = pd.read_csv('/Users/ken.clements/code/praxis/CERT42/file.csv')\n",
        "df5 = pd.read_csv('/Users/ken.clements/code/praxis/CERT42/http.csv')\n",
        "ans = pd.read_csv('/Users/ken.clements/code/praxis/CERT42/answers/answers.csv')\n",
        "ldap = pd.read_csv('/Users/ken.clements/code/praxis/CERT42/ldap/2009-12.csv')\n",
        "#df6 = pd.read_csv('/Users/ken.clements/code/praxis/CERT42/psychometric.csv')\n",
        "\n",
        "#Google Drive - Colab\n",
        "# df1 = pd.read_csv('/content/drive/MyDrive/Praxis/data/CERT42/logon.csv')\n",
        "# df2 = pd.read_csv('/content/drive/MyDrive/Praxis/data/CERT42/device.csv')\n",
        "# df3 = pd.read_csv('/content/drive/MyDrive/Praxis/data/CERT42/http.csv')\n",
        "# df4 = pd.read_csv('/content/drive/MyDrive/Praxis/data/CERT42/email.csv')\n",
        "# df5 = pd.read_csv('/content/drive/MyDrive/Praxis/data/CERT42/file.csv')\n",
        "# df6 = pd.read_csv('/content/drive/MyDrive/Praxis/data/CERT42/psychometric.csv')"
      ]
    },
    {
      "cell_type": "code",
      "execution_count": 4,
      "metadata": {},
      "outputs": [],
      "source": [
        "START = datetime.date(2010,1,1)\n",
        "END = datetime.date(2010,7, 31)"
      ]
    },
    {
      "cell_type": "code",
      "execution_count": 5,
      "metadata": {},
      "outputs": [],
      "source": [
        "df1['date'] = pd.to_datetime(df1['date'])\n",
        "df2['date'] = pd.to_datetime(df2['date'])\n",
        "df3['date'] = pd.to_datetime(df3['date'])\n",
        "df4['date'] = pd.to_datetime(df4['date'])\n",
        "df5['date'] = pd.to_datetime(df5['date'])\n",
        "\n",
        "df1['day_date'] = pd.to_datetime(df1['date']).dt.date\n",
        "df2['day_date'] = pd.to_datetime(df2['date']).dt.date\n",
        "df3['day_date'] = pd.to_datetime(df3['date']).dt.date\n",
        "df4['day_date'] = pd.to_datetime(df4['date']).dt.date\n",
        "df5['day_date'] = pd.to_datetime(df5['date']).dt.date"
      ]
    },
    {
      "cell_type": "code",
      "execution_count": 6,
      "metadata": {},
      "outputs": [],
      "source": [
        "df3['activity'] = \"email\"\n",
        "df4['activity'] = \"file\"\n",
        "df5['activity'] = \"http\""
      ]
    },
    {
      "cell_type": "code",
      "execution_count": 7,
      "metadata": {},
      "outputs": [],
      "source": [
        "df1_bs = df1[((df1['day_date'] >= START) & (df1['day_date'] <= END))]\n",
        "df2_bs = df2[((df2['day_date'] >= START) & (df2['day_date'] <= END))]\n",
        "df3_bs = df3[((df3['day_date'] >= START) & (df3['day_date'] <= END))]\n",
        "df4_bs = df4[((df4['day_date'] >= START) & (df4['day_date'] <= END))]\n",
        "df5_bs = df5[((df5['day_date'] >= START) & (df5['day_date'] <= END))]"
      ]
    },
    {
      "attachments": {},
      "cell_type": "markdown",
      "metadata": {},
      "source": [
        "# Stemming Lemmatizing Stopwords Lowercase and Tokenized"
      ]
    },
    {
      "cell_type": "code",
      "execution_count": 8,
      "metadata": {},
      "outputs": [
        {
          "name": "stderr",
          "output_type": "stream",
          "text": [
            "[nltk_data] Downloading package averaged_perceptron_tagger to\n",
            "[nltk_data]     /Users/ken.clements/nltk_data...\n",
            "[nltk_data]   Package averaged_perceptron_tagger is already up-to-\n",
            "[nltk_data]       date!\n",
            "[nltk_data] Downloading package wordnet to\n",
            "[nltk_data]     /Users/ken.clements/nltk_data...\n",
            "[nltk_data]   Package wordnet is already up-to-date!\n",
            "[nltk_data] Downloading package omw-1.4 to\n",
            "[nltk_data]     /Users/ken.clements/nltk_data...\n",
            "[nltk_data]   Package omw-1.4 is already up-to-date!\n"
          ]
        }
      ],
      "source": [
        "nltk.download('averaged_perceptron_tagger')\n",
        "nltk.download('wordnet')\n",
        "nltk.download('omw-1.4')\n",
        "def prepare_text(pretext):\n",
        "\n",
        "    # tokenize mission.\n",
        "    tokens = word_tokenize(pretext, language=\"english\", preserve_line=True)\n",
        "\n",
        "    # Parts of speech (POS) tag tokens.\n",
        "    token_tag = pos_tag(tokens)\n",
        "    \n",
        "    # Only include some of the POS tags.\n",
        "    include_tags = ['VBN', 'VBD', 'JJ', 'JJS', 'JJR', 'CD', 'NN', 'NNS', 'NNP', 'NNPS']\n",
        "    filtered_tokens = (tok for tok, tag in token_tag if tag in include_tags)    \n",
        "    \n",
        "    #stem words.\n",
        "    #stemmed_tokens = (lancaster.stem(tok) for tok in filtered_tokens)\n",
        "\n",
        "    #lemm words.\n",
        "    #lemmed_words = (lemmatizer.lemmatize(tok) for tok in stemmed_tokens)\n",
        "\n",
        "    #lower_words = [str.lower(tok) for tok in lemmed_words]\n",
        "    lower_words = [str.lower(tok) for tok in filtered_tokens]\n",
        "\n",
        "    #x = cv.fit_transform(tokens).toarray()\n",
        "\n",
        "    joined = \" \".join(lower_words)\n",
        "\n",
        "    return(joined)\n",
        "\n",
        "#ps = PorterStemmer()\n",
        "#lancaster = LancasterStemmer()\n",
        "#lemmatizer = nltk.stem.WordNetLemmatizer()"
      ]
    },
    {
      "cell_type": "code",
      "execution_count": null,
      "metadata": {},
      "outputs": [],
      "source": [
        "# df3_bs['df3tokenized'] = df3_bs['content'].apply(prepare_text)\n",
        "# df4_bs['df4tokenized'] = df4_bs['content'].apply(prepare_text)\n",
        "# df5_bs['df5tokenized'] = df5_bs['content'].apply(prepare_text)"
      ]
    },
    {
      "attachments": {},
      "cell_type": "markdown",
      "metadata": {},
      "source": [
        "# TFIDF"
      ]
    },
    {
      "cell_type": "code",
      "execution_count": null,
      "metadata": {},
      "outputs": [],
      "source": [
        "# nltk.download('stopwords')\n",
        "# stops = set(stopwords.words('english'))\n",
        "# tfidfvectorizer = TfidfVectorizer(stop_words='english', analyzer='word' )"
      ]
    },
    {
      "cell_type": "code",
      "execution_count": null,
      "metadata": {},
      "outputs": [],
      "source": [
        "# tfidf_df3 = tfidfvectorizer.fit_transform(df3_bs['df3tokenized'])\n",
        "# df3_bs['df3tfidf_mean'] = ((tfidf_df3.sum(axis=1).transpose()) / (tfidf_df3.getnnz(axis=1))).transpose()\n",
        "# df3_bs['df3tfidf_max'] = tfidf_df3.max()"
      ]
    },
    {
      "cell_type": "code",
      "execution_count": null,
      "metadata": {},
      "outputs": [],
      "source": [
        "# tfidf_df4 = tfidfvectorizer.fit_transform(df4_bs['df4tokenized'])\n",
        "# df4_bs['df4tfidf_mean'] = ((tfidf_df4.sum(axis=1).transpose()) / (tfidf_df4.getnnz(axis=1))).transpose()\n",
        "# df4_bs['df4tfidf_max'] = tfidf_df4.max()"
      ]
    },
    {
      "cell_type": "code",
      "execution_count": null,
      "metadata": {},
      "outputs": [],
      "source": [
        "# tfidf_df5 = tfidfvectorizer.fit_transform(df5_bs['df5tokenized'])\n",
        "# df5_bs['df5tfidf_mean'] = ((tfidf_df5.sum(axis=1).transpose()) / (tfidf_df5.getnnz(axis=1))).transpose()\n",
        "# df5_bs['df5tfidf_max'] = tfidf_df5.max()"
      ]
    },
    {
      "attachments": {},
      "cell_type": "markdown",
      "metadata": {},
      "source": [
        "# Aggregate all data"
      ]
    },
    {
      "cell_type": "code",
      "execution_count": 162,
      "metadata": {
        "id": "To-v9XnyVOfW",
        "outputId": "cbae14cf-3cba-4120-e07f-c1a958848557"
      },
      "outputs": [],
      "source": [
        "df_merged = pd.concat([df1_bs, df2_bs, df3_bs, df4_bs, df5_bs])"
      ]
    },
    {
      "cell_type": "code",
      "execution_count": 163,
      "metadata": {},
      "outputs": [],
      "source": [
        "df_merged['label'] = 'normal'"
      ]
    },
    {
      "cell_type": "code",
      "execution_count": 164,
      "metadata": {},
      "outputs": [],
      "source": [
        "df_merged.loc[df_merged['id'].isin(ans['id']),['label']] = 'bad'"
      ]
    },
    {
      "cell_type": "code",
      "execution_count": 165,
      "metadata": {},
      "outputs": [],
      "source": [
        "dates = df_merged['day_date']\n",
        "dates = dates.unique()"
      ]
    },
    {
      "cell_type": "code",
      "execution_count": 251,
      "metadata": {},
      "outputs": [],
      "source": [
        "dfwow = []\n",
        "for d in dates:\n",
        "    dayevents = df_merged.loc[(df_merged['day_date'] == d)]\n",
        "    users = dayevents['user']\n",
        "    users = users.unique()\n",
        "    for u in users:\n",
        "        userd = dayevents[(dayevents['user'] == u)]\n",
        "        date = d\n",
        "        username = u\n",
        "        login_count = userd[userd['activity'] == 'Logon'].shape[0]\n",
        "        logout_count = userd[userd['activity'] == 'Logoff'].shape[0]\n",
        "        email_count = userd[userd['activity'] == 'email'].shape[0]\n",
        "        file_count = userd[userd['activity'] == 'file'].shape[0]\n",
        "        http_count = userd[userd['activity'] == 'http'].shape[0]\n",
        "        start_time = userd['date'].iloc[0]\n",
        "        end_time = userd['date'].iloc[-1]\n",
        "        tfidf3_mean = userd['df3tfidf_mean'].mean()\n",
        "        tfidf4_mean = userd['df4tfidf_mean'].mean()\n",
        "        tfidf5_mean = userd['df5tfidf_mean'].mean()\n",
        "        if (userd[(userd['label'] == 'bad')].shape[0] > 0): label = 1\n",
        "        else: label = 0\n",
        "        dfwow.append([date, username, login_count, logout_count, email_count, file_count, http_count, start_time, end_time, label])\n"
      ]
    },
    {
      "cell_type": "code",
      "execution_count": 253,
      "metadata": {},
      "outputs": [],
      "source": [
        "final = pd.DataFrame(dfwow, columns=['date', 'username', 'login_count', 'logout_count', 'email_count', 'file_count', 'http_count', 'start_time', 'end_time', 'label'])"
      ]
    },
    {
      "cell_type": "code",
      "execution_count": 285,
      "metadata": {},
      "outputs": [],
      "source": [
        "final['start_secs'] = final['start_time'].apply(lambda s: (s - s.replace(hour=0, minute=0, second=0, microsecond=0)).seconds)\n",
        "final['end_secs'] = final['end_time'].apply(lambda s: (s - s.replace(hour=0, minute=0, second=0, microsecond=0)).seconds)"
      ]
    },
    {
      "cell_type": "code",
      "execution_count": 286,
      "metadata": {},
      "outputs": [],
      "source": [
        "users = final['username']\n",
        "users = users.unique()"
      ]
    },
    {
      "cell_type": "code",
      "execution_count": 289,
      "metadata": {},
      "outputs": [],
      "source": [
        "individual_deltas = []\n",
        "for u in users:\n",
        "    lastlogincount=0\n",
        "    lastlogoutcount=0\n",
        "    lastemailcount=0\n",
        "    lastfilecount=0\n",
        "    lasthttpcount=0\n",
        "    laststartsecs=0\n",
        "    lastendsecs=0\n",
        "    userevents = final.loc[(final['username'] == u)]\n",
        "    for index, row in userevents.iterrows():\n",
        "        username = u\n",
        "        date = row['date']\n",
        "        individual_deltas.append([username, date, lastlogincount, lastlogoutcount, lastemailcount, lastfilecount, lasthttpcount, laststartsecs, lastendsecs])\n",
        "        lastlogincount = row['login_count']\n",
        "        lastlogoutcount = row['logout_count']\n",
        "        lastemailcount = row['email_count']\n",
        "        lastfilecount = row['file_count']\n",
        "        lasthttpcount = row['http_count']\n",
        "        laststartsecs = row['start_secs']\n",
        "        lastendsecs = row['end_secs']"
      ]
    },
    {
      "cell_type": "code",
      "execution_count": 290,
      "metadata": {},
      "outputs": [],
      "source": [
        "individual_deltas_df = pd.DataFrame(individual_deltas, columns=['username', 'date', 'lastlogincount', 'lastlogoutcount', 'lastemailcount', 'lastfilecount', 'lasthttpcount', 'laststartsecs', 'lastendsecs'])"
      ]
    },
    {
      "cell_type": "code",
      "execution_count": 291,
      "metadata": {},
      "outputs": [],
      "source": [
        "final_individual_deltas_join_df = pd.merge(final, individual_deltas_df, on=['username', 'date'], how='left')"
      ]
    },
    {
      "cell_type": "code",
      "execution_count": 292,
      "metadata": {},
      "outputs": [],
      "source": [
        "ldap = ldap.rename(columns={'user_id': 'username'})"
      ]
    },
    {
      "cell_type": "code",
      "execution_count": 293,
      "metadata": {},
      "outputs": [],
      "source": [
        "joined_df = pd.merge(final_individual_deltas_join_df, ldap, on='username', how='left')"
      ]
    },
    {
      "cell_type": "code",
      "execution_count": 294,
      "metadata": {},
      "outputs": [],
      "source": [
        "label_encoder = LabelEncoder()"
      ]
    },
    {
      "cell_type": "code",
      "execution_count": 295,
      "metadata": {},
      "outputs": [],
      "source": [
        "joined_df['username'] = label_encoder.fit_transform(joined_df['username'])\n",
        "joined_df['department'] = label_encoder.fit_transform(joined_df['department'])"
      ]
    },
    {
      "cell_type": "code",
      "execution_count": 296,
      "metadata": {},
      "outputs": [],
      "source": [
        "depts = joined_df['department']\n",
        "depts = depts.unique()"
      ]
    },
    {
      "cell_type": "code",
      "execution_count": 297,
      "metadata": {},
      "outputs": [],
      "source": [
        "dept_means = []\n",
        "for d in depts:\n",
        "    dept_events = joined_df.loc[(joined_df['department'] == d)]\n",
        "    department = d\n",
        "    login_mean = dept_events['login_count'].mean()\n",
        "    logout_mean = dept_events['logout_count'].mean()\n",
        "    http_mean = dept_events['http_count'].mean()\n",
        "    file_mean = dept_events['file_count'].mean()\n",
        "    email_mean = dept_events['logout_count'].mean()\n",
        "    start_mean = dept_events['start_secs'].mean()\n",
        "    end_mean = dept_events['end_secs'].mean()\n",
        "    dept_means.append([department, login_mean, logout_mean, email_mean, file_mean, http_mean, start_mean, end_mean])"
      ]
    },
    {
      "cell_type": "code",
      "execution_count": 298,
      "metadata": {},
      "outputs": [],
      "source": [
        "dept_events_df = pd.DataFrame(dept_means, columns=['department', 'login_mean', 'logout_mean', 'email_mean', 'file_mean', 'http_mean', 'start_mean', 'end_mean'])\n"
      ]
    },
    {
      "cell_type": "code",
      "execution_count": 299,
      "metadata": {},
      "outputs": [],
      "source": [
        "last_joined_df = pd.merge(joined_df, dept_events_df, on='department', how='left')"
      ]
    },
    {
      "cell_type": "code",
      "execution_count": 300,
      "metadata": {},
      "outputs": [],
      "source": [
        "last_joined_df['login_delta'] = (last_joined_df['login_count'] - last_joined_df['login_mean'])\n",
        "last_joined_df['logout_delta'] = (last_joined_df['logout_count'] - last_joined_df['logout_mean'])\n",
        "last_joined_df['email_delta'] = (last_joined_df['email_count'] - last_joined_df['email_mean'])\n",
        "last_joined_df['file_delta'] = (last_joined_df['file_count'] - last_joined_df['file_mean'])\n",
        "last_joined_df['http_delta'] = (last_joined_df['http_count'] - last_joined_df['http_mean'])\n",
        "last_joined_df['start_delta'] = (last_joined_df['start_secs'] - last_joined_df['start_mean'])\n",
        "last_joined_df['end_delta'] = (last_joined_df['end_secs'] - last_joined_df['end_mean'])"
      ]
    },
    {
      "cell_type": "code",
      "execution_count": 305,
      "metadata": {},
      "outputs": [],
      "source": [
        "last_joined_df['ind_login_delta'] = (last_joined_df['login_count'] - last_joined_df['lastlogincount'])\n",
        "last_joined_df['ind_logout_delta'] = (last_joined_df['logout_count'] - last_joined_df['lastlogoutcount'])\n",
        "last_joined_df['ind_email_delta'] = (last_joined_df['email_count'] - last_joined_df['lastemailcount'])\n",
        "last_joined_df['ind_file_delta'] = (last_joined_df['login_count'] - last_joined_df['lastfilecount'])\n",
        "last_joined_df['ind_http_delta'] = (last_joined_df['login_count'] - last_joined_df['lasthttpcount'])\n",
        "last_joined_df['ind_start_secs_delta'] = (last_joined_df['start_secs'] - last_joined_df['laststartsecs'])\n",
        "last_joined_df['ind_end_secs_delta'] = (last_joined_df['end_secs'] - last_joined_df['lastendsecs'])\n"
      ]
    },
    {
      "cell_type": "code",
      "execution_count": 354,
      "metadata": {},
      "outputs": [],
      "source": [
        "indexFirstDay = last_joined_df[ (last_joined_df['date'] == '2010-01-02')  ].index"
      ]
    },
    {
      "cell_type": "code",
      "execution_count": 391,
      "metadata": {},
      "outputs": [],
      "source": [
        "users = last_joined_df['username']\n",
        "users = users.unique()"
      ]
    },
    {
      "cell_type": "code",
      "execution_count": 397,
      "metadata": {},
      "outputs": [],
      "source": [
        "for u in users:\n",
        "    userIndex = last_joined_df[(last_joined_df['username'] == u)].first_valid_index()\n",
        "    last_joined_df.drop(userIndex , inplace=True)"
      ]
    },
    {
      "cell_type": "code",
      "execution_count": 170,
      "metadata": {},
      "outputs": [],
      "source": [
        "#final = final.dropna(subset=['tfidf5_mean', 'tfidf3_mean', 'tfidf4_mean'])"
      ]
    },
    {
      "cell_type": "code",
      "execution_count": 171,
      "metadata": {},
      "outputs": [],
      "source": [
        "#final['date'] = (final['date'] - final['date'].min())  / np.timedelta64(1,'D')\n"
      ]
    },
    {
      "attachments": {},
      "cell_type": "markdown",
      "metadata": {},
      "source": [
        "# Sampling Methods"
      ]
    },
    {
      "cell_type": "code",
      "execution_count": 398,
      "metadata": {},
      "outputs": [
        {
          "data": {
            "text/plain": [
              "<Axes: xlabel='label', ylabel='count'>"
            ]
          },
          "execution_count": 398,
          "metadata": {},
          "output_type": "execute_result"
        },
        {
          "data": {
            "image/png": "[encoded data removed]",
            "text/plain": [
              "<Figure size 640x480 with 1 Axes>"
            ]
          },
          "metadata": {},
          "output_type": "display_data"
        }
      ],
      "source": [
        "sb.countplot(data=last_joined_df, x='label')"
      ]
    },
    {
      "cell_type": "code",
      "execution_count": 399,
      "metadata": {},
      "outputs": [
        {
          "data": {
            "text/plain": [
              "Index(['date', 'username', 'login_count', 'logout_count', 'email_count',\n",
              "       'file_count', 'http_count', 'start_time', 'end_time', 'label',\n",
              "       'start_secs', 'end_secs', 'lastlogincount', 'lastlogoutcount',\n",
              "       'lastemailcount', 'lastfilecount', 'lasthttpcount', 'laststartsecs',\n",
              "       'lastendsecs', 'employee_name', 'email', 'role', 'business_unit',\n",
              "       'functional_unit', 'department', 'team', 'supervisor', 'login_mean',\n",
              "       'logout_mean', 'email_mean', 'file_mean', 'http_mean', 'start_mean',\n",
              "       'end_mean', 'login_delta', 'logout_delta', 'email_delta', 'file_delta',\n",
              "       'http_delta', 'start_delta', 'end_delta', 'ind_login_delta',\n",
              "       'ind_logout_delta', 'ind_email_delta', 'ind_file_delta',\n",
              "       'ind_http_delta', 'ind_start_secs_delta', 'ind_end_secs_delta'],\n",
              "      dtype='object')"
            ]
          },
          "execution_count": 399,
          "metadata": {},
          "output_type": "execute_result"
        }
      ],
      "source": [
        "last_joined_df.columns"
      ]
    },
    {
      "cell_type": "code",
      "execution_count": 400,
      "metadata": {},
      "outputs": [],
      "source": [
        "X = last_joined_df.loc[:, ['login_delta', 'logout_delta', 'email_delta', 'file_delta',\n",
        "       'http_delta', 'start_delta', 'end_delta', 'ind_login_delta',\n",
        "       'ind_logout_delta', 'ind_email_delta', 'ind_file_delta',\n",
        "       'ind_http_delta', 'ind_start_secs_delta', 'ind_end_secs_delta']]"
      ]
    },
    {
      "cell_type": "code",
      "execution_count": 401,
      "metadata": {},
      "outputs": [
        {
          "data": {
            "text/html": [
              "<div>\n",
              "<style scoped>\n",
              "    .dataframe tbody tr th:only-of-type {\n",
              "        vertical-align: middle;\n",
              "    }\n",
              "\n",
              "    .dataframe tbody tr th {\n",
              "        vertical-align: top;\n",
              "    }\n",
              "\n",
              "    .dataframe thead th {\n",
              "        text-align: right;\n",
              "    }\n",
              "</style>\n",
              "<table border=\"1\" class=\"dataframe\">\n",
              "  <thead>\n",
              "    <tr style=\"text-align: right;\">\n",
              "      <th></th>\n",
              "      <th>login_delta</th>\n",
              "      <th>logout_delta</th>\n",
              "      <th>email_delta</th>\n",
              "      <th>file_delta</th>\n",
              "      <th>http_delta</th>\n",
              "      <th>start_delta</th>\n",
              "      <th>end_delta</th>\n",
              "      <th>ind_login_delta</th>\n",
              "      <th>ind_logout_delta</th>\n",
              "      <th>ind_email_delta</th>\n",
              "      <th>ind_file_delta</th>\n",
              "      <th>ind_http_delta</th>\n",
              "      <th>ind_start_secs_delta</th>\n",
              "      <th>ind_end_secs_delta</th>\n",
              "    </tr>\n",
              "  </thead>\n",
              "  <tbody>\n",
              "    <tr>\n",
              "      <th>53</th>\n",
              "      <td>1.009379</td>\n",
              "      <td>-0.128285</td>\n",
              "      <td>-0.929160</td>\n",
              "      <td>-0.281929</td>\n",
              "      <td>-0.199089</td>\n",
              "      <td>-1.291877</td>\n",
              "      <td>-0.094758</td>\n",
              "      <td>-0.000636</td>\n",
              "      <td>-0.000013</td>\n",
              "      <td>-0.000252</td>\n",
              "      <td>0.414560</td>\n",
              "      <td>1.010684</td>\n",
              "      <td>0.015583</td>\n",
              "      <td>-0.483773</td>\n",
              "    </tr>\n",
              "    <tr>\n",
              "      <th>54</th>\n",
              "      <td>0.874122</td>\n",
              "      <td>-0.118106</td>\n",
              "      <td>0.225925</td>\n",
              "      <td>0.490444</td>\n",
              "      <td>-0.187235</td>\n",
              "      <td>-0.846636</td>\n",
              "      <td>-1.450517</td>\n",
              "      <td>-1.728985</td>\n",
              "      <td>-1.972219</td>\n",
              "      <td>-0.000252</td>\n",
              "      <td>0.414560</td>\n",
              "      <td>-0.149203</td>\n",
              "      <td>0.268173</td>\n",
              "      <td>-0.029705</td>\n",
              "    </tr>\n",
              "    <tr>\n",
              "      <th>55</th>\n",
              "      <td>1.009379</td>\n",
              "      <td>-0.128285</td>\n",
              "      <td>-0.929160</td>\n",
              "      <td>-0.281929</td>\n",
              "      <td>-0.199089</td>\n",
              "      <td>-1.141970</td>\n",
              "      <td>-2.629381</td>\n",
              "      <td>1.727713</td>\n",
              "      <td>-0.000013</td>\n",
              "      <td>-0.000252</td>\n",
              "      <td>0.414560</td>\n",
              "      <td>1.010684</td>\n",
              "      <td>0.268173</td>\n",
              "      <td>-0.813265</td>\n",
              "    </tr>\n",
              "    <tr>\n",
              "      <th>56</th>\n",
              "      <td>1.009379</td>\n",
              "      <td>-0.128285</td>\n",
              "      <td>-0.929160</td>\n",
              "      <td>-0.281929</td>\n",
              "      <td>-0.289483</td>\n",
              "      <td>-1.141970</td>\n",
              "      <td>-0.270670</td>\n",
              "      <td>-1.728985</td>\n",
              "      <td>-1.972219</td>\n",
              "      <td>-0.000252</td>\n",
              "      <td>-0.448444</td>\n",
              "      <td>1.045832</td>\n",
              "      <td>0.252386</td>\n",
              "      <td>-0.484490</td>\n",
              "    </tr>\n",
              "    <tr>\n",
              "      <th>61</th>\n",
              "      <td>0.985405</td>\n",
              "      <td>-0.134398</td>\n",
              "      <td>1.570762</td>\n",
              "      <td>1.653389</td>\n",
              "      <td>-0.329153</td>\n",
              "      <td>-0.084821</td>\n",
              "      <td>0.549665</td>\n",
              "      <td>-0.000636</td>\n",
              "      <td>-0.000013</td>\n",
              "      <td>-0.000252</td>\n",
              "      <td>0.414560</td>\n",
              "      <td>-1.168497</td>\n",
              "      <td>0.205026</td>\n",
              "      <td>-0.310658</td>\n",
              "    </tr>\n",
              "    <tr>\n",
              "      <th>...</th>\n",
              "      <td>...</td>\n",
              "      <td>...</td>\n",
              "      <td>...</td>\n",
              "      <td>...</td>\n",
              "      <td>...</td>\n",
              "      <td>...</td>\n",
              "      <td>...</td>\n",
              "      <td>...</td>\n",
              "      <td>...</td>\n",
              "      <td>...</td>\n",
              "      <td>...</td>\n",
              "      <td>...</td>\n",
              "      <td>...</td>\n",
              "      <td>...</td>\n",
              "    </tr>\n",
              "    <tr>\n",
              "      <th>147661</th>\n",
              "      <td>0.874122</td>\n",
              "      <td>-0.118106</td>\n",
              "      <td>0.225925</td>\n",
              "      <td>-0.368256</td>\n",
              "      <td>-0.187235</td>\n",
              "      <td>0.769028</td>\n",
              "      <td>0.334621</td>\n",
              "      <td>-0.000636</td>\n",
              "      <td>-0.000013</td>\n",
              "      <td>-0.000252</td>\n",
              "      <td>0.414560</td>\n",
              "      <td>-0.149203</td>\n",
              "      <td>-0.142286</td>\n",
              "      <td>-0.201385</td>\n",
              "    </tr>\n",
              "    <tr>\n",
              "      <th>147662</th>\n",
              "      <td>-0.593819</td>\n",
              "      <td>-0.118106</td>\n",
              "      <td>0.995317</td>\n",
              "      <td>-0.368256</td>\n",
              "      <td>1.982235</td>\n",
              "      <td>0.785684</td>\n",
              "      <td>-0.163178</td>\n",
              "      <td>-1.728985</td>\n",
              "      <td>-0.000013</td>\n",
              "      <td>4.037362</td>\n",
              "      <td>0.198809</td>\n",
              "      <td>-1.010331</td>\n",
              "      <td>-0.079138</td>\n",
              "      <td>3.018457</td>\n",
              "    </tr>\n",
              "    <tr>\n",
              "      <th>147663</th>\n",
              "      <td>-0.376862</td>\n",
              "      <td>-0.103752</td>\n",
              "      <td>-1.503797</td>\n",
              "      <td>-0.164015</td>\n",
              "      <td>-0.081324</td>\n",
              "      <td>0.870454</td>\n",
              "      <td>-0.573936</td>\n",
              "      <td>-1.728985</td>\n",
              "      <td>-0.000013</td>\n",
              "      <td>-0.577054</td>\n",
              "      <td>0.198809</td>\n",
              "      <td>1.327016</td>\n",
              "      <td>-0.015991</td>\n",
              "      <td>-1.145388</td>\n",
              "    </tr>\n",
              "    <tr>\n",
              "      <th>147664</th>\n",
              "      <td>-0.458561</td>\n",
              "      <td>-0.128285</td>\n",
              "      <td>-1.121508</td>\n",
              "      <td>-0.281929</td>\n",
              "      <td>-0.199089</td>\n",
              "      <td>0.507007</td>\n",
              "      <td>-1.211553</td>\n",
              "      <td>-0.000636</td>\n",
              "      <td>-0.000013</td>\n",
              "      <td>-0.577054</td>\n",
              "      <td>0.198809</td>\n",
              "      <td>0.993110</td>\n",
              "      <td>0.094518</td>\n",
              "      <td>-0.423518</td>\n",
              "    </tr>\n",
              "    <tr>\n",
              "      <th>147665</th>\n",
              "      <td>-0.458561</td>\n",
              "      <td>-0.128285</td>\n",
              "      <td>-0.929160</td>\n",
              "      <td>-0.281929</td>\n",
              "      <td>-0.199089</td>\n",
              "      <td>0.706883</td>\n",
              "      <td>-0.251675</td>\n",
              "      <td>-0.000636</td>\n",
              "      <td>-0.000013</td>\n",
              "      <td>1.153352</td>\n",
              "      <td>0.198809</td>\n",
              "      <td>0.993110</td>\n",
              "      <td>-0.110712</td>\n",
              "      <td>-0.139456</td>\n",
              "    </tr>\n",
              "  </tbody>\n",
              "</table>\n",
              "<p>146666 rows × 14 columns</p>\n",
              "</div>"
            ],
            "text/plain": [
              "        login_delta  logout_delta  email_delta  file_delta  http_delta  \\\n",
              "53         1.009379     -0.128285    -0.929160   -0.281929   -0.199089   \n",
              "54         0.874122     -0.118106     0.225925    0.490444   -0.187235   \n",
              "55         1.009379     -0.128285    -0.929160   -0.281929   -0.199089   \n",
              "56         1.009379     -0.128285    -0.929160   -0.281929   -0.289483   \n",
              "61         0.985405     -0.134398     1.570762    1.653389   -0.329153   \n",
              "...             ...           ...          ...         ...         ...   \n",
              "147661     0.874122     -0.118106     0.225925   -0.368256   -0.187235   \n",
              "147662    -0.593819     -0.118106     0.995317   -0.368256    1.982235   \n",
              "147663    -0.376862     -0.103752    -1.503797   -0.164015   -0.081324   \n",
              "147664    -0.458561     -0.128285    -1.121508   -0.281929   -0.199089   \n",
              "147665    -0.458561     -0.128285    -0.929160   -0.281929   -0.199089   \n",
              "\n",
              "        start_delta  end_delta  ind_login_delta  ind_logout_delta  \\\n",
              "53        -1.291877  -0.094758        -0.000636         -0.000013   \n",
              "54        -0.846636  -1.450517        -1.728985         -1.972219   \n",
              "55        -1.141970  -2.629381         1.727713         -0.000013   \n",
              "56        -1.141970  -0.270670        -1.728985         -1.972219   \n",
              "61        -0.084821   0.549665        -0.000636         -0.000013   \n",
              "...             ...        ...              ...               ...   \n",
              "147661     0.769028   0.334621        -0.000636         -0.000013   \n",
              "147662     0.785684  -0.163178        -1.728985         -0.000013   \n",
              "147663     0.870454  -0.573936        -1.728985         -0.000013   \n",
              "147664     0.507007  -1.211553        -0.000636         -0.000013   \n",
              "147665     0.706883  -0.251675        -0.000636         -0.000013   \n",
              "\n",
              "        ind_email_delta  ind_file_delta  ind_http_delta  ind_start_secs_delta  \\\n",
              "53            -0.000252        0.414560        1.010684              0.015583   \n",
              "54            -0.000252        0.414560       -0.149203              0.268173   \n",
              "55            -0.000252        0.414560        1.010684              0.268173   \n",
              "56            -0.000252       -0.448444        1.045832              0.252386   \n",
              "61            -0.000252        0.414560       -1.168497              0.205026   \n",
              "...                 ...             ...             ...                   ...   \n",
              "147661        -0.000252        0.414560       -0.149203             -0.142286   \n",
              "147662         4.037362        0.198809       -1.010331             -0.079138   \n",
              "147663        -0.577054        0.198809        1.327016             -0.015991   \n",
              "147664        -0.577054        0.198809        0.993110              0.094518   \n",
              "147665         1.153352        0.198809        0.993110             -0.110712   \n",
              "\n",
              "        ind_end_secs_delta  \n",
              "53               -0.483773  \n",
              "54               -0.029705  \n",
              "55               -0.813265  \n",
              "56               -0.484490  \n",
              "61               -0.310658  \n",
              "...                    ...  \n",
              "147661           -0.201385  \n",
              "147662            3.018457  \n",
              "147663           -1.145388  \n",
              "147664           -0.423518  \n",
              "147665           -0.139456  \n",
              "\n",
              "[146666 rows x 14 columns]"
            ]
          },
          "metadata": {},
          "output_type": "display_data"
        }
      ],
      "source": [
        "df_z_scaled = X.copy()\n",
        "  \n",
        "# apply normalization techniques\n",
        "for column in df_z_scaled.columns:\n",
        "    df_z_scaled[column] = (df_z_scaled[column] - df_z_scaled[column].mean()) / df_z_scaled[column].std()    "
      ]
    },
    {
      "cell_type": "code",
      "execution_count": 402,
      "metadata": {},
      "outputs": [],
      "source": [
        "X = df_z_scaled "
      ]
    },
    {
      "cell_type": "code",
      "execution_count": 403,
      "metadata": {},
      "outputs": [],
      "source": [
        "y = last_joined_df['label']"
      ]
    },
    {
      "cell_type": "code",
      "execution_count": 404,
      "metadata": {},
      "outputs": [],
      "source": [
        "final_undersample = RandomUnderSampler(sampling_strategy='majority')\n",
        "X_final_under, y_final_under = final_undersample.fit_resample(X, y)"
      ]
    },
    {
      "cell_type": "code",
      "execution_count": 405,
      "metadata": {},
      "outputs": [],
      "source": [
        "final_oversample = RandomOverSampler(sampling_strategy='minority')\n",
        "X_final_over, y_final_over = final_oversample.fit_resample(X, y)"
      ]
    },
    {
      "cell_type": "code",
      "execution_count": 406,
      "metadata": {},
      "outputs": [],
      "source": [
        "final_smote = SMOTE(k_neighbors=5)\n",
        "X_final_smote, y_final_smote = final_smote.fit_resample(X, y)"
      ]
    },
    {
      "cell_type": "code",
      "execution_count": 407,
      "metadata": {},
      "outputs": [],
      "source": [
        "final_blsmote = BorderlineSMOTE()\n",
        "X_final_blsmote, y_final_blsmote = final_blsmote.fit_resample(X, y)"
      ]
    },
    {
      "cell_type": "code",
      "execution_count": 408,
      "metadata": {},
      "outputs": [],
      "source": [
        "final_adasyn = ADASYN()\n",
        "X_final_adasyn, y_final_adasyn = final_adasyn.fit_resample(X, y)"
      ]
    },
    {
      "cell_type": "code",
      "execution_count": 409,
      "metadata": {},
      "outputs": [],
      "source": [
        "final_under = X_final_under.copy()\n",
        "final_over = X_final_over.copy()\n",
        "final_smote = X_final_smote.copy()\n",
        "final_blsmote = X_final_blsmote.copy()\n",
        "final_adasyn = X_final_adasyn.copy()"
      ]
    },
    {
      "cell_type": "code",
      "execution_count": 410,
      "metadata": {},
      "outputs": [],
      "source": [
        "final_under['label'] = y_final_under\n",
        "final_over['label'] = y_final_over\n",
        "final_smote['label'] = y_final_smote\n",
        "final_blsmote['label'] = y_final_blsmote\n",
        "final_adasyn['label'] = y_final_adasyn"
      ]
    },
    {
      "cell_type": "code",
      "execution_count": 411,
      "metadata": {},
      "outputs": [
        {
          "data": {
            "text/plain": [
              "<Axes: xlabel='label', ylabel='ind_end_secs_delta'>"
            ]
          },
          "execution_count": 411,
          "metadata": {},
          "output_type": "execute_result"
        },
        {
          "data": {
            "image/png": "[encoded data removed]",
            "text/plain": [
              "<Figure size 640x480 with 1 Axes>"
            ]
          },
          "metadata": {},
          "output_type": "display_data"
        }
      ],
      "source": [
        "sb.boxplot(data=final_adasyn, x=\"label\", y='ind_end_secs_delta')"
      ]
    },
    {
      "cell_type": "code",
      "execution_count": 412,
      "metadata": {},
      "outputs": [
        {
          "name": "stdout",
          "output_type": "stream",
          "text": [
            "1.4455424001862525 0.15368748822981154\n"
          ]
        }
      ],
      "source": [
        "mean0 = final_adasyn[final_adasyn['label'] == 0].sample(30)\n",
        "mean1 = final_adasyn[final_adasyn['label'] == 1].sample(30)\n",
        "fvalue, pvalue = stats.ttest_ind(mean0['ind_end_secs_delta'], mean1['ind_end_secs_delta'])\n",
        "print(fvalue, pvalue)"
      ]
    },
    {
      "cell_type": "code",
      "execution_count": 413,
      "metadata": {},
      "outputs": [
        {
          "data": {
            "text/plain": [
              "<seaborn.axisgrid.FacetGrid at 0x7fc7db6faa90>"
            ]
          },
          "execution_count": 413,
          "metadata": {},
          "output_type": "execute_result"
        },
        {
          "data": {
            "image/png": "[encoded data removed]",
            "text/plain": [
              "<Figure size 558.875x500 with 1 Axes>"
            ]
          },
          "metadata": {},
          "output_type": "display_data"
        }
      ],
      "source": [
        "sb.displot(data=final_adasyn, x=\"ind_start_secs_delta\", hue=\"label\", kind='kde')"
      ]
    },
    {
      "cell_type": "code",
      "execution_count": 414,
      "metadata": {},
      "outputs": [
        {
          "data": {
            "text/plain": [
              "<seaborn.axisgrid.FacetGrid at 0x7fc4a37694f0>"
            ]
          },
          "execution_count": 414,
          "metadata": {},
          "output_type": "execute_result"
        },
        {
          "data": {
            "image/png": "[encoded data removed]",
            "text/plain": [
              "<Figure size 558.875x500 with 1 Axes>"
            ]
          },
          "metadata": {},
          "output_type": "display_data"
        }
      ],
      "source": [
        "sb.displot(data=final_adasyn, x=\"start_delta\", y='ind_start_secs_delta', hue=\"label\", kind='kde')"
      ]
    },
    {
      "cell_type": "code",
      "execution_count": 415,
      "metadata": {},
      "outputs": [
        {
          "name": "stdout",
          "output_type": "stream",
          "text": [
            "Logistic Regression Accuracy: 0.9986818181818182\n",
            "Logistic Regression Recall: 0.0\n"
          ]
        }
      ],
      "source": [
        "X_train, X_test, y_train, y_test = train_test_split(X, y, test_size=0.3)\n",
        "\n",
        "classifier = LogisticRegression(max_iter=1000)\n",
        "classifier.fit(X_train,y_train)\n",
        "predicted = classifier.predict(X_test)\n",
        "\n",
        "print(\"Logistic Regression Accuracy:\",metrics.accuracy_score(y_test, predicted))\n",
        "#print(\"Logistic Regression Precision:\",metrics.precision_score(y_test, predicted))\n",
        "print(\"Logistic Regression Recall:\",metrics.recall_score(y_test, predicted))"
      ]
    },
    {
      "cell_type": "code",
      "execution_count": 416,
      "metadata": {},
      "outputs": [
        {
          "name": "stdout",
          "output_type": "stream",
          "text": [
            "[[43942     0]\n",
            " [   58     0]]\n"
          ]
        }
      ],
      "source": [
        "cf_matrix = metrics.confusion_matrix(y_test,predicted)\n",
        "print(cf_matrix)"
      ]
    },
    {
      "cell_type": "code",
      "execution_count": 417,
      "metadata": {},
      "outputs": [
        {
          "name": "stdout",
          "output_type": "stream",
          "text": [
            "Logistic Regression Accuracy: 0.9986227210123683\n",
            "Logistic Regression Recall: 0.0\n",
            "[[146464      0]\n",
            " [   202      0]]\n"
          ]
        }
      ],
      "source": [
        "raw_predicted = classifier.predict(X)\n",
        "print(\"Logistic Regression Accuracy:\",metrics.accuracy_score(y, raw_predicted))\n",
        "print(\"Logistic Regression Recall:\",metrics.recall_score(y, raw_predicted))\n",
        "cf_matrix = metrics.confusion_matrix(y, raw_predicted)\n",
        "print(cf_matrix)\n"
      ]
    },
    {
      "cell_type": "code",
      "execution_count": 418,
      "metadata": {},
      "outputs": [],
      "source": [
        "X_train_under, X_test_under, y_train_under, y_test_under = train_test_split(X_final_under, y_final_under, test_size=0.3)"
      ]
    },
    {
      "cell_type": "code",
      "execution_count": 419,
      "metadata": {},
      "outputs": [
        {
          "name": "stdout",
          "output_type": "stream",
          "text": [
            "Logistic Regression Accuracy: 0.680327868852459\n",
            "Logistic Regression Recall: 0.7843137254901961\n"
          ]
        }
      ],
      "source": [
        "classifier_under = LogisticRegression(max_iter=1000)\n",
        "\n",
        "classifier_under.fit(X_train_under, y_train_under)\n",
        "\n",
        "predicted_under = classifier_under.predict(X_test_under)\n",
        "print(\"Logistic Regression Accuracy:\",metrics.accuracy_score(y_test_under, predicted_under))\n",
        "#print(\"Logistic Regression Precision:\",metrics.precision_score(y_test, predicted))\n",
        "print(\"Logistic Regression Recall:\",metrics.recall_score(y_test_under, predicted_under))"
      ]
    },
    {
      "cell_type": "code",
      "execution_count": 420,
      "metadata": {},
      "outputs": [
        {
          "name": "stdout",
          "output_type": "stream",
          "text": [
            "[[43 28]\n",
            " [11 40]]\n"
          ]
        }
      ],
      "source": [
        "cf_matrix = metrics.confusion_matrix(y_test_under,predicted_under)\n",
        "print(cf_matrix)"
      ]
    },
    {
      "cell_type": "code",
      "execution_count": 421,
      "metadata": {},
      "outputs": [
        {
          "name": "stdout",
          "output_type": "stream",
          "text": [
            "Logistic Regression Accuracy: 0.6798666348046746\n",
            "Logistic Regression Recall: 0.7457592385983287\n"
          ]
        }
      ],
      "source": [
        "X_train_over, X_test_over, y_train_over, y_test_over = train_test_split(X_final_over, y_final_over, test_size=0.3)\n",
        "\n",
        "classifier_over = LogisticRegression(max_iter=1000)\n",
        "\n",
        "classifier_over.fit(X_train_over, y_train_over)\n",
        "\n",
        "predicted_over = classifier_over.predict(X_test_over)\n",
        "print(\"Logistic Regression Accuracy:\",metrics.accuracy_score(y_test_over, predicted_over))\n",
        "#print(\"Logistic Regression Precision:\",metrics.precision_score(y_test, predicted))\n",
        "print(\"Logistic Regression Recall:\",metrics.recall_score(y_test_over, predicted_over))"
      ]
    },
    {
      "cell_type": "code",
      "execution_count": 422,
      "metadata": {},
      "outputs": [
        {
          "name": "stdout",
          "output_type": "stream",
          "text": [
            "[[26993 16967]\n",
            " [11166 32753]]\n"
          ]
        }
      ],
      "source": [
        "cf_matrix = metrics.confusion_matrix(y_test_over,predicted_over)\n",
        "print(cf_matrix)"
      ]
    },
    {
      "attachments": {},
      "cell_type": "markdown",
      "metadata": {},
      "source": [
        "# SMOTE Analysis with Logistic Regression"
      ]
    },
    {
      "cell_type": "code",
      "execution_count": 423,
      "metadata": {},
      "outputs": [],
      "source": [
        "X_train_smote, X_test_smote, y_train_smote, y_test_smote = train_test_split(X_final_smote, y_final_smote, test_size=0.3)"
      ]
    },
    {
      "cell_type": "code",
      "execution_count": 424,
      "metadata": {},
      "outputs": [
        {
          "name": "stdout",
          "output_type": "stream",
          "text": [
            "Logistic Regression Accuracy: 0.6815166308219256\n",
            "Logistic Regression Recall: 0.7437492877492877\n",
            "[[27259 16745]\n",
            " [11243 32632]]\n"
          ]
        }
      ],
      "source": [
        "classifier_smote = LogisticRegression(max_iter=1000)\n",
        "\n",
        "classifier_smote.fit(X_train_smote, y_train_smote)\n",
        "\n",
        "predicted_smote = classifier_smote.predict(X_test_smote)\n",
        "print(\"Logistic Regression Accuracy:\",metrics.accuracy_score(y_test_smote, predicted_smote))\n",
        "#print(\"Logistic Regression Precision:\",metrics.precision_score(y_test, predicted))\n",
        "print(\"Logistic Regression Recall:\",metrics.recall_score(y_test_smote, predicted_smote))\n",
        "\n",
        "cf_matrix = metrics.confusion_matrix(y_test_smote,predicted_smote)\n",
        "print(cf_matrix)\n"
      ]
    },
    {
      "cell_type": "code",
      "execution_count": 425,
      "metadata": {},
      "outputs": [],
      "source": [
        "X_train_adasyn, X_test_adasyn, y_train_adasyn, y_test_adasyn = train_test_split(X_final_adasyn, y_final_adasyn, test_size=0.3)"
      ]
    },
    {
      "cell_type": "code",
      "execution_count": 426,
      "metadata": {},
      "outputs": [
        {
          "name": "stdout",
          "output_type": "stream",
          "text": [
            "Logistic Regression Accuracy: 0.6679033139111434\n",
            "Logistic Regression Recall: 0.7176403468735737\n",
            "[[27243 16809]\n",
            " [12373 31447]]\n"
          ]
        }
      ],
      "source": [
        "classifier_adasyn = LogisticRegression(max_iter=1000)\n",
        "\n",
        "classifier_adasyn.fit(X_train_adasyn, y_train_adasyn)\n",
        "\n",
        "predicted_adasyn = classifier_adasyn.predict(X_test_adasyn)\n",
        "print(\"Logistic Regression Accuracy:\",metrics.accuracy_score(y_test_adasyn, predicted_adasyn))\n",
        "#print(\"Logistic Regression Precision:\",metrics.precision_score(y_test, predicted))\n",
        "print(\"Logistic Regression Recall:\",metrics.recall_score(y_test_adasyn, predicted_adasyn))\n",
        "\n",
        "cf_matrix = metrics.confusion_matrix(y_test_adasyn,predicted_adasyn)\n",
        "print(cf_matrix)"
      ]
    },
    {
      "cell_type": "code",
      "execution_count": 427,
      "metadata": {},
      "outputs": [],
      "source": [
        "X_train_blsmote, X_test_blsmote, y_train_blsmote, y_test_blsmote = train_test_split(X_final_blsmote, y_final_blsmote, test_size=0.3)"
      ]
    },
    {
      "cell_type": "code",
      "execution_count": 428,
      "metadata": {},
      "outputs": [
        {
          "name": "stdout",
          "output_type": "stream",
          "text": [
            "Logistic Regression Accuracy: 0.7501450858566893\n",
            "Logistic Regression Recall: 0.8353067568803145\n",
            "[[29379 14752]\n",
            " [ 7205 36543]]\n"
          ]
        }
      ],
      "source": [
        "classifier_blsmote = LogisticRegression(max_iter=1000)\n",
        "\n",
        "classifier_blsmote.fit(X_train_blsmote, y_train_blsmote)\n",
        "\n",
        "predicted_blsmote = classifier_blsmote.predict(X_test_blsmote)\n",
        "print(\"Logistic Regression Accuracy:\",metrics.accuracy_score(y_test_blsmote, predicted_blsmote))\n",
        "#print(\"Logistic Regression Precision:\",metrics.precision_score(y_test, predicted))\n",
        "print(\"Logistic Regression Recall:\",metrics.recall_score(y_test_blsmote, predicted_blsmote))\n",
        "\n",
        "cf_matrix = metrics.confusion_matrix(y_test_blsmote,predicted_blsmote)\n",
        "print(cf_matrix)"
      ]
    },
    {
      "cell_type": "code",
      "execution_count": 429,
      "metadata": {},
      "outputs": [],
      "source": [
        "main_predicted = classifier_blsmote.predict(X)"
      ]
    },
    {
      "cell_type": "code",
      "execution_count": 430,
      "metadata": {},
      "outputs": [
        {
          "name": "stdout",
          "output_type": "stream",
          "text": [
            "Logistic Regression Accuracy: 0.6650621139186996\n",
            "Logistic Regression Recall: 0.698019801980198\n",
            "[[97401 49063]\n",
            " [   61   141]]\n"
          ]
        }
      ],
      "source": [
        "print(\"Logistic Regression Accuracy:\",metrics.accuracy_score(y, main_predicted))\n",
        "print(\"Logistic Regression Recall:\",metrics.recall_score(y, main_predicted))\n",
        "cf_matrix = metrics.confusion_matrix(y,main_predicted)\n",
        "print(cf_matrix)"
      ]
    },
    {
      "cell_type": "code",
      "execution_count": 189,
      "metadata": {},
      "outputs": [],
      "source": [
        "#df_person = final.loc[(final['username'] == 'JJM0203')]"
      ]
    },
    {
      "cell_type": "code",
      "execution_count": 190,
      "metadata": {},
      "outputs": [],
      "source": [
        "#df_badusers = final.loc[(final['label'] == 1)]"
      ]
    },
    {
      "cell_type": "code",
      "execution_count": 191,
      "metadata": {},
      "outputs": [],
      "source": [
        "#df_badusers"
      ]
    },
    {
      "cell_type": "code",
      "execution_count": 192,
      "metadata": {},
      "outputs": [],
      "source": [
        "# X = df_person[['login_count', 'logout_count', 'email_count', 'file_count', 'http_count']].copy()\n",
        "# y = df_person['label']"
      ]
    },
    {
      "cell_type": "code",
      "execution_count": 194,
      "metadata": {},
      "outputs": [],
      "source": [
        "#X = np.array(X).reshape(len(X), 1)"
      ]
    },
    {
      "cell_type": "code",
      "execution_count": 196,
      "metadata": {},
      "outputs": [],
      "source": [
        "cf_matrix = metrics.confusion_matrix(y_test,predicted)"
      ]
    }
  ],
  "metadata": {
    "accelerator": "TPU",
    "colab": {
      "include_colab_link": true,
      "provenance": []
    },
    "gpuClass": "standard",
    "kernelspec": {
      "display_name": "Python 3.9.15 ('praxis-clements')",
      "language": "python",
      "name": "python3"
    },
    "language_info": {
      "codemirror_mode": {
        "name": "ipython",
        "version": 3
      },
      "file_extension": ".py",
      "mimetype": "text/x-python",
      "name": "python",
      "nbconvert_exporter": "python",
      "pygments_lexer": "ipython3",
      "version": "3.9.16"
    },
    "orig_nbformat": 4,
    "vscode": {
      "interpreter": {
        "hash": "0e4ed65ac9cd06e325be5e4053efe5dbb28567580420031f65d0d231df994926"
      }
    }
  },
  "nbformat": 4,
  "nbformat_minor": 0
}
