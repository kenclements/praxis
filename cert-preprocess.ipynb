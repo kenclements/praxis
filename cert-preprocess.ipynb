{
  "cells": [
    {
      "cell_type": "code",
      "execution_count": 1,
      "metadata": {
        "colab": {
          "base_uri": "https://localhost:8080/"
        },
        "id": "lN5-AcoypUan",
        "outputId": "27a0d132-984b-4db2-973c-c2482bbe5db1"
      },
      "outputs": [],
      "source": [
        "#!nvidia-smi"
      ]
    },
    {
      "cell_type": "code",
      "execution_count": 2,
      "metadata": {
        "colab": {
          "base_uri": "https://localhost:8080/"
        },
        "id": "sI_JO6jFrD7Z",
        "outputId": "54588cba-2cf6-4cf6-d06a-8c75d47e77d7"
      },
      "outputs": [],
      "source": [
        "# from google.colab import drive\n",
        "# drive.mount('/content/drive')"
      ]
    },
    {
      "cell_type": "code",
      "execution_count": 37,
      "metadata": {
        "id": "SpDcPu8tmmK0"
      },
      "outputs": [],
      "source": [
        "import pandas as pd\n",
        "import numpy as np\n",
        "import matplotlib.pyplot as plt\n",
        "import seaborn as sb\n",
        "import re\n",
        "import datetime\n",
        "\n",
        "# #Vectorization and Tokenizing\n",
        "from sklearn.feature_extraction.text import TfidfVectorizer, CountVectorizer\n",
        "from sklearn.preprocessing import MaxAbsScaler\n",
        "\n",
        "import nltk\n",
        "from nltk.corpus import stopwords\n",
        "from nltk.tokenize import word_tokenize\n",
        "from nltk import pos_tag\n",
        "from nltk.stem import PorterStemmer\n",
        "from nltk.stem import LancasterStemmer\n",
        "\n",
        "\n",
        "# #DNN Modules\n",
        "# import torch\n",
        "# import tensorflow as tf\n",
        "# from tensorflow.keras import layers\n",
        "# from tensorflow.keras.models import Sequential\n",
        "# from tensorflow.keras.layers import Dense\n",
        "# from tensorflow.keras.layers import InputLayer\n",
        "# from tensorflow.keras import losses\n",
        "# from tensorflow.keras.regularizers import L2\n",
        "# from tensorflow.keras.utils import plot_model\n",
        "# from tensorflow.keras.layers import TextVectorization\n",
        "\n",
        "\n",
        "# #Models\n",
        "# from sklearn.ensemble import AdaBoostClassifier\n",
        "# from sklearn.neighbors import KNeighborsClassifier\n",
        "# from sklearn.svm import SVC\n",
        "# from sklearn.linear_model import LogisticRegression\n",
        "# from sklearn.naive_bayes import GaussianNB\n",
        "# from sklearn.linear_model import LinearRegression\n",
        "\n",
        "\n",
        "# #Metrics and Testing\n",
        "# from sklearn.model_selection import train_test_split\n",
        "# from sklearn import metrics\n",
        "# from sklearn.metrics import accuracy_score\n",
        "# from sklearn.metrics import confusion_matrix"
      ]
    },
    {
      "cell_type": "code",
      "execution_count": 4,
      "metadata": {
        "id": "oR_xocCCmmK3"
      },
      "outputs": [],
      "source": [
        "#My Lenovo\n",
        "#df1 = pd.read_csv('/Data/CERT/r4.2/logon.csv')\n",
        "#df2 = pd.read_csv('/Data/CERT/r4.2/device.csv')\n",
        "#df3 = pd.read_csv('/Data/CERT/r4.2/email.csv')\n",
        "#df4 = pd.read_csv('/Data/CERT/r4.2/file.csv')\n",
        "#df5 = pd.read_csv('/Data/CERT/r4.2/http.csv')\n",
        "#df6 = pd.read_csv('/Data/CERT/r4.2/psychometric.csv')\n",
        "\n",
        "#My MacBook\n",
        "df1 = pd.read_csv('/Users/ken.clements/code/praxis/CERT42/logon.csv')\n",
        "df2 = pd.read_csv('/Users/ken.clements/code/praxis/CERT42/device.csv')\n",
        "df3 = pd.read_csv('/Users/ken.clements/code/praxis/CERT42/email.csv')\n",
        "df4 = pd.read_csv('/Users/ken.clements/code/praxis/CERT42/file.csv')\n",
        "df5 = pd.read_csv('/Users/ken.clements/code/praxis/CERT42/http.csv')\n",
        "ans = pd.read_csv('/Users/ken.clements/code/praxis/CERT42/answers/answers.csv')\n",
        "#df6 = pd.read_csv('/Users/ken.clements/code/praxis/CERT42/psychometric.csv')\n",
        "\n",
        "\n",
        "#Google Drive - Colab\n",
        "# df1 = pd.read_csv('/content/drive/MyDrive/Praxis/data/CERT42/logon.csv')\n",
        "# df2 = pd.read_csv('/content/drive/MyDrive/Praxis/data/CERT42/device.csv')\n",
        "# df3 = pd.read_csv('/content/drive/MyDrive/Praxis/data/CERT42/http.csv')\n",
        "# df4 = pd.read_csv('/content/drive/MyDrive/Praxis/data/CERT42/email.csv')\n",
        "# df5 = pd.read_csv('/content/drive/MyDrive/Praxis/data/CERT42/file.csv')\n",
        "# df6 = pd.read_csv('/content/drive/MyDrive/Praxis/data/CERT42/psychometric.csv')"
      ]
    },
    {
      "cell_type": "code",
      "execution_count": 10,
      "metadata": {},
      "outputs": [],
      "source": [
        "START = datetime.date(2010,7,1)\n",
        "END = datetime.date(2010,7,30)"
      ]
    },
    {
      "cell_type": "code",
      "execution_count": 9,
      "metadata": {},
      "outputs": [],
      "source": [
        "df1['date'] = pd.to_datetime(df1['date'])\n",
        "df2['date'] = pd.to_datetime(df2['date'])\n",
        "df3['date'] = pd.to_datetime(df3['date'])\n",
        "df4['date'] = pd.to_datetime(df4['date'])\n",
        "df5['date'] = pd.to_datetime(df5['date'])\n",
        "\n",
        "df1['day_date'] = pd.to_datetime(df1['date']).dt.date\n",
        "df2['day_date'] = pd.to_datetime(df2['date']).dt.date\n",
        "df3['day_date'] = pd.to_datetime(df3['date']).dt.date\n",
        "df4['day_date'] = pd.to_datetime(df4['date']).dt.date\n",
        "df5['day_date'] = pd.to_datetime(df5['date']).dt.date"
      ]
    },
    {
      "cell_type": "code",
      "execution_count": 16,
      "metadata": {},
      "outputs": [],
      "source": [
        "df3['activity'] = \"email\"\n",
        "df4['activity'] = \"file\"\n",
        "df5['activity'] = \"http\""
      ]
    },
    {
      "cell_type": "code",
      "execution_count": 21,
      "metadata": {},
      "outputs": [],
      "source": [
        "df1_bs = df1[((df1['day_date'] >= START) & (df1['day_date'] <= END))]\n",
        "df2_bs = df2[((df2['day_date'] >= START) & (df2['day_date'] <= END))]\n",
        "df3_bs = df3[((df3['day_date'] >= START) & (df3['day_date'] <= END))]\n",
        "df4_bs = df4[((df4['day_date'] >= START) & (df4['day_date'] <= END))]\n",
        "df5_bs = df5[((df5['day_date'] >= START) & (df5['day_date'] <= END))]"
      ]
    },
    {
      "cell_type": "code",
      "execution_count": 17,
      "metadata": {},
      "outputs": [
        {
          "name": "stderr",
          "output_type": "stream",
          "text": [
            "[nltk_data] Downloading package averaged_perceptron_tagger to\n",
            "[nltk_data]     /Users/ken.clements/nltk_data...\n",
            "[nltk_data]   Package averaged_perceptron_tagger is already up-to-\n",
            "[nltk_data]       date!\n",
            "[nltk_data] Downloading package wordnet to\n",
            "[nltk_data]     /Users/ken.clements/nltk_data...\n",
            "[nltk_data]   Package wordnet is already up-to-date!\n",
            "[nltk_data] Downloading package omw-1.4 to\n",
            "[nltk_data]     /Users/ken.clements/nltk_data...\n",
            "[nltk_data]   Package omw-1.4 is already up-to-date!\n"
          ]
        }
      ],
      "source": [
        "nltk.download('averaged_perceptron_tagger')\n",
        "nltk.download('wordnet')\n",
        "nltk.download('omw-1.4')\n",
        "def prepare_text(pretext):\n",
        "\n",
        "    # tokenize mission.\n",
        "    tokens = word_tokenize(pretext, language=\"english\", preserve_line=True)\n",
        "\n",
        "    # Parts of speech (POS) tag tokens.\n",
        "    token_tag = pos_tag(tokens)\n",
        "    \n",
        "    # Only include some of the POS tags.\n",
        "    include_tags = ['VBN', 'VBD', 'JJ', 'JJS', 'JJR', 'CD', 'NN', 'NNS', 'NNP', 'NNPS']\n",
        "    filtered_tokens = (tok for tok, tag in token_tag if tag in include_tags)    \n",
        "    \n",
        "    #stem words.\n",
        "    stemmed_tokens = (lancaster.stem(tok) for tok in filtered_tokens)\n",
        "\n",
        "    #lemm words.\n",
        "    lemmed_words = (lemmatizer.lemmatize(tok) for tok in stemmed_tokens)\n",
        "\n",
        "    lower_words = [str.lower(tok) for tok in lemmed_words]\n",
        "\n",
        "    #x = cv.fit_transform(tokens).toarray()\n",
        "\n",
        "    joined = \" \".join(lower_words)\n",
        "\n",
        "    return(joined)\n",
        "\n",
        "#ps = PorterStemmer()\n",
        "lancaster = LancasterStemmer()\n",
        "lemmatizer = nltk.stem.WordNetLemmatizer()"
      ]
    },
    {
      "cell_type": "code",
      "execution_count": 22,
      "metadata": {},
      "outputs": [
        {
          "name": "stderr",
          "output_type": "stream",
          "text": [
            "/var/folders/p4/svf85_b50jvfz4dvm3yf5h0c0000gq/T/ipykernel_66879/614576161.py:1: SettingWithCopyWarning: \n",
            "A value is trying to be set on a copy of a slice from a DataFrame.\n",
            "Try using .loc[row_indexer,col_indexer] = value instead\n",
            "\n",
            "See the caveats in the documentation: https://pandas.pydata.org/pandas-docs/stable/user_guide/indexing.html#returning-a-view-versus-a-copy\n",
            "  df3_bs['df3tokenized'] = df3_bs['content'].apply(prepare_text)\n",
            "/var/folders/p4/svf85_b50jvfz4dvm3yf5h0c0000gq/T/ipykernel_66879/614576161.py:2: SettingWithCopyWarning: \n",
            "A value is trying to be set on a copy of a slice from a DataFrame.\n",
            "Try using .loc[row_indexer,col_indexer] = value instead\n",
            "\n",
            "See the caveats in the documentation: https://pandas.pydata.org/pandas-docs/stable/user_guide/indexing.html#returning-a-view-versus-a-copy\n",
            "  df4_bs['df4tokenized'] = df4_bs['content'].apply(prepare_text)\n",
            "/var/folders/p4/svf85_b50jvfz4dvm3yf5h0c0000gq/T/ipykernel_66879/614576161.py:3: SettingWithCopyWarning: \n",
            "A value is trying to be set on a copy of a slice from a DataFrame.\n",
            "Try using .loc[row_indexer,col_indexer] = value instead\n",
            "\n",
            "See the caveats in the documentation: https://pandas.pydata.org/pandas-docs/stable/user_guide/indexing.html#returning-a-view-versus-a-copy\n",
            "  df5_bs['df5tokenized'] = df5_bs['content'].apply(prepare_text)\n"
          ]
        }
      ],
      "source": [
        "df3_bs['df3tokenized'] = df3_bs['content'].apply(prepare_text)\n",
        "df4_bs['df4tokenized'] = df4_bs['content'].apply(prepare_text)\n",
        "df5_bs['df5tokenized'] = df5_bs['content'].apply(prepare_text)"
      ]
    },
    {
      "cell_type": "code",
      "execution_count": 23,
      "metadata": {},
      "outputs": [
        {
          "name": "stderr",
          "output_type": "stream",
          "text": [
            "[nltk_data] Downloading package stopwords to\n",
            "[nltk_data]     /Users/ken.clements/nltk_data...\n",
            "[nltk_data]   Package stopwords is already up-to-date!\n"
          ]
        }
      ],
      "source": [
        "nltk.download('stopwords')\n",
        "stops = set(stopwords.words('english'))\n",
        "tfidfvectorizer = TfidfVectorizer(stop_words='english', analyzer='word' )"
      ]
    },
    {
      "cell_type": "code",
      "execution_count": 24,
      "metadata": {},
      "outputs": [
        {
          "name": "stderr",
          "output_type": "stream",
          "text": [
            "/var/folders/p4/svf85_b50jvfz4dvm3yf5h0c0000gq/T/ipykernel_66879/1939301759.py:2: SettingWithCopyWarning: \n",
            "A value is trying to be set on a copy of a slice from a DataFrame.\n",
            "Try using .loc[row_indexer,col_indexer] = value instead\n",
            "\n",
            "See the caveats in the documentation: https://pandas.pydata.org/pandas-docs/stable/user_guide/indexing.html#returning-a-view-versus-a-copy\n",
            "  df3_bs['df3tfidf_mean'] = ((tfidf_df3.sum(axis=1).transpose()) / (tfidf_df3.getnnz(axis=1))).transpose()\n"
          ]
        }
      ],
      "source": [
        "tfidf_df3 = tfidfvectorizer.fit_transform(df3_bs['df3tokenized'])\n",
        "df3_bs['df3tfidf_mean'] = ((tfidf_df3.sum(axis=1).transpose()) / (tfidf_df3.getnnz(axis=1))).transpose()\n"
      ]
    },
    {
      "cell_type": "code",
      "execution_count": 25,
      "metadata": {},
      "outputs": [
        {
          "name": "stderr",
          "output_type": "stream",
          "text": [
            "/var/folders/p4/svf85_b50jvfz4dvm3yf5h0c0000gq/T/ipykernel_66879/3384156628.py:2: SettingWithCopyWarning: \n",
            "A value is trying to be set on a copy of a slice from a DataFrame.\n",
            "Try using .loc[row_indexer,col_indexer] = value instead\n",
            "\n",
            "See the caveats in the documentation: https://pandas.pydata.org/pandas-docs/stable/user_guide/indexing.html#returning-a-view-versus-a-copy\n",
            "  df4_bs['df4tfidf_mean'] = ((tfidf_df4.sum(axis=1).transpose()) / (tfidf_df4.getnnz(axis=1))).transpose()\n"
          ]
        }
      ],
      "source": [
        "tfidf_df4 = tfidfvectorizer.fit_transform(df4_bs['df4tokenized'])\n",
        "df4_bs['df4tfidf_mean'] = ((tfidf_df4.sum(axis=1).transpose()) / (tfidf_df4.getnnz(axis=1))).transpose()"
      ]
    },
    {
      "cell_type": "code",
      "execution_count": 26,
      "metadata": {},
      "outputs": [
        {
          "name": "stderr",
          "output_type": "stream",
          "text": [
            "/var/folders/p4/svf85_b50jvfz4dvm3yf5h0c0000gq/T/ipykernel_66879/726549895.py:2: RuntimeWarning: invalid value encountered in divide\n",
            "  df5_bs['df5tfidf_mean'] = ((tfidf_df5.sum(axis=1).transpose()) / (tfidf_df5.getnnz(axis=1))).transpose()\n",
            "/var/folders/p4/svf85_b50jvfz4dvm3yf5h0c0000gq/T/ipykernel_66879/726549895.py:2: SettingWithCopyWarning: \n",
            "A value is trying to be set on a copy of a slice from a DataFrame.\n",
            "Try using .loc[row_indexer,col_indexer] = value instead\n",
            "\n",
            "See the caveats in the documentation: https://pandas.pydata.org/pandas-docs/stable/user_guide/indexing.html#returning-a-view-versus-a-copy\n",
            "  df5_bs['df5tfidf_mean'] = ((tfidf_df5.sum(axis=1).transpose()) / (tfidf_df5.getnnz(axis=1))).transpose()\n"
          ]
        }
      ],
      "source": [
        "tfidf_df5 = tfidfvectorizer.fit_transform(df5_bs['df5tokenized'])\n",
        "df5_bs['df5tfidf_mean'] = ((tfidf_df5.sum(axis=1).transpose()) / (tfidf_df5.getnnz(axis=1))).transpose()"
      ]
    },
    {
      "attachments": {},
      "cell_type": "markdown",
      "metadata": {},
      "source": [
        "Aggregate all data"
      ]
    },
    {
      "cell_type": "code",
      "execution_count": null,
      "metadata": {},
      "outputs": [],
      "source": [
        "# df1['date'] = pd.to_datetime(df1['date'])\n",
        "# df2['date'] = pd.to_datetime(df2['date'])"
      ]
    },
    {
      "cell_type": "code",
      "execution_count": null,
      "metadata": {},
      "outputs": [],
      "source": [
        "# df1['day_date'] = pd.to_datetime(df1['date']).dt.date\n",
        "# df2['day_date'] = pd.to_datetime(df2['date']).dt.date"
      ]
    },
    {
      "cell_type": "code",
      "execution_count": null,
      "metadata": {},
      "outputs": [],
      "source": [
        "# df1['day_date'] = pd.to_datetime(df1['day_date'])\n",
        "# df2['day_date'] = pd.to_datetime(df2['day_date'])"
      ]
    },
    {
      "cell_type": "code",
      "execution_count": null,
      "metadata": {},
      "outputs": [],
      "source": [
        "\n",
        "# df1_bs = df1[((df1['day_date'] >= datetime.date(2010, 7, 1)) & (df1['day_date'] <= datetime.date(2010, 7, 15)))]\n",
        "# df2_bs = df2[((df2['day_date'] >= datetime.date(2010, 7, 1)) & (df2['day_date'] <= datetime.date(2010, 7, 15)))]\n",
        "\n",
        "# df1_bs = df1[((df1['day_date'] <= datetime.datetime(2010, 7, 7)) & (df1['day_date'] >= datetime.datetime(2010, 7, 1)))]\n",
        "# df2_bs = df2[((df1['day_date'] <= datetime.datetime(2010, 7, 7)) & (df1['day_date'] >= datetime.datetime(2010, 7, 1)))]"
      ]
    },
    {
      "cell_type": "code",
      "execution_count": 27,
      "metadata": {
        "id": "To-v9XnyVOfW",
        "outputId": "cbae14cf-3cba-4120-e07f-c1a958848557"
      },
      "outputs": [],
      "source": [
        "df_merged = pd.concat([df1_bs, df2_bs, df3_bs, df4_bs, df5_bs])"
      ]
    },
    {
      "cell_type": "code",
      "execution_count": 28,
      "metadata": {},
      "outputs": [],
      "source": [
        "df_merged['label'] = 'normal'"
      ]
    },
    {
      "cell_type": "code",
      "execution_count": 29,
      "metadata": {},
      "outputs": [],
      "source": [
        "df_merged.loc[df_merged['id'].isin(ans['id']),['label']] = 'bad'"
      ]
    },
    {
      "cell_type": "code",
      "execution_count": 30,
      "metadata": {},
      "outputs": [],
      "source": [
        "dates = df_merged['day_date']\n",
        "dates = dates.unique()"
      ]
    },
    {
      "cell_type": "code",
      "execution_count": 31,
      "metadata": {},
      "outputs": [],
      "source": [
        "dfwow = []\n",
        "for d in dates:\n",
        "    dayevents = df_merged.loc[(df_merged['day_date'] == d)]\n",
        "    users = dayevents['user']\n",
        "    users = users.unique()\n",
        "    for u in users:\n",
        "        userd = dayevents[(dayevents['user'] == u)]\n",
        "        date = d\n",
        "        username = u\n",
        "        login_count = userd[userd['activity'] == 'Logon'].shape[0]\n",
        "        logout_count = userd[userd['activity'] == 'Logoff'].shape[0]\n",
        "        email_count = userd[userd['to'].notnull()].shape[0]\n",
        "        file_count = userd[userd['filename'].notnull()].shape[0]\n",
        "        http_count = userd[userd['url'].notnull()].shape[0]\n",
        "        start_time = userd['date'].iloc[0]\n",
        "        end_time = userd['date'].iloc[-1]\n",
        "        tfidf3_mean = userd['df3tfidf_mean'].mean()\n",
        "        tfidf4_mean = userd['df4tfidf_mean'].mean()\n",
        "        tfidf5_mean = userd['df5tfidf_mean'].mean()\n",
        "        if (userd[(userd['label'] == 'bad')].shape[0] > 0): label='bad'\n",
        "        else: label = 'normal'\n",
        "        dfwow.append([date, username, login_count, logout_count, email_count, file_count, http_count, start_time, end_time, tfidf3_mean, tfidf4_mean, tfidf5_mean, label])\n"
      ]
    },
    {
      "cell_type": "code",
      "execution_count": 32,
      "metadata": {},
      "outputs": [
        {
          "data": {
            "text/plain": [
              "20736"
            ]
          },
          "execution_count": 32,
          "metadata": {},
          "output_type": "execute_result"
        }
      ],
      "source": [
        "len(dfwow)"
      ]
    },
    {
      "cell_type": "code",
      "execution_count": 34,
      "metadata": {},
      "outputs": [],
      "source": [
        "final = pd.DataFrame(dfwow, columns=['date', 'username', 'login_count', 'logout_count', 'email_count', 'file_count', 'http_count', 'start_time', 'end_time', 'tfidf3_mean', 'tfidf4_mean', 'tfidf5_mean', 'label'])\n"
      ]
    },
    {
      "cell_type": "code",
      "execution_count": 35,
      "metadata": {},
      "outputs": [
        {
          "data": {
            "text/html": [
              "<div>\n",
              "<style scoped>\n",
              "    .dataframe tbody tr th:only-of-type {\n",
              "        vertical-align: middle;\n",
              "    }\n",
              "\n",
              "    .dataframe tbody tr th {\n",
              "        vertical-align: top;\n",
              "    }\n",
              "\n",
              "    .dataframe thead th {\n",
              "        text-align: right;\n",
              "    }\n",
              "</style>\n",
              "<table border=\"1\" class=\"dataframe\">\n",
              "  <thead>\n",
              "    <tr style=\"text-align: right;\">\n",
              "      <th></th>\n",
              "      <th>date</th>\n",
              "      <th>username</th>\n",
              "      <th>login_count</th>\n",
              "      <th>logout_count</th>\n",
              "      <th>email_count</th>\n",
              "      <th>file_count</th>\n",
              "      <th>http_count</th>\n",
              "      <th>start_time</th>\n",
              "      <th>end_time</th>\n",
              "      <th>tfidf3_mean</th>\n",
              "      <th>tfidf4_mean</th>\n",
              "      <th>tfidf5_mean</th>\n",
              "      <th>label</th>\n",
              "    </tr>\n",
              "  </thead>\n",
              "  <tbody>\n",
              "    <tr>\n",
              "      <th>526</th>\n",
              "      <td>2010-07-01</td>\n",
              "      <td>RMW0542</td>\n",
              "      <td>1</td>\n",
              "      <td>1</td>\n",
              "      <td>11</td>\n",
              "      <td>0</td>\n",
              "      <td>102</td>\n",
              "      <td>2010-07-01 07:58:00</td>\n",
              "      <td>2010-07-01 17:59:48</td>\n",
              "      <td>0.167441</td>\n",
              "      <td>NaN</td>\n",
              "      <td>0.168980</td>\n",
              "      <td>bad</td>\n",
              "    </tr>\n",
              "    <tr>\n",
              "      <th>757</th>\n",
              "      <td>2010-07-01</td>\n",
              "      <td>LCC0819</td>\n",
              "      <td>1</td>\n",
              "      <td>1</td>\n",
              "      <td>11</td>\n",
              "      <td>4</td>\n",
              "      <td>98</td>\n",
              "      <td>2010-07-01 08:28:00</td>\n",
              "      <td>2010-07-01 20:35:26</td>\n",
              "      <td>0.162432</td>\n",
              "      <td>0.144089</td>\n",
              "      <td>0.167272</td>\n",
              "      <td>bad</td>\n",
              "    </tr>\n",
              "    <tr>\n",
              "      <th>797</th>\n",
              "      <td>2010-07-01</td>\n",
              "      <td>PNL0301</td>\n",
              "      <td>1</td>\n",
              "      <td>1</td>\n",
              "      <td>1</td>\n",
              "      <td>0</td>\n",
              "      <td>18</td>\n",
              "      <td>2010-07-01 08:46:00</td>\n",
              "      <td>2010-07-01 17:50:25</td>\n",
              "      <td>0.142250</td>\n",
              "      <td>NaN</td>\n",
              "      <td>0.174718</td>\n",
              "      <td>bad</td>\n",
              "    </tr>\n",
              "    <tr>\n",
              "      <th>820</th>\n",
              "      <td>2010-07-01</td>\n",
              "      <td>AAF0535</td>\n",
              "      <td>1</td>\n",
              "      <td>1</td>\n",
              "      <td>3</td>\n",
              "      <td>5</td>\n",
              "      <td>37</td>\n",
              "      <td>2010-07-01 08:52:00</td>\n",
              "      <td>2010-07-01 16:54:40</td>\n",
              "      <td>0.176862</td>\n",
              "      <td>0.159558</td>\n",
              "      <td>0.170484</td>\n",
              "      <td>bad</td>\n",
              "    </tr>\n",
              "    <tr>\n",
              "      <th>1484</th>\n",
              "      <td>2010-07-02</td>\n",
              "      <td>RMW0542</td>\n",
              "      <td>1</td>\n",
              "      <td>1</td>\n",
              "      <td>11</td>\n",
              "      <td>3</td>\n",
              "      <td>105</td>\n",
              "      <td>2010-07-02 07:58:00</td>\n",
              "      <td>2010-07-02 18:04:21</td>\n",
              "      <td>0.176852</td>\n",
              "      <td>0.328482</td>\n",
              "      <td>0.174313</td>\n",
              "      <td>bad</td>\n",
              "    </tr>\n",
              "    <tr>\n",
              "      <th>...</th>\n",
              "      <td>...</td>\n",
              "      <td>...</td>\n",
              "      <td>...</td>\n",
              "      <td>...</td>\n",
              "      <td>...</td>\n",
              "      <td>...</td>\n",
              "      <td>...</td>\n",
              "      <td>...</td>\n",
              "      <td>...</td>\n",
              "      <td>...</td>\n",
              "      <td>...</td>\n",
              "      <td>...</td>\n",
              "      <td>...</td>\n",
              "    </tr>\n",
              "    <tr>\n",
              "      <th>20030</th>\n",
              "      <td>2010-07-30</td>\n",
              "      <td>RAR0725</td>\n",
              "      <td>1</td>\n",
              "      <td>1</td>\n",
              "      <td>1</td>\n",
              "      <td>0</td>\n",
              "      <td>13</td>\n",
              "      <td>2010-07-30 07:46:00</td>\n",
              "      <td>2010-07-30 16:24:19</td>\n",
              "      <td>0.169815</td>\n",
              "      <td>NaN</td>\n",
              "      <td>0.180452</td>\n",
              "      <td>bad</td>\n",
              "    </tr>\n",
              "    <tr>\n",
              "      <th>20467</th>\n",
              "      <td>2010-07-30</td>\n",
              "      <td>IJM0776</td>\n",
              "      <td>1</td>\n",
              "      <td>1</td>\n",
              "      <td>5</td>\n",
              "      <td>0</td>\n",
              "      <td>35</td>\n",
              "      <td>2010-07-30 08:31:00</td>\n",
              "      <td>2010-07-30 16:24:29</td>\n",
              "      <td>0.173405</td>\n",
              "      <td>NaN</td>\n",
              "      <td>0.169993</td>\n",
              "      <td>bad</td>\n",
              "    </tr>\n",
              "    <tr>\n",
              "      <th>20523</th>\n",
              "      <td>2010-07-30</td>\n",
              "      <td>LCC0819</td>\n",
              "      <td>1</td>\n",
              "      <td>1</td>\n",
              "      <td>9</td>\n",
              "      <td>7</td>\n",
              "      <td>95</td>\n",
              "      <td>2010-07-30 08:36:00</td>\n",
              "      <td>2010-07-30 20:21:05</td>\n",
              "      <td>0.191337</td>\n",
              "      <td>0.157190</td>\n",
              "      <td>0.169305</td>\n",
              "      <td>bad</td>\n",
              "    </tr>\n",
              "    <tr>\n",
              "      <th>20657</th>\n",
              "      <td>2010-07-30</td>\n",
              "      <td>DIB0285</td>\n",
              "      <td>1</td>\n",
              "      <td>1</td>\n",
              "      <td>10</td>\n",
              "      <td>0</td>\n",
              "      <td>102</td>\n",
              "      <td>2010-07-30 09:15:00</td>\n",
              "      <td>2010-07-30 18:02:34</td>\n",
              "      <td>0.163123</td>\n",
              "      <td>NaN</td>\n",
              "      <td>0.168970</td>\n",
              "      <td>bad</td>\n",
              "    </tr>\n",
              "    <tr>\n",
              "      <th>20690</th>\n",
              "      <td>2010-07-30</td>\n",
              "      <td>RHL0992</td>\n",
              "      <td>2</td>\n",
              "      <td>1</td>\n",
              "      <td>9</td>\n",
              "      <td>1</td>\n",
              "      <td>104</td>\n",
              "      <td>2010-07-30 09:18:00</td>\n",
              "      <td>2010-07-30 21:02:36</td>\n",
              "      <td>0.350706</td>\n",
              "      <td>0.159852</td>\n",
              "      <td>0.181297</td>\n",
              "      <td>bad</td>\n",
              "    </tr>\n",
              "  </tbody>\n",
              "</table>\n",
              "<p>158 rows × 13 columns</p>\n",
              "</div>"
            ],
            "text/plain": [
              "             date username  login_count  logout_count  email_count  \\\n",
              "526    2010-07-01  RMW0542            1             1           11   \n",
              "757    2010-07-01  LCC0819            1             1           11   \n",
              "797    2010-07-01  PNL0301            1             1            1   \n",
              "820    2010-07-01  AAF0535            1             1            3   \n",
              "1484   2010-07-02  RMW0542            1             1           11   \n",
              "...           ...      ...          ...           ...          ...   \n",
              "20030  2010-07-30  RAR0725            1             1            1   \n",
              "20467  2010-07-30  IJM0776            1             1            5   \n",
              "20523  2010-07-30  LCC0819            1             1            9   \n",
              "20657  2010-07-30  DIB0285            1             1           10   \n",
              "20690  2010-07-30  RHL0992            2             1            9   \n",
              "\n",
              "       file_count  http_count          start_time            end_time  \\\n",
              "526             0         102 2010-07-01 07:58:00 2010-07-01 17:59:48   \n",
              "757             4          98 2010-07-01 08:28:00 2010-07-01 20:35:26   \n",
              "797             0          18 2010-07-01 08:46:00 2010-07-01 17:50:25   \n",
              "820             5          37 2010-07-01 08:52:00 2010-07-01 16:54:40   \n",
              "1484            3         105 2010-07-02 07:58:00 2010-07-02 18:04:21   \n",
              "...           ...         ...                 ...                 ...   \n",
              "20030           0          13 2010-07-30 07:46:00 2010-07-30 16:24:19   \n",
              "20467           0          35 2010-07-30 08:31:00 2010-07-30 16:24:29   \n",
              "20523           7          95 2010-07-30 08:36:00 2010-07-30 20:21:05   \n",
              "20657           0         102 2010-07-30 09:15:00 2010-07-30 18:02:34   \n",
              "20690           1         104 2010-07-30 09:18:00 2010-07-30 21:02:36   \n",
              "\n",
              "       tfidf3_mean  tfidf4_mean  tfidf5_mean label  \n",
              "526       0.167441          NaN     0.168980   bad  \n",
              "757       0.162432     0.144089     0.167272   bad  \n",
              "797       0.142250          NaN     0.174718   bad  \n",
              "820       0.176862     0.159558     0.170484   bad  \n",
              "1484      0.176852     0.328482     0.174313   bad  \n",
              "...            ...          ...          ...   ...  \n",
              "20030     0.169815          NaN     0.180452   bad  \n",
              "20467     0.173405          NaN     0.169993   bad  \n",
              "20523     0.191337     0.157190     0.169305   bad  \n",
              "20657     0.163123          NaN     0.168970   bad  \n",
              "20690     0.350706     0.159852     0.181297   bad  \n",
              "\n",
              "[158 rows x 13 columns]"
            ]
          },
          "execution_count": 35,
          "metadata": {},
          "output_type": "execute_result"
        }
      ],
      "source": [
        "final.loc[(final['label'] == 'bad')]"
      ]
    },
    {
      "cell_type": "code",
      "execution_count": 39,
      "metadata": {},
      "outputs": [
        {
          "data": {
            "text/plain": [
              "<Axes: xlabel='label', ylabel='count'>"
            ]
          },
          "execution_count": 39,
          "metadata": {},
          "output_type": "execute_result"
        },
        {
          "data": {
            "image/png": "[encoded data removed]",
            "text/plain": [
              "<Figure size 640x480 with 1 Axes>"
            ]
          },
          "metadata": {},
          "output_type": "display_data"
        }
      ],
      "source": [
        "sb.countplot(data=final, x='label')"
      ]
    },
    {
      "cell_type": "code",
      "execution_count": null,
      "metadata": {},
      "outputs": [],
      "source": []
    }
  ],
  "metadata": {
    "accelerator": "TPU",
    "colab": {
      "include_colab_link": true,
      "provenance": []
    },
    "gpuClass": "standard",
    "kernelspec": {
      "display_name": "Python 3.9.15 ('praxis-clements')",
      "language": "python",
      "name": "python3"
    },
    "language_info": {
      "codemirror_mode": {
        "name": "ipython",
        "version": 3
      },
      "file_extension": ".py",
      "mimetype": "text/x-python",
      "name": "python",
      "nbconvert_exporter": "python",
      "pygments_lexer": "ipython3",
      "version": "3.9.16"
    },
    "orig_nbformat": 4,
    "vscode": {
      "interpreter": {
        "hash": "0e4ed65ac9cd06e325be5e4053efe5dbb28567580420031f65d0d231df994926"
      }
    }
  },
  "nbformat": 4,
  "nbformat_minor": 0
}
