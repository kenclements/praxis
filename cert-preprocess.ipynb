{
  "cells": [
    {
      "cell_type": "code",
      "execution_count": 1,
      "metadata": {
        "colab": {
          "base_uri": "https://localhost:8080/"
        },
        "id": "lN5-AcoypUan",
        "outputId": "27a0d132-984b-4db2-973c-c2482bbe5db1"
      },
      "outputs": [],
      "source": [
        "#!nvidia-smi"
      ]
    },
    {
      "cell_type": "code",
      "execution_count": 2,
      "metadata": {
        "colab": {
          "base_uri": "https://localhost:8080/"
        },
        "id": "sI_JO6jFrD7Z",
        "outputId": "54588cba-2cf6-4cf6-d06a-8c75d47e77d7"
      },
      "outputs": [],
      "source": [
        "# from google.colab import drive\n",
        "# drive.mount('/content/drive')"
      ]
    },
    {
      "attachments": {},
      "cell_type": "markdown",
      "metadata": {},
      "source": [
        "# Loading Libraries"
      ]
    },
    {
      "cell_type": "code",
      "execution_count": 1,
      "metadata": {
        "id": "SpDcPu8tmmK0"
      },
      "outputs": [],
      "source": [
        "#data management tools\n",
        "import pandas as pd\n",
        "import numpy as np\n",
        "import imblearn\n",
        "\n",
        "from imblearn.under_sampling import RandomUnderSampler\n",
        "from imblearn.over_sampling import RandomOverSampler\n",
        "from imblearn.over_sampling import SMOTE\n",
        "from imblearn.over_sampling import BorderlineSMOTE\n",
        "from imblearn.over_sampling import ADASYN\n",
        "\n",
        "import scipy.stats as stats\n",
        "\n",
        "import matplotlib.pyplot as plt\n",
        "import seaborn as sb\n",
        "import re\n",
        "import datetime\n",
        "\n",
        "# #Vectorization and Tokenizing\n",
        "from sklearn.feature_extraction.text import TfidfVectorizer, CountVectorizer\n",
        "from sklearn.preprocessing import MaxAbsScaler\n",
        "from sklearn.preprocessing import OneHotEncoder\n",
        "from sklearn.preprocessing import LabelEncoder\n",
        "\n",
        "import nltk\n",
        "from nltk.corpus import stopwords\n",
        "from nltk.tokenize import word_tokenize\n",
        "from nltk import pos_tag\n",
        "from nltk.stem import PorterStemmer\n",
        "from nltk.stem import LancasterStemmer\n",
        "\n",
        "\n",
        "# #DNN Modules\n",
        "# import torch\n",
        "# import tensorflow as tf\n",
        "# from tensorflow.keras import layers\n",
        "# from tensorflow.keras.models import Sequential\n",
        "# from tensorflow.keras.layers import Dense\n",
        "# from tensorflow.keras.layers import InputLayer\n",
        "# from tensorflow.keras import losses\n",
        "# from tensorflow.keras.regularizers import L2\n",
        "# from tensorflow.keras.utils import plot_model\n",
        "# from tensorflow.keras.layers import TextVectorization\n",
        "\n",
        "\n",
        "# #Models\n",
        "# from sklearn.ensemble import AdaBoostClassifier\n",
        "# from sklearn.neighbors import KNeighborsClassifier\n",
        "# from sklearn.svm import SVC\n",
        "from sklearn.linear_model import LogisticRegression\n",
        "# from sklearn.naive_bayes import GaussianNB\n",
        "# from sklearn.linear_model import LinearRegression\n",
        "\n",
        "\n",
        "# #Metrics and Testing\n",
        "from sklearn.model_selection import train_test_split\n",
        "from sklearn import metrics\n",
        "# from sklearn.metrics import accuracy_score\n",
        "from sklearn.metrics import confusion_matrix"
      ]
    },
    {
      "attachments": {},
      "cell_type": "markdown",
      "metadata": {},
      "source": [
        "# Dataloading and Preprocessing"
      ]
    },
    {
      "cell_type": "code",
      "execution_count": 2,
      "metadata": {
        "id": "oR_xocCCmmK3"
      },
      "outputs": [],
      "source": [
        "#My Lenovo\n",
        "#df1 = pd.read_csv('/Data/CERT/r4.2/logon.csv')\n",
        "#df2 = pd.read_csv('/Data/CERT/r4.2/device.csv')\n",
        "#df3 = pd.read_csv('/Data/CERT/r4.2/email.csv')\n",
        "#df4 = pd.read_csv('/Data/CERT/r4.2/file.csv')\n",
        "#df5 = pd.read_csv('/Data/CERT/r4.2/http.csv')\n",
        "#df6 = pd.read_csv('/Data/CERT/r4.2/psychometric.csv')\n",
        "\n",
        "#My MacBook\n",
        "df1 = pd.read_csv('/Users/ken.clements/code/praxis/CERT42/logon.csv')\n",
        "df2 = pd.read_csv('/Users/ken.clements/code/praxis/CERT42/device.csv')\n",
        "df3 = pd.read_csv('/Users/ken.clements/code/praxis/CERT42/email.csv')\n",
        "df4 = pd.read_csv('/Users/ken.clements/code/praxis/CERT42/file.csv')\n",
        "df5 = pd.read_csv('/Users/ken.clements/code/praxis/CERT42/http.csv')\n",
        "ans = pd.read_csv('/Users/ken.clements/code/praxis/CERT42/answers/answers.csv')\n",
        "#df6 = pd.read_csv('/Users/ken.clements/code/praxis/CERT42/psychometric.csv')\n",
        "\n",
        "#Google Drive - Colab\n",
        "# df1 = pd.read_csv('/content/drive/MyDrive/Praxis/data/CERT42/logon.csv')\n",
        "# df2 = pd.read_csv('/content/drive/MyDrive/Praxis/data/CERT42/device.csv')\n",
        "# df3 = pd.read_csv('/content/drive/MyDrive/Praxis/data/CERT42/http.csv')\n",
        "# df4 = pd.read_csv('/content/drive/MyDrive/Praxis/data/CERT42/email.csv')\n",
        "# df5 = pd.read_csv('/content/drive/MyDrive/Praxis/data/CERT42/file.csv')\n",
        "# df6 = pd.read_csv('/content/drive/MyDrive/Praxis/data/CERT42/psychometric.csv')"
      ]
    },
    {
      "cell_type": "code",
      "execution_count": 3,
      "metadata": {},
      "outputs": [],
      "source": [
        "START = datetime.date(2010,7,1)\n",
        "END = datetime.date(2010,8, 30)"
      ]
    },
    {
      "cell_type": "code",
      "execution_count": 4,
      "metadata": {},
      "outputs": [],
      "source": [
        "df1['date'] = pd.to_datetime(df1['date'])\n",
        "df2['date'] = pd.to_datetime(df2['date'])\n",
        "df3['date'] = pd.to_datetime(df3['date'])\n",
        "df4['date'] = pd.to_datetime(df4['date'])\n",
        "df5['date'] = pd.to_datetime(df5['date'])\n",
        "\n",
        "df1['day_date'] = pd.to_datetime(df1['date']).dt.date\n",
        "df2['day_date'] = pd.to_datetime(df2['date']).dt.date\n",
        "df3['day_date'] = pd.to_datetime(df3['date']).dt.date\n",
        "df4['day_date'] = pd.to_datetime(df4['date']).dt.date\n",
        "df5['day_date'] = pd.to_datetime(df5['date']).dt.date"
      ]
    },
    {
      "cell_type": "code",
      "execution_count": 5,
      "metadata": {},
      "outputs": [],
      "source": [
        "df3['activity'] = \"email\"\n",
        "df4['activity'] = \"file\"\n",
        "df5['activity'] = \"http\""
      ]
    },
    {
      "cell_type": "code",
      "execution_count": 6,
      "metadata": {},
      "outputs": [],
      "source": [
        "df1_bs = df1[((df1['day_date'] >= START) & (df1['day_date'] <= END))]\n",
        "df2_bs = df2[((df2['day_date'] >= START) & (df2['day_date'] <= END))]\n",
        "df3_bs = df3[((df3['day_date'] >= START) & (df3['day_date'] <= END))]\n",
        "df4_bs = df4[((df4['day_date'] >= START) & (df4['day_date'] <= END))]\n",
        "df5_bs = df5[((df5['day_date'] >= START) & (df5['day_date'] <= END))]"
      ]
    },
    {
      "attachments": {},
      "cell_type": "markdown",
      "metadata": {},
      "source": [
        "# Stemming Lemmatizing Stopwords Lowercase and Tokenized"
      ]
    },
    {
      "cell_type": "code",
      "execution_count": 7,
      "metadata": {},
      "outputs": [
        {
          "name": "stderr",
          "output_type": "stream",
          "text": [
            "[nltk_data] Downloading package averaged_perceptron_tagger to\n",
            "[nltk_data]     /Users/ken.clements/nltk_data...\n",
            "[nltk_data]   Package averaged_perceptron_tagger is already up-to-\n",
            "[nltk_data]       date!\n",
            "[nltk_data] Downloading package wordnet to\n",
            "[nltk_data]     /Users/ken.clements/nltk_data...\n",
            "[nltk_data]   Package wordnet is already up-to-date!\n",
            "[nltk_data] Downloading package omw-1.4 to\n",
            "[nltk_data]     /Users/ken.clements/nltk_data...\n",
            "[nltk_data]   Package omw-1.4 is already up-to-date!\n"
          ]
        }
      ],
      "source": [
        "nltk.download('averaged_perceptron_tagger')\n",
        "nltk.download('wordnet')\n",
        "nltk.download('omw-1.4')\n",
        "def prepare_text(pretext):\n",
        "\n",
        "    # tokenize mission.\n",
        "    tokens = word_tokenize(pretext, language=\"english\", preserve_line=True)\n",
        "\n",
        "    # Parts of speech (POS) tag tokens.\n",
        "    token_tag = pos_tag(tokens)\n",
        "    \n",
        "    # Only include some of the POS tags.\n",
        "    include_tags = ['VBN', 'VBD', 'JJ', 'JJS', 'JJR', 'CD', 'NN', 'NNS', 'NNP', 'NNPS']\n",
        "    filtered_tokens = (tok for tok, tag in token_tag if tag in include_tags)    \n",
        "    \n",
        "    #stem words.\n",
        "    #stemmed_tokens = (lancaster.stem(tok) for tok in filtered_tokens)\n",
        "\n",
        "    #lemm words.\n",
        "    #lemmed_words = (lemmatizer.lemmatize(tok) for tok in stemmed_tokens)\n",
        "\n",
        "    #lower_words = [str.lower(tok) for tok in lemmed_words]\n",
        "    lower_words = [str.lower(tok) for tok in filtered_tokens]\n",
        "\n",
        "    #x = cv.fit_transform(tokens).toarray()\n",
        "\n",
        "    joined = \" \".join(lower_words)\n",
        "\n",
        "    return(joined)\n",
        "\n",
        "#ps = PorterStemmer()\n",
        "#lancaster = LancasterStemmer()\n",
        "#lemmatizer = nltk.stem.WordNetLemmatizer()"
      ]
    },
    {
      "cell_type": "code",
      "execution_count": 8,
      "metadata": {},
      "outputs": [
        {
          "name": "stderr",
          "output_type": "stream",
          "text": [
            "/var/folders/p4/svf85_b50jvfz4dvm3yf5h0c0000gq/T/ipykernel_90102/614576161.py:1: SettingWithCopyWarning: \n",
            "A value is trying to be set on a copy of a slice from a DataFrame.\n",
            "Try using .loc[row_indexer,col_indexer] = value instead\n",
            "\n",
            "See the caveats in the documentation: https://pandas.pydata.org/pandas-docs/stable/user_guide/indexing.html#returning-a-view-versus-a-copy\n",
            "  df3_bs['df3tokenized'] = df3_bs['content'].apply(prepare_text)\n",
            "/var/folders/p4/svf85_b50jvfz4dvm3yf5h0c0000gq/T/ipykernel_90102/614576161.py:2: SettingWithCopyWarning: \n",
            "A value is trying to be set on a copy of a slice from a DataFrame.\n",
            "Try using .loc[row_indexer,col_indexer] = value instead\n",
            "\n",
            "See the caveats in the documentation: https://pandas.pydata.org/pandas-docs/stable/user_guide/indexing.html#returning-a-view-versus-a-copy\n",
            "  df4_bs['df4tokenized'] = df4_bs['content'].apply(prepare_text)\n",
            "/var/folders/p4/svf85_b50jvfz4dvm3yf5h0c0000gq/T/ipykernel_90102/614576161.py:3: SettingWithCopyWarning: \n",
            "A value is trying to be set on a copy of a slice from a DataFrame.\n",
            "Try using .loc[row_indexer,col_indexer] = value instead\n",
            "\n",
            "See the caveats in the documentation: https://pandas.pydata.org/pandas-docs/stable/user_guide/indexing.html#returning-a-view-versus-a-copy\n",
            "  df5_bs['df5tokenized'] = df5_bs['content'].apply(prepare_text)\n"
          ]
        }
      ],
      "source": [
        "df3_bs['df3tokenized'] = df3_bs['content'].apply(prepare_text)\n",
        "df4_bs['df4tokenized'] = df4_bs['content'].apply(prepare_text)\n",
        "df5_bs['df5tokenized'] = df5_bs['content'].apply(prepare_text)"
      ]
    },
    {
      "attachments": {},
      "cell_type": "markdown",
      "metadata": {},
      "source": [
        "# TFIDF"
      ]
    },
    {
      "cell_type": "code",
      "execution_count": 9,
      "metadata": {},
      "outputs": [
        {
          "name": "stderr",
          "output_type": "stream",
          "text": [
            "[nltk_data] Downloading package stopwords to\n",
            "[nltk_data]     /Users/ken.clements/nltk_data...\n",
            "[nltk_data]   Package stopwords is already up-to-date!\n"
          ]
        }
      ],
      "source": [
        "nltk.download('stopwords')\n",
        "stops = set(stopwords.words('english'))\n",
        "tfidfvectorizer = TfidfVectorizer(stop_words='english', analyzer='word' )"
      ]
    },
    {
      "cell_type": "code",
      "execution_count": 10,
      "metadata": {},
      "outputs": [
        {
          "name": "stderr",
          "output_type": "stream",
          "text": [
            "/var/folders/p4/svf85_b50jvfz4dvm3yf5h0c0000gq/T/ipykernel_90102/273645768.py:2: SettingWithCopyWarning: \n",
            "A value is trying to be set on a copy of a slice from a DataFrame.\n",
            "Try using .loc[row_indexer,col_indexer] = value instead\n",
            "\n",
            "See the caveats in the documentation: https://pandas.pydata.org/pandas-docs/stable/user_guide/indexing.html#returning-a-view-versus-a-copy\n",
            "  df3_bs['df3tfidf_mean'] = ((tfidf_df3.sum(axis=1).transpose()) / (tfidf_df3.getnnz(axis=1))).transpose()\n",
            "/var/folders/p4/svf85_b50jvfz4dvm3yf5h0c0000gq/T/ipykernel_90102/273645768.py:3: SettingWithCopyWarning: \n",
            "A value is trying to be set on a copy of a slice from a DataFrame.\n",
            "Try using .loc[row_indexer,col_indexer] = value instead\n",
            "\n",
            "See the caveats in the documentation: https://pandas.pydata.org/pandas-docs/stable/user_guide/indexing.html#returning-a-view-versus-a-copy\n",
            "  df3_bs['df3tfidf_max'] = tfidf_df3.max()\n"
          ]
        }
      ],
      "source": [
        "tfidf_df3 = tfidfvectorizer.fit_transform(df3_bs['df3tokenized'])\n",
        "df3_bs['df3tfidf_mean'] = ((tfidf_df3.sum(axis=1).transpose()) / (tfidf_df3.getnnz(axis=1))).transpose()\n",
        "df3_bs['df3tfidf_max'] = tfidf_df3.max()"
      ]
    },
    {
      "cell_type": "code",
      "execution_count": 11,
      "metadata": {},
      "outputs": [
        {
          "name": "stderr",
          "output_type": "stream",
          "text": [
            "/var/folders/p4/svf85_b50jvfz4dvm3yf5h0c0000gq/T/ipykernel_90102/2607303763.py:2: SettingWithCopyWarning: \n",
            "A value is trying to be set on a copy of a slice from a DataFrame.\n",
            "Try using .loc[row_indexer,col_indexer] = value instead\n",
            "\n",
            "See the caveats in the documentation: https://pandas.pydata.org/pandas-docs/stable/user_guide/indexing.html#returning-a-view-versus-a-copy\n",
            "  df4_bs['df4tfidf_mean'] = ((tfidf_df4.sum(axis=1).transpose()) / (tfidf_df4.getnnz(axis=1))).transpose()\n",
            "/var/folders/p4/svf85_b50jvfz4dvm3yf5h0c0000gq/T/ipykernel_90102/2607303763.py:3: SettingWithCopyWarning: \n",
            "A value is trying to be set on a copy of a slice from a DataFrame.\n",
            "Try using .loc[row_indexer,col_indexer] = value instead\n",
            "\n",
            "See the caveats in the documentation: https://pandas.pydata.org/pandas-docs/stable/user_guide/indexing.html#returning-a-view-versus-a-copy\n",
            "  df4_bs['df4tfidf_max'] = tfidf_df4.max()\n"
          ]
        }
      ],
      "source": [
        "tfidf_df4 = tfidfvectorizer.fit_transform(df4_bs['df4tokenized'])\n",
        "df4_bs['df4tfidf_mean'] = ((tfidf_df4.sum(axis=1).transpose()) / (tfidf_df4.getnnz(axis=1))).transpose()\n",
        "df4_bs['df4tfidf_max'] = tfidf_df4.max()"
      ]
    },
    {
      "cell_type": "code",
      "execution_count": 12,
      "metadata": {},
      "outputs": [
        {
          "name": "stderr",
          "output_type": "stream",
          "text": [
            "/var/folders/p4/svf85_b50jvfz4dvm3yf5h0c0000gq/T/ipykernel_90102/2696482291.py:2: RuntimeWarning: invalid value encountered in divide\n",
            "  df5_bs['df5tfidf_mean'] = ((tfidf_df5.sum(axis=1).transpose()) / (tfidf_df5.getnnz(axis=1))).transpose()\n",
            "/var/folders/p4/svf85_b50jvfz4dvm3yf5h0c0000gq/T/ipykernel_90102/2696482291.py:2: SettingWithCopyWarning: \n",
            "A value is trying to be set on a copy of a slice from a DataFrame.\n",
            "Try using .loc[row_indexer,col_indexer] = value instead\n",
            "\n",
            "See the caveats in the documentation: https://pandas.pydata.org/pandas-docs/stable/user_guide/indexing.html#returning-a-view-versus-a-copy\n",
            "  df5_bs['df5tfidf_mean'] = ((tfidf_df5.sum(axis=1).transpose()) / (tfidf_df5.getnnz(axis=1))).transpose()\n",
            "/var/folders/p4/svf85_b50jvfz4dvm3yf5h0c0000gq/T/ipykernel_90102/2696482291.py:3: SettingWithCopyWarning: \n",
            "A value is trying to be set on a copy of a slice from a DataFrame.\n",
            "Try using .loc[row_indexer,col_indexer] = value instead\n",
            "\n",
            "See the caveats in the documentation: https://pandas.pydata.org/pandas-docs/stable/user_guide/indexing.html#returning-a-view-versus-a-copy\n",
            "  df5_bs['df5tfidf_max'] = tfidf_df5.max()\n"
          ]
        }
      ],
      "source": [
        "tfidf_df5 = tfidfvectorizer.fit_transform(df5_bs['df5tokenized'])\n",
        "df5_bs['df5tfidf_mean'] = ((tfidf_df5.sum(axis=1).transpose()) / (tfidf_df5.getnnz(axis=1))).transpose()\n",
        "df5_bs['df5tfidf_max'] = tfidf_df5.max()"
      ]
    },
    {
      "attachments": {},
      "cell_type": "markdown",
      "metadata": {},
      "source": [
        "# Aggregate all data"
      ]
    },
    {
      "cell_type": "code",
      "execution_count": 13,
      "metadata": {
        "id": "To-v9XnyVOfW",
        "outputId": "cbae14cf-3cba-4120-e07f-c1a958848557"
      },
      "outputs": [],
      "source": [
        "df_merged = pd.concat([df1_bs, df2_bs, df3_bs, df4_bs, df5_bs])"
      ]
    },
    {
      "cell_type": "code",
      "execution_count": 14,
      "metadata": {},
      "outputs": [],
      "source": [
        "df_merged['label'] = 'normal'"
      ]
    },
    {
      "cell_type": "code",
      "execution_count": 15,
      "metadata": {},
      "outputs": [],
      "source": [
        "df_merged.loc[df_merged['id'].isin(ans['id']),['label']] = 'bad'"
      ]
    },
    {
      "cell_type": "code",
      "execution_count": 16,
      "metadata": {},
      "outputs": [],
      "source": [
        "dates = df_merged['day_date']\n",
        "dates = dates.unique()"
      ]
    },
    {
      "cell_type": "code",
      "execution_count": 17,
      "metadata": {},
      "outputs": [],
      "source": [
        "dfwow = []\n",
        "for d in dates:\n",
        "    dayevents = df_merged.loc[(df_merged['day_date'] == d)]\n",
        "    users = dayevents['user']\n",
        "    users = users.unique()\n",
        "    for u in users:\n",
        "        userd = dayevents[(dayevents['user'] == u)]\n",
        "        date = d\n",
        "        username = u\n",
        "        login_count = userd[userd['activity'] == 'Logon'].shape[0]\n",
        "        logout_count = userd[userd['activity'] == 'Logoff'].shape[0]\n",
        "        email_count = userd[userd['to'].notnull()].shape[0]\n",
        "        file_count = userd[userd['filename'].notnull()].shape[0]\n",
        "        http_count = userd[userd['url'].notnull()].shape[0]\n",
        "        start_time = userd['date'].iloc[0]\n",
        "        end_time = userd['date'].iloc[-1]\n",
        "        tfidf3_mean = userd['df3tfidf_mean'].mean()\n",
        "        tfidf4_mean = userd['df4tfidf_mean'].mean()\n",
        "        tfidf5_mean = userd['df5tfidf_mean'].mean()\n",
        "        # tfidf3_max = userd['df3tfidf_mean'].max()\n",
        "        # tfidf4_max = userd['df4tfidf_mean'].max()\n",
        "        # tfidf5_max = userd['df5tfidf_mean'].max()\n",
        "        \n",
        "        if (userd[(userd['label'] == 'bad')].shape[0] > 0): label = 1\n",
        "        else: label = 0\n",
        "        dfwow.append([date, username, login_count, logout_count, email_count, file_count, http_count, tfidf3_mean, tfidf4_mean, tfidf5_mean, label])\n"
      ]
    },
    {
      "cell_type": "code",
      "execution_count": 18,
      "metadata": {},
      "outputs": [],
      "source": [
        "final = pd.DataFrame(dfwow, columns=['date', 'username', 'login_count', 'logout_count', 'email_count', 'file_count', 'http_count', 'tfidf3_mean', 'tfidf4_mean', 'tfidf5_mean', 'label'])\n"
      ]
    },
    {
      "cell_type": "code",
      "execution_count": 19,
      "metadata": {},
      "outputs": [],
      "source": [
        "final = final.dropna(subset=['tfidf5_mean', 'tfidf3_mean', 'tfidf4_mean'])"
      ]
    },
    {
      "cell_type": "code",
      "execution_count": 20,
      "metadata": {},
      "outputs": [],
      "source": [
        "final['date'] = (final['date'] - final['date'].min())  / np.timedelta64(1,'D')"
      ]
    },
    {
      "cell_type": "code",
      "execution_count": 21,
      "metadata": {},
      "outputs": [],
      "source": [
        "label_encoder = LabelEncoder()"
      ]
    },
    {
      "cell_type": "code",
      "execution_count": 22,
      "metadata": {},
      "outputs": [],
      "source": [
        "final['username'] = label_encoder.fit_transform(final['username'])"
      ]
    },
    {
      "attachments": {},
      "cell_type": "markdown",
      "metadata": {},
      "source": [
        "# Sampling Methods"
      ]
    },
    {
      "cell_type": "code",
      "execution_count": 23,
      "metadata": {},
      "outputs": [
        {
          "data": {
            "text/plain": [
              "<Axes: xlabel='label', ylabel='count'>"
            ]
          },
          "execution_count": 23,
          "metadata": {},
          "output_type": "execute_result"
        },
        {
          "data": {
            "image/png": "[encoded data removed]",
            "text/plain": [
              "<Figure size 640x480 with 1 Axes>"
            ]
          },
          "metadata": {},
          "output_type": "display_data"
        }
      ],
      "source": [
        "sb.countplot(data=final, x='label')"
      ]
    },
    {
      "cell_type": "code",
      "execution_count": 24,
      "metadata": {},
      "outputs": [],
      "source": [
        "X = final.loc[:, final.columns != 'label']"
      ]
    },
    {
      "cell_type": "code",
      "execution_count": 25,
      "metadata": {},
      "outputs": [],
      "source": [
        "y = final['label']"
      ]
    },
    {
      "cell_type": "code",
      "execution_count": 26,
      "metadata": {},
      "outputs": [],
      "source": [
        "final_undersample = RandomUnderSampler(sampling_strategy='majority')\n",
        "X_final_under, y_final_under = final_undersample.fit_resample(X, y)"
      ]
    },
    {
      "cell_type": "code",
      "execution_count": 27,
      "metadata": {},
      "outputs": [],
      "source": [
        "final_oversample = RandomOverSampler(sampling_strategy='minority')\n",
        "X_final_over, y_final_over = final_oversample.fit_resample(X, y)"
      ]
    },
    {
      "cell_type": "code",
      "execution_count": 28,
      "metadata": {},
      "outputs": [],
      "source": [
        "final_smote = SMOTE(k_neighbors=5)\n",
        "X_final_smote, y_final_smote = final_smote.fit_resample(X, y)"
      ]
    },
    {
      "cell_type": "code",
      "execution_count": 29,
      "metadata": {},
      "outputs": [],
      "source": [
        "final_blsmote = BorderlineSMOTE()\n",
        "X_final_blsmote, y_final_blsmote = final_blsmote.fit_resample(X, y)"
      ]
    },
    {
      "cell_type": "code",
      "execution_count": 30,
      "metadata": {},
      "outputs": [],
      "source": [
        "final_adasyn = ADASYN()\n",
        "X_final_adasyn, y_final_adasyn = final_adasyn.fit_resample(X, y)"
      ]
    },
    {
      "cell_type": "code",
      "execution_count": 31,
      "metadata": {},
      "outputs": [],
      "source": [
        "final_under = X_final_under.copy()\n",
        "final_over = X_final_over.copy()\n",
        "final_smote = X_final_smote.copy()\n",
        "final_blsmote = X_final_blsmote.copy()\n",
        "final_adasyn = X_final_adasyn.copy()"
      ]
    },
    {
      "cell_type": "code",
      "execution_count": 32,
      "metadata": {},
      "outputs": [],
      "source": [
        "final_under['label'] = y_final_under\n",
        "final_over['label'] = y_final_over\n",
        "final_smote['label'] = y_final_smote\n",
        "final_blsmote['label'] = y_final_blsmote\n",
        "final_adasyn['label'] = y_final_adasyn"
      ]
    },
    {
      "cell_type": "code",
      "execution_count": 33,
      "metadata": {},
      "outputs": [
        {
          "data": {
            "text/plain": [
              "<Axes: xlabel='label', ylabel='tfidf5_mean'>"
            ]
          },
          "execution_count": 33,
          "metadata": {},
          "output_type": "execute_result"
        },
        {
          "data": {
            "image/png": "[encoded data removed]",
            "text/plain": [
              "<Figure size 640x480 with 1 Axes>"
            ]
          },
          "metadata": {},
          "output_type": "display_data"
        }
      ],
      "source": [
        "sb.boxplot(data=final, x=\"label\", y='tfidf5_mean')"
      ]
    },
    {
      "cell_type": "code",
      "execution_count": 34,
      "metadata": {},
      "outputs": [
        {
          "data": {
            "text/plain": [
              "<Axes: xlabel='label', ylabel='tfidf5_mean'>"
            ]
          },
          "execution_count": 34,
          "metadata": {},
          "output_type": "execute_result"
        },
        {
          "data": {
            "image/png": "[encoded data removed]",
            "text/plain": [
              "<Figure size 640x480 with 1 Axes>"
            ]
          },
          "metadata": {},
          "output_type": "display_data"
        }
      ],
      "source": [
        "sb.boxplot(data=final_under, x=\"label\", y='tfidf5_mean')"
      ]
    },
    {
      "cell_type": "code",
      "execution_count": 35,
      "metadata": {},
      "outputs": [
        {
          "data": {
            "text/plain": [
              "<Axes: xlabel='label', ylabel='tfidf5_mean'>"
            ]
          },
          "execution_count": 35,
          "metadata": {},
          "output_type": "execute_result"
        },
        {
          "data": {
            "image/png": "[encoded data removed]",
            "text/plain": [
              "<Figure size 640x480 with 1 Axes>"
            ]
          },
          "metadata": {},
          "output_type": "display_data"
        }
      ],
      "source": [
        "sb.boxplot(data=final_over, x=\"label\", y='tfidf5_mean')"
      ]
    },
    {
      "cell_type": "code",
      "execution_count": 36,
      "metadata": {},
      "outputs": [
        {
          "data": {
            "text/plain": [
              "<Axes: xlabel='label', ylabel='tfidf5_mean'>"
            ]
          },
          "execution_count": 36,
          "metadata": {},
          "output_type": "execute_result"
        },
        {
          "data": {
            "image/png": "[encoded data removed]",
            "text/plain": [
              "<Figure size 640x480 with 1 Axes>"
            ]
          },
          "metadata": {},
          "output_type": "display_data"
        }
      ],
      "source": [
        "sb.boxplot(data=final_smote, x=\"label\", y='tfidf5_mean')"
      ]
    },
    {
      "cell_type": "code",
      "execution_count": 37,
      "metadata": {},
      "outputs": [
        {
          "data": {
            "text/plain": [
              "<Axes: xlabel='label', ylabel='tfidf5_mean'>"
            ]
          },
          "execution_count": 37,
          "metadata": {},
          "output_type": "execute_result"
        },
        {
          "data": {
            "image/png": "[encoded data removed]",
            "text/plain": [
              "<Figure size 640x480 with 1 Axes>"
            ]
          },
          "metadata": {},
          "output_type": "display_data"
        }
      ],
      "source": [
        "sb.boxplot(data=final_blsmote, x=\"label\", y='tfidf5_mean')"
      ]
    },
    {
      "cell_type": "code",
      "execution_count": 38,
      "metadata": {},
      "outputs": [
        {
          "data": {
            "text/plain": [
              "<Axes: xlabel='label', ylabel='tfidf5_mean'>"
            ]
          },
          "execution_count": 38,
          "metadata": {},
          "output_type": "execute_result"
        },
        {
          "data": {
            "image/png": "[encoded data removed]",
            "text/plain": [
              "<Figure size 640x480 with 1 Axes>"
            ]
          },
          "metadata": {},
          "output_type": "display_data"
        }
      ],
      "source": [
        "sb.boxplot(data=final_adasyn, x=\"label\", y='tfidf5_mean')"
      ]
    },
    {
      "cell_type": "code",
      "execution_count": 88,
      "metadata": {},
      "outputs": [
        {
          "name": "stdout",
          "output_type": "stream",
          "text": [
            "-1.991405515448931 0.051152991496246886\n"
          ]
        }
      ],
      "source": [
        "temp5_mean0 = final[final['label'] == 0].sample(30)\n",
        "temp5_mean1 = final[final['label'] == 1].sample(30)\n",
        "fvalue, pvalue = stats.ttest_ind(temp5_mean0['tfidf5_mean'], temp5_mean1['tfidf5_mean'])\n",
        "print(fvalue, pvalue)"
      ]
    },
    {
      "cell_type": "code",
      "execution_count": 89,
      "metadata": {},
      "outputs": [
        {
          "name": "stdout",
          "output_type": "stream",
          "text": [
            "-0.8517801168201977 0.3978395113739088\n"
          ]
        }
      ],
      "source": [
        "temp5_mean0 = final_under[final_under['label'] == 0].sample(30)\n",
        "temp5_mean1 = final_under[final_under['label'] == 1].sample(30)\n",
        "fvalue, pvalue = stats.ttest_ind(temp5_mean0['tfidf5_mean'], temp5_mean1['tfidf5_mean'])\n",
        "print(fvalue, pvalue)"
      ]
    },
    {
      "cell_type": "code",
      "execution_count": 90,
      "metadata": {},
      "outputs": [
        {
          "name": "stdout",
          "output_type": "stream",
          "text": [
            "-0.8517801168201977 0.3978395113739088\n"
          ]
        }
      ],
      "source": [
        "fvalue, pvalue = stats.ttest_ind(temp5_mean0['tfidf5_mean'], temp5_mean1['tfidf5_mean'])\n",
        "print(fvalue, pvalue)"
      ]
    },
    {
      "cell_type": "code",
      "execution_count": 91,
      "metadata": {},
      "outputs": [
        {
          "name": "stdout",
          "output_type": "stream",
          "text": [
            "-1.6871583584542573 0.09694463293820338\n"
          ]
        }
      ],
      "source": [
        "temp5_mean0 = final_over[final_over['label'] == 0].sample(30)\n",
        "temp5_mean1 = final_over[final_over['label'] == 1].sample(30)\n",
        "fvalue, pvalue = stats.ttest_ind(temp5_mean0['tfidf5_mean'], temp5_mean1['tfidf5_mean'])\n",
        "print(fvalue, pvalue)"
      ]
    },
    {
      "cell_type": "code",
      "execution_count": 92,
      "metadata": {},
      "outputs": [
        {
          "name": "stdout",
          "output_type": "stream",
          "text": [
            "-1.1710978527585216 0.2463483175912328\n"
          ]
        }
      ],
      "source": [
        "temp5_mean0 = final_smote[final_smote['label'] == 0].sample(30)\n",
        "temp5_mean1 = final_smote[final_smote['label'] == 1].sample(30)\n",
        "fvalue, pvalue = stats.ttest_ind(temp5_mean0['tfidf5_mean'], temp5_mean1['tfidf5_mean'])\n",
        "print(fvalue, pvalue)"
      ]
    },
    {
      "cell_type": "code",
      "execution_count": 93,
      "metadata": {},
      "outputs": [
        {
          "name": "stdout",
          "output_type": "stream",
          "text": [
            "-1.3549253441776825 0.18069542672003458\n"
          ]
        }
      ],
      "source": [
        "temp5_mean0 = final_blsmote[final_blsmote['label'] == 0].sample(30)\n",
        "temp5_mean1 = final_blsmote[final_blsmote['label'] == 1].sample(30)\n",
        "fvalue, pvalue = stats.ttest_ind(temp5_mean0['tfidf5_mean'], temp5_mean1['tfidf5_mean'])\n",
        "print(fvalue, pvalue)"
      ]
    },
    {
      "cell_type": "code",
      "execution_count": 94,
      "metadata": {},
      "outputs": [
        {
          "name": "stdout",
          "output_type": "stream",
          "text": [
            "-0.14820082811533147 0.8829679138783667\n"
          ]
        }
      ],
      "source": [
        "temp5_mean0 = final_adasyn[final_adasyn['label'] == 0].sample(20)\n",
        "temp5_mean1 = final_adasyn[final_adasyn['label'] == 1].sample(20)\n",
        "fvalue, pvalue = stats.ttest_ind(temp5_mean0['tfidf5_mean'], temp5_mean1['tfidf5_mean'])\n",
        "print(fvalue, pvalue)"
      ]
    },
    {
      "cell_type": "code",
      "execution_count": 46,
      "metadata": {},
      "outputs": [
        {
          "data": {
            "text/plain": [
              "<seaborn.axisgrid.FacetGrid at 0x7fe964c2b6a0>"
            ]
          },
          "execution_count": 46,
          "metadata": {},
          "output_type": "execute_result"
        },
        {
          "data": {
            "image/png": "[encoded data removed]",
            "text/plain": [
              "<Figure size 558.875x500 with 1 Axes>"
            ]
          },
          "metadata": {},
          "output_type": "display_data"
        }
      ],
      "source": [
        "sb.displot(data=final_adasyn, x=\"tfidf5_mean\", hue=\"label\", kind='kde')"
      ]
    },
    {
      "cell_type": "code",
      "execution_count": 47,
      "metadata": {},
      "outputs": [
        {
          "data": {
            "text/plain": [
              "<seaborn.axisgrid.FacetGrid at 0x7fe964cb6280>"
            ]
          },
          "execution_count": 47,
          "metadata": {},
          "output_type": "execute_result"
        },
        {
          "data": {
            "image/png": "[encoded data removed]",
            "text/plain": [
              "<Figure size 558.875x500 with 1 Axes>"
            ]
          },
          "metadata": {},
          "output_type": "display_data"
        }
      ],
      "source": [
        "#sb.histplot(data=temp5['tfidf5_mean'])\n",
        "sb.displot(data=final_adasyn, x=\"tfidf5_mean\", y='file_count', hue=\"label\", kind='kde')"
      ]
    },
    {
      "cell_type": "code",
      "execution_count": 48,
      "metadata": {},
      "outputs": [
        {
          "name": "stdout",
          "output_type": "stream",
          "text": [
            "Logistic Regression Accuracy: 0.9671760045274477\n",
            "Logistic Regression Recall: 0.0\n"
          ]
        }
      ],
      "source": [
        "X_train, X_test, y_train, y_test = train_test_split(X, y, test_size=0.3)\n",
        "\n",
        "classifier = LogisticRegression(max_iter=1000)\n",
        "\n",
        "classifier.fit(X_train,y_train)\n",
        "\n",
        "predicted = classifier.predict(X_test)\n",
        "print(\"Logistic Regression Accuracy:\",metrics.accuracy_score(y_test, predicted))\n",
        "#print(\"Logistic Regression Precision:\",metrics.precision_score(y_test, predicted))\n",
        "print(\"Logistic Regression Recall:\",metrics.recall_score(y_test, predicted))"
      ]
    },
    {
      "cell_type": "code",
      "execution_count": 49,
      "metadata": {},
      "outputs": [
        {
          "name": "stdout",
          "output_type": "stream",
          "text": [
            "[[1709    0]\n",
            " [  58    0]]\n"
          ]
        }
      ],
      "source": [
        "cf_matrix = metrics.confusion_matrix(y_test,predicted)\n",
        "print(cf_matrix)"
      ]
    },
    {
      "cell_type": "code",
      "execution_count": 50,
      "metadata": {},
      "outputs": [],
      "source": [
        "X_train_under, X_test_under, y_train_under, y_test_under = train_test_split(X_final_under, y_final_under, test_size=0.3)"
      ]
    },
    {
      "cell_type": "code",
      "execution_count": 51,
      "metadata": {},
      "outputs": [
        {
          "name": "stdout",
          "output_type": "stream",
          "text": [
            "Logistic Regression Accuracy: 0.7017543859649122\n",
            "Logistic Regression Recall: 0.7049180327868853\n"
          ]
        }
      ],
      "source": [
        "classifier_under = LogisticRegression(max_iter=1000)\n",
        "\n",
        "classifier_under.fit(X_train_under, y_train_under)\n",
        "\n",
        "predicted_under = classifier_under.predict(X_test_under)\n",
        "print(\"Logistic Regression Accuracy:\",metrics.accuracy_score(y_test_under, predicted_under))\n",
        "#print(\"Logistic Regression Precision:\",metrics.precision_score(y_test, predicted))\n",
        "print(\"Logistic Regression Recall:\",metrics.recall_score(y_test_under, predicted_under))"
      ]
    },
    {
      "cell_type": "code",
      "execution_count": 52,
      "metadata": {},
      "outputs": [
        {
          "name": "stdout",
          "output_type": "stream",
          "text": [
            "[[37 16]\n",
            " [18 43]]\n"
          ]
        }
      ],
      "source": [
        "cf_matrix = metrics.confusion_matrix(y_test_under,predicted_under)\n",
        "print(cf_matrix)"
      ]
    },
    {
      "cell_type": "code",
      "execution_count": 54,
      "metadata": {},
      "outputs": [
        {
          "name": "stdout",
          "output_type": "stream",
          "text": [
            "Logistic Regression Accuracy: 0.7276\n",
            "Logistic Regression Recall: 0.7548387096774194\n"
          ]
        }
      ],
      "source": [
        "sample_under = final.sample(5000)\n",
        "X_under = sample_under.loc[:, sample_under.columns != 'label']\n",
        "y_under = sample_under['label']\n",
        "predicted_under = classifier_under.predict(X_under)\n",
        "print(\"Logistic Regression Accuracy:\",metrics.accuracy_score(y_under, predicted_under))\n",
        "print(\"Logistic Regression Recall:\",metrics.recall_score(y_under, predicted_under))"
      ]
    },
    {
      "cell_type": "code",
      "execution_count": 55,
      "metadata": {},
      "outputs": [
        {
          "name": "stdout",
          "output_type": "stream",
          "text": [
            "Logistic Regression Accuracy: 0.7736180169640245\n",
            "Logistic Regression Recall: 0.8147492625368732\n"
          ]
        }
      ],
      "source": [
        "X_train_over, X_test_over, y_train_over, y_test_over = train_test_split(X_final_over, y_final_over, test_size=0.3)\n",
        "\n",
        "\n",
        "classifier_over = LogisticRegression(max_iter=1000)\n",
        "\n",
        "classifier_over.fit(X_train_over, y_train_over)\n",
        "\n",
        "predicted_over = classifier_over.predict(X_test_over)\n",
        "print(\"Logistic Regression Accuracy:\",metrics.accuracy_score(y_test_over, predicted_over))\n",
        "#print(\"Logistic Regression Precision:\",metrics.precision_score(y_test, predicted))\n",
        "print(\"Logistic Regression Recall:\",metrics.recall_score(y_test_over, predicted_over))"
      ]
    },
    {
      "cell_type": "code",
      "execution_count": 56,
      "metadata": {},
      "outputs": [
        {
          "name": "stdout",
          "output_type": "stream",
          "text": [
            "[[1264  460]\n",
            " [ 314 1381]]\n"
          ]
        }
      ],
      "source": [
        "cf_matrix = metrics.confusion_matrix(y_test_over,predicted_over)\n",
        "print(cf_matrix)"
      ]
    },
    {
      "cell_type": "code",
      "execution_count": 58,
      "metadata": {},
      "outputs": [
        {
          "name": "stdout",
          "output_type": "stream",
          "text": [
            "Logistic Regression Accuracy: 0.7358\n",
            "Logistic Regression Recall: 0.8291139240506329\n"
          ]
        }
      ],
      "source": [
        "sample_over = final.sample(5000)\n",
        "X_over = sample_over.loc[:, sample_over.columns != 'label']\n",
        "y_over = sample_over['label']\n",
        "predicted_over = classifier_over.predict(X_over)\n",
        "print(\"Logistic Regression Accuracy:\",metrics.accuracy_score(y_over, predicted_over))\n",
        "print(\"Logistic Regression Recall:\",metrics.recall_score(y_over, predicted_over))"
      ]
    },
    {
      "cell_type": "code",
      "execution_count": 59,
      "metadata": {},
      "outputs": [
        {
          "name": "stdout",
          "output_type": "stream",
          "text": [
            "[[3548 1294]\n",
            " [  27  131]]\n"
          ]
        }
      ],
      "source": [
        "cf_matrix = metrics.confusion_matrix(y_over,predicted_over)\n",
        "print(cf_matrix)"
      ]
    },
    {
      "attachments": {},
      "cell_type": "markdown",
      "metadata": {},
      "source": [
        "# SMOTE Analysis with Logistic Regression"
      ]
    },
    {
      "cell_type": "code",
      "execution_count": 60,
      "metadata": {},
      "outputs": [],
      "source": [
        "X_train_smote, X_test_smote, y_train_smote, y_test_smote = train_test_split(X_final_smote, y_final_smote, test_size=0.3)"
      ]
    },
    {
      "cell_type": "code",
      "execution_count": 62,
      "metadata": {},
      "outputs": [
        {
          "name": "stdout",
          "output_type": "stream",
          "text": [
            "Logistic Regression Accuracy: 0.792044457443697\n",
            "Logistic Regression Recall: 0.8574807806031933\n",
            "[[1258  470]\n",
            " [ 241 1450]]\n",
            "Logistic Regression Accuracy: 0.7398\n",
            "Logistic Regression Recall: 0.7962962962962963\n",
            "[[3570 1268]\n",
            " [  33  129]]\n"
          ]
        }
      ],
      "source": [
        "classifier_smote = LogisticRegression(max_iter=1000)\n",
        "\n",
        "classifier_smote.fit(X_train_smote, y_train_smote)\n",
        "\n",
        "predicted_smote = classifier_smote.predict(X_test_smote)\n",
        "print(\"Logistic Regression Accuracy:\",metrics.accuracy_score(y_test_smote, predicted_smote))\n",
        "#print(\"Logistic Regression Precision:\",metrics.precision_score(y_test, predicted))\n",
        "print(\"Logistic Regression Recall:\",metrics.recall_score(y_test_smote, predicted_smote))\n",
        "\n",
        "cf_matrix = metrics.confusion_matrix(y_test_smote,predicted_smote)\n",
        "print(cf_matrix)\n",
        "\n",
        "sample_smote = final.sample(5000)\n",
        "X_smote = sample_smote.loc[:, sample_smote.columns != 'label']\n",
        "y_smote = sample_smote['label']\n",
        "predicted_smote = classifier_smote.predict(X_smote)\n",
        "print(\"Logistic Regression Accuracy:\",metrics.accuracy_score(y_smote, predicted_smote))\n",
        "print(\"Logistic Regression Recall:\",metrics.recall_score(y_smote, predicted_smote))\n",
        "\n",
        "cf_matrix = metrics.confusion_matrix(y_smote,predicted_smote)\n",
        "print(cf_matrix)\n"
      ]
    },
    {
      "cell_type": "code",
      "execution_count": null,
      "metadata": {},
      "outputs": [],
      "source": []
    },
    {
      "cell_type": "code",
      "execution_count": 189,
      "metadata": {},
      "outputs": [],
      "source": [
        "#df_person = final.loc[(final['username'] == 'JJM0203')]"
      ]
    },
    {
      "cell_type": "code",
      "execution_count": 190,
      "metadata": {},
      "outputs": [],
      "source": [
        "#df_badusers = final.loc[(final['label'] == 1)]"
      ]
    },
    {
      "cell_type": "code",
      "execution_count": 191,
      "metadata": {},
      "outputs": [],
      "source": [
        "#df_badusers"
      ]
    },
    {
      "cell_type": "code",
      "execution_count": 192,
      "metadata": {},
      "outputs": [],
      "source": [
        "# X = df_person[['login_count', 'logout_count', 'email_count', 'file_count', 'http_count']].copy()\n",
        "# y = df_person['label']"
      ]
    },
    {
      "cell_type": "code",
      "execution_count": 193,
      "metadata": {},
      "outputs": [],
      "source": [
        "X = final[['login_count', 'logout_count', 'email_count', 'file_count', 'http_count']].copy()\n",
        "y = final['label']"
      ]
    },
    {
      "cell_type": "code",
      "execution_count": 194,
      "metadata": {},
      "outputs": [],
      "source": [
        "#X = np.array(X).reshape(len(X), 1)"
      ]
    },
    {
      "cell_type": "code",
      "execution_count": 196,
      "metadata": {},
      "outputs": [],
      "source": [
        "cf_matrix = metrics.confusion_matrix(y_test,predicted)"
      ]
    }
  ],
  "metadata": {
    "accelerator": "TPU",
    "colab": {
      "include_colab_link": true,
      "provenance": []
    },
    "gpuClass": "standard",
    "kernelspec": {
      "display_name": "Python 3.9.15 ('praxis-clements')",
      "language": "python",
      "name": "python3"
    },
    "language_info": {
      "codemirror_mode": {
        "name": "ipython",
        "version": 3
      },
      "file_extension": ".py",
      "mimetype": "text/x-python",
      "name": "python",
      "nbconvert_exporter": "python",
      "pygments_lexer": "ipython3",
      "version": "3.9.16"
    },
    "orig_nbformat": 4,
    "vscode": {
      "interpreter": {
        "hash": "0e4ed65ac9cd06e325be5e4053efe5dbb28567580420031f65d0d231df994926"
      }
    }
  },
  "nbformat": 4,
  "nbformat_minor": 0
}
