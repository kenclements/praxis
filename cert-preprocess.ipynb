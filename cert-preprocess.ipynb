{
  "cells": [
    {
      "cell_type": "code",
      "execution_count": 1,
      "metadata": {
        "colab": {
          "base_uri": "https://localhost:8080/"
        },
        "id": "lN5-AcoypUan",
        "outputId": "27a0d132-984b-4db2-973c-c2482bbe5db1"
      },
      "outputs": [],
      "source": [
        "#!nvidia-smi"
      ]
    },
    {
      "cell_type": "code",
      "execution_count": 2,
      "metadata": {
        "colab": {
          "base_uri": "https://localhost:8080/"
        },
        "id": "sI_JO6jFrD7Z",
        "outputId": "54588cba-2cf6-4cf6-d06a-8c75d47e77d7"
      },
      "outputs": [],
      "source": [
        "# from google.colab import drive\n",
        "# drive.mount('/content/drive')"
      ]
    },
    {
      "attachments": {},
      "cell_type": "markdown",
      "metadata": {},
      "source": [
        "# Loading Libraries"
      ]
    },
    {
      "cell_type": "code",
      "execution_count": 1,
      "metadata": {
        "id": "SpDcPu8tmmK0"
      },
      "outputs": [
        {
          "name": "stderr",
          "output_type": "stream",
          "text": [
            "2023-04-11 18:59:26.464889: I tensorflow/core/platform/cpu_feature_guard.cc:193] This TensorFlow binary is optimized with oneAPI Deep Neural Network Library (oneDNN) to use the following CPU instructions in performance-critical operations:  SSE4.1 SSE4.2\n",
            "To enable them in other operations, rebuild TensorFlow with the appropriate compiler flags.\n"
          ]
        }
      ],
      "source": [
        "#data management tools\n",
        "import pandas as pd\n",
        "import numpy as np\n",
        "\n",
        "from imblearn.under_sampling import RandomUnderSampler\n",
        "from imblearn.over_sampling import RandomOverSampler\n",
        "from imblearn.over_sampling import SMOTE\n",
        "from imblearn.over_sampling import BorderlineSMOTE\n",
        "from imblearn.over_sampling import ADASYN\n",
        "\n",
        "import seaborn as sb\n",
        "import datetime\n",
        "\n",
        "# #Vectorization and Tokenizing\n",
        "from sklearn.feature_extraction.text import TfidfVectorizer, CountVectorizer\n",
        "from sklearn.preprocessing import MaxAbsScaler\n",
        "from sklearn.preprocessing import OneHotEncoder\n",
        "from sklearn.preprocessing import LabelEncoder\n",
        "from sklearn.preprocessing import StandardScaler\n",
        "from sklearn.decomposition import PCA\n",
        "from sklearn import decomposition\n",
        "from sklearn.pipeline import Pipeline\n",
        "from sklearn import utils\n",
        "\n",
        "import nltk\n",
        "from nltk.corpus import stopwords\n",
        "from nltk.tokenize import word_tokenize\n",
        "from nltk import pos_tag\n",
        "from nltk.stem import PorterStemmer\n",
        "from nltk.stem import LancasterStemmer\n",
        "\n",
        "# #DNN Modules\n",
        "# import torch\n",
        "# import tensorflow as tf\n",
        "# from tensorflow.keras import layers\n",
        "from tensorflow.keras.models import Sequential\n",
        "from tensorflow.keras.layers import LSTM, Dense\n",
        "# from tensorflow.keras.layers import InputLayer\n",
        "# from tensorflow.keras import losses\n",
        "# from tensorflow.keras.regularizers import L2\n",
        "# from tensorflow.keras.utils import plot_model\n",
        "# from tensorflow.keras.layers import TextVectorization\n",
        "\n",
        "# #Models\n",
        "from sklearn.ensemble import AdaBoostClassifier\n",
        "from sklearn.linear_model import LogisticRegression\n",
        "# from sklearn.naive_bayes import GaussianNB\n",
        "from sklearn.neighbors import KNeighborsClassifier\n",
        "from sklearn.ensemble import RandomForestClassifier\n",
        "from sklearn import svm\n",
        "from sklearn.svm import SVC  \n",
        "\n",
        "# #Metrics and Testing\n",
        "from sklearn.model_selection import train_test_split\n",
        "from sklearn import metrics\n",
        "from sklearn.metrics import confusion_matrix\n",
        "from sklearn.model_selection import GridSearchCV\n",
        "\n",
        "from gensim.models import Doc2Vec\n",
        "from gensim.models.doc2vec import TaggedDocument\n",
        "from tqdm import tqdm\n",
        "tqdm.pandas(desc=\"progress-bar\")\n",
        "\n",
        "import multiprocessing\n",
        "cores = multiprocessing.cpu_count()"
      ]
    },
    {
      "attachments": {},
      "cell_type": "markdown",
      "metadata": {},
      "source": [
        "# Dataloading and Preprocessing"
      ]
    },
    {
      "cell_type": "code",
      "execution_count": 2,
      "metadata": {
        "id": "oR_xocCCmmK3"
      },
      "outputs": [],
      "source": [
        "#My Lenovo\n",
        "#df1 = pd.read_csv('/Data/CERT/r4.2/logon.csv')\n",
        "#df2 = pd.read_csv('/Data/CERT/r4.2/device.csv')\n",
        "#df3 = pd.read_csv('/Data/CERT/r4.2/email.csv')\n",
        "#df4 = pd.read_csv('/Data/CERT/r4.2/file.csv')\n",
        "#df5 = pd.read_csv('/Data/CERT/r4.2/http.csv')\n",
        "#df6 = pd.read_csv('/Data/CERT/r4.2/psychometric.csv')\n",
        "\n",
        "#My MacBook\n",
        "df1 = pd.read_csv('/Users/ken.clements/code/praxis/CERT42/logon.csv')\n",
        "df2 = pd.read_csv('/Users/ken.clements/code/praxis/CERT42/device.csv')\n",
        "df3 = pd.read_csv('/Users/ken.clements/code/praxis/CERT42/email.csv')\n",
        "df4 = pd.read_csv('/Users/ken.clements/code/praxis/CERT42/file.csv')\n",
        "df5 = pd.read_csv('/Users/ken.clements/code/praxis/CERT42/http.csv')\n",
        "ans = pd.read_csv('/Users/ken.clements/code/praxis/CERT42/answers/answers.csv')\n",
        "ldap = pd.read_csv('/Users/ken.clements/code/praxis/CERT42/ldap/2009-12.csv')\n",
        "#df6 = pd.read_csv('/Users/ken.clements/code/praxis/CERT42/psychometric.csv')\n",
        "\n",
        "#Google Drive - Colab\n",
        "# df1 = pd.read_csv('/content/drive/MyDrive/Praxis/data/CERT42/logon.csv')\n",
        "# df2 = pd.read_csv('/content/drive/MyDrive/Praxis/data/CERT42/device.csv')\n",
        "# df3 = pd.read_csv('/content/drive/MyDrive/Praxis/data/CERT42/http.csv')\n",
        "# df4 = pd.read_csv('/content/drive/MyDrive/Praxis/data/CERT42/email.csv')\n",
        "# df5 = pd.read_csv('/content/drive/MyDrive/Praxis/data/CERT42/file.csv')\n",
        "# df6 = pd.read_csv('/content/drive/MyDrive/Praxis/data/CERT42/psychometric.csv')"
      ]
    },
    {
      "cell_type": "code",
      "execution_count": 3,
      "metadata": {},
      "outputs": [],
      "source": [
        "START = datetime.date(2010,11,1)\n",
        "END = datetime.date(2010,11, 30)"
      ]
    },
    {
      "cell_type": "code",
      "execution_count": 4,
      "metadata": {},
      "outputs": [],
      "source": [
        "df1['date'] = pd.to_datetime(df1['date'])\n",
        "df2['date'] = pd.to_datetime(df2['date'])\n",
        "df3['date'] = pd.to_datetime(df3['date'])\n",
        "df4['date'] = pd.to_datetime(df4['date'])\n",
        "df5['date'] = pd.to_datetime(df5['date'])\n",
        "\n",
        "df1['day_date'] = pd.to_datetime(df1['date']).dt.date\n",
        "df2['day_date'] = pd.to_datetime(df2['date']).dt.date\n",
        "df3['day_date'] = pd.to_datetime(df3['date']).dt.date\n",
        "df4['day_date'] = pd.to_datetime(df4['date']).dt.date\n",
        "df5['day_date'] = pd.to_datetime(df5['date']).dt.date"
      ]
    },
    {
      "cell_type": "code",
      "execution_count": 5,
      "metadata": {},
      "outputs": [],
      "source": [
        "df3['activity'] = \"email\"\n",
        "df4['activity'] = \"file\"\n",
        "df5['activity'] = \"http\""
      ]
    },
    {
      "cell_type": "code",
      "execution_count": 6,
      "metadata": {},
      "outputs": [],
      "source": [
        "df1_bs = df1[((df1['day_date'] >= START) & (df1['day_date'] <= END))]\n",
        "df2_bs = df2[((df2['day_date'] >= START) & (df2['day_date'] <= END))]\n",
        "df3_bs = df3[((df3['day_date'] >= START) & (df3['day_date'] <= END))]\n",
        "df4_bs = df4[((df4['day_date'] >= START) & (df4['day_date'] <= END))]\n",
        "df5_bs = df5[((df5['day_date'] >= START) & (df5['day_date'] <= END))]"
      ]
    },
    {
      "attachments": {},
      "cell_type": "markdown",
      "metadata": {},
      "source": [
        "# Stemming Lemmatizing Stopwords Lowercase and Tokenized"
      ]
    },
    {
      "cell_type": "code",
      "execution_count": 9,
      "metadata": {},
      "outputs": [
        {
          "name": "stderr",
          "output_type": "stream",
          "text": [
            "[nltk_data] Downloading package averaged_perceptron_tagger to\n",
            "[nltk_data]     /Users/ken.clements/nltk_data...\n",
            "[nltk_data]   Package averaged_perceptron_tagger is already up-to-\n",
            "[nltk_data]       date!\n",
            "[nltk_data] Downloading package wordnet to\n",
            "[nltk_data]     /Users/ken.clements/nltk_data...\n",
            "[nltk_data]   Package wordnet is already up-to-date!\n",
            "[nltk_data] Downloading package omw-1.4 to\n",
            "[nltk_data]     /Users/ken.clements/nltk_data...\n",
            "[nltk_data]   Package omw-1.4 is already up-to-date!\n"
          ]
        }
      ],
      "source": [
        "nltk.download('averaged_perceptron_tagger')\n",
        "nltk.download('wordnet')\n",
        "nltk.download('omw-1.4')\n",
        "def prepare_text(pretext):\n",
        "\n",
        "    # tokenize mission.\n",
        "    tokens = word_tokenize(pretext, language=\"english\", preserve_line=True)\n",
        "\n",
        "    # Parts of speech (POS) tag tokens.\n",
        "    #token_tag = pos_tag(tokens)\n",
        "    \n",
        "    # Only include some of the POS tags.\n",
        "    #include_tags = ['VBN', 'VBD', 'JJ', 'JJS', 'JJR', 'CD', 'NN', 'NNS', 'NNP', 'NNPS']\n",
        "    #filtered_tokens = (tok for tok, tag in token_tag if tag in include_tags)    \n",
        "    \n",
        "    #stem words.\n",
        "    #stemmed_tokens = (lancaster.stem(tok) for tok in filtered_tokens)\n",
        "\n",
        "    #lemm words.\n",
        "    #lemmed_words = (lemmatizer.lemmatize(tok) for tok in stemmed_tokens)\n",
        "\n",
        "    #lower_words = [str.lower(tok) for tok in lemmed_words]\n",
        "    #lower_words = [str.lower(tok) for tok in lemmed_words]\n",
        "\n",
        "    #x = cv.fit_transform(tokens).toarray()\n",
        "\n",
        "    #joined = \", \".join(lower_words)\n",
        "\n",
        "    return(tokens)\n",
        "\n",
        "#ps = PorterStemmer()\n",
        "lancaster = LancasterStemmer()\n",
        "lemmatizer = nltk.stem.WordNetLemmatizer()"
      ]
    },
    {
      "cell_type": "code",
      "execution_count": 10,
      "metadata": {},
      "outputs": [
        {
          "name": "stderr",
          "output_type": "stream",
          "text": [
            "/var/folders/p4/svf85_b50jvfz4dvm3yf5h0c0000gq/T/ipykernel_2528/614576161.py:1: SettingWithCopyWarning: \n",
            "A value is trying to be set on a copy of a slice from a DataFrame.\n",
            "Try using .loc[row_indexer,col_indexer] = value instead\n",
            "\n",
            "See the caveats in the documentation: https://pandas.pydata.org/pandas-docs/stable/user_guide/indexing.html#returning-a-view-versus-a-copy\n",
            "  df3_bs['df3tokenized'] = df3_bs['content'].apply(prepare_text)\n",
            "/var/folders/p4/svf85_b50jvfz4dvm3yf5h0c0000gq/T/ipykernel_2528/614576161.py:2: SettingWithCopyWarning: \n",
            "A value is trying to be set on a copy of a slice from a DataFrame.\n",
            "Try using .loc[row_indexer,col_indexer] = value instead\n",
            "\n",
            "See the caveats in the documentation: https://pandas.pydata.org/pandas-docs/stable/user_guide/indexing.html#returning-a-view-versus-a-copy\n",
            "  df4_bs['df4tokenized'] = df4_bs['content'].apply(prepare_text)\n",
            "/var/folders/p4/svf85_b50jvfz4dvm3yf5h0c0000gq/T/ipykernel_2528/614576161.py:3: SettingWithCopyWarning: \n",
            "A value is trying to be set on a copy of a slice from a DataFrame.\n",
            "Try using .loc[row_indexer,col_indexer] = value instead\n",
            "\n",
            "See the caveats in the documentation: https://pandas.pydata.org/pandas-docs/stable/user_guide/indexing.html#returning-a-view-versus-a-copy\n",
            "  df5_bs['df5tokenized'] = df5_bs['content'].apply(prepare_text)\n"
          ]
        }
      ],
      "source": [
        "df3_bs['df3tokenized'] = df3_bs['content'].apply(prepare_text)\n",
        "df4_bs['df4tokenized'] = df4_bs['content'].apply(prepare_text)\n",
        "df5_bs['df5tokenized'] = df5_bs['content'].apply(prepare_text)"
      ]
    },
    {
      "attachments": {},
      "cell_type": "markdown",
      "metadata": {},
      "source": [
        "# TFIDF"
      ]
    },
    {
      "cell_type": "code",
      "execution_count": 11,
      "metadata": {},
      "outputs": [],
      "source": [
        "# nltk.download('stopwords')\n",
        "# stops = set(stopwords.words('english'))\n",
        "# tfidfvectorizer = TfidfVectorizer(stop_words='english', analyzer='word' )"
      ]
    },
    {
      "cell_type": "code",
      "execution_count": 12,
      "metadata": {},
      "outputs": [],
      "source": [
        "# tfidf_df3 = tfidfvectorizer.fit_transform(df3_bs['df3tokenized'])\n",
        "# df3_bs['df3tfidf_mean'] = ((tfidf_df3.sum(axis=1).transpose()) / (tfidf_df3.getnnz(axis=1))).transpose()\n",
        "# df3_bs['df3tfidf_max'] = tfidf_df3.max()"
      ]
    },
    {
      "cell_type": "code",
      "execution_count": 13,
      "metadata": {},
      "outputs": [],
      "source": [
        "# tfidf_df4 = tfidfvectorizer.fit_transform(df4_bs['df4tokenized'])\n",
        "# df4_bs['df4tfidf_mean'] = ((tfidf_df4.sum(axis=1).transpose()) / (tfidf_df4.getnnz(axis=1))).transpose()\n",
        "# df4_bs['df4tfidf_max'] = tfidf_df4.max()"
      ]
    },
    {
      "cell_type": "code",
      "execution_count": 14,
      "metadata": {},
      "outputs": [],
      "source": [
        "# tfidf_df5 = tfidfvectorizer.fit_transform(df5_bs['df5tokenized'])\n",
        "# df5_bs['df5tfidf_mean'] = ((tfidf_df5.sum(axis=1).transpose()) / (tfidf_df5.getnnz(axis=1))).transpose()\n",
        "# #df5_bs['df5tfidf_max'] = tfidf_df5.max()"
      ]
    },
    {
      "attachments": {},
      "cell_type": "markdown",
      "metadata": {},
      "source": [
        "# Aggregate all data"
      ]
    },
    {
      "cell_type": "code",
      "execution_count": 15,
      "metadata": {
        "id": "To-v9XnyVOfW",
        "outputId": "cbae14cf-3cba-4120-e07f-c1a958848557"
      },
      "outputs": [],
      "source": [
        "df_merged = pd.concat([df1_bs, df2_bs, df3_bs, df4_bs, df5_bs])"
      ]
    },
    {
      "cell_type": "code",
      "execution_count": 16,
      "metadata": {},
      "outputs": [],
      "source": [
        "df_merged['label'] = 'normal'"
      ]
    },
    {
      "cell_type": "code",
      "execution_count": 17,
      "metadata": {},
      "outputs": [],
      "source": [
        "df_merged.loc[df_merged['id'].isin(ans['id']),['label']] = 'bad'"
      ]
    },
    {
      "cell_type": "code",
      "execution_count": 18,
      "metadata": {},
      "outputs": [],
      "source": [
        "dates = df_merged['day_date']\n",
        "dates = dates.unique()"
      ]
    },
    {
      "cell_type": "code",
      "execution_count": 19,
      "metadata": {},
      "outputs": [],
      "source": [
        "df_merged['df3tokenized'].fillna('', inplace=True)\n",
        "df_merged['df4tokenized'].fillna('', inplace=True)\n",
        "df_merged['df5tokenized'].fillna('', inplace=True)"
      ]
    },
    {
      "cell_type": "code",
      "execution_count": 20,
      "metadata": {},
      "outputs": [],
      "source": [
        "dfwow = []\n",
        "for d in dates:\n",
        "    dayevents = df_merged.loc[(df_merged['day_date'] == d)]\n",
        "    users = dayevents['user']\n",
        "    users = users.unique()\n",
        "    email_text = \" \"\n",
        "    file_text = \" \"\n",
        "    http_text = \" \"\n",
        "    for u in users:\n",
        "        userd = dayevents[(dayevents['user'] == u)]\n",
        "        date = d\n",
        "        username = u\n",
        "        login_count = userd[userd['activity'] == 'Logon'].shape[0]\n",
        "        logout_count = userd[userd['activity'] == 'Logoff'].shape[0]\n",
        "        email_count = userd[userd['activity'] == 'email'].shape[0]\n",
        "        file_count = userd[userd['activity'] == 'file'].shape[0]\n",
        "        http_count = userd[userd['activity'] == 'http'].shape[0]\n",
        "        start_time = userd['date'].iloc[0]\n",
        "        end_time = userd['date'].iloc[-1]\n",
        "        # tfidf3_mean = userd['df3tfidf_mean'].mean()\n",
        "        # tfidf4_mean = userd['df4tfidf_mean'].mean()\n",
        "        # tfidf5_mean = userd['df5tfidf_mean'].mean()\n",
        "        email_text_temp = userd['df3tokenized'].to_list()\n",
        "        email_text = [i for s in email_text_temp for i in s]\n",
        "        file_text_temp = userd['df4tokenized'].to_list()\n",
        "        file_text = [i for s in file_text_temp for i in s]\n",
        "        http_text_temp = userd['df5tokenized'].to_list()\n",
        "        http_text = [i for s in http_text_temp for i in s]\n",
        "        text = email_text + file_text + http_text \n",
        "        if (userd[(userd['label'] == 'bad')].shape[0] > 0): label = 'bad'\n",
        "        else: label = 'normal'\n",
        "        dfwow.append([date, username, login_count, logout_count, email_count, file_count, http_count, start_time, end_time, email_text, file_text, http_text, text, label])"
      ]
    },
    {
      "cell_type": "code",
      "execution_count": 21,
      "metadata": {},
      "outputs": [],
      "source": [
        "final = pd.DataFrame(dfwow, columns=['date', 'username', 'login_count', 'logout_count', 'email_count', 'file_count', 'http_count', 'start_time', 'end_time', 'email_text','file_text', 'http_text', 'text', 'label'])"
      ]
    },
    {
      "cell_type": "code",
      "execution_count": 22,
      "metadata": {},
      "outputs": [],
      "source": [
        "final['start_secs'] = final['start_time'].apply(lambda s: (s - s.replace(hour=0, minute=0, second=0, microsecond=0)).seconds)\n",
        "final['end_secs'] = final['end_time'].apply(lambda s: (s - s.replace(hour=0, minute=0, second=0, microsecond=0)).seconds)"
      ]
    },
    {
      "cell_type": "code",
      "execution_count": 23,
      "metadata": {},
      "outputs": [],
      "source": [
        "tagged = final.apply(lambda r: TaggedDocument(words=r['text'], tags=r['username']), axis=1)\n",
        "# tagged3 = final.apply(lambda r: TaggedDocument(words=r['email_text'], tags=r['username']), axis=1)\n",
        "# tagged4 = final.apply(lambda r: TaggedDocument(words=r['file_text'], tags=r['username']), axis=1)\n",
        "# tagged5 = final.apply(lambda r: TaggedDocument(words=r['http_text'], tags=r['username']), axis=1)"
      ]
    },
    {
      "cell_type": "code",
      "execution_count": 24,
      "metadata": {},
      "outputs": [],
      "source": [
        "model_dbow = Doc2Vec(dm=0, vector_size=20, negative=10, hs=0, min_count=0, sample = 0, workers=cores)"
      ]
    },
    {
      "cell_type": "code",
      "execution_count": 25,
      "metadata": {},
      "outputs": [
        {
          "name": "stderr",
          "output_type": "stream",
          "text": [
            "100%|██████████| 18772/18772 [00:00<00:00, 3747702.16it/s]\n"
          ]
        }
      ],
      "source": [
        "model_dbow.build_vocab([x for x in tqdm(tagged.values)])"
      ]
    },
    {
      "cell_type": "code",
      "execution_count": 26,
      "metadata": {},
      "outputs": [
        {
          "name": "stderr",
          "output_type": "stream",
          "text": [
            "100%|██████████| 18772/18772 [00:00<00:00, 3813040.57it/s]\n",
            "100%|██████████| 18772/18772 [00:00<00:00, 4460175.31it/s]\n"
          ]
        }
      ],
      "source": [
        "for epoch in range(2):\n",
        "    model_dbow.train(utils.shuffle([x for x in tqdm(tagged.values)]), total_examples=len(tagged.values), epochs=1)\n",
        "    model_dbow.alpha -= 0.002\n",
        "    model_dbow.min_alpha = model_dbow.alpha"
      ]
    },
    {
      "cell_type": "code",
      "execution_count": 27,
      "metadata": {},
      "outputs": [],
      "source": [
        "def vec_for_learning(model, tagged_docs):\n",
        "    sents = tagged_docs.values\n",
        "    targets, regressors = zip(*[(doc.tags, model.infer_vector(doc.words)) for doc in sents])\n",
        "    return targets, regressors"
      ]
    },
    {
      "cell_type": "code",
      "execution_count": 28,
      "metadata": {},
      "outputs": [],
      "source": [
        "y, X = vec_for_learning(model_dbow, tagged)"
      ]
    },
    {
      "cell_type": "code",
      "execution_count": 29,
      "metadata": {},
      "outputs": [],
      "source": [
        "d2v_df = pd.DataFrame(X, columns=['dim1','dim2','dim3','dim4','dim5', 'dim6','dim7','dim8','dim9','dim10', 'dim11','dim12','dim13','dim14','dim15', 'dim16','dim17','dim18','dim19','dim20'])"
      ]
    },
    {
      "cell_type": "code",
      "execution_count": 30,
      "metadata": {},
      "outputs": [],
      "source": [
        "joined1_df = final.join(d2v_df)"
      ]
    },
    {
      "cell_type": "code",
      "execution_count": 31,
      "metadata": {},
      "outputs": [],
      "source": [
        "users = joined1_df['username']\n",
        "users = users.unique()"
      ]
    },
    {
      "cell_type": "code",
      "execution_count": 32,
      "metadata": {},
      "outputs": [],
      "source": [
        "individual_deltas = []\n",
        "for u in users:\n",
        "    lastlogincount=0\n",
        "    lastlogoutcount=0\n",
        "    lastemailcount=0\n",
        "    lastfilecount=0\n",
        "    lasthttpcount=0\n",
        "    laststartsecs=0\n",
        "    lastendsecs=0\n",
        "    lastdim1=0\n",
        "    lastdim2=0\n",
        "    lastdim3=0\n",
        "    lastdim4=0\n",
        "    lastdim5=0\n",
        "    lastdim6=0\n",
        "    lastdim7=0\n",
        "    lastdim8=0\n",
        "    lastdim9=0\n",
        "    lastdim10=0\n",
        "    lastdim11=0\n",
        "    lastdim12=0\n",
        "    lastdim13=0\n",
        "    lastdim14=0\n",
        "    lastdim15=0\n",
        "    lastdim16=0\n",
        "    lastdim17=0\n",
        "    lastdim18=0\n",
        "    lastdim19=0\n",
        "    lastdim20=0\n",
        "    userevents = joined1_df.loc[(joined1_df['username'] == u)]\n",
        "    for index, row in userevents.iterrows():\n",
        "        username = u\n",
        "        date = row['date']\n",
        "        individual_deltas.append([username, date, lastlogincount, lastlogoutcount, lastemailcount, lastfilecount, lasthttpcount, laststartsecs, lastendsecs, lastdim1, lastdim2, lastdim3, lastdim4, lastdim5, lastdim6, lastdim7, lastdim8, lastdim9, lastdim10, lastdim11, lastdim12, lastdim13, lastdim14, lastdim15, lastdim16, lastdim17, lastdim18, lastdim19, lastdim20])\n",
        "        lastlogincount = row['login_count']\n",
        "        lastlogoutcount = row['logout_count']\n",
        "        lastemailcount = row['email_count']\n",
        "        lastfilecount = row['file_count']\n",
        "        lasthttpcount = row['http_count']\n",
        "        laststartsecs = row['start_secs']\n",
        "        lastendsecs = row['end_secs']\n",
        "        lastdim1=row['dim1']\n",
        "        lastdim2=row['dim2']\n",
        "        lastdim3=row['dim3']\n",
        "        lastdim4=row['dim4']\n",
        "        lastdim5=row['dim5']\n",
        "        lastdim6=row['dim6']\n",
        "        lastdim7=row['dim7']\n",
        "        lastdim8=row['dim8']\n",
        "        lastdim9=row['dim9']\n",
        "        lastdim10=row['dim10']\n",
        "        lastdim11=row['dim11']\n",
        "        lastdim12=row['dim12']\n",
        "        lastdim13=row['dim13']\n",
        "        lastdim14=row['dim14']\n",
        "        lastdim15=row['dim15']\n",
        "        lastdim16=row['dim16']\n",
        "        lastdim17=row['dim17']\n",
        "        lastdim18=row['dim18']\n",
        "        lastdim19=row['dim19']\n",
        "        lastdim20=row['dim20']\n",
        "        "
      ]
    },
    {
      "cell_type": "code",
      "execution_count": 33,
      "metadata": {},
      "outputs": [],
      "source": [
        "individual_deltas_df = pd.DataFrame(individual_deltas, columns=['username', 'date', 'lastlogincount', 'lastlogoutcount', 'lastemailcount', 'lastfilecount', 'lasthttpcount', 'laststartsecs', 'lastendsecs', 'lastdim1', 'lastdim2', 'lastdim3', 'lastdim4', 'lastdim5', 'lastdim6', 'lastdim7', 'lastdim8', 'lastdim9', 'lastdim10', 'lastdim11', 'lastdim12', 'lastdim13', 'lastdim14', 'lastdim15', 'lastdim16', 'lastdim17', 'lastdim18', 'lastdim19', 'lastdim20'])"
      ]
    },
    {
      "cell_type": "code",
      "execution_count": 34,
      "metadata": {},
      "outputs": [],
      "source": [
        "final_individual_deltas_join_df = pd.merge(joined1_df, individual_deltas_df, on=['username', 'date'], how='left')"
      ]
    },
    {
      "cell_type": "code",
      "execution_count": 35,
      "metadata": {},
      "outputs": [],
      "source": [
        "ldap = ldap.rename(columns={'user_id': 'username'})"
      ]
    },
    {
      "cell_type": "code",
      "execution_count": 36,
      "metadata": {},
      "outputs": [],
      "source": [
        "joined_df = pd.merge(final_individual_deltas_join_df, ldap, on='username', how='left')"
      ]
    },
    {
      "cell_type": "code",
      "execution_count": 37,
      "metadata": {},
      "outputs": [],
      "source": [
        "label_encoder = LabelEncoder()"
      ]
    },
    {
      "cell_type": "code",
      "execution_count": 38,
      "metadata": {},
      "outputs": [],
      "source": [
        "joined_df['username'] = label_encoder.fit_transform(joined_df['username'])\n",
        "joined_df['department'] = label_encoder.fit_transform(joined_df['department'])"
      ]
    },
    {
      "cell_type": "code",
      "execution_count": 39,
      "metadata": {},
      "outputs": [],
      "source": [
        "depts = joined_df['department']\n",
        "depts = depts.unique()"
      ]
    },
    {
      "cell_type": "code",
      "execution_count": 40,
      "metadata": {},
      "outputs": [],
      "source": [
        "dept_means = []\n",
        "for d in depts:\n",
        "    dept_events = joined_df.loc[(joined_df['department'] == d)]\n",
        "    department = d\n",
        "    login_mean = dept_events['login_count'].mean()\n",
        "    logout_mean = dept_events['logout_count'].mean()\n",
        "    http_mean = dept_events['http_count'].mean()\n",
        "    file_mean = dept_events['file_count'].mean()\n",
        "    email_mean = dept_events['logout_count'].mean()\n",
        "    start_mean = dept_events['start_secs'].mean()\n",
        "    end_mean = dept_events['end_secs'].mean()\n",
        "    dept_means.append([department, login_mean, logout_mean, email_mean, file_mean, http_mean, start_mean, end_mean])"
      ]
    },
    {
      "cell_type": "code",
      "execution_count": 41,
      "metadata": {},
      "outputs": [],
      "source": [
        "dept_events_df = pd.DataFrame(dept_means, columns=['department', 'login_mean', 'logout_mean', 'email_mean', 'file_mean', 'http_mean', 'start_mean', 'end_mean'])"
      ]
    },
    {
      "cell_type": "code",
      "execution_count": 42,
      "metadata": {},
      "outputs": [],
      "source": [
        "last_joined_df = pd.merge(joined_df, dept_events_df, on='department', how='left')"
      ]
    },
    {
      "cell_type": "code",
      "execution_count": 43,
      "metadata": {},
      "outputs": [],
      "source": [
        "matrix_delta = last_joined_df.loc[:, ['lastdim1','lastdim2','lastdim3','lastdim4','lastdim5','lastdim6','lastdim7','lastdim8','lastdim9','lastdim10','lastdim11','lastdim12','lastdim13','lastdim14', 'lastdim15', 'lastdim16','lastdim17','lastdim18','lastdim19','lastdim20']]\n",
        "matrix_delta.rename(columns = {'lastdim1':'dim1','lastdim2':'dim2','lastdim3':'dim3','lastdim4':'dim4','lastdim5':'dim5','lastdim6':'dim6','lastdim7':'dim7','lastdim8':'dim8','lastdim9':'dim9','lastdim10':'dim10','lastdim11':'dim11','lastdim12':'dim12','lastdim13':'dim13','lastdim14':'dim14', 'lastdim15':'dim15', 'lastdim16':'dim16','lastdim17':'dim17','lastdim18':'dim18','lastdim19':'dim19','lastdim20':'dim20'}, inplace = True)"
      ]
    },
    {
      "cell_type": "code",
      "execution_count": 44,
      "metadata": {},
      "outputs": [],
      "source": [
        "matrix_original = last_joined_df.loc[:, ['dim1','dim2','dim3','dim4','dim5','dim6','dim7','dim8','dim9','dim10','dim11','dim12','dim13','dim14', 'dim15', 'dim16','dim17','dim18','dim19','dim20']]"
      ]
    },
    {
      "cell_type": "code",
      "execution_count": 45,
      "metadata": {},
      "outputs": [],
      "source": [
        "def Euclidean_Dist(df1, df2, cols=['dim1','dim2','dim3','dim4','dim5','dim6','dim7','dim8','dim9','dim10','dim11','dim12','dim13','dim14','dim15','dim16','dim17','dim18','dim19','dim20']):\n",
        "    return np.linalg.norm(df1[cols].values - df2[cols].values, axis=1)"
      ]
    },
    {
      "cell_type": "code",
      "execution_count": 46,
      "metadata": {},
      "outputs": [],
      "source": [
        "text_dist = Euclidean_Dist(matrix_original, matrix_delta)"
      ]
    },
    {
      "cell_type": "code",
      "execution_count": 47,
      "metadata": {},
      "outputs": [],
      "source": [
        "last_joined_df['text_distance'] = text_dist.tolist()"
      ]
    },
    {
      "cell_type": "code",
      "execution_count": 48,
      "metadata": {},
      "outputs": [],
      "source": [
        "last_joined_df['login_delta'] = (last_joined_df['login_count'] - last_joined_df['login_mean'])\n",
        "last_joined_df['logout_delta'] = (last_joined_df['logout_count'] - last_joined_df['logout_mean'])\n",
        "last_joined_df['email_delta'] = (last_joined_df['email_count'] - last_joined_df['email_mean'])\n",
        "last_joined_df['file_delta'] = (last_joined_df['file_count'] - last_joined_df['file_mean'])\n",
        "last_joined_df['http_delta'] = (last_joined_df['http_count'] - last_joined_df['http_mean'])\n",
        "last_joined_df['start_delta'] = (last_joined_df['start_secs'] - last_joined_df['start_mean'])\n",
        "last_joined_df['end_delta'] = (last_joined_df['end_secs'] - last_joined_df['end_mean'])"
      ]
    },
    {
      "cell_type": "code",
      "execution_count": 49,
      "metadata": {},
      "outputs": [],
      "source": [
        "last_joined_df['ind_login_delta'] = (last_joined_df['login_count'] - last_joined_df['lastlogincount'])\n",
        "last_joined_df['ind_logout_delta'] = (last_joined_df['logout_count'] - last_joined_df['lastlogoutcount'])\n",
        "last_joined_df['ind_email_delta'] = (last_joined_df['email_count'] - last_joined_df['lastemailcount'])\n",
        "last_joined_df['ind_file_delta'] = (last_joined_df['login_count'] - last_joined_df['lastfilecount'])\n",
        "last_joined_df['ind_http_delta'] = (last_joined_df['login_count'] - last_joined_df['lasthttpcount'])\n",
        "last_joined_df['ind_start_secs_delta'] = (last_joined_df['start_secs'] - last_joined_df['laststartsecs'])\n",
        "last_joined_df['ind_end_secs_delta'] = (last_joined_df['end_secs'] - last_joined_df['lastendsecs'])\n"
      ]
    },
    {
      "cell_type": "code",
      "execution_count": 50,
      "metadata": {},
      "outputs": [],
      "source": [
        "users = last_joined_df['username']\n",
        "users = users.unique()"
      ]
    },
    {
      "cell_type": "code",
      "execution_count": 51,
      "metadata": {},
      "outputs": [],
      "source": [
        "for u in users:\n",
        "    userIndex = last_joined_df[(last_joined_df['username'] == u)].first_valid_index()\n",
        "    last_joined_df.drop(userIndex , inplace=True)"
      ]
    },
    {
      "cell_type": "code",
      "execution_count": 52,
      "metadata": {},
      "outputs": [],
      "source": [
        "last_joined_df.loc[last_joined_df['label'] == 'normal', 'label'] = 0"
      ]
    },
    {
      "cell_type": "code",
      "execution_count": 53,
      "metadata": {},
      "outputs": [],
      "source": [
        "last_joined_df.loc[last_joined_df['label'] == 'bad', 'label'] = 1"
      ]
    },
    {
      "cell_type": "code",
      "execution_count": 54,
      "metadata": {},
      "outputs": [],
      "source": [
        "last_joined_df['label'] = last_joined_df['label'].astype('int64')"
      ]
    },
    {
      "attachments": {},
      "cell_type": "markdown",
      "metadata": {},
      "source": [
        "# Sampling Methods"
      ]
    },
    {
      "cell_type": "code",
      "execution_count": 55,
      "metadata": {},
      "outputs": [
        {
          "data": {
            "text/plain": [
              "<Axes: xlabel='label', ylabel='count'>"
            ]
          },
          "execution_count": 55,
          "metadata": {},
          "output_type": "execute_result"
        },
        {
          "data": {
            "image/png": "[encoded data removed]",
            "text/plain": [
              "<Figure size 640x480 with 1 Axes>"
            ]
          },
          "metadata": {},
          "output_type": "display_data"
        }
      ],
      "source": [
        "sb.countplot(data=last_joined_df, x='label')"
      ]
    },
    {
      "cell_type": "code",
      "execution_count": 56,
      "metadata": {},
      "outputs": [
        {
          "data": {
            "text/plain": [
              "Index(['date', 'username', 'login_count', 'logout_count', 'email_count',\n",
              "       'file_count', 'http_count', 'start_time', 'end_time', 'email_text',\n",
              "       'file_text', 'http_text', 'text', 'label', 'start_secs', 'end_secs',\n",
              "       'dim1', 'dim2', 'dim3', 'dim4', 'dim5', 'dim6', 'dim7', 'dim8', 'dim9',\n",
              "       'dim10', 'dim11', 'dim12', 'dim13', 'dim14', 'dim15', 'dim16', 'dim17',\n",
              "       'dim18', 'dim19', 'dim20', 'lastlogincount', 'lastlogoutcount',\n",
              "       'lastemailcount', 'lastfilecount', 'lasthttpcount', 'laststartsecs',\n",
              "       'lastendsecs', 'lastdim1', 'lastdim2', 'lastdim3', 'lastdim4',\n",
              "       'lastdim5', 'lastdim6', 'lastdim7', 'lastdim8', 'lastdim9', 'lastdim10',\n",
              "       'lastdim11', 'lastdim12', 'lastdim13', 'lastdim14', 'lastdim15',\n",
              "       'lastdim16', 'lastdim17', 'lastdim18', 'lastdim19', 'lastdim20',\n",
              "       'employee_name', 'email', 'role', 'business_unit', 'functional_unit',\n",
              "       'department', 'team', 'supervisor', 'login_mean', 'logout_mean',\n",
              "       'email_mean', 'file_mean', 'http_mean', 'start_mean', 'end_mean',\n",
              "       'text_distance', 'login_delta', 'logout_delta', 'email_delta',\n",
              "       'file_delta', 'http_delta', 'start_delta', 'end_delta',\n",
              "       'ind_login_delta', 'ind_logout_delta', 'ind_email_delta',\n",
              "       'ind_file_delta', 'ind_http_delta', 'ind_start_secs_delta',\n",
              "       'ind_end_secs_delta'],\n",
              "      dtype='object')"
            ]
          },
          "execution_count": 56,
          "metadata": {},
          "output_type": "execute_result"
        }
      ],
      "source": [
        "last_joined_df.columns"
      ]
    },
    {
      "cell_type": "code",
      "execution_count": 57,
      "metadata": {},
      "outputs": [],
      "source": [
        "X = last_joined_df.loc[:, ['login_count', 'logout_count', 'email_count',\n",
        "       'file_count', 'http_count', 'start_secs', 'end_secs',\n",
        "       'dim1', 'dim2', 'dim3', 'dim4', 'dim5', 'dim6', 'dim7', 'dim8', 'dim9',\n",
        "       'dim10', 'dim11', 'dim12', 'dim13', 'dim14', 'dim15', 'dim16', 'dim17',\n",
        "       'dim18', 'dim19', 'dim20', 'text_distance', 'login_delta', 'logout_delta', 'email_delta',\n",
        "       'file_delta', 'http_delta', 'start_delta', 'end_delta',\n",
        "       'ind_login_delta', 'ind_logout_delta', 'ind_email_delta',\n",
        "       'ind_file_delta', 'ind_http_delta', 'ind_start_secs_delta',\n",
        "       'ind_end_secs_delta']]"
      ]
    },
    {
      "cell_type": "code",
      "execution_count": 58,
      "metadata": {},
      "outputs": [],
      "source": [
        "# X = last_joined_df.loc[:, ['login_count', 'logout_count', 'email_count',\n",
        "#        'file_count', 'http_count', 'start_secs', 'end_secs',\n",
        "#        'dim1', 'dim2', 'dim3', 'dim4', 'dim5', 'dim6', 'dim7', 'dim8', 'dim9',\n",
        "#        'dim10', 'dim11', 'dim12', 'dim13', 'dim14', 'dim15', 'dim16', 'dim17',\n",
        "#        'dim18', 'dim19', 'dim20']]"
      ]
    },
    {
      "cell_type": "code",
      "execution_count": 59,
      "metadata": {},
      "outputs": [],
      "source": [
        "y = last_joined_df['label']"
      ]
    },
    {
      "cell_type": "code",
      "execution_count": 60,
      "metadata": {},
      "outputs": [],
      "source": [
        "sc = StandardScaler()\n",
        "# sc = MaxAbsScaler()"
      ]
    },
    {
      "cell_type": "code",
      "execution_count": 61,
      "metadata": {},
      "outputs": [],
      "source": [
        "X_train, X_test, y_train, y_test = train_test_split(X, y, test_size=0.3)"
      ]
    },
    {
      "cell_type": "code",
      "execution_count": 62,
      "metadata": {},
      "outputs": [],
      "source": [
        "X_train = X_train.reset_index()\n",
        "X_test = X_test.reset_index()\n",
        "y_train = y_train.reset_index()\n",
        "y_test = y_test.reset_index()"
      ]
    },
    {
      "cell_type": "code",
      "execution_count": 63,
      "metadata": {},
      "outputs": [],
      "source": [
        "X_train.drop(['index'], axis=1, inplace=True)\n",
        "X_test.drop(['index'], axis=1, inplace=True)\n",
        "\n",
        "y_train.drop(['index'], axis=1, inplace=True)\n",
        "y_test.drop(['index'], axis=1, inplace=True)"
      ]
    },
    {
      "cell_type": "code",
      "execution_count": 64,
      "metadata": {},
      "outputs": [],
      "source": [
        "X_train = sc.fit_transform(X_train)\n",
        "X_test = sc.fit_transform(X_test)"
      ]
    },
    {
      "cell_type": "code",
      "execution_count": 65,
      "metadata": {},
      "outputs": [],
      "source": [
        "# X_train = pd.DataFrame(X_train, columns=['login_delta', 'logout_delta', 'email_delta', 'file_delta',\n",
        "#        'http_delta', 'start_delta', 'end_delta', 'ind_login_delta',\n",
        "#        'ind_logout_delta', 'ind_email_delta', 'ind_file_delta',\n",
        "#        'ind_http_delta', 'ind_start_secs_delta', 'ind_end_secs_delta'])\n",
        "\n",
        "# X_test = pd.DataFrame(X_test, columns=['login_delta', 'logout_delta', 'email_delta', 'file_delta',\n",
        "#        'http_delta', 'start_delta', 'end_delta', 'ind_login_delta',\n",
        "#        'ind_logout_delta', 'ind_email_delta', 'ind_file_delta',\n",
        "#        'ind_http_delta', 'ind_start_secs_delta', 'ind_end_secs_delta'])\n",
        "\n",
        "X_train = pd.DataFrame(X_train, columns=[\n",
        "       'login_count', 'logout_count', 'email_count',\n",
        "       'file_count', 'http_count', 'start_secs', 'end_secs',\n",
        "       'dim1', 'dim2', 'dim3', 'dim4', 'dim5', 'dim6', 'dim7', 'dim8', 'dim9',\n",
        "       'dim10', 'dim11', 'dim12', 'dim13', 'dim14', 'dim15', 'dim16', 'dim17',\n",
        "       'dim18', 'dim19', 'dim20', 'text_distance', 'login_delta', 'logout_delta', 'email_delta',\n",
        "       'file_delta', 'http_delta', 'start_delta', 'end_delta',\n",
        "       'ind_login_delta', 'ind_logout_delta', 'ind_email_delta',\n",
        "       'ind_file_delta', 'ind_http_delta', 'ind_start_secs_delta',\n",
        "       'ind_end_secs_delta'])\n",
        "\n",
        "X_test = pd.DataFrame(X_test, columns=[\n",
        "       'login_count', 'logout_count', 'email_count',\n",
        "       'file_count', 'http_count', 'start_secs', 'end_secs',\n",
        "       'dim1', 'dim2', 'dim3', 'dim4', 'dim5', 'dim6', 'dim7', 'dim8', 'dim9',\n",
        "       'dim10', 'dim11', 'dim12', 'dim13', 'dim14', 'dim15', 'dim16', 'dim17',\n",
        "       'dim18', 'dim19', 'dim20', 'text_distance', 'login_delta', 'logout_delta', 'email_delta',\n",
        "       'file_delta', 'http_delta', 'start_delta', 'end_delta',\n",
        "       'ind_login_delta', 'ind_logout_delta', 'ind_email_delta',\n",
        "       'ind_file_delta', 'ind_http_delta', 'ind_start_secs_delta',\n",
        "       'ind_end_secs_delta'])\n",
        "\n",
        "# X_train = pd.DataFrame(X_train, columns=[\n",
        "#        'login_count', 'logout_count', 'email_count',\n",
        "#        'file_count', 'http_count', 'start_secs', 'end_secs',\n",
        "#        'dim1', 'dim2', 'dim3', 'dim4', 'dim5', 'dim6', 'dim7', 'dim8', 'dim9',\n",
        "#        'dim10', 'dim11', 'dim12', 'dim13', 'dim14', 'dim15', 'dim16', 'dim17',\n",
        "#        'dim18', 'dim19', 'dim20'])\n",
        "\n",
        "# X_test = pd.DataFrame(X_test, columns=[\n",
        "#        'login_count', 'logout_count', 'email_count',\n",
        "#        'file_count', 'http_count', 'start_secs', 'end_secs',\n",
        "#        'dim1', 'dim2', 'dim3', 'dim4', 'dim5', 'dim6', 'dim7', 'dim8', 'dim9',\n",
        "#        'dim10', 'dim11', 'dim12', 'dim13', 'dim14', 'dim15', 'dim16', 'dim17',\n",
        "#        'dim18', 'dim19', 'dim20'])\n"
      ]
    },
    {
      "cell_type": "code",
      "execution_count": 66,
      "metadata": {},
      "outputs": [],
      "source": [
        "final_undersample = RandomUnderSampler(sampling_strategy='majority')\n",
        "X_final_under, y_final_under = final_undersample.fit_resample(X_train, y_train)"
      ]
    },
    {
      "cell_type": "code",
      "execution_count": 67,
      "metadata": {},
      "outputs": [],
      "source": [
        "final_oversample = RandomOverSampler(sampling_strategy='minority')\n",
        "X_final_over, y_final_over = final_oversample.fit_resample(X_train, y_train)"
      ]
    },
    {
      "cell_type": "code",
      "execution_count": 68,
      "metadata": {},
      "outputs": [],
      "source": [
        "final_smote = SMOTE(k_neighbors=10)\n",
        "X_final_smote, y_final_smote = final_smote.fit_resample(X_train, y_train)"
      ]
    },
    {
      "cell_type": "code",
      "execution_count": 69,
      "metadata": {},
      "outputs": [],
      "source": [
        "final_blsmote = BorderlineSMOTE(k_neighbors=10)\n",
        "X_final_blsmote, y_final_blsmote = final_blsmote.fit_resample(X_train, y_train)"
      ]
    },
    {
      "cell_type": "code",
      "execution_count": 70,
      "metadata": {},
      "outputs": [],
      "source": [
        "final_adasyn = ADASYN(n_neighbors=10)\n",
        "X_final_adasyn, y_final_adasyn = final_adasyn.fit_resample(X_train, y_train)"
      ]
    },
    {
      "cell_type": "code",
      "execution_count": 71,
      "metadata": {},
      "outputs": [],
      "source": [
        "final_under = X_final_under.copy()\n",
        "final_over = X_final_over.copy()\n",
        "final_smote = X_final_smote.copy()\n",
        "final_blsmote = X_final_blsmote.copy()\n",
        "final_adasyn = X_final_adasyn.copy()"
      ]
    },
    {
      "cell_type": "code",
      "execution_count": 72,
      "metadata": {},
      "outputs": [],
      "source": [
        "final_under['label'] = y_final_under\n",
        "final_over['label'] = y_final_over\n",
        "final_smote['label'] = y_final_smote\n",
        "final_blsmote['label'] = y_final_blsmote\n",
        "final_adasyn['label'] = y_final_adasyn"
      ]
    },
    {
      "cell_type": "code",
      "execution_count": 73,
      "metadata": {},
      "outputs": [],
      "source": [
        "# sb.displot(data=final_adasyn, x=\"start_delta\", y='ind_start_secs_delta', hue=\"label\", kind='kde')"
      ]
    },
    {
      "cell_type": "code",
      "execution_count": 74,
      "metadata": {},
      "outputs": [],
      "source": [
        "# sb.pairplot(X)"
      ]
    },
    {
      "cell_type": "code",
      "execution_count": 76,
      "metadata": {},
      "outputs": [
        {
          "name": "stdout",
          "output_type": "stream",
          "text": [
            "LR best estimater:  LogisticRegression(C=10, max_iter=1000)\n",
            "LR Best parameters: {'C': 10, 'max_iter': 1000}\n"
          ]
        }
      ],
      "source": [
        "#C is the most meaningful - penalty would error out\n",
        "param_grid = {'C': [0.1,1, 10, 100], 'max_iter': [1000]}\n",
        "grid = GridSearchCV(LogisticRegression(),param_grid,refit=True,verbose=0,cv=10,scoring='recall', return_train_score=False)\n",
        "grid.fit(X_train,y_train.values.ravel())\n",
        "print(\"LR best estimater: \", grid.best_estimator_)\n",
        "print(\"LR Best parameters:\", grid.best_params_)\n"
      ]
    },
    {
      "cell_type": "code",
      "execution_count": 77,
      "metadata": {},
      "outputs": [
        {
          "name": "stdout",
          "output_type": "stream",
          "text": [
            "SVM best estimater:  SVC(C=100, gamma=0.01)\n",
            "SVM Best parameters: {'C': 100, 'gamma': 0.01, 'kernel': 'rbf'}\n"
          ]
        }
      ],
      "source": [
        "\n",
        "#linear failed to converge\n",
        "param_grid = {'C': [0.1,1, 10, 100], 'gamma': [1,0.1,0.01,0.001],'kernel': ['rbf', 'poly']}\n",
        "grid = GridSearchCV(SVC(),param_grid,refit=True,verbose=0, cv=10, scoring='recall', return_train_score=False)\n",
        "grid.fit(X_train,y_train.values.ravel())\n",
        "print(\"SVM best estimater: \", grid.best_estimator_)\n",
        "print(\"SVM Best parameters:\", grid.best_params_)\n"
      ]
    },
    {
      "cell_type": "code",
      "execution_count": 78,
      "metadata": {},
      "outputs": [
        {
          "name": "stdout",
          "output_type": "stream",
          "text": [
            "KNN best estimater:  KNeighborsClassifier(metric='manhattan', n_neighbors=1)\n",
            "KNN Best parameters: {'metric': 'manhattan', 'n_neighbors': 1, 'weights': 'uniform'}\n"
          ]
        }
      ],
      "source": [
        "\n",
        "param_grid = {'n_neighbors': list(range(1,21)), 'metric': ['euclidean', 'manhattan', 'minkowski'], 'weights': ['uniform', 'distance'] }\n",
        "grid = GridSearchCV(KNeighborsClassifier(),param_grid,refit=True,verbose=0,cv=10, scoring='recall', return_train_score=False)\n",
        "grid.fit(X_train,y_train.values.ravel())\n",
        "print(\"KNN best estimater: \", grid.best_estimator_)\n",
        "print(\"KNN Best parameters:\", grid.best_params_)\n"
      ]
    },
    {
      "cell_type": "code",
      "execution_count": 79,
      "metadata": {},
      "outputs": [
        {
          "name": "stdout",
          "output_type": "stream",
          "text": [
            "RF Best estimater: RandomForestClassifier(min_samples_split=10, n_estimators=10)\n",
            "RF Best parameters: {'max_depth': None, 'max_features': 'sqrt', 'min_samples_leaf': 1, 'min_samples_split': 10, 'n_estimators': 10}\n"
          ]
        }
      ],
      "source": [
        "\n",
        "param_grid = {\n",
        "    'n_estimators': [10, 50, 100],\n",
        "    'max_depth': [3, 5, None],\n",
        "    'max_features': ['sqrt', 'log2'],\n",
        "    'min_samples_split': [2, 5, 10],\n",
        "    'min_samples_leaf': [1, 2, 4]\n",
        "}\n",
        "grid = GridSearchCV(RandomForestClassifier(), param_grid,refit=True,verbose=0,cv=10, scoring='recall', return_train_score=False)\n",
        "grid.fit(X_train, y_train.values.ravel())\n",
        "print(\"RF Best estimater:\", grid.best_estimator_)\n",
        "print(\"RF Best parameters:\", grid.best_params_)\n"
      ]
    },
    {
      "cell_type": "code",
      "execution_count": 83,
      "metadata": {},
      "outputs": [
        {
          "name": "stdout",
          "output_type": "stream",
          "text": [
            "ADA Best estimater: AdaBoostClassifier(learning_rate=1, n_estimators=200)\n",
            "ADA Best parameters: {'learning_rate': 1, 'n_estimators': 200}\n"
          ]
        }
      ],
      "source": [
        "\n",
        "param_grid = {\n",
        "     'n_estimators': [100, 200, 300],\n",
        "     'learning_rate': [0.01, 0.05, 0.1, 1],\n",
        " }\n",
        "grid = GridSearchCV(AdaBoostClassifier(), param_grid,refit=True,verbose=0,cv=10, scoring='recall', return_train_score=False)\n",
        "grid.fit(X_train, y_train.values.ravel())\n",
        "print(\"ADA Best estimater:\", grid.best_estimator_)\n",
        "print(\"ADA Best parameters:\", grid.best_params_)"
      ]
    },
    {
      "cell_type": "code",
      "execution_count": 84,
      "metadata": {},
      "outputs": [],
      "source": [
        "lr = LogisticRegression(max_iter=1000, C=10)\n",
        "svm = SVC(kernel='poly', C=100, gamma=0.01)\n",
        "knn = KNeighborsClassifier(n_neighbors=1, metric='manhattan', weights='uniform')\n",
        "rf = RandomForestClassifier(max_depth=None, max_features='sqrt', min_samples_leaf = 1, min_samples_split = 10, n_estimators= 10, random_state=42)\n",
        "ada = AdaBoostClassifier(learning_rate = 1, n_estimators = 200)"
      ]
    },
    {
      "cell_type": "code",
      "execution_count": 85,
      "metadata": {},
      "outputs": [],
      "source": [
        "results_no_sample = []\n",
        "models = [lr, svm, knn, rf, ada]\n",
        "for m in models:\n",
        "    m.fit(X_train, y_train.values.ravel())\n",
        "    predicted = m.predict(X_test)\n",
        "    acc = metrics.accuracy_score(y_test, predicted)\n",
        "    rec = metrics.recall_score(y_test, predicted)\n",
        "    results_no_sample.append([acc, rec])\n"
      ]
    },
    {
      "cell_type": "code",
      "execution_count": 86,
      "metadata": {},
      "outputs": [
        {
          "name": "stderr",
          "output_type": "stream",
          "text": [
            "2023-04-11 23:12:23.865294: I tensorflow/core/platform/cpu_feature_guard.cc:193] This TensorFlow binary is optimized with oneAPI Deep Neural Network Library (oneDNN) to use the following CPU instructions in performance-critical operations:  SSE4.1 SSE4.2\n",
            "To enable them in other operations, rebuild TensorFlow with the appropriate compiler flags.\n"
          ]
        },
        {
          "name": "stdout",
          "output_type": "stream",
          "text": [
            "Epoch 1/10\n",
            "98/98 [==============================] - 60s 583ms/step - loss: 0.0690 - auc: 0.4795 - accuracy: 0.9891 - recall: 0.0312 - val_loss: 0.0333 - val_auc: 0.5000 - val_accuracy: 0.9948 - val_recall: 0.0000e+00\n",
            "Epoch 2/10\n",
            "98/98 [==============================] - 21s 215ms/step - loss: 0.0326 - auc: 0.5263 - accuracy: 0.9949 - recall: 0.0000e+00 - val_loss: 0.0329 - val_auc: 0.5000 - val_accuracy: 0.9948 - val_recall: 0.0000e+00\n",
            "Epoch 3/10\n",
            "98/98 [==============================] - 21s 213ms/step - loss: 0.0325 - auc: 0.5288 - accuracy: 0.9949 - recall: 0.0000e+00 - val_loss: 0.0327 - val_auc: 0.6002 - val_accuracy: 0.9948 - val_recall: 0.0000e+00\n",
            "Epoch 4/10\n",
            "98/98 [==============================] - 21s 212ms/step - loss: 0.0326 - auc: 0.5036 - accuracy: 0.9949 - recall: 0.0000e+00 - val_loss: 0.0325 - val_auc: 0.5842 - val_accuracy: 0.9948 - val_recall: 0.0000e+00\n",
            "Epoch 5/10\n",
            "98/98 [==============================] - 21s 210ms/step - loss: 0.0328 - auc: 0.5626 - accuracy: 0.9947 - recall: 0.0000e+00 - val_loss: 0.0332 - val_auc: 0.4824 - val_accuracy: 0.9948 - val_recall: 0.0000e+00\n",
            "Epoch 6/10\n",
            "98/98 [==============================] - 21s 210ms/step - loss: 0.0316 - auc: 0.5749 - accuracy: 0.9949 - recall: 0.0000e+00 - val_loss: 0.0327 - val_auc: 0.5691 - val_accuracy: 0.9948 - val_recall: 0.0000e+00\n",
            "Epoch 7/10\n",
            "98/98 [==============================] - 21s 211ms/step - loss: 0.0316 - auc: 0.6204 - accuracy: 0.9949 - recall: 0.0000e+00 - val_loss: 0.0335 - val_auc: 0.5092 - val_accuracy: 0.9948 - val_recall: 0.0000e+00\n",
            "Epoch 8/10\n",
            "98/98 [==============================] - 21s 210ms/step - loss: 0.0319 - auc: 0.5989 - accuracy: 0.9949 - recall: 0.0000e+00 - val_loss: 0.0329 - val_auc: 0.5865 - val_accuracy: 0.9948 - val_recall: 0.0000e+00\n",
            "Epoch 9/10\n",
            "98/98 [==============================] - 20s 209ms/step - loss: 0.0316 - auc: 0.6293 - accuracy: 0.9949 - recall: 0.0000e+00 - val_loss: 0.0330 - val_auc: 0.5728 - val_accuracy: 0.9948 - val_recall: 0.0000e+00\n",
            "Epoch 10/10\n",
            "98/98 [==============================] - 20s 209ms/step - loss: 0.0311 - auc: 0.6443 - accuracy: 0.9949 - recall: 0.0000e+00 - val_loss: 0.0333 - val_auc: 0.5414 - val_accuracy: 0.9948 - val_recall: 0.0000e+00\n",
            "168/168 [==============================] - 5s 25ms/step\n",
            "[[5329    0]\n",
            " [  28    0]]\n",
            "LSTM Accuracy: 0.9968265820421878\n",
            "LSTM Recall: 0.4642857142857143\n",
            "[[0.9947731939518387, 0.0], [0.9942131790181071, 0.14285714285714285], [0.9957065521747247, 0.39285714285714285], [0.9955198805301475, 0.14285714285714285], [0.9968265820421878, 0.4642857142857143]]\n"
          ]
        }
      ],
      "source": [
        "X_numpy_nosample = np.expand_dims(X_train.values[:,:],axis = 2)\n",
        "y_numpy_nosample = y_train.values[:]\n",
        "X_numpy_nosample_test = np.expand_dims(X_test.values[:,:],axis = 2)\n",
        "y_numpy_nosample_test = y_test.values[:]\n",
        "model = Sequential()\n",
        "model.add(LSTM(units=64, return_sequences=True, input_shape=(42, 1)))\n",
        "model.add(LSTM(units=128, return_sequences=True))\n",
        "model.add(LSTM(units=256, return_sequences=False))\n",
        "model.add(Dense(1, activation='sigmoid'))\n",
        "model.compile(loss='binary_crossentropy', optimizer='adam', metrics=['AUC', 'accuracy', 'Recall'])\n",
        "model.fit(X_numpy_nosample, y_numpy_nosample, epochs=10, batch_size=128, validation_data=(X_numpy_nosample_test, y_numpy_nosample_test))\n",
        "\n",
        "X_numpy = np.expand_dims(X_test.values[:],axis = 2)\n",
        "y_numpy = y_test.values[:]\n",
        "ypred = model.predict(X_numpy)\n",
        "predlabels = [int(p>=0.5) for p in ypred]\n",
        "cf_matrix = metrics.confusion_matrix(y_test,predlabels)\n",
        "print(cf_matrix)\n",
        "print(\"LSTM Accuracy:\", acc)\n",
        "print(\"LSTM Recall:\", rec)\n",
        "cf_matrix = metrics.confusion_matrix(y_test,predlabels)\n",
        "print(results_no_sample)"
      ]
    },
    {
      "attachments": {},
      "cell_type": "markdown",
      "metadata": {},
      "source": [
        "# Underfitting"
      ]
    },
    {
      "cell_type": "code",
      "execution_count": 87,
      "metadata": {},
      "outputs": [],
      "source": [
        "X_train_under, X_test_under, y_train_under, y_test_under = train_test_split(X_final_under, y_final_under, test_size=0.3)"
      ]
    },
    {
      "cell_type": "code",
      "execution_count": 88,
      "metadata": {},
      "outputs": [
        {
          "name": "stdout",
          "output_type": "stream",
          "text": [
            "LR best estimater:  LogisticRegression(C=0.1, max_iter=1000)\n",
            "LR Best parameters: {'C': 0.1, 'max_iter': 1000}\n"
          ]
        }
      ],
      "source": [
        "#C is the most meaningful - penalty had no impact and would error out\n",
        "param_grid = {'C': [0.1,1, 10, 100], 'max_iter': [1000]}\n",
        "grid = GridSearchCV(LogisticRegression(),param_grid,refit=True,verbose=0,cv=10,scoring='recall', return_train_score=False)\n",
        "grid.fit(X_train_under,y_train_under.values.ravel())\n",
        "print(\"LR best estimater: \", grid.best_estimator_)\n",
        "print(\"LR Best parameters:\", grid.best_params_)\n",
        "under_lr_best_est = grid.best_estimator_\n"
      ]
    },
    {
      "cell_type": "code",
      "execution_count": 89,
      "metadata": {},
      "outputs": [
        {
          "name": "stdout",
          "output_type": "stream",
          "text": [
            "SVM best estimater:  SVC(C=1, gamma=0.01)\n",
            "SVM Best parameters: {'C': 1, 'gamma': 0.01, 'kernel': 'rbf'}\n"
          ]
        }
      ],
      "source": [
        "\n",
        "#linear failed to converge \n",
        "param_grid = {'C': [0.1,1, 10, 100], 'gamma': [1,0.1,0.01,0.001],'kernel': ['rbf', 'poly']}\n",
        "grid = GridSearchCV(SVC(),param_grid,refit=True,verbose=0, cv=10, scoring='recall', return_train_score=False)\n",
        "grid.fit(X_train_under,y_train_under.values.ravel())\n",
        "print(\"SVM best estimater: \", grid.best_estimator_)\n",
        "print(\"SVM Best parameters:\", grid.best_params_)\n",
        "under_svm_best_est = grid.best_estimator_\n",
        "\n"
      ]
    },
    {
      "cell_type": "code",
      "execution_count": 90,
      "metadata": {},
      "outputs": [
        {
          "name": "stdout",
          "output_type": "stream",
          "text": [
            "KNN best estimater:  KNeighborsClassifier(metric='manhattan', n_neighbors=3)\n",
            "KNN Best parameters: {'metric': 'manhattan', 'n_neighbors': 3, 'weights': 'uniform'}\n"
          ]
        }
      ],
      "source": [
        "\n",
        "param_grid = {'n_neighbors': list(range(1,21)), 'metric': ['euclidean', 'manhattan', 'minkowski'], 'weights': ['uniform', 'distance'] }\n",
        "grid = GridSearchCV(KNeighborsClassifier(),param_grid,refit=True,verbose=0,cv=10, scoring='recall', return_train_score=False)\n",
        "grid.fit(X_train_under,y_train_under.values.ravel())\n",
        "print(\"KNN best estimater: \", grid.best_estimator_)\n",
        "print(\"KNN Best parameters:\", grid.best_params_)\n",
        "under_knn_best_est = grid.best_estimator_\n"
      ]
    },
    {
      "cell_type": "code",
      "execution_count": 91,
      "metadata": {},
      "outputs": [
        {
          "name": "stdout",
          "output_type": "stream",
          "text": [
            "RF Best estimater: RandomForestClassifier(min_samples_leaf=2, n_estimators=50)\n",
            "RF Best parameters: {'max_depth': None, 'max_features': 'sqrt', 'min_samples_leaf': 2, 'min_samples_split': 2, 'n_estimators': 50}\n"
          ]
        }
      ],
      "source": [
        "\n",
        "param_grid = {\n",
        "    'n_estimators': [10, 50, 100],\n",
        "    'max_depth': [3, 5, None],\n",
        "    'max_features': ['sqrt', 'log2'],\n",
        "    'min_samples_split': [2, 5, 10],\n",
        "    'min_samples_leaf': [1, 2, 4]\n",
        "}\n",
        "grid = GridSearchCV(RandomForestClassifier(), param_grid,refit=True,verbose=0,cv=10, scoring='recall', return_train_score=False)\n",
        "grid.fit(X_train_under, y_train_under.values.ravel())\n",
        "print(\"RF Best estimater:\", grid.best_estimator_)\n",
        "print(\"RF Best parameters:\", grid.best_params_)\n",
        "under_rf_best_est = grid.best_estimator_\n",
        "\n"
      ]
    },
    {
      "cell_type": "code",
      "execution_count": 92,
      "metadata": {},
      "outputs": [
        {
          "name": "stdout",
          "output_type": "stream",
          "text": [
            "ADA Best estimater: AdaBoostClassifier(learning_rate=1, n_estimators=100)\n",
            "ADA Best parameters: {'learning_rate': 1, 'n_estimators': 100}\n"
          ]
        }
      ],
      "source": [
        "\n",
        "param_grid = {\n",
        "     'n_estimators': [100, 200, 300],\n",
        "     'learning_rate': [0.01, 0.05, 0.1, 1],\n",
        " }\n",
        "grid = GridSearchCV(AdaBoostClassifier(), param_grid,refit=True,verbose=0,cv=10, scoring='recall', return_train_score=False)\n",
        "grid.fit(X_train_under, y_train_under.values.ravel())\n",
        "print(\"ADA Best estimater:\", grid.best_estimator_)\n",
        "print(\"ADA Best parameters:\", grid.best_params_)\n",
        "under_ada_best_est = grid.best_estimator_\n"
      ]
    },
    {
      "cell_type": "code",
      "execution_count": 95,
      "metadata": {},
      "outputs": [],
      "source": [
        "#Adapt from above\n",
        "lr = under_lr_best_est\n",
        "svm = under_svm_best_est\n",
        "knn = under_knn_best_est\n",
        "rf = under_rf_best_est\n",
        "ada = under_ada_best_est\n"
      ]
    },
    {
      "cell_type": "code",
      "execution_count": 96,
      "metadata": {},
      "outputs": [],
      "source": [
        "results_under = []\n",
        "models = [lr, svm, knn, rf, ada]\n",
        "for m in models:\n",
        "    m.fit(X_train_under, y_train_under.values.ravel())\n",
        "    predicted = m.predict(X_test)\n",
        "    acc = metrics.accuracy_score(y_test, predicted)\n",
        "    rec = metrics.recall_score(y_test, predicted)\n",
        "    results_under.append([acc, rec])"
      ]
    },
    {
      "cell_type": "code",
      "execution_count": 97,
      "metadata": {},
      "outputs": [
        {
          "name": "stdout",
          "output_type": "stream",
          "text": [
            "Epoch 1/10\n",
            "1/1 [==============================] - 4s 4s/step - loss: 0.6929 - auc: 0.5119 - accuracy: 0.5730 - recall: 0.3571 - val_loss: 0.6958 - val_auc: 0.4626 - val_accuracy: 0.4103 - val_recall: 0.0455\n",
            "Epoch 2/10\n",
            "1/1 [==============================] - 0s 236ms/step - loss: 0.6880 - auc: 0.5633 - accuracy: 0.6292 - recall: 0.2857 - val_loss: 0.6995 - val_auc: 0.5000 - val_accuracy: 0.3846 - val_recall: 0.0000e+00\n",
            "Epoch 3/10\n",
            "1/1 [==============================] - 0s 216ms/step - loss: 0.6833 - auc: 0.5512 - accuracy: 0.6180 - recall: 0.2619 - val_loss: 0.7056 - val_auc: 0.4973 - val_accuracy: 0.3846 - val_recall: 0.0000e+00\n",
            "Epoch 4/10\n",
            "1/1 [==============================] - 0s 216ms/step - loss: 0.6788 - auc: 0.5471 - accuracy: 0.5955 - recall: 0.2143 - val_loss: 0.7129 - val_auc: 0.4840 - val_accuracy: 0.4103 - val_recall: 0.0000e+00\n",
            "Epoch 5/10\n",
            "1/1 [==============================] - 0s 216ms/step - loss: 0.6748 - auc: 0.5474 - accuracy: 0.5843 - recall: 0.1905 - val_loss: 0.7137 - val_auc: 0.4853 - val_accuracy: 0.3846 - val_recall: 0.0455\n",
            "Epoch 6/10\n",
            "1/1 [==============================] - 0s 217ms/step - loss: 0.6695 - auc: 0.5653 - accuracy: 0.6180 - recall: 0.2619 - val_loss: 0.7100 - val_auc: 0.4920 - val_accuracy: 0.4615 - val_recall: 0.2273\n",
            "Epoch 7/10\n",
            "1/1 [==============================] - 0s 216ms/step - loss: 0.6627 - auc: 0.5930 - accuracy: 0.6180 - recall: 0.3095 - val_loss: 0.7060 - val_auc: 0.4987 - val_accuracy: 0.4359 - val_recall: 0.2727\n",
            "Epoch 8/10\n",
            "1/1 [==============================] - 0s 215ms/step - loss: 0.6551 - auc: 0.6702 - accuracy: 0.6180 - recall: 0.3571 - val_loss: 0.7035 - val_auc: 0.5040 - val_accuracy: 0.5128 - val_recall: 0.4091\n",
            "Epoch 9/10\n",
            "1/1 [==============================] - 0s 216ms/step - loss: 0.6468 - auc: 0.7057 - accuracy: 0.6292 - recall: 0.4286 - val_loss: 0.7035 - val_auc: 0.5013 - val_accuracy: 0.4615 - val_recall: 0.5000\n",
            "Epoch 10/10\n",
            "1/1 [==============================] - 0s 217ms/step - loss: 0.6378 - auc: 0.7107 - accuracy: 0.6180 - recall: 0.4762 - val_loss: 0.7075 - val_auc: 0.5094 - val_accuracy: 0.4872 - val_recall: 0.5455\n",
            "168/168 [==============================] - 5s 27ms/step\n",
            "LSTM Accuracy: 0.6929251446705246\n",
            "LSTM Recall: 0.39285714285714285\n",
            "[[3701 1628]\n",
            " [  17   11]]\n",
            "[[0.7929811461638977, 0.8214285714285714], [0.6880716819115177, 0.9285714285714286], [0.7351129363449692, 0.8214285714285714], [0.8913571028560762, 0.8214285714285714], [0.8207952212058989, 0.7857142857142857], [0.8207952212058989, 0.39285714285714285]]\n"
          ]
        }
      ],
      "source": [
        "X_numpy_under = np.expand_dims(X_train_under.values[:,:],axis = 2)\n",
        "y_numpy_under = y_train_under.values[:]\n",
        "X_numpy_under_test = np.expand_dims(X_test_under.values[:,:],axis = 2)\n",
        "y_numpy_under_test = y_test_under.values[:]\n",
        "model = Sequential()\n",
        "model.add(LSTM(units=64, return_sequences=True, input_shape=(42, 1)))\n",
        "model.add(LSTM(units=128, return_sequences=True))\n",
        "model.add(LSTM(units=256, return_sequences=False))\n",
        "model.add(Dense(1, activation='sigmoid'))\n",
        "model.compile(loss='binary_crossentropy', optimizer='adam', metrics=['AUC', 'accuracy', 'Recall'])\n",
        "model.fit(X_numpy_under, y_numpy_under, epochs=10, batch_size=128, validation_data=(X_numpy_under_test, y_numpy_under_test))\n",
        "\n",
        "X_numpy = np.expand_dims(X_test.values[:],axis = 2)\n",
        "y_numpy = y_test.values[:]\n",
        "ypred = model.predict(X_numpy)\n",
        "predlabels = [int(p>=0.5) for p in ypred]\n",
        "acc = metrics.accuracy_score(y_test, predlabels)\n",
        "rec = metrics.recall_score(y_test, predlabels)\n",
        "print(\"LSTM Accuracy:\", acc)\n",
        "print(\"LSTM Recall:\", rec)\n",
        "cf_matrix = metrics.confusion_matrix(y_test,predlabels)\n",
        "print(cf_matrix)\n",
        "results_under.append([metrics.accuracy_score(y_test, predicted), metrics.recall_score(y_test, predlabels)])\n",
        "print(results_under)"
      ]
    },
    {
      "attachments": {},
      "cell_type": "markdown",
      "metadata": {},
      "source": [
        "# Overfitting"
      ]
    },
    {
      "cell_type": "code",
      "execution_count": 98,
      "metadata": {},
      "outputs": [],
      "source": [
        "X_train_over, X_test_over, y_train_over, y_test_over = train_test_split(X_final_over, y_final_over, test_size=0.3)\n"
      ]
    },
    {
      "cell_type": "code",
      "execution_count": 99,
      "metadata": {},
      "outputs": [
        {
          "name": "stdout",
          "output_type": "stream",
          "text": [
            "LR best estimater:  LogisticRegression(C=0.1, max_iter=1000)\n",
            "LR Best parameters: {'C': 0.1, 'max_iter': 1000}\n"
          ]
        }
      ],
      "source": [
        "#C is the most meaningful - penalty had no impact and would error out\n",
        "param_grid = {'C': [0.1,1, 10, 100], 'max_iter': [1000]}\n",
        "grid = GridSearchCV(LogisticRegression(),param_grid,refit=True,verbose=0,cv=10,scoring='recall', return_train_score=False)\n",
        "grid.fit(X_train_over,y_train_over.values.ravel())\n",
        "print(\"LR best estimater: \", grid.best_estimator_)\n",
        "print(\"LR Best parameters:\", grid.best_params_)\n",
        "over_lr_best_est = grid.best_estimator_\n",
        "\n"
      ]
    },
    {
      "cell_type": "code",
      "execution_count": 100,
      "metadata": {},
      "outputs": [],
      "source": [
        "#linear failed to converge \n",
        "param_grid = {'C': [0.1,1, 10, 100], 'gamma': [1,0.1,0.01,0.001],'kernel': ['rbf', 'poly']}\n",
        "grid = GridSearchCV(SVC(),param_grid,refit=True,verbose=0, cv=10, scoring='recall', return_train_score=False)\n",
        "grid.fit(X_train_over,y_train_over.values.ravel())\n",
        "print(\"SVM best estimater: \", grid.best_estimator_)\n",
        "print(\"SVM Best parameters:\", grid.best_params_)\n",
        "over_svm_best_est = grid.best_estimator_\n"
      ]
    },
    {
      "cell_type": "code",
      "execution_count": null,
      "metadata": {},
      "outputs": [],
      "source": [
        "\n",
        "param_grid = {'n_neighbors': list(range(1,21)), 'metric': ['euclidean', 'manhattan', 'minkowski'], 'weights': ['uniform', 'distance'] }\n",
        "grid = GridSearchCV(KNeighborsClassifier(),param_grid,refit=True,verbose=0,cv=10, scoring='recall', return_train_score=False)\n",
        "grid.fit(X_train_over,y_train_over.values.ravel())\n",
        "print(\"KNN best estimater: \", grid.best_estimator_)\n",
        "print(\"KNN Best parameters:\", grid.best_params_)\n",
        "over_knn_best_est = grid.best_estimator_\n"
      ]
    },
    {
      "cell_type": "code",
      "execution_count": null,
      "metadata": {},
      "outputs": [],
      "source": [
        "param_grid = {\n",
        "    'n_estimators': [10, 50, 100],\n",
        "    'max_depth': [3, 5, None],\n",
        "    'max_features': ['sqrt', 'log2'],\n",
        "    'min_samples_split': [2, 5, 10],\n",
        "    'min_samples_leaf': [1, 2, 4]\n",
        "}\n",
        "grid = GridSearchCV(RandomForestClassifier(), param_grid,refit=True,verbose=0,cv=10, scoring='recall', return_train_score=False)\n",
        "grid.fit(X_train_over, y_train_over.values.ravel())\n",
        "print(\"RF Best estimater:\", grid.best_estimator_)\n",
        "print(\"RF Best parameters:\", grid.best_params_)\n",
        "over_rf_best_est = grid.best_estimator_\n"
      ]
    },
    {
      "cell_type": "code",
      "execution_count": null,
      "metadata": {},
      "outputs": [],
      "source": [
        "\n",
        "param_grid = {\n",
        "     'n_estimators': np.arange(10,300,10),\n",
        "     'learning_rate': [0.01, 0.05, 0.1, 1],\n",
        " }\n",
        "grid = GridSearchCV(AdaBoostClassifier(), param_grid,refit=True,verbose=0,cv=10, scoring='recall', return_train_score=False)\n",
        "grid.fit(X_train_over, y_train_over.values.ravel())\n",
        "print(\"ADA Best estimater:\", grid.best_estimator_)\n",
        "print(\"ADA Best parameters:\", grid.best_params_)\n",
        "over_ada_best_est = grid.best_estimator_\n"
      ]
    },
    {
      "cell_type": "code",
      "execution_count": null,
      "metadata": {},
      "outputs": [],
      "source": [
        "#Adapt from above\n",
        "lr = over_lr_best_est\n",
        "svm = over_svm_best_est\n",
        "knn = over_knn_best_est\n",
        "rf = over_rf_best_est\n",
        "ada = over_ada_best_est"
      ]
    },
    {
      "cell_type": "code",
      "execution_count": null,
      "metadata": {},
      "outputs": [],
      "source": [
        "results_over = []\n",
        "models = [lr, svm, knn, rf, ada]\n",
        "for m in models:\n",
        "    m.fit(X_train_over, y_train_over.values.ravel())\n",
        "    predicted = m.predict(X_test)\n",
        "    acc = metrics.accuracy_score(y_test, predicted)\n",
        "    rec = metrics.recall_score(y_test, predicted)\n",
        "    results_over.append([acc, rec])"
      ]
    },
    {
      "cell_type": "code",
      "execution_count": null,
      "metadata": {},
      "outputs": [
        {
          "name": "stdout",
          "output_type": "stream",
          "text": [
            "Epoch 1/10\n"
          ]
        },
        {
          "ename": "ValueError",
          "evalue": "in user code:\n\n    File \"/opt/anaconda3/envs/Praxis/lib/python3.9/site-packages/keras/engine/training.py\", line 1160, in train_function  *\n        return step_function(self, iterator)\n    File \"/opt/anaconda3/envs/Praxis/lib/python3.9/site-packages/keras/engine/training.py\", line 1146, in step_function  **\n        outputs = model.distribute_strategy.run(run_step, args=(data,))\n    File \"/opt/anaconda3/envs/Praxis/lib/python3.9/site-packages/keras/engine/training.py\", line 1135, in run_step  **\n        outputs = model.train_step(data)\n    File \"/opt/anaconda3/envs/Praxis/lib/python3.9/site-packages/keras/engine/training.py\", line 993, in train_step\n        y_pred = self(x, training=True)\n    File \"/opt/anaconda3/envs/Praxis/lib/python3.9/site-packages/keras/utils/traceback_utils.py\", line 70, in error_handler\n        raise e.with_traceback(filtered_tb) from None\n    File \"/opt/anaconda3/envs/Praxis/lib/python3.9/site-packages/keras/engine/input_spec.py\", line 295, in assert_input_compatibility\n        raise ValueError(\n\n    ValueError: Input 0 of layer \"sequential_48\" is incompatible with the layer: expected shape=(None, 42, 1), found shape=(None, 27, 1)\n",
          "output_type": "error",
          "traceback": [
            "\u001b[0;31m---------------------------------------------------------------------------\u001b[0m",
            "\u001b[0;31mValueError\u001b[0m                                Traceback (most recent call last)",
            "Cell \u001b[0;32mIn[633], line 9\u001b[0m\n\u001b[1;32m      7\u001b[0m model\u001b[39m.\u001b[39madd(Dense(\u001b[39m1\u001b[39m, activation\u001b[39m=\u001b[39m\u001b[39m'\u001b[39m\u001b[39msigmoid\u001b[39m\u001b[39m'\u001b[39m))\n\u001b[1;32m      8\u001b[0m model\u001b[39m.\u001b[39mcompile(loss\u001b[39m=\u001b[39m\u001b[39m'\u001b[39m\u001b[39mbinary_crossentropy\u001b[39m\u001b[39m'\u001b[39m, optimizer\u001b[39m=\u001b[39m\u001b[39m'\u001b[39m\u001b[39madam\u001b[39m\u001b[39m'\u001b[39m, metrics\u001b[39m=\u001b[39m[\u001b[39m'\u001b[39m\u001b[39mAUC\u001b[39m\u001b[39m'\u001b[39m, \u001b[39m'\u001b[39m\u001b[39maccuracy\u001b[39m\u001b[39m'\u001b[39m, \u001b[39m'\u001b[39m\u001b[39mRecall\u001b[39m\u001b[39m'\u001b[39m])\n\u001b[0;32m----> 9\u001b[0m model\u001b[39m.\u001b[39;49mfit(X_numpy_over, y_numpy_over, epochs\u001b[39m=\u001b[39;49m\u001b[39m10\u001b[39;49m, batch_size\u001b[39m=\u001b[39;49m\u001b[39m128\u001b[39;49m, validation_data\u001b[39m=\u001b[39;49m(X_numpy_over_test, y_numpy_over_test))\n\u001b[1;32m     11\u001b[0m X_numpy \u001b[39m=\u001b[39m np\u001b[39m.\u001b[39mexpand_dims(X_test\u001b[39m.\u001b[39mvalues[:],axis \u001b[39m=\u001b[39m \u001b[39m2\u001b[39m)\n\u001b[1;32m     12\u001b[0m y_numpy \u001b[39m=\u001b[39m y_test\u001b[39m.\u001b[39mvalues[:]\n",
            "File \u001b[0;32m/opt/anaconda3/envs/Praxis/lib/python3.9/site-packages/keras/utils/traceback_utils.py:70\u001b[0m, in \u001b[0;36mfilter_traceback.<locals>.error_handler\u001b[0;34m(*args, **kwargs)\u001b[0m\n\u001b[1;32m     67\u001b[0m     filtered_tb \u001b[39m=\u001b[39m _process_traceback_frames(e\u001b[39m.\u001b[39m__traceback__)\n\u001b[1;32m     68\u001b[0m     \u001b[39m# To get the full stack trace, call:\u001b[39;00m\n\u001b[1;32m     69\u001b[0m     \u001b[39m# `tf.debugging.disable_traceback_filtering()`\u001b[39;00m\n\u001b[0;32m---> 70\u001b[0m     \u001b[39mraise\u001b[39;00m e\u001b[39m.\u001b[39mwith_traceback(filtered_tb) \u001b[39mfrom\u001b[39;00m \u001b[39mNone\u001b[39m\n\u001b[1;32m     71\u001b[0m \u001b[39mfinally\u001b[39;00m:\n\u001b[1;32m     72\u001b[0m     \u001b[39mdel\u001b[39;00m filtered_tb\n",
            "File \u001b[0;32m/var/folders/p4/svf85_b50jvfz4dvm3yf5h0c0000gq/T/__autograph_generated_filegz5tye4g.py:15\u001b[0m, in \u001b[0;36mouter_factory.<locals>.inner_factory.<locals>.tf__train_function\u001b[0;34m(iterator)\u001b[0m\n\u001b[1;32m     13\u001b[0m \u001b[39mtry\u001b[39;00m:\n\u001b[1;32m     14\u001b[0m     do_return \u001b[39m=\u001b[39m \u001b[39mTrue\u001b[39;00m\n\u001b[0;32m---> 15\u001b[0m     retval_ \u001b[39m=\u001b[39m ag__\u001b[39m.\u001b[39mconverted_call(ag__\u001b[39m.\u001b[39mld(step_function), (ag__\u001b[39m.\u001b[39mld(\u001b[39mself\u001b[39m), ag__\u001b[39m.\u001b[39mld(iterator)), \u001b[39mNone\u001b[39;00m, fscope)\n\u001b[1;32m     16\u001b[0m \u001b[39mexcept\u001b[39;00m:\n\u001b[1;32m     17\u001b[0m     do_return \u001b[39m=\u001b[39m \u001b[39mFalse\u001b[39;00m\n",
            "\u001b[0;31mValueError\u001b[0m: in user code:\n\n    File \"/opt/anaconda3/envs/Praxis/lib/python3.9/site-packages/keras/engine/training.py\", line 1160, in train_function  *\n        return step_function(self, iterator)\n    File \"/opt/anaconda3/envs/Praxis/lib/python3.9/site-packages/keras/engine/training.py\", line 1146, in step_function  **\n        outputs = model.distribute_strategy.run(run_step, args=(data,))\n    File \"/opt/anaconda3/envs/Praxis/lib/python3.9/site-packages/keras/engine/training.py\", line 1135, in run_step  **\n        outputs = model.train_step(data)\n    File \"/opt/anaconda3/envs/Praxis/lib/python3.9/site-packages/keras/engine/training.py\", line 993, in train_step\n        y_pred = self(x, training=True)\n    File \"/opt/anaconda3/envs/Praxis/lib/python3.9/site-packages/keras/utils/traceback_utils.py\", line 70, in error_handler\n        raise e.with_traceback(filtered_tb) from None\n    File \"/opt/anaconda3/envs/Praxis/lib/python3.9/site-packages/keras/engine/input_spec.py\", line 295, in assert_input_compatibility\n        raise ValueError(\n\n    ValueError: Input 0 of layer \"sequential_48\" is incompatible with the layer: expected shape=(None, 42, 1), found shape=(None, 27, 1)\n"
          ]
        }
      ],
      "source": [
        "X_numpy_over = np.expand_dims(X_train_over.values[:,:],axis = 2)\n",
        "y_numpy_over = y_train_over.values[:]\n",
        "X_numpy_over_test = np.expand_dims(X_test_over.values[:,:],axis = 2)\n",
        "y_numpy_over_test = y_test_over.values[:]\n",
        "model = Sequential()\n",
        "model.add(LSTM(units=64, return_sequences=True, input_shape=(42, 1)))\n",
        "model.add(LSTM(units=128, return_sequences=True))\n",
        "model.add(LSTM(units=256, return_sequences=False))\n",
        "model.add(Dense(1, activation='sigmoid'))\n",
        "model.compile(loss='binary_crossentropy', optimizer='adam', metrics=['AUC', 'accuracy', 'Recall'])\n",
        "model.fit(X_numpy_over, y_numpy_over, epochs=10, batch_size=128, validation_data=(X_numpy_over_test, y_numpy_over_test))\n",
        "\n",
        "X_numpy = np.expand_dims(X_test.values[:],axis = 2)\n",
        "y_numpy = y_test.values[:]\n",
        "ypred = model.predict(X_numpy)\n",
        "predlabels = [int(p>=0.5) for p in ypred]\n",
        "acc = metrics.accuracy_score(y_test, predlabels)\n",
        "rec = metrics.recall_score(y_test, predlabels)\n",
        "print(\"LSTM Accuracy:\", acc)\n",
        "print(\"LSTM Recall:\", rec)\n",
        "cf_matrix = metrics.confusion_matrix(y_test,predlabels)\n",
        "print(cf_matrix)\n",
        "results_over.append([acc, rec])\n",
        "print(results_over)"
      ]
    },
    {
      "attachments": {},
      "cell_type": "markdown",
      "metadata": {},
      "source": [
        "# SMOTE"
      ]
    },
    {
      "cell_type": "code",
      "execution_count": 96,
      "metadata": {},
      "outputs": [],
      "source": [
        "X_train_smote, X_test_smote, y_train_smote, y_test_smote = train_test_split(X_final_smote, y_final_smote, test_size=0.3)"
      ]
    },
    {
      "cell_type": "code",
      "execution_count": null,
      "metadata": {},
      "outputs": [],
      "source": [
        "#C is the most meaningful - penalty had no impact and would error out\n",
        "param_grid = {'C': [0.1,1, 10, 100], 'max_iter': [1000]}\n",
        "grid = GridSearchCV(LogisticRegression(),param_grid,refit=True,verbose=0,cv=10,scoring='recall', return_train_score=False)\n",
        "grid.fit(X_train_smote,y_train_smote.values.ravel())\n",
        "print(\"logistic regression best: \", grid.best_estimator_)\n",
        "smote_lr_best_est = grid.best_estimator_\n",
        "\n"
      ]
    },
    {
      "cell_type": "code",
      "execution_count": null,
      "metadata": {},
      "outputs": [],
      "source": [
        "\n",
        "#linear failed to converge\n",
        "param_grid = {'C': [0.1,1, 10, 100], 'gamma': [1,0.1,0.01,0.001],'kernel': ['rbf', 'poly']}\n",
        "grid = GridSearchCV(SVC(),param_grid,refit=True,verbose=0, cv=10, scoring='recall', return_train_score=False)\n",
        "grid.fit(X_train_smote,y_train_smote.values.ravel())\n",
        "print(\"SVM best: \", grid.best_estimator_)\n",
        "smote_svm_best_est = grid.best_estimator_\n",
        "\n"
      ]
    },
    {
      "cell_type": "code",
      "execution_count": null,
      "metadata": {},
      "outputs": [],
      "source": [
        "\n",
        "param_grid = {'n_neighbors': list(range(1,21)), 'metric': ['euclidean', 'manhattan', 'minkowski'], 'weights': ['uniform', 'distance'] }\n",
        "grid = GridSearchCV(KNeighborsClassifier(),param_grid,refit=True,verbose=0,cv=10, scoring='recall', return_train_score=False)\n",
        "grid.fit(X_train_smote,y_train_smote.values.ravel())\n",
        "print(\"KNN best: \", grid.best_estimator_)\n",
        "smote_knn_best_est = grid.best_estimator_\n",
        "\n"
      ]
    },
    {
      "cell_type": "code",
      "execution_count": null,
      "metadata": {},
      "outputs": [],
      "source": [
        "\n",
        "param_grid = {\n",
        "    'n_estimators': [10, 50, 100],\n",
        "    'max_depth': [3, 5, None],\n",
        "    'max_features': ['sqrt', 'log2'],\n",
        "    'min_samples_split': [2, 5, 10],\n",
        "    'min_samples_leaf': [1, 2, 4]\n",
        "}\n",
        "grid = GridSearchCV(RandomForestClassifier(), param_grid,refit=True,verbose=0,cv=10, scoring='recall', return_train_score=False)\n",
        "grid.fit(X_train_smote, y_train_smote.values.ravel())\n",
        "print(\"RF Best estimater:\", grid.best_estimator_)\n",
        "print(\"RF Best parameters:\", grid.best_params_)\n",
        "print(\"RF Best score:\", grid.best_score_)\n",
        "smote_rf_best_est = grid.best_estimator_\n",
        "\n"
      ]
    },
    {
      "cell_type": "code",
      "execution_count": null,
      "metadata": {},
      "outputs": [],
      "source": [
        "\n",
        "param_grid = {\n",
        "     'n_estimators': np.arange(10,300,10),\n",
        "     'learning_rate': [0.01, 0.05, 0.1, 1],\n",
        " }\n",
        "grid = GridSearchCV(AdaBoostClassifier(), param_grid,refit=True,verbose=0,cv=10, scoring='recall', return_train_score=False)\n",
        "grid.fit(X_train_smote, y_train_smote.values.ravel())\n",
        "print(\"ADA Best estimater:\", grid.best_estimator_)\n",
        "print(\"ADA Best parameters:\", grid.best_params_)\n",
        "print(\"ADA Best score:\", grid.best_score_)\n",
        "smote_ada_best_est = grid.best_estimator_\n"
      ]
    },
    {
      "cell_type": "code",
      "execution_count": null,
      "metadata": {},
      "outputs": [],
      "source": [
        "#Adapt from above\n",
        "lr = smote_lr_best_est\n",
        "svm = smote_svm_best_est\n",
        "knn = smote_knn_best_est\n",
        "rf = smote_rf_best_est\n",
        "ada = smote_ada_best_est\n"
      ]
    },
    {
      "cell_type": "code",
      "execution_count": null,
      "metadata": {},
      "outputs": [],
      "source": [
        "results_smote = []\n",
        "models = [lr, svm, knn, rf, ada]\n",
        "for m in models:\n",
        "    m.fit(X_train_smote, y_train_smote.values.ravel())\n",
        "    predicted = m.predict(X_test)\n",
        "    acc = metrics.accuracy_score(y_test, predicted)\n",
        "    rec = metrics.recall_score(y_test, predicted)\n",
        "    results_smote.append([acc, rec])\n",
        "print(results_no_sample)"
      ]
    },
    {
      "cell_type": "code",
      "execution_count": null,
      "metadata": {},
      "outputs": [],
      "source": [
        "X_numpy_smote = np.expand_dims(X_train_smote.values[:,:],axis = 2)\n",
        "y_numpy_smote = y_train_smote.values[:]\n",
        "X_numpy_smote_test = np.expand_dims(X_test_smote.values[:,:],axis = 2)\n",
        "y_numpy_smote_test = y_test_smote.values[:]\n",
        "model = Sequential()\n",
        "model.add(LSTM(units=64, return_sequences=True, input_shape=(42, 1)))\n",
        "model.add(LSTM(units=128, return_sequences=True))\n",
        "model.add(LSTM(units=256, return_sequences=False))\n",
        "model.add(Dense(1, activation='sigmoid'))\n",
        "model.compile(loss='binary_crossentropy', optimizer='adam', metrics=['AUC', 'accuracy', 'Recall'])\n",
        "model.fit(X_numpy_smote, y_numpy_smote, epochs=10, batch_size=128, validation_data=(X_numpy_smote_test, y_numpy_smote_test))\n",
        "\n",
        "X_numpy = np.expand_dims(X_test.values[:],axis = 2)\n",
        "y_numpy = y_test.values[:]\n",
        "ypred = model.predict(X_numpy)\n",
        "predlabels = [int(p>=0.5) for p in ypred]\n",
        "acc = metrics.accuracy_score(y_test, predlabels)\n",
        "rec = metrics.recall_score(y_test, predlabels)\n",
        "print(\"LSTM Accuracy:\", acc)\n",
        "print(\"LSTM Recall:\", rec)\n",
        "cf_matrix = metrics.confusion_matrix(y_test,predlabels)\n",
        "print(cf_matrix)\n",
        "results_under.append([metrics.accuracy_score(y_test, predicted), metrics.recall_score(y_test, predlabels)])\n",
        "print(results_under)"
      ]
    },
    {
      "attachments": {},
      "cell_type": "markdown",
      "metadata": {},
      "source": [
        "# ADASYN"
      ]
    },
    {
      "cell_type": "code",
      "execution_count": 102,
      "metadata": {},
      "outputs": [],
      "source": [
        "X_train_adasyn, X_test_adasyn, y_train_adasyn, y_test_adasyn = train_test_split(X_final_adasyn, y_final_adasyn, test_size=0.3)"
      ]
    },
    {
      "cell_type": "code",
      "execution_count": null,
      "metadata": {},
      "outputs": [],
      "source": [
        "#C is the most meaningful - penalty had no impact and would error out\n",
        "param_grid = {'C': [0.1,1, 10, 100]}\n",
        "grid = GridSearchCV(LogisticRegression(),param_grid,refit=True,verbose=0,cv=10,scoring='recall', return_train_score=False)\n",
        "grid.fit(X_train_adasyn,y_train_adasyn.values.ravel())\n",
        "print(\"logistic regression best: \", grid.best_estimator_)\n",
        "ada_lr_best_est = grid.best_estimator_\n",
        "\n"
      ]
    },
    {
      "cell_type": "code",
      "execution_count": null,
      "metadata": {},
      "outputs": [],
      "source": [
        "\n",
        "#linear failed to converge\n",
        "param_grid = {'C': [0.1,1, 10, 100], 'gamma': [1,0.1,0.01,0.001],'kernel': ['rbf', 'poly']}\n",
        "grid = GridSearchCV(SVC(),param_grid,refit=True,verbose=0, cv=10, scoring='recall', return_train_score=False)\n",
        "grid.fit(X_train_adasyn,y_train_adasyn.values.ravel())\n",
        "print(\"SVM best: \", grid.best_estimator_)\n",
        "ada_svm_best_est = grid.best_estimator_\n",
        "\n"
      ]
    },
    {
      "cell_type": "code",
      "execution_count": null,
      "metadata": {},
      "outputs": [],
      "source": [
        "\n",
        "param_grid = {'n_neighbors': list(range(1,21)), 'metric': ['euclidean', 'manhattan', 'minkowski'], 'weights': ['uniform', 'distance'] }\n",
        "grid = GridSearchCV(KNeighborsClassifier(),param_grid,refit=True,verbose=0,cv=10, scoring='recall', return_train_score=False)\n",
        "grid.fit(X_train_adasyn,y_train_adasyn.values.ravel())\n",
        "print(\"KNN best: \", grid.best_estimator_)\n",
        "ada_knn_best_est = grid.best_estimator_\n",
        "\n"
      ]
    },
    {
      "cell_type": "code",
      "execution_count": null,
      "metadata": {},
      "outputs": [],
      "source": [
        "\n",
        "param_grid = {\n",
        "    'n_estimators': [10, 50, 100],\n",
        "    'max_depth': [3, 5, None],\n",
        "    'max_features': ['sqrt', 'log2'],\n",
        "    'min_samples_split': [2, 5, 10],\n",
        "    'min_samples_leaf': [1, 2, 4]\n",
        "}\n",
        "grid = GridSearchCV(RandomForestClassifier(), param_grid,refit=True,verbose=0,cv=10, scoring='recall', return_train_score=False)\n",
        "grid.fit(X_train_adasyn, y_train_adasyn.values.ravel())\n",
        "print(\"RF Best estimater:\", grid.best_estimator_)\n",
        "print(\"RF Best parameters:\", grid.best_params_)\n",
        "print(\"RF Best score:\", grid.best_score_)\n",
        "ada_rf_best_est = grid.best_estimator_\n"
      ]
    },
    {
      "cell_type": "code",
      "execution_count": null,
      "metadata": {},
      "outputs": [],
      "source": [
        "\n",
        "param_grid = {\n",
        "     'n_estimators': np.arange(10,300,10),\n",
        "     'learning_rate': [0.01, 0.05, 0.1, 1],\n",
        " }\n",
        "grid = GridSearchCV(AdaBoostClassifier(), param_grid,refit=True,verbose=0,cv=10, scoring='recall', return_train_score=False)\n",
        "grid.fit(X_train_adasyn, y_train_adasyn.values.ravel())\n",
        "print(\"ADA Best estimater:\", grid.best_estimator_)\n",
        "print(\"ADA Best parameters:\", grid.best_params_)\n",
        "print(\"ADA Best score:\", grid.best_score_)\n",
        "ada_ada_best_est = grid.best_estimator_\n",
        "\n"
      ]
    },
    {
      "cell_type": "code",
      "execution_count": null,
      "metadata": {},
      "outputs": [],
      "source": [
        "#Adapt from above\n",
        "lr = ada_lr_best_est\n",
        "svm = ada_svm_best_est\n",
        "knn = ada_knn_best_est\n",
        "rf = ada_rf_best_est\n",
        "ada = ada_ada_best_est\n"
      ]
    },
    {
      "cell_type": "code",
      "execution_count": null,
      "metadata": {},
      "outputs": [],
      "source": [
        "results_over = []\n",
        "models = [lr, svm, knn, rf, ada]\n",
        "for m in models:\n",
        "    m.fit(X_train_adasyn, y_train_adasyn.values.ravel())\n",
        "    predicted = m.predict(X_test)\n",
        "    acc = metrics.accuracy_score(y_test, predicted)\n",
        "    rec = metrics.recall_score(y_test, predicted)\n",
        "    results_no_sample.append([acc, rec])\n",
        "print(results_no_sample)"
      ]
    },
    {
      "cell_type": "code",
      "execution_count": null,
      "metadata": {},
      "outputs": [],
      "source": [
        "X_numpy_adasyn = np.expand_dims(X_train_adasyn.values[:,:],axis = 2)\n",
        "y_numpy_adasyn = y_train_adasyn.values[:]\n",
        "X_numpy_adasyn_test = np.expand_dims(X_test_adasyn.values[:,:],axis = 2)\n",
        "y_numpy_adasyn_test = y_test_adasyn.values[:]\n",
        "model = Sequential()\n",
        "model.add(LSTM(units=64, return_sequences=True, input_shape=(42, 1)))\n",
        "model.add(LSTM(units=128, return_sequences=True))\n",
        "model.add(LSTM(units=256, return_sequences=False))\n",
        "model.add(Dense(1, activation='sigmoid'))\n",
        "model.compile(loss='binary_crossentropy', optimizer='adam', metrics=['AUC', 'accuracy', 'Recall'])\n",
        "model.fit(X_numpy_adasyn, y_numpy_adasyn, epochs=10, batch_size=128, validation_data=(X_numpy_adasyn_test, y_numpy_adasyn_test))\n",
        "\n",
        "X_numpy = np.expand_dims(X_test.values[:],axis = 2)\n",
        "y_numpy = y_test.values[:]\n",
        "ypred = model.predict(X_numpy)\n",
        "predlabels = [int(p>=0.5) for p in ypred]\n",
        "acc = metrics.accuracy_score(y_test, predlabels)\n",
        "rec = metrics.recall_score(y_test, predlabels)\n",
        "print(\"LSTM Accuracy:\", acc)\n",
        "print(\"LSTM Recall:\", rec)\n",
        "cf_matrix = metrics.confusion_matrix(y_test,predlabels)\n",
        "print(cf_matrix)\n",
        "results_under.append([metrics.accuracy_score(y_test, predicted), metrics.recall_score(y_test, predlabels)])\n",
        "print(results_under)"
      ]
    },
    {
      "attachments": {},
      "cell_type": "markdown",
      "metadata": {},
      "source": [
        "# Borderline SMOTE"
      ]
    },
    {
      "cell_type": "code",
      "execution_count": 108,
      "metadata": {},
      "outputs": [],
      "source": [
        "X_train_blsmote, X_test_blsmote, y_train_blsmote, y_test_blsmote = train_test_split(X_final_blsmote, y_final_blsmote, test_size=0.3)"
      ]
    },
    {
      "cell_type": "code",
      "execution_count": null,
      "metadata": {},
      "outputs": [],
      "source": [
        "#C is the most meaningful - penalty had no impact and would error out\n",
        "param_grid = {'C': [0.1,1, 10, 100]}\n",
        "grid = GridSearchCV(LogisticRegression(),param_grid,refit=True,verbose=0,cv=10,scoring='recall', return_train_score=False)\n",
        "grid.fit(X_train_blsmote,y_train_blsmote.values.ravel())\n",
        "print(\"logistic regression best: \", grid.best_estimator_)\n",
        "bls_lr_best_est = grid.best_estimator_\n",
        "\n"
      ]
    },
    {
      "cell_type": "code",
      "execution_count": null,
      "metadata": {},
      "outputs": [],
      "source": [
        "\n",
        "#linear failed to converge\n",
        "param_grid = {'C': [0.1,1, 10, 100], 'gamma': [1,0.1,0.01,0.001],'kernel': ['rbf', 'poly']}\n",
        "grid = GridSearchCV(SVC(),param_grid,refit=True,verbose=0, cv=10, scoring='recall', return_train_score=False)\n",
        "grid.fit(X_train_blsmote,y_train_blsmote.values.ravel())\n",
        "print(\"SVM best: \", grid.best_estimator_)\n",
        "bls_svm_best_est = grid.best_estimator_"
      ]
    },
    {
      "cell_type": "code",
      "execution_count": null,
      "metadata": {},
      "outputs": [],
      "source": [
        "\n",
        "param_grid = {'n_neighbors': list(range(1,21)), 'metric': ['euclidean', 'manhattan', 'minkowski'], 'weights': ['uniform', 'distance'] }\n",
        "grid = GridSearchCV(KNeighborsClassifier(),param_grid,refit=True,verbose=0,cv=10, scoring='recall', return_train_score=False)\n",
        "grid.fit(X_train_blsmote,y_train_blsmote.values.ravel())\n",
        "print(\"KNN best: \", grid.best_estimator_)\n",
        "bls_knn_best_est = grid.best_estimator_\n",
        "\n"
      ]
    },
    {
      "cell_type": "code",
      "execution_count": null,
      "metadata": {},
      "outputs": [],
      "source": [
        "\n",
        "param_grid = {\n",
        "    'n_estimators': [10, 50, 100],\n",
        "    'max_depth': [3, 5, None],\n",
        "    'max_features': ['sqrt', 'log2'],\n",
        "    'min_samples_split': [2, 5, 10],\n",
        "    'min_samples_leaf': [1, 2, 4]\n",
        "}\n",
        "grid = GridSearchCV(RandomForestClassifier(), param_grid,refit=True,verbose=0,cv=10, scoring='recall', return_train_score=False)\n",
        "grid.fit(X_train_blsmote, y_train_blsmote.values.ravel())\n",
        "print(\"RF Best estimater:\", grid.best_estimator_)\n",
        "print(\"RF Best parameters:\", grid.best_params_)\n",
        "print(\"RF Best score:\", grid.best_score_)\n",
        "bls_rf_best_est = grid.best_estimator_\n",
        "\n"
      ]
    },
    {
      "cell_type": "code",
      "execution_count": null,
      "metadata": {},
      "outputs": [],
      "source": [
        "\n",
        "param_grid = {\n",
        "     'n_estimators': np.arange(10,300,10),\n",
        "     'learning_rate': [0.01, 0.05, 0.1, 1],\n",
        " }\n",
        "grid = GridSearchCV(AdaBoostClassifier(), param_grid,refit=True,verbose=0,cv=10, scoring='recall', return_train_score=False)\n",
        "grid.fit(X_train_blsmote, y_train_blsmote)\n",
        "print(\"ADA Best estimater:\", grid.best_estimator_)\n",
        "print(\"ADA Best parameters:\", grid.best_params_)\n",
        "print(\"ADA Best score:\", grid.best_score_)\n",
        "bls_ada_best_est = grid.best_estimator_"
      ]
    },
    {
      "cell_type": "code",
      "execution_count": null,
      "metadata": {},
      "outputs": [],
      "source": [
        "#Adapt from above\n",
        "lr = bls_lr_best_est\n",
        "svm = bls_svm_best_est\n",
        "knn = bls_knn_best_est\n",
        "rf = bls_rf_best_est\n",
        "ada = bls_ada_best_est"
      ]
    },
    {
      "cell_type": "code",
      "execution_count": null,
      "metadata": {},
      "outputs": [],
      "source": [
        "results_over = []\n",
        "models = [lr, svm, knn, rf, ada]\n",
        "for m in models:\n",
        "    m.fit(X_train_blsmote, y_train_blsmote.values.ravel())\n",
        "    predicted = m.predict(X_test)\n",
        "    acc = metrics.accuracy_score(y_test, predicted)\n",
        "    rec = metrics.recall_score(y_test, predicted)\n",
        "    results_no_sample.append([acc, rec])\n",
        "print(results_no_sample)"
      ]
    },
    {
      "cell_type": "code",
      "execution_count": null,
      "metadata": {},
      "outputs": [],
      "source": [
        "X_numpy_blsmote = np.expand_dims(X_train_blsmote.values[:,:],axis = 2)\n",
        "y_numpy_blsmote = y_train_blsmote.values[:]\n",
        "X_numpy_blsmote_test = np.expand_dims(X_test_blsmote.values[:,:],axis = 2)\n",
        "y_numpy_blsmote_test = y_test_blsmote.values[:]\n",
        "model = Sequential()\n",
        "model.add(LSTM(units=64, return_sequences=True, input_shape=(42, 1)))\n",
        "model.add(LSTM(units=128, return_sequences=True))\n",
        "model.add(LSTM(units=256, return_sequences=False))\n",
        "model.add(Dense(1, activation='sigmoid'))\n",
        "model.compile(loss='binary_crossentropy', optimizer='adam', metrics=['AUC', 'accuracy', 'Recall'])\n",
        "model.fit(X_numpy_blsmote, y_numpy_blsmote, epochs=10, batch_size=128, validation_data=(X_numpy_blsmote_test, y_numpy_blsmote_test))\n",
        "\n",
        "X_numpy = np.expand_dims(X_test.values[:],axis = 2)\n",
        "y_numpy = y_test.values[:]\n",
        "ypred = model.predict(X_numpy)\n",
        "predlabels = [int(p>=0.5) for p in ypred]\n",
        "acc = metrics.accuracy_score(y_test, predlabels)\n",
        "rec = metrics.recall_score(y_test, predlabels)\n",
        "print(\"LSTM Accuracy:\", acc)\n",
        "print(\"LSTM Recall:\", rec)\n",
        "cf_matrix = metrics.confusion_matrix(y_test,predlabels)\n",
        "print(cf_matrix)\n",
        "results_under.append([metrics.accuracy_score(y_test, predicted), metrics.recall_score(y_test, predlabels)])\n",
        "print(results_under)"
      ]
    },
    {
      "cell_type": "code",
      "execution_count": 115,
      "metadata": {},
      "outputs": [
        {
          "data": {
            "text/plain": [
              "<Axes: >"
            ]
          },
          "execution_count": 115,
          "metadata": {},
          "output_type": "execute_result"
        },
        {
          "data": {
            "image/png": "[encoded data removed]",
            "text/plain": [
              "<Figure size 640x480 with 2 Axes>"
            ]
          },
          "metadata": {},
          "output_type": "display_data"
        }
      ],
      "source": [
        "sb.heatmap(cf_matrix/np.sum(cf_matrix), annot=True, fmt='.2%', cmap='Blues')"
      ]
    },
    {
      "cell_type": "code",
      "execution_count": 374,
      "metadata": {},
      "outputs": [],
      "source": [
        "X_nump = np.expand_dims(X_train_blsmote.values[:,:],axis = 2)\n",
        "y_nump = y_train_blsmote.values[:]\n",
        "X_nump_t = np.expand_dims(X_test_blsmote.values[:,:],axis = 2)\n",
        "y_nump_t = y_test_blsmote.values[:]\n",
        "model = Sequential()\n",
        "model.add(LSTM(64, input_shape=(27, 1), return_sequences=True))\n",
        "model.add(LSTM(32))\n",
        "model.add(Dense(1, activation='sigmoid'))\n",
        "model.compile(loss='binary_crossentropy', optimizer='adam', metrics=['AUC', 'accuracy', 'Recall'])\n",
        "model.fit(X_nump, y_nump, epochs=10, batch_size=128, validation_data=(X_nump_t, y_nump_t))\n",
        "X_n = np.expand_dims(X_test.values[:],axis = 2)\n",
        "y_n = y_test.values[:]\n",
        "ypred = model.predict(X_n)\n",
        "predlabels = [int(p>=0.5) for p in ypred]\n",
        "print(\"LSTM Accuracy:\",metrics.accuracy_score(y_test, predlabels))\n",
        "print(\"LSTM Recall:\",metrics.recall_score(y_test, predlabels))\n",
        "cf_matrix = metrics.confusion_matrix(y_test,predlabels)"
      ]
    },
    {
      "cell_type": "code",
      "execution_count": null,
      "metadata": {},
      "outputs": [],
      "source": [
        "# mean0 = final_adasyn[final_adasyn['label'] == 0].sample(30)\n",
        "# mean1 = final_adasyn[final_adasyn['label'] == 1].sample(30)\n",
        "# fvalue, pvalue = stats.ttest_ind(mean0['text_distance'], mean1['text_distance'])\n",
        "# print(fvalue, pvalue)"
      ]
    },
    {
      "cell_type": "code",
      "execution_count": null,
      "metadata": {},
      "outputs": [],
      "source": [
        "# pca = PCA(n_components = 5)\n",
        "# X_train_blsmote = pca.fit_transform(X_train_blsmote)\n",
        "# X_test_blsmote = pca.transform(X_test_blsmote)\n",
        "# explained_variance = pca.explained_variance_ratio_\n",
        "# explained_variance"
      ]
    }
  ],
  "metadata": {
    "accelerator": "TPU",
    "colab": {
      "include_colab_link": true,
      "provenance": []
    },
    "gpuClass": "standard",
    "kernelspec": {
      "display_name": "Python 3.9.15 ('praxis-clements')",
      "language": "python",
      "name": "python3"
    },
    "language_info": {
      "codemirror_mode": {
        "name": "ipython",
        "version": 3
      },
      "file_extension": ".py",
      "mimetype": "text/x-python",
      "name": "python",
      "nbconvert_exporter": "python",
      "pygments_lexer": "ipython3",
      "version": "3.9.16"
    },
    "orig_nbformat": 4,
    "vscode": {
      "interpreter": {
        "hash": "0e4ed65ac9cd06e325be5e4053efe5dbb28567580420031f65d0d231df994926"
      }
    }
  },
  "nbformat": 4,
  "nbformat_minor": 0
}
