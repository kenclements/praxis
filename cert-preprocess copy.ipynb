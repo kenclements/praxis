{
  "cells": [
    {
      "cell_type": "code",
      "execution_count": 1,
      "metadata": {
        "colab": {
          "base_uri": "https://localhost:8080/"
        },
        "id": "lN5-AcoypUan",
        "outputId": "27a0d132-984b-4db2-973c-c2482bbe5db1"
      },
      "outputs": [],
      "source": [
        "#!nvidia-smi"
      ]
    },
    {
      "cell_type": "code",
      "execution_count": 2,
      "metadata": {
        "colab": {
          "base_uri": "https://localhost:8080/"
        },
        "id": "sI_JO6jFrD7Z",
        "outputId": "54588cba-2cf6-4cf6-d06a-8c75d47e77d7"
      },
      "outputs": [],
      "source": [
        "# from google.colab import drive\n",
        "# drive.mount('/content/drive')"
      ]
    },
    {
      "cell_type": "code",
      "execution_count": 3,
      "metadata": {
        "id": "SpDcPu8tmmK0"
      },
      "outputs": [],
      "source": [
        "import pandas as pd\n",
        "import numpy as np\n",
        "import matplotlib.pyplot as plt\n",
        "import seaborn as sb\n",
        "import re\n",
        "import datetime\n",
        "\n",
        "# #Vectorization and Tokenizing\n",
        "from sklearn.feature_extraction.text import TfidfVectorizer, CountVectorizer\n",
        "from sklearn.preprocessing import MaxAbsScaler\n",
        "\n",
        "import nltk\n",
        "from nltk.corpus import stopwords\n",
        "from nltk.tokenize import word_tokenize\n",
        "from nltk import pos_tag\n",
        "from nltk.stem import PorterStemmer\n",
        "from nltk.stem import LancasterStemmer\n",
        "\n",
        "\n",
        "# #DNN Modules\n",
        "# import torch\n",
        "# import tensorflow as tf\n",
        "# from tensorflow.keras import layers\n",
        "# from tensorflow.keras.models import Sequential\n",
        "# from tensorflow.keras.layers import Dense\n",
        "# from tensorflow.keras.layers import InputLayer\n",
        "# from tensorflow.keras import losses\n",
        "# from tensorflow.keras.regularizers import L2\n",
        "# from tensorflow.keras.utils import plot_model\n",
        "# from tensorflow.keras.layers import TextVectorization\n",
        "\n",
        "\n",
        "# #Models\n",
        "# from sklearn.ensemble import AdaBoostClassifier\n",
        "# from sklearn.neighbors import KNeighborsClassifier\n",
        "# from sklearn.svm import SVC\n",
        "# from sklearn.linear_model import LogisticRegression\n",
        "# from sklearn.naive_bayes import GaussianNB\n",
        "# from sklearn.linear_model import LinearRegression\n",
        "\n",
        "\n",
        "# #Metrics and Testing\n",
        "# from sklearn.model_selection import train_test_split\n",
        "# from sklearn import metrics\n",
        "# from sklearn.metrics import accuracy_score\n",
        "# from sklearn.metrics import confusion_matrix"
      ]
    },
    {
      "cell_type": "code",
      "execution_count": 4,
      "metadata": {
        "id": "oR_xocCCmmK3"
      },
      "outputs": [],
      "source": [
        "#My Lenovo\n",
        "#df1 = pd.read_csv('/Data/CERT/r4.2/logon.csv')\n",
        "#df2 = pd.read_csv('/Data/CERT/r4.2/device.csv')\n",
        "#df3 = pd.read_csv('/Data/CERT/r4.2/email.csv')\n",
        "#df4 = pd.read_csv('/Data/CERT/r4.2/file.csv')\n",
        "#df5 = pd.read_csv('/Data/CERT/r4.2/http.csv')\n",
        "#df6 = pd.read_csv('/Data/CERT/r4.2/psychometric.csv')\n",
        "\n",
        "#My MacBook\n",
        "df1 = pd.read_csv('/Users/ken.clements/code/praxis/CERT42/logon.csv')\n",
        "df2 = pd.read_csv('/Users/ken.clements/code/praxis/CERT42/device.csv')\n",
        "df3 = pd.read_csv('/Users/ken.clements/code/praxis/CERT42/email.csv')\n",
        "df4 = pd.read_csv('/Users/ken.clements/code/praxis/CERT42/file.csv')\n",
        "df5 = pd.read_csv('/Users/ken.clements/code/praxis/CERT42/http.csv')\n",
        "ans = pd.read_csv('/Users/ken.clements/code/praxis/CERT42/answers/answers.csv')\n",
        "#df6 = pd.read_csv('/Users/ken.clements/code/praxis/CERT42/psychometric.csv')\n",
        "\n",
        "\n",
        "#Google Drive - Colab\n",
        "# df1 = pd.read_csv('/content/drive/MyDrive/Praxis/data/CERT42/logon.csv')\n",
        "# df2 = pd.read_csv('/content/drive/MyDrive/Praxis/data/CERT42/device.csv')\n",
        "# df3 = pd.read_csv('/content/drive/MyDrive/Praxis/data/CERT42/http.csv')\n",
        "# df4 = pd.read_csv('/content/drive/MyDrive/Praxis/data/CERT42/email.csv')\n",
        "# df5 = pd.read_csv('/content/drive/MyDrive/Praxis/data/CERT42/file.csv')\n",
        "# df6 = pd.read_csv('/content/drive/MyDrive/Praxis/data/CERT42/psychometric.csv')"
      ]
    },
    {
      "cell_type": "code",
      "execution_count": 5,
      "metadata": {},
      "outputs": [],
      "source": [
        "START = datetime.date(2010,1,1)\n",
        "END = datetime.date(2010,12,31)"
      ]
    },
    {
      "cell_type": "code",
      "execution_count": 6,
      "metadata": {},
      "outputs": [],
      "source": [
        "df1['date'] = pd.to_datetime(df1['date'])\n",
        "df2['date'] = pd.to_datetime(df2['date'])\n",
        "df3['date'] = pd.to_datetime(df3['date'])\n",
        "df4['date'] = pd.to_datetime(df4['date'])\n",
        "df5['date'] = pd.to_datetime(df5['date'])\n",
        "\n",
        "df1['day_date'] = pd.to_datetime(df1['date']).dt.date\n",
        "df2['day_date'] = pd.to_datetime(df2['date']).dt.date\n",
        "df3['day_date'] = pd.to_datetime(df3['date']).dt.date\n",
        "df4['day_date'] = pd.to_datetime(df4['date']).dt.date\n",
        "df5['day_date'] = pd.to_datetime(df5['date']).dt.date"
      ]
    },
    {
      "cell_type": "code",
      "execution_count": 7,
      "metadata": {},
      "outputs": [],
      "source": [
        "df3['activity'] = \"email\"\n",
        "df4['activity'] = \"file\"\n",
        "df5['activity'] = \"http\""
      ]
    },
    {
      "cell_type": "code",
      "execution_count": 8,
      "metadata": {},
      "outputs": [],
      "source": [
        "df1_bs = df1[((df1['day_date'] >= START) & (df1['day_date'] <= END))]\n",
        "df2_bs = df2[((df2['day_date'] >= START) & (df2['day_date'] <= END))]\n",
        "df3_bs = df3[((df3['day_date'] >= START) & (df3['day_date'] <= END))]\n",
        "df4_bs = df4[((df4['day_date'] >= START) & (df4['day_date'] <= END))]\n",
        "df5_bs = df5[((df5['day_date'] >= START) & (df5['day_date'] <= END))]"
      ]
    },
    {
      "cell_type": "code",
      "execution_count": 9,
      "metadata": {},
      "outputs": [
        {
          "name": "stderr",
          "output_type": "stream",
          "text": [
            "[nltk_data] Downloading package averaged_perceptron_tagger to\n",
            "[nltk_data]     /Users/ken.clements/nltk_data...\n",
            "[nltk_data]   Package averaged_perceptron_tagger is already up-to-\n",
            "[nltk_data]       date!\n",
            "[nltk_data] Downloading package wordnet to\n",
            "[nltk_data]     /Users/ken.clements/nltk_data...\n",
            "[nltk_data]   Package wordnet is already up-to-date!\n",
            "[nltk_data] Downloading package omw-1.4 to\n",
            "[nltk_data]     /Users/ken.clements/nltk_data...\n",
            "[nltk_data]   Package omw-1.4 is already up-to-date!\n"
          ]
        }
      ],
      "source": [
        "nltk.download('averaged_perceptron_tagger')\n",
        "nltk.download('wordnet')\n",
        "nltk.download('omw-1.4')\n",
        "def prepare_text(pretext):\n",
        "\n",
        "    # tokenize mission.\n",
        "    tokens = word_tokenize(pretext, language=\"english\", preserve_line=True)\n",
        "\n",
        "    # Parts of speech (POS) tag tokens.\n",
        "    token_tag = pos_tag(tokens)\n",
        "    \n",
        "    # Only include some of the POS tags.\n",
        "    include_tags = ['VBN', 'VBD', 'JJ', 'JJS', 'JJR', 'CD', 'NN', 'NNS', 'NNP', 'NNPS']\n",
        "    filtered_tokens = (tok for tok, tag in token_tag if tag in include_tags)    \n",
        "    \n",
        "    #stem words.\n",
        "    stemmed_tokens = (lancaster.stem(tok) for tok in filtered_tokens)\n",
        "\n",
        "    #lemm words.\n",
        "    lemmed_words = (lemmatizer.lemmatize(tok) for tok in stemmed_tokens)\n",
        "\n",
        "    lower_words = [str.lower(tok) for tok in lemmed_words]\n",
        "\n",
        "    #x = cv.fit_transform(tokens).toarray()\n",
        "\n",
        "    joined = \" \".join(lower_words)\n",
        "\n",
        "    return(joined)\n",
        "\n",
        "#ps = PorterStemmer()\n",
        "lancaster = LancasterStemmer()\n",
        "lemmatizer = nltk.stem.WordNetLemmatizer()"
      ]
    },
    {
      "cell_type": "code",
      "execution_count": 10,
      "metadata": {},
      "outputs": [
        {
          "name": "stderr",
          "output_type": "stream",
          "text": [
            "/var/folders/p4/svf85_b50jvfz4dvm3yf5h0c0000gq/T/ipykernel_81286/614576161.py:1: SettingWithCopyWarning: \n",
            "A value is trying to be set on a copy of a slice from a DataFrame.\n",
            "Try using .loc[row_indexer,col_indexer] = value instead\n",
            "\n",
            "See the caveats in the documentation: https://pandas.pydata.org/pandas-docs/stable/user_guide/indexing.html#returning-a-view-versus-a-copy\n",
            "  df3_bs['df3tokenized'] = df3_bs['content'].apply(prepare_text)\n",
            "/var/folders/p4/svf85_b50jvfz4dvm3yf5h0c0000gq/T/ipykernel_81286/614576161.py:2: SettingWithCopyWarning: \n",
            "A value is trying to be set on a copy of a slice from a DataFrame.\n",
            "Try using .loc[row_indexer,col_indexer] = value instead\n",
            "\n",
            "See the caveats in the documentation: https://pandas.pydata.org/pandas-docs/stable/user_guide/indexing.html#returning-a-view-versus-a-copy\n",
            "  df4_bs['df4tokenized'] = df4_bs['content'].apply(prepare_text)\n",
            "/var/folders/p4/svf85_b50jvfz4dvm3yf5h0c0000gq/T/ipykernel_81286/614576161.py:3: SettingWithCopyWarning: \n",
            "A value is trying to be set on a copy of a slice from a DataFrame.\n",
            "Try using .loc[row_indexer,col_indexer] = value instead\n",
            "\n",
            "See the caveats in the documentation: https://pandas.pydata.org/pandas-docs/stable/user_guide/indexing.html#returning-a-view-versus-a-copy\n",
            "  df5_bs['df5tokenized'] = df5_bs['content'].apply(prepare_text)\n"
          ]
        }
      ],
      "source": [
        "df3_bs['df3tokenized'] = df3_bs['content'].apply(prepare_text)\n",
        "df4_bs['df4tokenized'] = df4_bs['content'].apply(prepare_text)\n",
        "df5_bs['df5tokenized'] = df5_bs['content'].apply(prepare_text)"
      ]
    },
    {
      "cell_type": "code",
      "execution_count": 11,
      "metadata": {},
      "outputs": [
        {
          "name": "stderr",
          "output_type": "stream",
          "text": [
            "[nltk_data] Downloading package stopwords to\n",
            "[nltk_data]     /Users/ken.clements/nltk_data...\n",
            "[nltk_data]   Package stopwords is already up-to-date!\n"
          ]
        }
      ],
      "source": [
        "nltk.download('stopwords')\n",
        "stops = set(stopwords.words('english'))\n",
        "tfidfvectorizer = TfidfVectorizer(stop_words='english', analyzer='word' )"
      ]
    },
    {
      "cell_type": "code",
      "execution_count": 12,
      "metadata": {},
      "outputs": [
        {
          "name": "stderr",
          "output_type": "stream",
          "text": [
            "/var/folders/p4/svf85_b50jvfz4dvm3yf5h0c0000gq/T/ipykernel_81286/1939301759.py:2: SettingWithCopyWarning: \n",
            "A value is trying to be set on a copy of a slice from a DataFrame.\n",
            "Try using .loc[row_indexer,col_indexer] = value instead\n",
            "\n",
            "See the caveats in the documentation: https://pandas.pydata.org/pandas-docs/stable/user_guide/indexing.html#returning-a-view-versus-a-copy\n",
            "  df3_bs['df3tfidf_mean'] = ((tfidf_df3.sum(axis=1).transpose()) / (tfidf_df3.getnnz(axis=1))).transpose()\n"
          ]
        }
      ],
      "source": [
        "tfidf_df3 = tfidfvectorizer.fit_transform(df3_bs['df3tokenized'])\n",
        "df3_bs['df3tfidf_mean'] = ((tfidf_df3.sum(axis=1).transpose()) / (tfidf_df3.getnnz(axis=1))).transpose()\n"
      ]
    },
    {
      "cell_type": "code",
      "execution_count": 13,
      "metadata": {},
      "outputs": [
        {
          "name": "stderr",
          "output_type": "stream",
          "text": [
            "/var/folders/p4/svf85_b50jvfz4dvm3yf5h0c0000gq/T/ipykernel_81286/3384156628.py:2: SettingWithCopyWarning: \n",
            "A value is trying to be set on a copy of a slice from a DataFrame.\n",
            "Try using .loc[row_indexer,col_indexer] = value instead\n",
            "\n",
            "See the caveats in the documentation: https://pandas.pydata.org/pandas-docs/stable/user_guide/indexing.html#returning-a-view-versus-a-copy\n",
            "  df4_bs['df4tfidf_mean'] = ((tfidf_df4.sum(axis=1).transpose()) / (tfidf_df4.getnnz(axis=1))).transpose()\n"
          ]
        }
      ],
      "source": [
        "tfidf_df4 = tfidfvectorizer.fit_transform(df4_bs['df4tokenized'])\n",
        "df4_bs['df4tfidf_mean'] = ((tfidf_df4.sum(axis=1).transpose()) / (tfidf_df4.getnnz(axis=1))).transpose()"
      ]
    },
    {
      "cell_type": "code",
      "execution_count": 14,
      "metadata": {},
      "outputs": [
        {
          "name": "stderr",
          "output_type": "stream",
          "text": [
            "/var/folders/p4/svf85_b50jvfz4dvm3yf5h0c0000gq/T/ipykernel_81286/726549895.py:2: RuntimeWarning: invalid value encountered in divide\n",
            "  df5_bs['df5tfidf_mean'] = ((tfidf_df5.sum(axis=1).transpose()) / (tfidf_df5.getnnz(axis=1))).transpose()\n",
            "/var/folders/p4/svf85_b50jvfz4dvm3yf5h0c0000gq/T/ipykernel_81286/726549895.py:2: SettingWithCopyWarning: \n",
            "A value is trying to be set on a copy of a slice from a DataFrame.\n",
            "Try using .loc[row_indexer,col_indexer] = value instead\n",
            "\n",
            "See the caveats in the documentation: https://pandas.pydata.org/pandas-docs/stable/user_guide/indexing.html#returning-a-view-versus-a-copy\n",
            "  df5_bs['df5tfidf_mean'] = ((tfidf_df5.sum(axis=1).transpose()) / (tfidf_df5.getnnz(axis=1))).transpose()\n"
          ]
        }
      ],
      "source": [
        "tfidf_df5 = tfidfvectorizer.fit_transform(df5_bs['df5tokenized'])\n",
        "df5_bs['df5tfidf_mean'] = ((tfidf_df5.sum(axis=1).transpose()) / (tfidf_df5.getnnz(axis=1))).transpose()"
      ]
    },
    {
      "attachments": {},
      "cell_type": "markdown",
      "metadata": {},
      "source": [
        "Aggregate all data"
      ]
    },
    {
      "cell_type": "code",
      "execution_count": 15,
      "metadata": {},
      "outputs": [],
      "source": [
        "# df1['date'] = pd.to_datetime(df1['date'])\n",
        "# df2['date'] = pd.to_datetime(df2['date'])"
      ]
    },
    {
      "cell_type": "code",
      "execution_count": 16,
      "metadata": {},
      "outputs": [],
      "source": [
        "# df1['day_date'] = pd.to_datetime(df1['date']).dt.date\n",
        "# df2['day_date'] = pd.to_datetime(df2['date']).dt.date"
      ]
    },
    {
      "cell_type": "code",
      "execution_count": 17,
      "metadata": {},
      "outputs": [],
      "source": [
        "# df1['day_date'] = pd.to_datetime(df1['day_date'])\n",
        "# df2['day_date'] = pd.to_datetime(df2['day_date'])"
      ]
    },
    {
      "cell_type": "code",
      "execution_count": 18,
      "metadata": {},
      "outputs": [],
      "source": [
        "\n",
        "# df1_bs = df1[((df1['day_date'] >= datetime.date(2010, 7, 1)) & (df1['day_date'] <= datetime.date(2010, 7, 15)))]\n",
        "# df2_bs = df2[((df2['day_date'] >= datetime.date(2010, 7, 1)) & (df2['day_date'] <= datetime.date(2010, 7, 15)))]\n",
        "\n",
        "# df1_bs = df1[((df1['day_date'] <= datetime.datetime(2010, 7, 7)) & (df1['day_date'] >= datetime.datetime(2010, 7, 1)))]\n",
        "# df2_bs = df2[((df1['day_date'] <= datetime.datetime(2010, 7, 7)) & (df1['day_date'] >= datetime.datetime(2010, 7, 1)))]"
      ]
    },
    {
      "cell_type": "code",
      "execution_count": 19,
      "metadata": {
        "id": "To-v9XnyVOfW",
        "outputId": "cbae14cf-3cba-4120-e07f-c1a958848557"
      },
      "outputs": [],
      "source": [
        "df_merged = pd.concat([df1_bs, df2_bs, df3_bs, df4_bs, df5_bs])"
      ]
    },
    {
      "cell_type": "code",
      "execution_count": 20,
      "metadata": {},
      "outputs": [],
      "source": [
        "df_merged['label'] = 'normal'"
      ]
    },
    {
      "cell_type": "code",
      "execution_count": 21,
      "metadata": {},
      "outputs": [],
      "source": [
        "df_merged.loc[df_merged['id'].isin(ans['id']),['label']] = 'bad'"
      ]
    },
    {
      "cell_type": "code",
      "execution_count": 22,
      "metadata": {},
      "outputs": [],
      "source": [
        "dates = df_merged['day_date']\n",
        "dates = dates.unique()"
      ]
    },
    {
      "cell_type": "code",
      "execution_count": 23,
      "metadata": {},
      "outputs": [],
      "source": [
        "dfwow = []\n",
        "for d in dates:\n",
        "    dayevents = df_merged.loc[(df_merged['day_date'] == d)]\n",
        "    users = dayevents['user']\n",
        "    users = users.unique()\n",
        "    for u in users:\n",
        "        userd = dayevents[(dayevents['user'] == u)]\n",
        "        date = d\n",
        "        username = u\n",
        "        login_count = userd[userd['activity'] == 'Logon'].shape[0]\n",
        "        logout_count = userd[userd['activity'] == 'Logoff'].shape[0]\n",
        "        email_count = userd[userd['to'].notnull()].shape[0]\n",
        "        file_count = userd[userd['filename'].notnull()].shape[0]\n",
        "        http_count = userd[userd['url'].notnull()].shape[0]\n",
        "        start_time = userd['date'].iloc[0]\n",
        "        end_time = userd['date'].iloc[-1]\n",
        "        tfidf3_mean = userd['df3tfidf_mean'].mean()\n",
        "        tfidf4_mean = userd['df4tfidf_mean'].mean()\n",
        "        tfidf5_mean = userd['df5tfidf_mean'].mean()\n",
        "        if (userd[(userd['label'] == 'bad')].shape[0] > 0): label='bad'\n",
        "        else: label = 'normal'\n",
        "        dfwow.append([date, username, login_count, logout_count, email_count, file_count, http_count, start_time, end_time, tfidf3_mean, tfidf4_mean, tfidf5_mean, label])\n"
      ]
    },
    {
      "cell_type": "code",
      "execution_count": 24,
      "metadata": {},
      "outputs": [
        {
          "data": {
            "text/plain": [
              "246423"
            ]
          },
          "execution_count": 24,
          "metadata": {},
          "output_type": "execute_result"
        }
      ],
      "source": [
        "len(dfwow)"
      ]
    },
    {
      "cell_type": "code",
      "execution_count": 25,
      "metadata": {},
      "outputs": [],
      "source": [
        "final = pd.DataFrame(dfwow, columns=['date', 'username', 'login_count', 'logout_count', 'email_count', 'file_count', 'http_count', 'start_time', 'end_time', 'tfidf3_mean', 'tfidf4_mean', 'tfidf5_mean', 'label'])\n"
      ]
    },
    {
      "cell_type": "code",
      "execution_count": 26,
      "metadata": {},
      "outputs": [
        {
          "data": {
            "text/html": [
              "<div>\n",
              "<style scoped>\n",
              "    .dataframe tbody tr th:only-of-type {\n",
              "        vertical-align: middle;\n",
              "    }\n",
              "\n",
              "    .dataframe tbody tr th {\n",
              "        vertical-align: top;\n",
              "    }\n",
              "\n",
              "    .dataframe thead th {\n",
              "        text-align: right;\n",
              "    }\n",
              "</style>\n",
              "<table border=\"1\" class=\"dataframe\">\n",
              "  <thead>\n",
              "    <tr style=\"text-align: right;\">\n",
              "      <th></th>\n",
              "      <th>date</th>\n",
              "      <th>username</th>\n",
              "      <th>login_count</th>\n",
              "      <th>logout_count</th>\n",
              "      <th>email_count</th>\n",
              "      <th>file_count</th>\n",
              "      <th>http_count</th>\n",
              "      <th>start_time</th>\n",
              "      <th>end_time</th>\n",
              "      <th>tfidf3_mean</th>\n",
              "      <th>tfidf4_mean</th>\n",
              "      <th>tfidf5_mean</th>\n",
              "      <th>label</th>\n",
              "    </tr>\n",
              "  </thead>\n",
              "  <tbody>\n",
              "    <tr>\n",
              "      <th>112111</th>\n",
              "      <td>2010-06-10</td>\n",
              "      <td>CSC0217</td>\n",
              "      <td>8</td>\n",
              "      <td>8</td>\n",
              "      <td>13</td>\n",
              "      <td>1</td>\n",
              "      <td>117</td>\n",
              "      <td>2010-06-10 04:54:27</td>\n",
              "      <td>2010-06-10 20:46:23</td>\n",
              "      <td>0.190913</td>\n",
              "      <td>0.104145</td>\n",
              "      <td>0.176544</td>\n",
              "      <td>bad</td>\n",
              "    </tr>\n",
              "    <tr>\n",
              "      <th>112250</th>\n",
              "      <td>2010-06-10</td>\n",
              "      <td>FAW0032</td>\n",
              "      <td>1</td>\n",
              "      <td>1</td>\n",
              "      <td>16</td>\n",
              "      <td>0</td>\n",
              "      <td>143</td>\n",
              "      <td>2010-06-10 07:19:00</td>\n",
              "      <td>2010-06-10 15:18:02</td>\n",
              "      <td>0.186064</td>\n",
              "      <td>NaN</td>\n",
              "      <td>0.171141</td>\n",
              "      <td>bad</td>\n",
              "    </tr>\n",
              "    <tr>\n",
              "      <th>113063</th>\n",
              "      <td>2010-06-11</td>\n",
              "      <td>CSC0217</td>\n",
              "      <td>7</td>\n",
              "      <td>7</td>\n",
              "      <td>11</td>\n",
              "      <td>0</td>\n",
              "      <td>114</td>\n",
              "      <td>2010-06-11 00:15:51</td>\n",
              "      <td>2010-06-11 22:22:21</td>\n",
              "      <td>0.170272</td>\n",
              "      <td>NaN</td>\n",
              "      <td>0.165787</td>\n",
              "      <td>bad</td>\n",
              "    </tr>\n",
              "    <tr>\n",
              "      <th>113266</th>\n",
              "      <td>2010-06-11</td>\n",
              "      <td>FAW0032</td>\n",
              "      <td>2</td>\n",
              "      <td>2</td>\n",
              "      <td>15</td>\n",
              "      <td>0</td>\n",
              "      <td>143</td>\n",
              "      <td>2010-06-11 07:35:00</td>\n",
              "      <td>2010-06-11 15:03:25</td>\n",
              "      <td>0.170810</td>\n",
              "      <td>NaN</td>\n",
              "      <td>0.175687</td>\n",
              "      <td>bad</td>\n",
              "    </tr>\n",
              "    <tr>\n",
              "      <th>114950</th>\n",
              "      <td>2010-06-14</td>\n",
              "      <td>PNL0301</td>\n",
              "      <td>1</td>\n",
              "      <td>1</td>\n",
              "      <td>1</td>\n",
              "      <td>5</td>\n",
              "      <td>15</td>\n",
              "      <td>2010-06-14 08:54:00</td>\n",
              "      <td>2010-06-14 17:45:50</td>\n",
              "      <td>0.172077</td>\n",
              "      <td>0.150751</td>\n",
              "      <td>0.173485</td>\n",
              "      <td>bad</td>\n",
              "    </tr>\n",
              "    <tr>\n",
              "      <th>...</th>\n",
              "      <td>...</td>\n",
              "      <td>...</td>\n",
              "      <td>...</td>\n",
              "      <td>...</td>\n",
              "      <td>...</td>\n",
              "      <td>...</td>\n",
              "      <td>...</td>\n",
              "      <td>...</td>\n",
              "      <td>...</td>\n",
              "      <td>...</td>\n",
              "      <td>...</td>\n",
              "      <td>...</td>\n",
              "      <td>...</td>\n",
              "    </tr>\n",
              "    <tr>\n",
              "      <th>245032</th>\n",
              "      <td>2010-12-29</td>\n",
              "      <td>IKR0401</td>\n",
              "      <td>1</td>\n",
              "      <td>1</td>\n",
              "      <td>12</td>\n",
              "      <td>0</td>\n",
              "      <td>100</td>\n",
              "      <td>2010-12-29 08:03:00</td>\n",
              "      <td>2010-12-29 18:56:08</td>\n",
              "      <td>0.171989</td>\n",
              "      <td>NaN</td>\n",
              "      <td>0.172006</td>\n",
              "      <td>bad</td>\n",
              "    </tr>\n",
              "    <tr>\n",
              "      <th>245112</th>\n",
              "      <td>2010-12-29</td>\n",
              "      <td>CCL0068</td>\n",
              "      <td>1</td>\n",
              "      <td>1</td>\n",
              "      <td>9</td>\n",
              "      <td>2</td>\n",
              "      <td>96</td>\n",
              "      <td>2010-12-29 08:10:00</td>\n",
              "      <td>2010-12-29 17:52:12</td>\n",
              "      <td>0.170253</td>\n",
              "      <td>0.137990</td>\n",
              "      <td>0.170445</td>\n",
              "      <td>bad</td>\n",
              "    </tr>\n",
              "    <tr>\n",
              "      <th>245844</th>\n",
              "      <td>2010-12-30</td>\n",
              "      <td>IKR0401</td>\n",
              "      <td>1</td>\n",
              "      <td>1</td>\n",
              "      <td>9</td>\n",
              "      <td>0</td>\n",
              "      <td>101</td>\n",
              "      <td>2010-12-30 08:01:00</td>\n",
              "      <td>2010-12-30 18:50:36</td>\n",
              "      <td>0.173158</td>\n",
              "      <td>NaN</td>\n",
              "      <td>0.170731</td>\n",
              "      <td>bad</td>\n",
              "    </tr>\n",
              "    <tr>\n",
              "      <th>245966</th>\n",
              "      <td>2010-12-30</td>\n",
              "      <td>CCL0068</td>\n",
              "      <td>1</td>\n",
              "      <td>1</td>\n",
              "      <td>10</td>\n",
              "      <td>1</td>\n",
              "      <td>105</td>\n",
              "      <td>2010-12-30 08:07:00</td>\n",
              "      <td>2010-12-30 17:32:41</td>\n",
              "      <td>0.162939</td>\n",
              "      <td>0.138390</td>\n",
              "      <td>0.171746</td>\n",
              "      <td>bad</td>\n",
              "    </tr>\n",
              "    <tr>\n",
              "      <th>246068</th>\n",
              "      <td>2010-12-30</td>\n",
              "      <td>KRL0501</td>\n",
              "      <td>1</td>\n",
              "      <td>1</td>\n",
              "      <td>15</td>\n",
              "      <td>3</td>\n",
              "      <td>162</td>\n",
              "      <td>2010-12-30 08:24:00</td>\n",
              "      <td>2010-12-30 17:06:24</td>\n",
              "      <td>0.176113</td>\n",
              "      <td>0.161379</td>\n",
              "      <td>0.171897</td>\n",
              "      <td>bad</td>\n",
              "    </tr>\n",
              "  </tbody>\n",
              "</table>\n",
              "<p>740 rows × 13 columns</p>\n",
              "</div>"
            ],
            "text/plain": [
              "              date username  login_count  logout_count  email_count  \\\n",
              "112111  2010-06-10  CSC0217            8             8           13   \n",
              "112250  2010-06-10  FAW0032            1             1           16   \n",
              "113063  2010-06-11  CSC0217            7             7           11   \n",
              "113266  2010-06-11  FAW0032            2             2           15   \n",
              "114950  2010-06-14  PNL0301            1             1            1   \n",
              "...            ...      ...          ...           ...          ...   \n",
              "245032  2010-12-29  IKR0401            1             1           12   \n",
              "245112  2010-12-29  CCL0068            1             1            9   \n",
              "245844  2010-12-30  IKR0401            1             1            9   \n",
              "245966  2010-12-30  CCL0068            1             1           10   \n",
              "246068  2010-12-30  KRL0501            1             1           15   \n",
              "\n",
              "        file_count  http_count          start_time            end_time  \\\n",
              "112111           1         117 2010-06-10 04:54:27 2010-06-10 20:46:23   \n",
              "112250           0         143 2010-06-10 07:19:00 2010-06-10 15:18:02   \n",
              "113063           0         114 2010-06-11 00:15:51 2010-06-11 22:22:21   \n",
              "113266           0         143 2010-06-11 07:35:00 2010-06-11 15:03:25   \n",
              "114950           5          15 2010-06-14 08:54:00 2010-06-14 17:45:50   \n",
              "...            ...         ...                 ...                 ...   \n",
              "245032           0         100 2010-12-29 08:03:00 2010-12-29 18:56:08   \n",
              "245112           2          96 2010-12-29 08:10:00 2010-12-29 17:52:12   \n",
              "245844           0         101 2010-12-30 08:01:00 2010-12-30 18:50:36   \n",
              "245966           1         105 2010-12-30 08:07:00 2010-12-30 17:32:41   \n",
              "246068           3         162 2010-12-30 08:24:00 2010-12-30 17:06:24   \n",
              "\n",
              "        tfidf3_mean  tfidf4_mean  tfidf5_mean label  \n",
              "112111     0.190913     0.104145     0.176544   bad  \n",
              "112250     0.186064          NaN     0.171141   bad  \n",
              "113063     0.170272          NaN     0.165787   bad  \n",
              "113266     0.170810          NaN     0.175687   bad  \n",
              "114950     0.172077     0.150751     0.173485   bad  \n",
              "...             ...          ...          ...   ...  \n",
              "245032     0.171989          NaN     0.172006   bad  \n",
              "245112     0.170253     0.137990     0.170445   bad  \n",
              "245844     0.173158          NaN     0.170731   bad  \n",
              "245966     0.162939     0.138390     0.171746   bad  \n",
              "246068     0.176113     0.161379     0.171897   bad  \n",
              "\n",
              "[740 rows x 13 columns]"
            ]
          },
          "execution_count": 26,
          "metadata": {},
          "output_type": "execute_result"
        }
      ],
      "source": [
        "final.loc[(final['label'] == 'bad')]"
      ]
    },
    {
      "cell_type": "code",
      "execution_count": 28,
      "metadata": {},
      "outputs": [
        {
          "data": {
            "text/html": [
              "<div>\n",
              "<style scoped>\n",
              "    .dataframe tbody tr th:only-of-type {\n",
              "        vertical-align: middle;\n",
              "    }\n",
              "\n",
              "    .dataframe tbody tr th {\n",
              "        vertical-align: top;\n",
              "    }\n",
              "\n",
              "    .dataframe thead th {\n",
              "        text-align: right;\n",
              "    }\n",
              "</style>\n",
              "<table border=\"1\" class=\"dataframe\">\n",
              "  <thead>\n",
              "    <tr style=\"text-align: right;\">\n",
              "      <th></th>\n",
              "      <th>date</th>\n",
              "      <th>username</th>\n",
              "      <th>login_count</th>\n",
              "      <th>logout_count</th>\n",
              "      <th>email_count</th>\n",
              "      <th>file_count</th>\n",
              "      <th>http_count</th>\n",
              "      <th>start_time</th>\n",
              "      <th>end_time</th>\n",
              "      <th>tfidf3_mean</th>\n",
              "      <th>tfidf4_mean</th>\n",
              "      <th>tfidf5_mean</th>\n",
              "      <th>label</th>\n",
              "    </tr>\n",
              "  </thead>\n",
              "  <tbody>\n",
              "    <tr>\n",
              "      <th>0</th>\n",
              "      <td>2010-01-02</td>\n",
              "      <td>NGF0157</td>\n",
              "      <td>2</td>\n",
              "      <td>1</td>\n",
              "      <td>9</td>\n",
              "      <td>0</td>\n",
              "      <td>90</td>\n",
              "      <td>2010-01-02 06:49:00</td>\n",
              "      <td>2010-01-02 17:01:34</td>\n",
              "      <td>0.187988</td>\n",
              "      <td>NaN</td>\n",
              "      <td>0.170078</td>\n",
              "      <td>normal</td>\n",
              "    </tr>\n",
              "    <tr>\n",
              "      <th>1</th>\n",
              "      <td>2010-01-02</td>\n",
              "      <td>LRR0148</td>\n",
              "      <td>3</td>\n",
              "      <td>2</td>\n",
              "      <td>14</td>\n",
              "      <td>1</td>\n",
              "      <td>143</td>\n",
              "      <td>2010-01-02 06:50:00</td>\n",
              "      <td>2010-01-02 17:02:30</td>\n",
              "      <td>0.176234</td>\n",
              "      <td>0.137946</td>\n",
              "      <td>0.177495</td>\n",
              "      <td>normal</td>\n",
              "    </tr>\n",
              "    <tr>\n",
              "      <th>2</th>\n",
              "      <td>2010-01-02</td>\n",
              "      <td>IRM0931</td>\n",
              "      <td>3</td>\n",
              "      <td>2</td>\n",
              "      <td>9</td>\n",
              "      <td>0</td>\n",
              "      <td>95</td>\n",
              "      <td>2010-01-02 07:00:00</td>\n",
              "      <td>2010-01-02 16:14:34</td>\n",
              "      <td>0.234186</td>\n",
              "      <td>NaN</td>\n",
              "      <td>0.169313</td>\n",
              "      <td>normal</td>\n",
              "    </tr>\n",
              "    <tr>\n",
              "      <th>3</th>\n",
              "      <td>2010-01-02</td>\n",
              "      <td>MOH0273</td>\n",
              "      <td>1</td>\n",
              "      <td>1</td>\n",
              "      <td>9</td>\n",
              "      <td>23</td>\n",
              "      <td>95</td>\n",
              "      <td>2010-01-02 07:00:00</td>\n",
              "      <td>2010-01-02 17:02:39</td>\n",
              "      <td>0.173157</td>\n",
              "      <td>0.153119</td>\n",
              "      <td>0.170390</td>\n",
              "      <td>normal</td>\n",
              "    </tr>\n",
              "    <tr>\n",
              "      <th>4</th>\n",
              "      <td>2010-01-02</td>\n",
              "      <td>LAP0338</td>\n",
              "      <td>1</td>\n",
              "      <td>1</td>\n",
              "      <td>3</td>\n",
              "      <td>0</td>\n",
              "      <td>29</td>\n",
              "      <td>2010-01-02 07:07:00</td>\n",
              "      <td>2010-01-02 15:26:07</td>\n",
              "      <td>0.177690</td>\n",
              "      <td>NaN</td>\n",
              "      <td>0.179845</td>\n",
              "      <td>normal</td>\n",
              "    </tr>\n",
              "    <tr>\n",
              "      <th>...</th>\n",
              "      <td>...</td>\n",
              "      <td>...</td>\n",
              "      <td>...</td>\n",
              "      <td>...</td>\n",
              "      <td>...</td>\n",
              "      <td>...</td>\n",
              "      <td>...</td>\n",
              "      <td>...</td>\n",
              "      <td>...</td>\n",
              "      <td>...</td>\n",
              "      <td>...</td>\n",
              "      <td>...</td>\n",
              "      <td>...</td>\n",
              "    </tr>\n",
              "    <tr>\n",
              "      <th>246418</th>\n",
              "      <td>2010-12-31</td>\n",
              "      <td>HLH0512</td>\n",
              "      <td>1</td>\n",
              "      <td>1</td>\n",
              "      <td>3</td>\n",
              "      <td>0</td>\n",
              "      <td>29</td>\n",
              "      <td>2010-12-31 09:03:00</td>\n",
              "      <td>2010-12-31 16:56:13</td>\n",
              "      <td>0.179114</td>\n",
              "      <td>NaN</td>\n",
              "      <td>0.172772</td>\n",
              "      <td>normal</td>\n",
              "    </tr>\n",
              "    <tr>\n",
              "      <th>246419</th>\n",
              "      <td>2010-12-31</td>\n",
              "      <td>QJR0688</td>\n",
              "      <td>2</td>\n",
              "      <td>2</td>\n",
              "      <td>9</td>\n",
              "      <td>0</td>\n",
              "      <td>95</td>\n",
              "      <td>2010-12-31 09:04:00</td>\n",
              "      <td>2010-12-31 19:01:56</td>\n",
              "      <td>0.174379</td>\n",
              "      <td>NaN</td>\n",
              "      <td>0.170087</td>\n",
              "      <td>normal</td>\n",
              "    </tr>\n",
              "    <tr>\n",
              "      <th>246420</th>\n",
              "      <td>2010-12-31</td>\n",
              "      <td>JJH0292</td>\n",
              "      <td>2</td>\n",
              "      <td>1</td>\n",
              "      <td>1</td>\n",
              "      <td>0</td>\n",
              "      <td>10</td>\n",
              "      <td>2010-12-31 09:07:00</td>\n",
              "      <td>2010-12-31 17:29:27</td>\n",
              "      <td>0.158595</td>\n",
              "      <td>NaN</td>\n",
              "      <td>0.170680</td>\n",
              "      <td>normal</td>\n",
              "    </tr>\n",
              "    <tr>\n",
              "      <th>246421</th>\n",
              "      <td>2010-12-31</td>\n",
              "      <td>NMS0280</td>\n",
              "      <td>1</td>\n",
              "      <td>1</td>\n",
              "      <td>3</td>\n",
              "      <td>0</td>\n",
              "      <td>30</td>\n",
              "      <td>2010-12-31 09:16:00</td>\n",
              "      <td>2010-12-31 17:56:59</td>\n",
              "      <td>0.163554</td>\n",
              "      <td>NaN</td>\n",
              "      <td>0.171991</td>\n",
              "      <td>normal</td>\n",
              "    </tr>\n",
              "    <tr>\n",
              "      <th>246422</th>\n",
              "      <td>2010-12-31</td>\n",
              "      <td>BVC0790</td>\n",
              "      <td>2</td>\n",
              "      <td>1</td>\n",
              "      <td>9</td>\n",
              "      <td>0</td>\n",
              "      <td>95</td>\n",
              "      <td>2010-12-31 09:26:00</td>\n",
              "      <td>2010-12-31 18:19:22</td>\n",
              "      <td>0.159853</td>\n",
              "      <td>NaN</td>\n",
              "      <td>0.170587</td>\n",
              "      <td>normal</td>\n",
              "    </tr>\n",
              "  </tbody>\n",
              "</table>\n",
              "<p>245683 rows × 13 columns</p>\n",
              "</div>"
            ],
            "text/plain": [
              "              date username  login_count  logout_count  email_count  \\\n",
              "0       2010-01-02  NGF0157            2             1            9   \n",
              "1       2010-01-02  LRR0148            3             2           14   \n",
              "2       2010-01-02  IRM0931            3             2            9   \n",
              "3       2010-01-02  MOH0273            1             1            9   \n",
              "4       2010-01-02  LAP0338            1             1            3   \n",
              "...            ...      ...          ...           ...          ...   \n",
              "246418  2010-12-31  HLH0512            1             1            3   \n",
              "246419  2010-12-31  QJR0688            2             2            9   \n",
              "246420  2010-12-31  JJH0292            2             1            1   \n",
              "246421  2010-12-31  NMS0280            1             1            3   \n",
              "246422  2010-12-31  BVC0790            2             1            9   \n",
              "\n",
              "        file_count  http_count          start_time            end_time  \\\n",
              "0                0          90 2010-01-02 06:49:00 2010-01-02 17:01:34   \n",
              "1                1         143 2010-01-02 06:50:00 2010-01-02 17:02:30   \n",
              "2                0          95 2010-01-02 07:00:00 2010-01-02 16:14:34   \n",
              "3               23          95 2010-01-02 07:00:00 2010-01-02 17:02:39   \n",
              "4                0          29 2010-01-02 07:07:00 2010-01-02 15:26:07   \n",
              "...            ...         ...                 ...                 ...   \n",
              "246418           0          29 2010-12-31 09:03:00 2010-12-31 16:56:13   \n",
              "246419           0          95 2010-12-31 09:04:00 2010-12-31 19:01:56   \n",
              "246420           0          10 2010-12-31 09:07:00 2010-12-31 17:29:27   \n",
              "246421           0          30 2010-12-31 09:16:00 2010-12-31 17:56:59   \n",
              "246422           0          95 2010-12-31 09:26:00 2010-12-31 18:19:22   \n",
              "\n",
              "        tfidf3_mean  tfidf4_mean  tfidf5_mean   label  \n",
              "0          0.187988          NaN     0.170078  normal  \n",
              "1          0.176234     0.137946     0.177495  normal  \n",
              "2          0.234186          NaN     0.169313  normal  \n",
              "3          0.173157     0.153119     0.170390  normal  \n",
              "4          0.177690          NaN     0.179845  normal  \n",
              "...             ...          ...          ...     ...  \n",
              "246418     0.179114          NaN     0.172772  normal  \n",
              "246419     0.174379          NaN     0.170087  normal  \n",
              "246420     0.158595          NaN     0.170680  normal  \n",
              "246421     0.163554          NaN     0.171991  normal  \n",
              "246422     0.159853          NaN     0.170587  normal  \n",
              "\n",
              "[245683 rows x 13 columns]"
            ]
          },
          "execution_count": 28,
          "metadata": {},
          "output_type": "execute_result"
        }
      ],
      "source": [
        "final.loc[(final['label'] == 'normal')]"
      ]
    },
    {
      "cell_type": "code",
      "execution_count": 27,
      "metadata": {},
      "outputs": [
        {
          "data": {
            "text/plain": [
              "<Axes: xlabel='label', ylabel='count'>"
            ]
          },
          "execution_count": 27,
          "metadata": {},
          "output_type": "execute_result"
        },
        {
          "data": {
            "image/png": "[encoded data removed]",
            "text/plain": [
              "<Figure size 640x480 with 1 Axes>"
            ]
          },
          "metadata": {},
          "output_type": "display_data"
        }
      ],
      "source": [
        "sb.countplot(data=final, x='label')"
      ]
    }
  ],
  "metadata": {
    "accelerator": "TPU",
    "colab": {
      "include_colab_link": true,
      "provenance": []
    },
    "gpuClass": "standard",
    "kernelspec": {
      "display_name": "Python 3.9.15 ('praxis-clements')",
      "language": "python",
      "name": "python3"
    },
    "language_info": {
      "codemirror_mode": {
        "name": "ipython",
        "version": 3
      },
      "file_extension": ".py",
      "mimetype": "text/x-python",
      "name": "python",
      "nbconvert_exporter": "python",
      "pygments_lexer": "ipython3",
      "version": "3.9.16"
    },
    "orig_nbformat": 4,
    "vscode": {
      "interpreter": {
        "hash": "0e4ed65ac9cd06e325be5e4053efe5dbb28567580420031f65d0d231df994926"
      }
    }
  },
  "nbformat": 4,
  "nbformat_minor": 0
}
