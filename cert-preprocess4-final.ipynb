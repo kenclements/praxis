{
  "cells": [
    {
      "attachments": {},
      "cell_type": "markdown",
      "metadata": {},
      "source": [
        "# Loading Libraries"
      ]
    },
    {
      "cell_type": "code",
      "execution_count": 657,
      "metadata": {
        "id": "SpDcPu8tmmK0"
      },
      "outputs": [],
      "source": [
        "#data management tools\n",
        "import pandas as pd\n",
        "import numpy as np\n",
        "\n",
        "from matplotlib import pyplot\n",
        "\n",
        "from imblearn.under_sampling import RandomUnderSampler\n",
        "from imblearn.over_sampling import RandomOverSampler\n",
        "from imblearn.over_sampling import SMOTE\n",
        "from imblearn.over_sampling import BorderlineSMOTE\n",
        "from imblearn.over_sampling import ADASYN\n",
        "\n",
        "import seaborn as sb\n",
        "import datetime\n",
        "\n",
        "# #Vectorization and Tokenizing\n",
        "from sklearn.feature_extraction.text import TfidfVectorizer, CountVectorizer\n",
        "from sklearn.preprocessing import MaxAbsScaler\n",
        "from sklearn.preprocessing import OneHotEncoder\n",
        "from sklearn.preprocessing import LabelEncoder\n",
        "from sklearn.preprocessing import StandardScaler\n",
        "from sklearn.decomposition import PCA\n",
        "from sklearn import decomposition\n",
        "from sklearn.pipeline import Pipeline\n",
        "from sklearn import utils\n",
        "from sklearn.metrics import roc_curve\n",
        "from sklearn.metrics import roc_auc_score\n",
        "from keras.wrappers.scikit_learn import KerasClassifier\n",
        "from sklearn.metrics import mean_absolute_error\n",
        "\n",
        "\n",
        "import nltk\n",
        "from nltk.corpus import stopwords\n",
        "from nltk.tokenize import word_tokenize\n",
        "from nltk import pos_tag\n",
        "from nltk.stem import PorterStemmer\n",
        "from nltk.stem import LancasterStemmer\n",
        "\n",
        "# #DNN Modules\n",
        "# import torch\n",
        "import tensorflow as tf\n",
        "from tensorflow import keras\n",
        "from keras.metrics import metrics\n",
        "from keras.models import Sequential\n",
        "from keras.layers import LSTM, Dense, Dropout\n",
        "\n",
        "# from tensorflow.keras.layers import InputLayer\n",
        "# from tensorflow.keras import losses\n",
        "# from tensorflow.keras.regularizers import L2\n",
        "# from tensorflow.keras.utils import plot_model\n",
        "# from tensorflow.keras.layers import TextVectorization\n",
        "\n",
        "# #Models\n",
        "from sklearn.ensemble import AdaBoostClassifier\n",
        "from sklearn.linear_model import LogisticRegression\n",
        "# from sklearn.naive_bayes import GaussianNB\n",
        "from sklearn.neighbors import KNeighborsClassifier\n",
        "from sklearn.ensemble import RandomForestClassifier\n",
        "from sklearn import svm\n",
        "from sklearn.svm import SVC  \n",
        "\n",
        "# #Metrics and Testing\n",
        "from sklearn.model_selection import train_test_split\n",
        "from sklearn import metrics\n",
        "from sklearn.metrics import confusion_matrix\n",
        "from sklearn.model_selection import GridSearchCV\n",
        "\n",
        "from gensim.models import Doc2Vec\n",
        "from gensim.models.doc2vec import TaggedDocument\n",
        "from tqdm import tqdm\n",
        "tqdm.pandas(desc=\"progress-bar\")\n",
        "\n",
        "import multiprocessing\n",
        "cores = multiprocessing.cpu_count()\n",
        "from itertools import chain\n",
        "\n",
        "import xlwings as xw\n",
        "\n",
        "from scipy.spatial import distance"
      ]
    },
    {
      "attachments": {},
      "cell_type": "markdown",
      "metadata": {},
      "source": [
        "# Dataloading and Preprocessing"
      ]
    },
    {
      "cell_type": "code",
      "execution_count": 2,
      "metadata": {
        "id": "oR_xocCCmmK3"
      },
      "outputs": [],
      "source": [
        "#My MacBook\n",
        "df1 = pd.read_csv('/Users/ken.clements/code/praxis/CERT42/logon.csv')\n",
        "df2 = pd.read_csv('/Users/ken.clements/code/praxis/CERT42/device.csv')\n",
        "df3 = pd.read_csv('/Users/ken.clements/code/praxis/CERT42/email.csv')\n",
        "df4 = pd.read_csv('/Users/ken.clements/code/praxis/CERT42/file.csv')\n",
        "df5 = pd.read_csv('/Users/ken.clements/code/praxis/CERT42/http.csv')\n",
        "ans = pd.read_csv('/Users/ken.clements/code/praxis/CERT42/answers/answers.csv')\n",
        "ldap = pd.read_csv('/Users/ken.clements/code/praxis/CERT42/ldap/2009-12.csv')\n",
        "df6 = pd.read_csv('/Users/ken.clements/code/praxis/CERT42/psychometric.csv')"
      ]
    },
    {
      "cell_type": "code",
      "execution_count": 4,
      "metadata": {},
      "outputs": [],
      "source": [
        "df3['activity'] = \"email\"\n",
        "df4['activity'] = \"file\"\n",
        "df5['activity'] = \"http\""
      ]
    },
    {
      "cell_type": "code",
      "execution_count": 5,
      "metadata": {},
      "outputs": [],
      "source": [
        "START = datetime.date(2010,9,1)\n",
        "END = datetime.date(2010,9,30)"
      ]
    },
    {
      "cell_type": "code",
      "execution_count": 6,
      "metadata": {},
      "outputs": [],
      "source": [
        "df_merged = pd.concat([df1, df2, df3, df4, df5])\n",
        "df_merged['date'] = pd.to_datetime(df_merged['date'])\n",
        "df_merged['day_date'] = pd.to_datetime(df_merged['date']).dt.date"
      ]
    },
    {
      "cell_type": "code",
      "execution_count": 7,
      "metadata": {},
      "outputs": [],
      "source": [
        "df_time_range = df_merged[((df_merged['day_date'] >= START) & (df_merged['day_date'] <= END))]"
      ]
    },
    {
      "cell_type": "code",
      "execution_count": 9,
      "metadata": {},
      "outputs": [
        {
          "name": "stderr",
          "output_type": "stream",
          "text": [
            "/var/folders/p4/svf85_b50jvfz4dvm3yf5h0c0000gq/T/ipykernel_84558/1036657486.py:1: SettingWithCopyWarning: \n",
            "A value is trying to be set on a copy of a slice from a DataFrame.\n",
            "Try using .loc[row_indexer,col_indexer] = value instead\n",
            "\n",
            "See the caveats in the documentation: https://pandas.pydata.org/pandas-docs/stable/user_guide/indexing.html#returning-a-view-versus-a-copy\n",
            "  df_time_range['label'] = 'normal'\n"
          ]
        }
      ],
      "source": [
        "df_time_range['label'] = 'normal'\n",
        "df_time_range.loc[df_time_range['id'].isin(ans['id']),['label']] = 'abnormal'"
      ]
    },
    {
      "cell_type": "code",
      "execution_count": 582,
      "metadata": {},
      "outputs": [],
      "source": [
        "#userEvents = df_time_range.loc[(df_time_range['user'] == 'IJM0776')]\n",
        "userEvents = df_time_range"
      ]
    },
    {
      "cell_type": "code",
      "execution_count": 583,
      "metadata": {},
      "outputs": [
        {
          "name": "stderr",
          "output_type": "stream",
          "text": [
            "/var/folders/p4/svf85_b50jvfz4dvm3yf5h0c0000gq/T/ipykernel_84558/1096339616.py:1: SettingWithCopyWarning: \n",
            "A value is trying to be set on a copy of a slice from a DataFrame.\n",
            "Try using .loc[row_indexer,col_indexer] = value instead\n",
            "\n",
            "See the caveats in the documentation: https://pandas.pydata.org/pandas-docs/stable/user_guide/indexing.html#returning-a-view-versus-a-copy\n",
            "  userEvents['activityMinute'] = userEvents['date'].apply(lambda s: (s - s.replace(hour=0, minute=0, second=0, microsecond=0)).seconds)\n",
            "/var/folders/p4/svf85_b50jvfz4dvm3yf5h0c0000gq/T/ipykernel_84558/1096339616.py:2: SettingWithCopyWarning: \n",
            "A value is trying to be set on a copy of a slice from a DataFrame.\n",
            "Try using .loc[row_indexer,col_indexer] = value instead\n",
            "\n",
            "See the caveats in the documentation: https://pandas.pydata.org/pandas-docs/stable/user_guide/indexing.html#returning-a-view-versus-a-copy\n",
            "  userEvents['activityMinute'] = userEvents['activityMinute'].apply(lambda s: (s/60))\n"
          ]
        }
      ],
      "source": [
        "userEvents['activityMinute'] = userEvents['date'].apply(lambda s: (s - s.replace(hour=0, minute=0, second=0, microsecond=0)).seconds)\n",
        "userEvents['activityMinute'] = userEvents['activityMinute'].apply(lambda s: (s/60))"
      ]
    },
    {
      "attachments": {},
      "cell_type": "markdown",
      "metadata": {},
      "source": [
        "# NLP"
      ]
    },
    {
      "cell_type": "code",
      "execution_count": null,
      "metadata": {},
      "outputs": [],
      "source": [
        "nltk.download('averaged_perceptron_tagger')\n",
        "nltk.download('wordnet')\n",
        "nltk.download('omw-1.4')\n",
        "def prepare_text(pretext):\n",
        "\n",
        "    # tokenize mission.\n",
        "    tokens = word_tokenize(pretext, language=\"english\", preserve_line=True)\n",
        "\n",
        "    # # Parts of speech (POS) tag tokens.\n",
        "    token_tag = pos_tag(tokens)\n",
        "    \n",
        "    # # Only include some of the POS tags.\n",
        "    include_tags = ['VBN', 'VBD', 'JJ', 'JJS', 'JJR', 'CD', 'NN', 'NNS', 'NNP', 'NNPS']\n",
        "    filtered_tokens = (tok for tok, tag in token_tag if tag in include_tags)    \n",
        "    \n",
        "    # #stem words.\n",
        "    stemmed_tokens = (lancaster.stem(tok) for tok in filtered_tokens)\n",
        "\n",
        "    # #lemm words.\n",
        "    lemmed_words = (lemmatizer.lemmatize(tok) for tok in stemmed_tokens)\n",
        "\n",
        "    lower_words = [str.lower(tok) for tok in lemmed_words]\n",
        "\n",
        "    joined = \", \".join(lower_words)\n",
        "\n",
        "    return(joined)\n",
        "\n",
        "#ps = PorterStemmer()\n",
        "lancaster = LancasterStemmer()\n",
        "lemmatizer = nltk.stem.WordNetLemmatizer()"
      ]
    },
    {
      "cell_type": "code",
      "execution_count": 241,
      "metadata": {},
      "outputs": [
        {
          "name": "stderr",
          "output_type": "stream",
          "text": [
            "/var/folders/p4/svf85_b50jvfz4dvm3yf5h0c0000gq/T/ipykernel_84558/3172037426.py:1: SettingWithCopyWarning: \n",
            "A value is trying to be set on a copy of a slice from a DataFrame\n",
            "\n",
            "See the caveats in the documentation: https://pandas.pydata.org/pandas-docs/stable/user_guide/indexing.html#returning-a-view-versus-a-copy\n",
            "  userEvents['content'].fillna('', inplace=True)\n"
          ]
        }
      ],
      "source": [
        "userEvents['content'].fillna('', inplace=True)"
      ]
    },
    {
      "cell_type": "code",
      "execution_count": 242,
      "metadata": {},
      "outputs": [
        {
          "name": "stderr",
          "output_type": "stream",
          "text": [
            "/var/folders/p4/svf85_b50jvfz4dvm3yf5h0c0000gq/T/ipykernel_84558/3161210891.py:1: SettingWithCopyWarning: \n",
            "A value is trying to be set on a copy of a slice from a DataFrame.\n",
            "Try using .loc[row_indexer,col_indexer] = value instead\n",
            "\n",
            "See the caveats in the documentation: https://pandas.pydata.org/pandas-docs/stable/user_guide/indexing.html#returning-a-view-versus-a-copy\n",
            "  userEvents['tokenized'] = userEvents['content'].apply(prepare_text)\n"
          ]
        }
      ],
      "source": [
        "userEvents['tokenized'] = userEvents['content'].apply(prepare_text)"
      ]
    },
    {
      "cell_type": "code",
      "execution_count": 243,
      "metadata": {},
      "outputs": [
        {
          "name": "stderr",
          "output_type": "stream",
          "text": [
            "[nltk_data] Downloading package stopwords to\n",
            "[nltk_data]     /Users/ken.clements/nltk_data...\n",
            "[nltk_data]   Package stopwords is already up-to-date!\n"
          ]
        }
      ],
      "source": [
        "nltk.download('stopwords')\n",
        "stops = set(stopwords.words('english'))\n",
        "tfidfvectorizer = TfidfVectorizer(stop_words='english', analyzer='word' )"
      ]
    },
    {
      "cell_type": "code",
      "execution_count": 244,
      "metadata": {},
      "outputs": [
        {
          "name": "stderr",
          "output_type": "stream",
          "text": [
            "/var/folders/p4/svf85_b50jvfz4dvm3yf5h0c0000gq/T/ipykernel_84558/480841705.py:2: RuntimeWarning: invalid value encountered in divide\n",
            "  userEvents['tfidf_mean'] = ((tfidf_list.sum(axis=1).transpose()) / (tfidf_list.getnnz(axis=1))).transpose()\n",
            "/var/folders/p4/svf85_b50jvfz4dvm3yf5h0c0000gq/T/ipykernel_84558/480841705.py:2: SettingWithCopyWarning: \n",
            "A value is trying to be set on a copy of a slice from a DataFrame.\n",
            "Try using .loc[row_indexer,col_indexer] = value instead\n",
            "\n",
            "See the caveats in the documentation: https://pandas.pydata.org/pandas-docs/stable/user_guide/indexing.html#returning-a-view-versus-a-copy\n",
            "  userEvents['tfidf_mean'] = ((tfidf_list.sum(axis=1).transpose()) / (tfidf_list.getnnz(axis=1))).transpose()\n"
          ]
        }
      ],
      "source": [
        "tfidf_list = tfidfvectorizer.fit_transform(userEvents['tokenized'])\n",
        "userEvents['tfidf_mean'] = ((tfidf_list.sum(axis=1).transpose()) / (tfidf_list.getnnz(axis=1))).transpose()"
      ]
    },
    {
      "attachments": {},
      "cell_type": "markdown",
      "metadata": {},
      "source": [
        "# INDIVIDUAL ANALYSIS"
      ]
    },
    {
      "cell_type": "code",
      "execution_count": 247,
      "metadata": {},
      "outputs": [],
      "source": [
        "dates = userEvents['day_date']\n",
        "dates = dates.unique()"
      ]
    },
    {
      "cell_type": "code",
      "execution_count": 565,
      "metadata": {},
      "outputs": [],
      "source": [
        "INTERVAL=60\n",
        "dateActivity = []\n",
        "for d in dates:\n",
        "    dayEvents = userEvents.loc[(userEvents['day_date'] == d)]\n",
        "    users = dayEvents['user']\n",
        "    users = users.unique()\n",
        "    for u in users:\n",
        "        label = 0\n",
        "        dailyActivityMatrix = []\n",
        "        userdf = dayEvents.loc[(dayEvents['user'] == u)]\n",
        "        for i in range(0, 1440, INTERVAL):\n",
        "            bin_Events = userdf.loc[(userdf['activityMinute'] >= i ) & (userdf['activityMinute'] < (i + INTERVAL))]\n",
        "            connect_count = bin_Events[bin_Events['activity'] == 'Connect'].shape[0]\n",
        "            disconnect_count = bin_Events[bin_Events['activity'] == 'Disconnect'].shape[0]\n",
        "            login_count = bin_Events[bin_Events['activity'] == 'Logon'].shape[0]\n",
        "            logout_count = bin_Events[bin_Events['activity'] == 'Logoff'].shape[0]\n",
        "            email_count = bin_Events[bin_Events['activity'] == 'email'].shape[0]\n",
        "            file_count = bin_Events[bin_Events['activity'] == 'file'].shape[0]\n",
        "            http_count = bin_Events[bin_Events['activity'] == 'http'].shape[0]\n",
        "            intervalList = [connect_count, login_count, logout_count, email_count, file_count, http_count, disconnect_count]\n",
        "            dailyActivityMatrix.append(intervalList)\n",
        "            if (bin_Events[(bin_Events['label'] == 'abnormal')].shape[0] > 0): label = 1\n",
        "        text_df = userdf.loc[(userdf['activity'] == 'http')]\n",
        "        tfidf_mean = text_df['tfidf_mean'].mean()\n",
        "        dateActivity.append([d, u, dailyActivityMatrix, tfidf_mean, label])"
      ]
    },
    {
      "cell_type": "code",
      "execution_count": 759,
      "metadata": {},
      "outputs": [],
      "source": [
        "final = pd.DataFrame(dateActivity, columns=['date', 'user', 'dailyActivityMatrix', 'tfidf_mean', 'label'])"
      ]
    },
    {
      "cell_type": "code",
      "execution_count": 760,
      "metadata": {},
      "outputs": [],
      "source": [
        "final['dailyActivityMatrix'] = final['dailyActivityMatrix'].apply(lambda y: (list(chain.from_iterable(y))))"
      ]
    },
    {
      "cell_type": "code",
      "execution_count": 761,
      "metadata": {},
      "outputs": [],
      "source": [
        "df_temp = pd.DataFrame(final['dailyActivityMatrix'].tolist())"
      ]
    },
    {
      "cell_type": "code",
      "execution_count": 762,
      "metadata": {},
      "outputs": [],
      "source": [
        "df_final = final.join(df_temp) "
      ]
    },
    {
      "attachments": {},
      "cell_type": "markdown",
      "metadata": {},
      "source": [
        "# GROUP ANALYSIS"
      ]
    },
    {
      "cell_type": "code",
      "execution_count": 763,
      "metadata": {},
      "outputs": [],
      "source": [
        "ldap = ldap.rename(columns={'user_id': 'user'})\n",
        "userEventsDept = pd.merge(userEvents, ldap, on='user', how='left')"
      ]
    },
    {
      "cell_type": "code",
      "execution_count": 764,
      "metadata": {},
      "outputs": [],
      "source": [
        "dates = userEvents['day_date']\n",
        "dates = dates.unique()"
      ]
    },
    {
      "cell_type": "code",
      "execution_count": 765,
      "metadata": {},
      "outputs": [],
      "source": [
        "deptActivity = []\n",
        "for d in dates:\n",
        "    DayEvents = userEventsDept.loc[(userEventsDept['day_date'] == d)]\n",
        "    depts = DayEvents['department']\n",
        "    depts = depts.unique()\n",
        "    for p in depts:\n",
        "        dailyDeptActivityMatrix = []\n",
        "        deptdf = dayEvents.loc[(dayEvents['department'] == p)]\n",
        "        for i in range(0, 1440, INTERVAL):\n",
        "            bin_Events = deptdf.loc[(deptdf['activityMinute'] >= i ) & (deptdf['activityMinute'] < (i + INTERVAL))]\n",
        "            size = bin_Events.size\n",
        "            if (bin_Events.size > 0):\n",
        "                connect_count_mean = ((bin_Events[bin_Events['activity'] == 'Connect'].shape[0]) / size)\n",
        "                disconnect_count_mean = (bin_Events[bin_Events['activity'] == 'Disconnect'].shape[0] / size)\n",
        "                login_count_mean = (bin_Events[bin_Events['activity'] == 'Logon'].shape[0] / size)\n",
        "                logout_count_mean = (bin_Events[bin_Events['activity'] == 'Logoff'].shape[0] / size)\n",
        "                email_count_mean = (bin_Events[bin_Events['activity'] == 'email'].shape[0] / size)\n",
        "                file_count_mean = (bin_Events[bin_Events['activity'] == 'file'].shape[0] / size)\n",
        "                http_count_mean = (bin_Events[bin_Events['activity'] == 'http'].shape[0] / size)\n",
        "            else:\n",
        "                connect_count_mean, disconnect_count_mean, login_count_mean, logout_count_mean, email_count_mean, file_count_mean, http_count_mean = 0,0,0,0,0,0,0\n",
        "            intervalList = [connect_count_mean, login_count_mean, logout_count_mean, email_count_mean, file_count_mean, http_count_mean, disconnect_count_mean]\n",
        "            dailyDeptActivityMatrix.append(intervalList)\n",
        "        deptActivity.append([p, d, dailyDeptActivityMatrix])"
      ]
    },
    {
      "cell_type": "code",
      "execution_count": 766,
      "metadata": {},
      "outputs": [],
      "source": [
        "df_final_dept = pd.DataFrame(deptActivity, columns=['department', 'date', 'dailyDeptActivityMatrix'])"
      ]
    },
    {
      "cell_type": "code",
      "execution_count": 767,
      "metadata": {},
      "outputs": [],
      "source": [
        "df_final_dept['dailyDeptActivityMatrix'] = df_final_dept['dailyDeptActivityMatrix'].apply(lambda y: (list(chain.from_iterable(y))))"
      ]
    },
    {
      "attachments": {},
      "cell_type": "markdown",
      "metadata": {},
      "source": [
        "# MERGE INDIVIDUAL AND GROUP"
      ]
    },
    {
      "cell_type": "code",
      "execution_count": 768,
      "metadata": {},
      "outputs": [],
      "source": [
        "#Bringing in the LDAP and Department Data\n",
        "ldap = ldap.rename(columns={'user_id': 'user'})\n",
        "df_final = pd.merge(df_final, ldap, on='user', how='left')"
      ]
    },
    {
      "cell_type": "code",
      "execution_count": 769,
      "metadata": {},
      "outputs": [],
      "source": [
        "df_final = pd.merge(df_final, df_final_dept, on=['department', 'date'], how='left')"
      ]
    },
    {
      "cell_type": "code",
      "execution_count": 770,
      "metadata": {},
      "outputs": [],
      "source": [
        "def euclidean(v1, v2):\n",
        "    return sum((p-q)**2 for p, q in zip(v1, v2)) ** .5"
      ]
    },
    {
      "cell_type": "code",
      "execution_count": 771,
      "metadata": {},
      "outputs": [],
      "source": [
        "distances = []\n",
        "for i in range(0, df_final.shape[0]):\n",
        "    distances.append(euclidean(df_final.iloc[i]['dailyActivityMatrix'], df_final.iloc[i]['dailyDeptActivityMatrix']))"
      ]
    },
    {
      "cell_type": "code",
      "execution_count": 772,
      "metadata": {},
      "outputs": [],
      "source": [
        "df_final['ind2group'] = distances"
      ]
    },
    {
      "cell_type": "code",
      "execution_count": 773,
      "metadata": {},
      "outputs": [],
      "source": [
        "#Bringing in the Psychometric Data\n",
        "df6.rename(columns={'user_id': 'user'}, inplace=True)\n",
        "df_final = pd.merge(df_final, df6, on='user', how='left')"
      ]
    },
    {
      "attachments": {},
      "cell_type": "markdown",
      "metadata": {},
      "source": [
        "# CLEAN UP FIELDS NOT NEEDED"
      ]
    },
    {
      "cell_type": "code",
      "execution_count": 775,
      "metadata": {},
      "outputs": [],
      "source": [
        "#Label encoding the User and Department Fields\n",
        "label_encoder = LabelEncoder()\n",
        "df_final['userid'] = label_encoder.fit_transform(df_final['user'])"
      ]
    },
    {
      "cell_type": "code",
      "execution_count": 777,
      "metadata": {},
      "outputs": [],
      "source": [
        "df_final.drop(columns=['date', 'employee_name_x', 'employee_name_y', 'user', 'role', 'dailyActivityMatrix', 'dailyDeptActivityMatrix', 'business_unit', 'functional_unit', 'team', 'supervisor', 'email', 'department'], inplace=True)\n",
        "df_final.dropna(how='any', inplace=True)"
      ]
    },
    {
      "attachments": {},
      "cell_type": "markdown",
      "metadata": {},
      "source": [
        "# VISUALS"
      ]
    },
    {
      "cell_type": "code",
      "execution_count": 781,
      "metadata": {},
      "outputs": [
        {
          "data": {
            "text/plain": [
              "<seaborn.axisgrid.FacetGrid at 0x7fd07ddc1e20>"
            ]
          },
          "execution_count": 781,
          "metadata": {},
          "output_type": "execute_result"
        },
        {
          "data": {
            "image/png": "[encoded data removed]",
            "text/plain": [
              "<Figure size 558.875x500 with 1 Axes>"
            ]
          },
          "metadata": {},
          "output_type": "display_data"
        }
      ],
      "source": [
        "sb.displot(data=df_final, x=\"\", y='ind2group', hue=\"label\", kind='kde')"
      ]
    },
    {
      "cell_type": "code",
      "execution_count": null,
      "metadata": {},
      "outputs": [],
      "source": [
        "# sb.pairplot(X)"
      ]
    },
    {
      "attachments": {},
      "cell_type": "markdown",
      "metadata": {},
      "source": [
        "# Methods"
      ]
    },
    {
      "cell_type": "code",
      "execution_count": 824,
      "metadata": {},
      "outputs": [
        {
          "name": "stdout",
          "output_type": "stream",
          "text": [
            "Number of malicious records:  118\n",
            "Number of normal records:  20011\n"
          ]
        }
      ],
      "source": [
        "print(\"Number of malicious records: \", df_final['label'].value_counts()[1])\n",
        "print(\"Number of normal records: \", df_final['label'].value_counts()[0])"
      ]
    },
    {
      "cell_type": "code",
      "execution_count": 859,
      "metadata": {},
      "outputs": [],
      "source": [
        "X = df_final.drop(columns=['label'])\n",
        "X.rename(columns={'userid' : 10000, 'O': 10001, 'C': 10002, 'E': 10003, 'A': 10004, 'N': 10005, 'tfidf_mean': 10006, 'ind2group': 10007}, inplace=True)"
      ]
    },
    {
      "cell_type": "code",
      "execution_count": 860,
      "metadata": {},
      "outputs": [],
      "source": [
        "y = df_final['label']"
      ]
    },
    {
      "cell_type": "code",
      "execution_count": 861,
      "metadata": {},
      "outputs": [],
      "source": [
        "X_train, X_test, y_train, y_test = train_test_split(X, y, test_size=0.3)"
      ]
    },
    {
      "cell_type": "code",
      "execution_count": 862,
      "metadata": {},
      "outputs": [],
      "source": [
        "X_test.sort_index(inplace=True)\n",
        "X_train.sort_index(inplace=True)\n",
        "y_test.sort_index(inplace=True)\n",
        "y_train.sort_index(inplace=True)\n",
        "\n",
        "X_test.reset_index(inplace=True)\n",
        "X_train.reset_index(inplace=True)\n",
        "y_test = y_test.reset_index()\n",
        "y_train = y_train.reset_index()"
      ]
    },
    {
      "cell_type": "code",
      "execution_count": 863,
      "metadata": {},
      "outputs": [],
      "source": [
        "X_train_users = X_train[10000]\n",
        "X_test_users = X_test[10000]"
      ]
    },
    {
      "cell_type": "code",
      "execution_count": 864,
      "metadata": {},
      "outputs": [],
      "source": [
        "X_test.drop(columns=[10000, 'index'], inplace=True)\n",
        "X_train.drop(columns=[10000, 'index'], inplace=True)\n",
        "\n",
        "y_test.drop(columns=['index'], inplace=True)\n",
        "y_train.drop(columns=['index'], inplace=True)\n"
      ]
    },
    {
      "cell_type": "code",
      "execution_count": 865,
      "metadata": {},
      "outputs": [],
      "source": [
        "sc = StandardScaler()\n",
        "X_train = sc.fit_transform(X_train)\n",
        "X_test = sc.fit_transform(X_test)\n",
        "X_train = pd.DataFrame(X_train)\n",
        "X_test = pd.DataFrame(X_test)"
      ]
    },
    {
      "cell_type": "code",
      "execution_count": 866,
      "metadata": {},
      "outputs": [
        {
          "name": "stdout",
          "output_type": "stream",
          "text": [
            "Explained Variance [0.05901193 0.04359851 0.03834113 0.03059368 0.02729171 0.02488611\n",
            " 0.02361279 0.01998485 0.0189968  0.01738331 0.01650026 0.01520435\n",
            " 0.01448633 0.01413467 0.0135786  0.01343779 0.01225597 0.01209769\n",
            " 0.01185245 0.01149805 0.01114231 0.01091735 0.01047765 0.01031028\n",
            " 0.00998506 0.00975997 0.0094061  0.00910831 0.00889344 0.00870528\n",
            " 0.00851588 0.00845544 0.0081951  0.0081054  0.00796441 0.00767135\n",
            " 0.00759838 0.00757654 0.00743899 0.0074079  0.00731807 0.00723922\n",
            " 0.00711352 0.00699561 0.0068802  0.00662793 0.00654057 0.00647819\n",
            " 0.00641474 0.006275  ]\n"
          ]
        }
      ],
      "source": [
        "pca = PCA(n_components = 50)\n",
        "X_train_pca = pca.fit_transform(X_train)\n",
        "X_test_pca = pca.fit_transform(X_test)\n",
        "explained_variance = pca.explained_variance_ratio_\n",
        "print(\"Explained Variance\", explained_variance)\n",
        "\n",
        "X_train_pca = pd.DataFrame(X_train_pca)\n",
        "X_test_pca = pd.DataFrame(X_test_pca)\n"
      ]
    },
    {
      "cell_type": "code",
      "execution_count": 867,
      "metadata": {},
      "outputs": [],
      "source": [
        "# X_train = X_train_pca.join(X_train_users)\n",
        "# X_test = X_test_pca.join(X_test_users)\n",
        "X_train = X_train.join(X_train_users)\n",
        "X_test = X_test.join(X_test_users)"
      ]
    },
    {
      "cell_type": "code",
      "execution_count": 878,
      "metadata": {},
      "outputs": [],
      "source": [
        "lr = LogisticRegression(max_iter=5000)\n",
        "svm = SVC()\n",
        "knn = KNeighborsClassifier()\n",
        "rf = RandomForestClassifier()\n",
        "ada = AdaBoostClassifier()"
      ]
    },
    {
      "cell_type": "code",
      "execution_count": 879,
      "metadata": {},
      "outputs": [
        {
          "name": "stdout",
          "output_type": "stream",
          "text": [
            "LogisticRegression(max_iter=5000) \n",
            " [[5986   11]\n",
            " [  40    2]] \n",
            "\n",
            "SVC() \n",
            " [[5997    0]\n",
            " [  42    0]] \n",
            "\n",
            "KNeighborsClassifier() \n",
            " [[5992    5]\n",
            " [  32   10]] \n",
            "\n",
            "RandomForestClassifier() \n",
            " [[5997    0]\n",
            " [  39    3]] \n",
            "\n",
            "AdaBoostClassifier() \n",
            " [[5995    2]\n",
            " [  37    5]] \n",
            "\n"
          ]
        }
      ],
      "source": [
        "results_no_sample = []\n",
        "models = [lr, svm, knn, rf, ada]\n",
        "for m in models:\n",
        "    m.fit(X_train, y_train.values.ravel())\n",
        "    predicted = m.predict(X_test)\n",
        "    acc = metrics.accuracy_score(y_test, predicted)\n",
        "    rec = metrics.recall_score(y_test, predicted)\n",
        "    #prec = metrics.precision_score(y_test, predicted)\n",
        "    f1 = metrics.f1_score(y_test, predicted)\n",
        "    auc = metrics.roc_auc_score(y_test, predicted)\n",
        "    print(m, \"\\n\", metrics.confusion_matrix(y_test,predicted), \"\\n\")\n",
        "    results_no_sample.append([acc, rec, f1, auc])\n"
      ]
    },
    {
      "cell_type": "code",
      "execution_count": 870,
      "metadata": {},
      "outputs": [
        {
          "data": {
            "text/plain": [
              "[[0.9917204835237622,\n",
              "  0.047619047619047616,\n",
              "  0.16666666666666666,\n",
              "  0.07407407407407407,\n",
              "  0.5229757736010863],\n",
              " [0.9930452061599603, 0.0, 0.0, 0.0, 0.5],\n",
              " [0.993873157807584,\n",
              "  0.23809523809523808,\n",
              "  0.6666666666666666,\n",
              "  0.3508771929824562,\n",
              "  0.6186307439434003],\n",
              " [0.993210796489485,\n",
              "  0.023809523809523808,\n",
              "  1.0,\n",
              "  0.046511627906976744,\n",
              "  0.5119047619047619],\n",
              " [0.9935419771485345,\n",
              "  0.11904761904761904,\n",
              "  0.7142857142857143,\n",
              "  0.2040816326530612,\n",
              "  0.559357059482122]]"
            ]
          },
          "execution_count": 870,
          "metadata": {},
          "output_type": "execute_result"
        }
      ],
      "source": [
        "results_no_sample"
      ]
    },
    {
      "cell_type": "code",
      "execution_count": 873,
      "metadata": {},
      "outputs": [
        {
          "name": "stdout",
          "output_type": "stream",
          "text": [
            "Epoch 1/5\n",
            "111/111 [==============================] - 54s 456ms/step - loss: 0.0598 - recall: 0.0132 - val_loss: 0.0411 - val_recall: 0.0000e+00\n",
            "Epoch 2/5\n",
            "111/111 [==============================] - 50s 447ms/step - loss: 0.0334 - recall: 0.0000e+00 - val_loss: 0.0463 - val_recall: 0.0000e+00\n",
            "Epoch 3/5\n",
            "111/111 [==============================] - 51s 460ms/step - loss: 0.0339 - recall: 0.0000e+00 - val_loss: 0.0408 - val_recall: 0.0000e+00\n",
            "Epoch 4/5\n",
            "111/111 [==============================] - 51s 461ms/step - loss: 0.0331 - recall: 0.0000e+00 - val_loss: 0.0417 - val_recall: 0.0000e+00\n",
            "Epoch 5/5\n",
            "111/111 [==============================] - 51s 459ms/step - loss: 0.0332 - recall: 0.0000e+00 - val_loss: 0.0415 - val_recall: 0.0000e+00\n",
            "189/189 [==============================] - 12s 63ms/step\n",
            "[[5997    0]\n",
            " [  42    0]]\n",
            "LSTM Accuracy: 0.9930452061599603\n",
            "LSTM Recall: 0.0\n",
            "[[0.9917204835237622, 0.047619047619047616, 0.16666666666666666, 0.07407407407407407, 0.5229757736010863], [0.9930452061599603, 0.0, 0.0, 0.0, 0.5], [0.993873157807584, 0.23809523809523808, 0.6666666666666666, 0.3508771929824562, 0.6186307439434003], [0.993210796489485, 0.023809523809523808, 1.0, 0.046511627906976744, 0.5119047619047619], [0.9935419771485345, 0.11904761904761904, 0.7142857142857143, 0.2040816326530612, 0.559357059482122], [0.9930452061599603, 0.0]]\n"
          ]
        }
      ],
      "source": [
        "X_train_np = np.expand_dims(X_train.values[:,:], axis=2)\n",
        "y_train_np = y_train.values[:]\n",
        "X_test_np = np.expand_dims(X_test.values[:,:],axis = 2)\n",
        "y_test_np = y_test.values[:]\n",
        "model = Sequential()\n",
        "model.add(LSTM(units=128, return_sequences=True, input_shape=(len(X.columns), 1)))\n",
        "model.add(Dropout(0.2))\n",
        "model.add(LSTM(units=128, return_sequences=False))\n",
        "model.add(Dropout(0.2))\n",
        "model.add(Dense(1, activation='sigmoid'))\n",
        "model.compile(loss='binary_crossentropy', optimizer='nadam', metrics=['Recall'])\n",
        "model.fit(X_train_np, y_train_np, epochs=5, batch_size=16, validation_data=(X_test_np, y_test_np))\n",
        "X_np = np.expand_dims(X_test.values[:,:],axis = 2)\n",
        "y_np = y_test.values[:]\n",
        "ypred = model.predict(X_np)\n",
        "predlabels = [int(p>=0.5) for p in ypred]\n",
        "acc = metrics.accuracy_score(y_test, predlabels)\n",
        "rec = metrics.recall_score(y_test, predlabels)\n",
        "cf_matrix = metrics.confusion_matrix(y_test,predlabels)\n",
        "print(cf_matrix)\n",
        "print(\"LSTM Accuracy:\", acc)\n",
        "print(\"LSTM Recall:\", rec)\n",
        "results_no_sample.append([acc, rec])\n",
        "cf_matrix = metrics.confusion_matrix(y_test,predlabels)\n",
        "print(results_no_sample)"
      ]
    },
    {
      "cell_type": "code",
      "execution_count": null,
      "metadata": {},
      "outputs": [],
      "source": [
        "# final_undersample = RandomUnderSampler(sampling_strategy='majority')\n",
        "# X_final_under, y_final_under = final_undersample.fit_resample(X_train, y_train)\n",
        "# final_under = X_final_under.copy()\n",
        "# final_under['label'] = y_final_under\n",
        "\n",
        "# final_oversample = RandomOverSampler(sampling_strategy='minority')\n",
        "# X_final_over, y_final_over = final_oversample.fit_resample(X_train, y_train)\n",
        "# final_over = X_final_over.copy()\n",
        "# final_over['label'] = y_final_over\n",
        "\n",
        "# final_smote = SMOTE(k_neighbors=10)\n",
        "# X_final_smote, y_final_smote = final_smote.fit_resample(X_train, y_train)\n",
        "# final_smote = X_final_smote.copy()\n",
        "# final_smote['label'] = y_final_smote\n",
        "\n",
        "# final_blsmote = BorderlineSMOTE(k_neighbors=10)\n",
        "# X_final_blsmote, y_final_blsmote = final_blsmote.fit_resample(X_train, y_train)\n",
        "# final_blsmote = X_final_blsmote.copy()\n",
        "# final_blsmote['label'] = y_final_blsmote\n",
        "\n",
        "# final_adasyn = ADASYN(n_neighbors=10)\n",
        "# X_final_adasyn, y_final_adasyn = final_adasyn.fit_resample(X_train, y_train)\n",
        "# final_adasyn = X_final_adasyn.copy()\n",
        "# final_adasyn['label'] = y_final_adasyn"
      ]
    },
    {
      "attachments": {},
      "cell_type": "markdown",
      "metadata": {},
      "source": [
        "# Undersampling"
      ]
    },
    {
      "cell_type": "code",
      "execution_count": 145,
      "metadata": {},
      "outputs": [
        {
          "ename": "NameError",
          "evalue": "name 'X_final_under' is not defined",
          "output_type": "error",
          "traceback": [
            "\u001b[0;31m---------------------------------------------------------------------------\u001b[0m",
            "\u001b[0;31mNameError\u001b[0m                                 Traceback (most recent call last)",
            "Cell \u001b[0;32mIn[145], line 1\u001b[0m\n\u001b[0;32m----> 1\u001b[0m X_train_under, X_test_under, y_train_under, y_test_under \u001b[39m=\u001b[39m train_test_split(X_final_under, y_final_under, test_size\u001b[39m=\u001b[39m\u001b[39m0.3\u001b[39m)\n",
            "\u001b[0;31mNameError\u001b[0m: name 'X_final_under' is not defined"
          ]
        }
      ],
      "source": [
        "X_train_under, X_test_under, y_train_under, y_test_under = train_test_split(X_final_under, y_final_under, test_size=0.3)"
      ]
    },
    {
      "cell_type": "code",
      "execution_count": null,
      "metadata": {},
      "outputs": [],
      "source": [
        "# #C is the most meaningful - penalty had no impact and would error out\n",
        "# param_grid = {'C': [0.1,1, 10, 100], 'max_iter': [1000]}\n",
        "# grid = GridSearchCV(LogisticRegression(),param_grid,refit=True,verbose=0,cv=10,scoring='recall', return_train_score=False)\n",
        "# grid.fit(X_train_under,y_train_under.values.ravel())\n",
        "# print(\"LR best estimater: \", grid.best_estimator_)\n",
        "# print(\"LR Best parameters:\", grid.best_params_)\n",
        "# under_lr_best_est = grid.best_estimator_\n"
      ]
    },
    {
      "cell_type": "code",
      "execution_count": null,
      "metadata": {},
      "outputs": [],
      "source": [
        "\n",
        "# #linear failed to converge \n",
        "# param_grid = {'C': [0.1,1, 10, 100], 'gamma': [1,0.1,0.01,0.001],'kernel': ['rbf', 'poly']}\n",
        "# grid = GridSearchCV(SVC(),param_grid,refit=True,verbose=0, cv=10, scoring='recall', return_train_score=False)\n",
        "# grid.fit(X_train_under,y_train_under.values.ravel())\n",
        "# print(\"SVM best estimater: \", grid.best_estimator_)\n",
        "# print(\"SVM Best parameters:\", grid.best_params_)\n",
        "# under_svm_best_est = grid.best_estimator_\n",
        "\n"
      ]
    },
    {
      "cell_type": "code",
      "execution_count": null,
      "metadata": {},
      "outputs": [],
      "source": [
        "\n",
        "# param_grid = {'n_neighbors': list(range(1,21)), 'metric': ['euclidean', 'manhattan', 'minkowski'], 'weights': ['uniform', 'distance'] }\n",
        "# grid = GridSearchCV(KNeighborsClassifier(),param_grid,refit=True,verbose=0,cv=10, scoring='recall', return_train_score=False)\n",
        "# grid.fit(X_train_under,y_train_under.values.ravel())\n",
        "# print(\"KNN best estimater: \", grid.best_estimator_)\n",
        "# print(\"KNN Best parameters:\", grid.best_params_)\n",
        "# under_knn_best_est = grid.best_estimator_\n"
      ]
    },
    {
      "cell_type": "code",
      "execution_count": null,
      "metadata": {},
      "outputs": [],
      "source": [
        "\n",
        "# param_grid = {\n",
        "#     'n_estimators': [10, 50, 100],\n",
        "#     'max_depth': [3, 5, None],\n",
        "#     'max_features': ['sqrt', 'log2'],\n",
        "#     'min_samples_split': [2, 5, 10],\n",
        "#     'min_samples_leaf': [1, 2, 4]\n",
        "# }\n",
        "# grid = GridSearchCV(RandomForestClassifier(), param_grid,refit=True,verbose=0,cv=10, scoring='recall', return_train_score=False)\n",
        "# grid.fit(X_train_under, y_train_under.values.ravel())\n",
        "# print(\"RF Best estimater:\", grid.best_estimator_)\n",
        "# print(\"RF Best parameters:\", grid.best_params_)\n",
        "# under_rf_best_est = grid.best_estimator_\n",
        "\n"
      ]
    },
    {
      "cell_type": "code",
      "execution_count": null,
      "metadata": {},
      "outputs": [],
      "source": [
        "\n",
        "# param_grid = {\n",
        "#      'n_estimators': [100, 200, 300],\n",
        "#      'learning_rate': [0.01, 0.05, 0.1, 1],\n",
        "#  }\n",
        "# grid = GridSearchCV(AdaBoostClassifier(), param_grid,refit=True,verbose=0,cv=10, scoring='recall', return_train_score=False)\n",
        "# grid.fit(X_train_under, y_train_under.values.ravel())\n",
        "# print(\"ADA Best estimater:\", grid.best_estimator_)\n",
        "# print(\"ADA Best parameters:\", grid.best_params_)\n",
        "# under_ada_best_est = grid.best_estimator_\n"
      ]
    },
    {
      "cell_type": "code",
      "execution_count": null,
      "metadata": {},
      "outputs": [],
      "source": [
        "# #Adapt from above\n",
        "# lr = LogisticRegression(max_iter=1000)\n",
        "# svm = SVC(probability=True)\n",
        "# knn = bls_knn_best_est\n",
        "# rf = bls_rf_best_est\n",
        "# ada = bls_ada_best_est\n"
      ]
    },
    {
      "cell_type": "code",
      "execution_count": null,
      "metadata": {},
      "outputs": [],
      "source": [
        "results_under = []\n",
        "models = [lr, svm, knn, rf, ada]\n",
        "for m in models:\n",
        "    m.fit(X_train_under, y_train_under.values.ravel())\n",
        "    predicted = m.predict(X_test)\n",
        "    acc = metrics.accuracy_score(y_test, predicted)\n",
        "    rec = metrics.recall_score(y_test, predicted)\n",
        "    prec = metrics.precision_score(y_test, predicted)\n",
        "    f1 = metrics.f1_score(y_test, predicted)\n",
        "    auc = metrics.roc_auc_score(y_test, predicted)\n",
        "    results_under.append([acc, rec, prec, f1, auc])\n",
        "    m_probs = m.predict_proba(X_test)\n",
        "    m_probs = m_probs[:, 1]\n",
        "    m_fpr, m_tpr, _ = roc_curve(y_test, m_probs)\n",
        "    pyplot.plot(m_fpr, m_tpr, marker='.', label=(m))\n",
        "\n",
        "X_numpy_under = np.expand_dims(X_train_under.values[:,:],axis = 2)\n",
        "y_numpy_under = y_train_under.values[:]\n",
        "X_numpy_under_test = np.expand_dims(X_test_under.values[:,:],axis = 2)\n",
        "y_numpy_under_test = y_test_under.values[:]\n",
        "model = Sequential()\n",
        "model.add(LSTM(units=64, return_sequences=True, input_shape=(len(X_train.columns), 1)))\n",
        "model.add(Dropout(0.2))\n",
        "model.add(LSTM(units=64, return_sequences=False))\n",
        "model.add(Dropout(0.2))\n",
        "model.add(Dense(1, activation='sigmoid'))\n",
        "model.compile(loss='binary_crossentropy', optimizer='nadam', metrics=['accuracy'])\n",
        "model.fit(X_numpy_smote, y_numpy_smote, epochs=15, batch_size=64, validation_data=(X_numpy_smote_test, y_numpy_smote_test))\n",
        "\n",
        "X_numpy = np.expand_dims(X_test.values[:],axis = 2)\n",
        "y_numpy = y_test.values[:]\n",
        "ypred = model.predict(X_numpy).ravel()\n",
        "\n",
        "ba = tf.keras.metrics.BinaryAccuracy()\n",
        "ba.update_state(y_numpy, ypred)\n",
        "acc = ba.result().numpy()\n",
        "\n",
        "br = tf.keras.metrics.Recall()\n",
        "br.update_state(y_numpy, ypred)\n",
        "rec = br.result().numpy()\n",
        "\n",
        "bp = tf.keras.metrics.Precision()\n",
        "bp.update_state(y_numpy, ypred)\n",
        "prec = bp.result().numpy()\n",
        "\n",
        "# bf1 = tf.keras.metrics.F1Score()\n",
        "# bf1.update_state(y_numpy, ypred)\n",
        "# f1 = bf1.result().numpy()\n",
        "\n",
        "bauc = tf.keras.metrics.AUC()\n",
        "bauc.update_state(y_numpy, ypred)\n",
        "auc = bauc.result().numpy()\n",
        "\n",
        "results_under.append([acc, rec, prec, auc])\n",
        "\n",
        "X_numpy = np.expand_dims(X_test.values[:],axis = 2)\n",
        "y_numpy = y_test.values[:]\n",
        "ypred = model.predict(X_numpy).ravel()\n",
        "predlabels = [int(p>=0.5) for p in ypred]\n",
        "fpr_keras, tpr_keras, thresholds_keras = roc_curve(y_test, predlabels)\n",
        "\n",
        "pyplot.plot(fpr_keras, tpr_keras, marker='.', label=(\"LSTM\"))\n",
        "\n",
        "ns_probs = [0 for _ in range(len(y_test))]\n",
        "ns_fpr, ns_tpr, _ = roc_curve(y_test, ns_probs)\n",
        "pyplot.plot(ns_fpr, ns_tpr, linestyle='--', label='No Skill')\n",
        "# axis labels\n",
        "pyplot.xlabel('False Positive Rate')\n",
        "pyplot.ylabel('True Positive Rate')\n",
        "# show the legend\n",
        "pyplot.legend()\n",
        "# show the plot\n",
        "pyplot.show()\n",
        "print(results_under)\n",
        "\n"
      ]
    },
    {
      "attachments": {},
      "cell_type": "markdown",
      "metadata": {},
      "source": [
        "# Oversampling"
      ]
    },
    {
      "cell_type": "code",
      "execution_count": null,
      "metadata": {},
      "outputs": [],
      "source": [
        "X_train_over, X_test_over, y_train_over, y_test_over = train_test_split(X_final_over, y_final_over, test_size=0.3)\n"
      ]
    },
    {
      "cell_type": "code",
      "execution_count": null,
      "metadata": {},
      "outputs": [],
      "source": [
        "# #C is the most meaningful - penalty had no impact and would error out\n",
        "# param_grid = {'C': [0.1,1, 10, 100], 'max_iter': [1000]}\n",
        "# grid = GridSearchCV(LogisticRegression(),param_grid,refit=True,verbose=0,cv=10,scoring='recall', return_train_score=False)\n",
        "# grid.fit(X_train_over,y_train_over.values.ravel())\n",
        "# print(\"LR best estimater: \", grid.best_estimator_)\n",
        "# print(\"LR Best parameters:\", grid.best_params_)\n",
        "# over_lr_best_est = grid.best_estimator_\n",
        "\n"
      ]
    },
    {
      "cell_type": "code",
      "execution_count": null,
      "metadata": {},
      "outputs": [],
      "source": [
        "# #linear failed to converge \n",
        "# param_grid = {'C': [0.1,1, 10, 100], 'gamma': [1,0.1,0.01,0.001],'kernel': ['rbf', 'poly']}\n",
        "# grid = GridSearchCV(SVC(),param_grid,refit=True,verbose=0, cv=10, scoring='recall', return_train_score=False)\n",
        "# grid.fit(X_train_over,y_train_over.values.ravel())\n",
        "# print(\"SVM best estimater: \", grid.best_estimator_)\n",
        "# print(\"SVM Best parameters:\", grid.best_params_)\n",
        "# over_svm_best_est = grid.best_estimator_"
      ]
    },
    {
      "cell_type": "code",
      "execution_count": null,
      "metadata": {},
      "outputs": [],
      "source": [
        "\n",
        "# param_grid = {'n_neighbors': list(range(1,21)), 'metric': ['euclidean', 'manhattan', 'minkowski'], 'weights': ['uniform', 'distance'] }\n",
        "# grid = GridSearchCV(KNeighborsClassifier(),param_grid,refit=True,verbose=0,cv=10, scoring='recall', return_train_score=False)\n",
        "# grid.fit(X_train_over,y_train_over.values.ravel())\n",
        "# print(\"KNN best estimater: \", grid.best_estimator_)\n",
        "# print(\"KNN Best parameters:\", grid.best_params_)\n",
        "# over_knn_best_est = grid.best_estimator_\n"
      ]
    },
    {
      "cell_type": "code",
      "execution_count": null,
      "metadata": {},
      "outputs": [],
      "source": [
        "# param_grid = {\n",
        "#     'n_estimators': [10, 50, 100],\n",
        "#     'max_depth': [3, 5, None],\n",
        "#     'max_features': ['sqrt', 'log2'],\n",
        "#     'min_samples_split': [2, 5, 10],\n",
        "#     'min_samples_leaf': [1, 2, 4]\n",
        "# }\n",
        "# grid = GridSearchCV(RandomForestClassifier(), param_grid,refit=True,verbose=0,cv=10, scoring='recall', return_train_score=False)\n",
        "# grid.fit(X_train_over, y_train_over.values.ravel())\n",
        "# print(\"RF Best estimater:\", grid.best_estimator_)\n",
        "# print(\"RF Best parameters:\", grid.best_params_)\n",
        "# over_rf_best_est = grid.best_estimator_\n"
      ]
    },
    {
      "cell_type": "code",
      "execution_count": null,
      "metadata": {},
      "outputs": [],
      "source": [
        "\n",
        "# param_grid = {\n",
        "#      'n_estimators': [100, 200, 300],\n",
        "#      'learning_rate': [0.01, 0.05, 0.1, 1],\n",
        "#  }\n",
        "# grid = GridSearchCV(AdaBoostClassifier(), param_grid,refit=True,verbose=0,cv=10, scoring='recall', return_train_score=False)\n",
        "# grid.fit(X_train_over, y_train_over.values.ravel())\n",
        "# print(\"ADA Best estimater:\", grid.best_estimator_)\n",
        "# print(\"ADA Best parameters:\", grid.best_params_)\n",
        "# over_ada_best_est = grid.best_estimator_\n"
      ]
    },
    {
      "cell_type": "code",
      "execution_count": null,
      "metadata": {},
      "outputs": [],
      "source": [
        "# #Adapt from above\n",
        "lr = LogisticRegression(max_iter=1000)\n",
        "svm = SVC(probability=True)\n",
        "# knn = bls_knn_best_est\n",
        "# rf = bls_rf_best_est\n",
        "# ada = bls_ada_best_est"
      ]
    },
    {
      "cell_type": "code",
      "execution_count": null,
      "metadata": {},
      "outputs": [],
      "source": [
        "results_over = []\n",
        "models = [lr, svm, knn, rf, ada]\n",
        "for m in models:\n",
        "    m.fit(X_train_over, y_train_over.values.ravel())\n",
        "    predicted = m.predict(X_test)\n",
        "    acc = metrics.accuracy_score(y_test, predicted)\n",
        "    rec = metrics.recall_score(y_test, predicted)\n",
        "    prec = metrics.precision_score(y_test, predicted)\n",
        "    f1 = metrics.f1_score(y_test, predicted)\n",
        "    auc = metrics.roc_auc_score(y_test, predicted)\n",
        "    results_over.append([acc, rec, prec, auc, f1])\n",
        "    m_probs = m.predict_proba(X_test)\n",
        "    m_probs = m_probs[:, 1]\n",
        "    m_fpr, m_tpr, _ = roc_curve(y_test, m_probs)\n",
        "    pyplot.plot(m_fpr, m_tpr, marker='.', label=(m))\n",
        "\n",
        "X_numpy_over = np.expand_dims(X_train_over.values[:,:],axis = 2)\n",
        "y_numpy_over = y_train_over.values[:]\n",
        "X_numpy_over_test = np.expand_dims(X_test_over.values[:,:],axis = 2)\n",
        "y_numpy_over_test = y_test_over.values[:]\n",
        "model = Sequential()\n",
        "model.add(LSTM(units=64, return_sequences=True, input_shape=(len(X_train.columns), 1)))\n",
        "model.add(Dropout(0.2))\n",
        "model.add(LSTM(units=64, return_sequences=False))\n",
        "model.add(Dropout(0.2))\n",
        "model.add(Dense(1, activation='sigmoid'))\n",
        "model.compile(loss='binary_crossentropy', optimizer='nadam', metrics=['accuracy'])\n",
        "model.fit(X_numpy_smote, y_numpy_smote, epochs=15, batch_size=64, validation_data=(X_numpy_smote_test, y_numpy_smote_test))\n",
        "\n",
        "X_numpy = np.expand_dims(X_test.values[:],axis = 2)\n",
        "y_numpy = y_test.values[:]\n",
        "ypred = model.predict(X_numpy).ravel()\n",
        "\n",
        "ba = tf.keras.metrics.BinaryAccuracy()\n",
        "ba.update_state(y_numpy, ypred)\n",
        "acc = ba.result().numpy()\n",
        "\n",
        "br = tf.keras.metrics.Recall()\n",
        "br.update_state(y_numpy, ypred)\n",
        "rec = br.result().numpy()\n",
        "\n",
        "bp = tf.keras.metrics.Precision()\n",
        "bp.update_state(y_numpy, ypred)\n",
        "prec = bp.result().numpy()\n",
        "\n",
        "# bf1 = tf.keras.metrics.F1Score()\n",
        "# bf1.update_state(y_numpy, ypred)\n",
        "# f1 = bf1.result().numpy()\n",
        "\n",
        "bauc = tf.keras.metrics.AUC()\n",
        "bauc.update_state(y_numpy, ypred)\n",
        "auc = bauc.result().numpy()\n",
        "results_over.append([acc, rec,])\n",
        "\n",
        "X_numpy = np.expand_dims(X_test.values[:],axis = 2)\n",
        "y_numpy = y_test.values[:]\n",
        "ypred = model.predict(X_numpy).ravel()\n",
        "predlabels = [int(p>=0.5) for p in ypred]\n",
        "fpr_keras, tpr_keras, thresholds_keras = roc_curve(y_test, predlabels)\n",
        "\n",
        "pyplot.plot(fpr_keras, tpr_keras, marker='.', label=(\"LSTM\"))\n",
        "\n",
        "ns_probs = [0 for _ in range(len(y_test))]\n",
        "ns_fpr, ns_tpr, _ = roc_curve(y_test, ns_probs)\n",
        "pyplot.plot(ns_fpr, ns_tpr, linestyle='--', label='No Skill')\n",
        "# axis labels\n",
        "pyplot.xlabel('False Positive Rate')\n",
        "pyplot.ylabel('True Positive Rate')\n",
        "# show the legend\n",
        "pyplot.legend()\n",
        "# show the plot\n",
        "pyplot.show()\n",
        "print(results_over)\n",
        "\n"
      ]
    },
    {
      "cell_type": "code",
      "execution_count": null,
      "metadata": {},
      "outputs": [],
      "source": [
        "# #Adapt from above\n",
        "lr = LogisticRegression(max_iter=1000)\n",
        "svm = SVC(probability=True, kernel='rbf', C=1, gamma='auto')\n",
        "knn = KNeighborsClassifier(n_neighbors=10, weights='distance', metric='manhattan')\n",
        "# rf = bls_rf_best_est\n",
        "# ada = bls_ada_best_est"
      ]
    },
    {
      "cell_type": "code",
      "execution_count": null,
      "metadata": {},
      "outputs": [],
      "source": [
        "final_oversample_1 = RandomOverSampler(sampling_strategy=0.2)\n",
        "X_final_over_1, y_final_over_1 = final_oversample_1.fit_resample(X_train, y_train)\n",
        "final_undersample1 = RandomUnderSampler(sampling_strategy=.5)\n",
        "X_final_over_under, y_final_over_under = final_undersample1.fit_resample(X_final_over_1, y_final_over_1)\n",
        "\n",
        "results_over_under = []\n",
        "models = [lr, svm, knn, rf, ada]\n",
        "for m in models:\n",
        "    m.fit(X_final_over_under, y_final_over_under.values.ravel())\n",
        "    predicted = m.predict(X_test)\n",
        "    acc = metrics.accuracy_score(y_test, predicted)\n",
        "    rec = metrics.recall_score(y_test, predicted)\n",
        "    prec = metrics.precision_score(y_test, predicted)\n",
        "    f1 = metrics.f1_score(y_test, predicted)\n",
        "    auc = metrics.roc_auc_score(y_test, predicted)\n",
        "    results_over_under.append([acc, rec, prec, auc, f1])\n",
        "    m_probs = m.predict_proba(X_test)\n",
        "    m_probs = m_probs[:, 1]\n",
        "    m_fpr, m_tpr, _ = roc_curve(y_test, m_probs)\n",
        "    pyplot.plot(m_fpr, m_tpr, marker='.', label=(m))\n",
        "\n",
        "X_numpy_over_under = np.expand_dims(X_final_over_under.values[:,:],axis = 2)\n",
        "y_numpy_over_under = y_final_over_under.values[:]\n",
        "X_numpy_over_under_test = np.expand_dims(X_test.values[:,:],axis = 2)\n",
        "y_numpy_over_under_test = y_test.values[:]\n",
        "model = Sequential()\n",
        "model.add(LSTM(units=64, return_sequences=True, input_shape=(len(X_train.columns), 1)))\n",
        "model.add(Dropout(0.1))\n",
        "model.add(Dense(1, activation='sigmoid'))\n",
        "model.compile(loss='binary_crossentropy', optimizer='nadam', metrics=['accuracy'])\n",
        "model.fit(X_numpy_over_under, y_numpy_over_under, epochs=15, batch_size=64, validation_data=(X_numpy_over_under_test, y_numpy_over_under_test))\n",
        "\n",
        "X_numpy = np.expand_dims(X_test.values[:],axis = 2)\n",
        "y_numpy = y_test.values[:]\n",
        "ypred = model.predict(X_numpy).ravel()\n",
        "\n",
        "ba = tf.keras.metrics.BinaryAccuracy()\n",
        "ba.update_state(y_numpy, ypred)\n",
        "acc = ba.result().numpy()\n",
        "\n",
        "br = tf.keras.metrics.Recall()\n",
        "br.update_state(y_numpy, ypred)\n",
        "rec = br.result().numpy()\n",
        "\n",
        "bp = tf.keras.metrics.Precision()\n",
        "bp.update_state(y_numpy, ypred)\n",
        "prec = bp.result().numpy()\n",
        "\n",
        "# bf1 = tf.keras.metrics.F1Score()\n",
        "# bf1.update_state(y_numpy, ypred)\n",
        "# f1 = bf1.result().numpy()\n",
        "\n",
        "bauc = tf.keras.metrics.AUC()\n",
        "bauc.update_state(y_numpy, ypred)\n",
        "auc = bauc.result().numpy()\n",
        "results_over.append([acc, rec, prec, auc])\n",
        "\n",
        "predlabels = [int(p>=0.5) for p in ypred]\n",
        "fpr_keras, tpr_keras, thresholds_keras = roc_curve(y_test, predlabels)\n",
        "\n",
        "pyplot.plot(fpr_keras, tpr_keras, marker='.', label=(\"LSTM\"))\n",
        "\n",
        "ns_probs = [0 for _ in range(len(y_test))]\n",
        "ns_fpr, ns_tpr, _ = roc_curve(y_test, ns_probs)\n",
        "pyplot.plot(ns_fpr, ns_tpr, linestyle='--', label='No Skill')\n",
        "# axis labels\n",
        "pyplot.xlabel('False Positive Rate')\n",
        "pyplot.ylabel('True Positive Rate')\n",
        "# show the legend\n",
        "pyplot.legend()\n",
        "# show the plot\n",
        "pyplot.show()\n",
        "print(results_over)"
      ]
    },
    {
      "attachments": {},
      "cell_type": "markdown",
      "metadata": {},
      "source": [
        "# SMOTE"
      ]
    },
    {
      "cell_type": "code",
      "execution_count": null,
      "metadata": {},
      "outputs": [],
      "source": [
        "X_train_smote, X_test_smote, y_train_smote, y_test_smote = train_test_split(X_final_smote, y_final_smote, test_size=0.3)"
      ]
    },
    {
      "cell_type": "code",
      "execution_count": null,
      "metadata": {},
      "outputs": [],
      "source": [
        "# #C is the most meaningful - penalty had no impact and would error out\n",
        "# param_grid = {'C': [0.1,1, 10, 100], 'max_iter': [1000]}\n",
        "# grid = GridSearchCV(LogisticRegression(),param_grid,refit=True,verbose=0,cv=10,scoring='recall', return_train_score=False)\n",
        "# grid.fit(X_train_smote,y_train_smote.values.ravel())\n",
        "# print(\"logistic regression best: \", grid.best_estimator_)\n",
        "# smote_lr_best_est = grid.best_estimator_\n",
        "\n"
      ]
    },
    {
      "cell_type": "code",
      "execution_count": null,
      "metadata": {},
      "outputs": [],
      "source": [
        "# #linear failed to converge\n",
        "# param_grid = {'C': [1], 'gamma': ['auto'],'kernel': ['rbf']}\n",
        "# grid = GridSearchCV(SVC(),param_grid,refit=True,verbose=0, cv=10, scoring='recall', return_train_score=False)\n",
        "# grid.fit(X_train_smote,y_train_smote.values.ravel())\n",
        "# print(\"SVM best: \", grid.best_estimator_)\n",
        "# smote_svm_best_est = grid.best_estimator_"
      ]
    },
    {
      "cell_type": "code",
      "execution_count": null,
      "metadata": {},
      "outputs": [],
      "source": [
        "\n",
        "param_grid = {'n_neighbors': list(range(5,6)), 'metric': ['manhattan'], 'weights': ['uniform'] }\n",
        "grid = GridSearchCV(KNeighborsClassifier(),param_grid,refit=True,verbose=2,cv=1, scoring='accuracy', return_train_score=False)\n",
        "grid.fit(X_train_smote,y_train_smote.values.ravel())\n",
        "print(\"KNN best: \", grid.best_estimator_)\n",
        "smote_knn_best_est = grid.best_estimator_"
      ]
    },
    {
      "cell_type": "code",
      "execution_count": null,
      "metadata": {},
      "outputs": [],
      "source": [
        "\n",
        "param_grid = {\n",
        "    'n_estimators': [10, 50, 100],\n",
        "    'max_depth': [3, 5, None],\n",
        "    'max_features': ['sqrt', 'log2'],\n",
        "    'min_samples_split': [2, 5, 10],\n",
        "    'min_samples_leaf': [1, 2, 4]\n",
        "}\n",
        "grid = GridSearchCV(RandomForestClassifier(), param_grid,refit=True,verbose=2,cv=5, scoring='recall', return_train_score=False)\n",
        "grid.fit(X_train_smote, y_train_smote.values.ravel())\n",
        "print(\"RF Best estimater:\", grid.best_estimator_)\n",
        "print(\"RF Best parameters:\", grid.best_params_)\n",
        "print(\"RF Best score:\", grid.best_score_)\n",
        "smote_rf_best_est = grid.best_estimator_\n"
      ]
    },
    {
      "cell_type": "code",
      "execution_count": null,
      "metadata": {},
      "outputs": [],
      "source": [
        "# param_grid = {\n",
        "#      'n_estimators': [100, 200, 300],\n",
        "#      'learning_rate': [0.01, 0.05, 0.1, 1],\n",
        "#  }\n",
        "# grid = GridSearchCV(AdaBoostClassifier(), param_grid,refit=True,verbose=0,cv=10, scoring='recall', return_train_score=False)\n",
        "# grid.fit(X_train_smote, y_train_smote.values.ravel())\n",
        "# print(\"ADA Best estimater:\", grid.best_estimator_)\n",
        "# print(\"ADA Best parameters:\", grid.best_params_)\n",
        "# print(\"ADA Best score:\", grid.best_score_)\n",
        "# smote_ada_best_est = grid.best_estimator_"
      ]
    },
    {
      "cell_type": "code",
      "execution_count": null,
      "metadata": {},
      "outputs": [],
      "source": [
        "print(smote_rf_best_est)\n",
        "print(smote_knn_best_est)"
      ]
    },
    {
      "cell_type": "code",
      "execution_count": null,
      "metadata": {},
      "outputs": [],
      "source": [
        "# #Adapt from above\n",
        "# lr = LogisticRegression(max_iter=1000)\n",
        "svm = SVC(probability=True)\n",
        "knn = smote_knn_best_est\n",
        "rf = smote_rf_best_est\n",
        "# ada = bls_ada_best_est"
      ]
    },
    {
      "cell_type": "code",
      "execution_count": null,
      "metadata": {},
      "outputs": [],
      "source": [
        "results_smote = []\n",
        "models = [lr, svm, knn, rf, ada]\n",
        "\n",
        "for m in models:\n",
        "    m.fit(X_train_smote, y_train_smote.values.ravel())\n",
        "    predicted = m.predict(X_test)\n",
        "    acc = metrics.accuracy_score(y_test, predicted)\n",
        "    rec = metrics.recall_score(y_test, predicted)\n",
        "    prec = metrics.precision_score(y_test, predicted)\n",
        "    f1 = metrics.f1_score(y_test, predicted)\n",
        "    auc = metrics.roc_auc_score(y_test, predicted)\n",
        "    results_smote.append([acc, rec, prec, auc, f1])\n",
        "    m_probs = m.predict_proba(X_test)\n",
        "    m_probs = m_probs[:, 1]\n",
        "    m_fpr, m_tpr, _ = roc_curve(y_test, m_probs)\n",
        "    pyplot.plot(m_fpr, m_tpr, marker='.', label=(m))\n",
        "\n",
        "\n",
        "\n",
        "X_numpy_smote = np.expand_dims(X_train_smote.values[:,:],axis = 2)\n",
        "y_numpy_smote = y_train_smote.values[:]\n",
        "X_numpy_smote_test = np.expand_dims(X_test_smote.values[:,:],axis = 2)\n",
        "y_numpy_smote_test = y_test_smote.values[:]\n",
        "model = Sequential()\n",
        "model.add(LSTM(units=64, return_sequences=True, input_shape=(len(X_train.columns), 1)))\n",
        "model.add(Dropout(0.2))\n",
        "model.add(LSTM(units=64, return_sequences=False))\n",
        "model.add(Dropout(0.2))\n",
        "model.add(Dense(1, activation='sigmoid'))\n",
        "model.compile(loss='binary_crossentropy', optimizer='nadam', metrics=['accuracy'])\n",
        "model.fit(X_numpy_smote, y_numpy_smote, epochs=15, batch_size=64, validation_data=(X_numpy_smote_test, y_numpy_smote_test))\n",
        "\n",
        "X_numpy = np.expand_dims(X_test.values[:],axis = 2)\n",
        "y_numpy = y_test.values[:]\n",
        "ypred = model.predict(X_numpy).ravel()\n",
        "\n",
        "ba = tf.keras.metrics.BinaryAccuracy()\n",
        "ba.update_state(y_numpy, ypred)\n",
        "acc = ba.result().numpy()\n",
        "\n",
        "br = tf.keras.metrics.Recall()\n",
        "br.update_state(y_numpy, ypred)\n",
        "rec = br.result().numpy()\n",
        "\n",
        "bp = tf.keras.metrics.Precision()\n",
        "bp.update_state(y_numpy, ypred)\n",
        "prec = bp.result().numpy()\n",
        "\n",
        "# bf1 = tf.keras.metrics.F1Score()\n",
        "# bf1.update_state(y_numpy, ypred)\n",
        "# f1 = bf1.result().numpy()\n",
        "\n",
        "bauc = tf.keras.metrics.AUC()\n",
        "bauc.update_state(y_numpy, ypred)\n",
        "auc = bauc.result().numpy()\n",
        "\n",
        "results_smote.append([acc, rec, prec, auc])\n",
        "\n",
        "fpr_keras, tpr_keras, thresholds_keras = roc_curve(y_numpy, ypred)\n",
        "pyplot.plot(fpr_keras, tpr_keras, marker='.', label=(\"LSTM\"))\n",
        "ns_probs = [0 for _ in range(len(y_test))]\n",
        "ns_fpr, ns_tpr, _ = roc_curve(y_test, ns_probs)\n",
        "pyplot.plot(ns_fpr, ns_tpr, linestyle='--', label='No Skill')\n",
        "# axis labels\n",
        "pyplot.xlabel('False Positive Rate')\n",
        "pyplot.ylabel('True Positive Rate')\n",
        "# show the legend\n",
        "pyplot.legend()\n",
        "# show the plot\n",
        "pyplot.show()\n",
        "print(results_smote)"
      ]
    },
    {
      "attachments": {},
      "cell_type": "markdown",
      "metadata": {},
      "source": [
        "# ADASYN"
      ]
    },
    {
      "cell_type": "code",
      "execution_count": null,
      "metadata": {},
      "outputs": [],
      "source": [
        "X_train_adasyn, X_test_adasyn, y_train_adasyn, y_test_adasyn = train_test_split(X_final_adasyn, y_final_adasyn, test_size=0.3)"
      ]
    },
    {
      "cell_type": "code",
      "execution_count": null,
      "metadata": {},
      "outputs": [],
      "source": [
        "# #C is the most meaningful - penalty had no impact and would error out\n",
        "# param_grid = {'C': [0.1,1, 10, 100], 'max_iter': [1000]}\n",
        "# grid = GridSearchCV(LogisticRegression(),param_grid,refit=True,verbose=0,cv=10,scoring='recall', return_train_score=False)\n",
        "# grid.fit(X_train_adasyn,y_train_adasyn.values.ravel())\n",
        "# print(\"logistic regression best: \", grid.best_estimator_)\n",
        "# ada_lr_best_est = grid.best_estimator_\n",
        "\n"
      ]
    },
    {
      "cell_type": "code",
      "execution_count": null,
      "metadata": {},
      "outputs": [],
      "source": [
        "\n",
        "# #linear failed to converge\n",
        "# param_grid = {'C': [0.1,1, 10, 100], 'gamma': [1,0.1,0.01,0.001],'kernel': ['rbf', 'poly']}\n",
        "# grid = GridSearchCV(SVC(),param_grid,refit=True,verbose=0, cv=10, scoring='recall', return_train_score=False)\n",
        "# grid.fit(X_train_adasyn,y_train_adasyn.values.ravel())\n",
        "# print(\"SVM best: \", grid.best_estimator_)\n",
        "# ada_svm_best_est = grid.best_estimator_\n",
        "\n"
      ]
    },
    {
      "cell_type": "code",
      "execution_count": null,
      "metadata": {},
      "outputs": [],
      "source": [
        "\n",
        "# param_grid = {'n_neighbors': list(range(1,21)), 'metric': ['euclidean', 'manhattan', 'minkowski'], 'weights': ['uniform', 'distance'] }\n",
        "# grid = GridSearchCV(KNeighborsClassifier(),param_grid,refit=True,verbose=0,cv=10, scoring='recall', return_train_score=False)\n",
        "# grid.fit(X_train_adasyn,y_train_adasyn.values.ravel())\n",
        "# print(\"KNN best: \", grid.best_estimator_)\n",
        "# ada_knn_best_est = grid.best_estimator_\n",
        "\n"
      ]
    },
    {
      "cell_type": "code",
      "execution_count": null,
      "metadata": {},
      "outputs": [],
      "source": [
        "\n",
        "# param_grid = {\n",
        "#     'n_estimators': [10, 50, 100],\n",
        "#     'max_depth': [3, 5, None],\n",
        "#     'max_features': ['sqrt', 'log2'],\n",
        "#     'min_samples_split': [2, 5, 10],\n",
        "#     'min_samples_leaf': [1, 2, 4]\n",
        "# }\n",
        "# grid = GridSearchCV(RandomForestClassifier(), param_grid,refit=True,verbose=0,cv=10, scoring='recall', return_train_score=False)\n",
        "# grid.fit(X_train_adasyn, y_train_adasyn.values.ravel())\n",
        "# print(\"RF Best estimater:\", grid.best_estimator_)\n",
        "# print(\"RF Best parameters:\", grid.best_params_)\n",
        "# print(\"RF Best score:\", grid.best_score_)\n",
        "# ada_rf_best_est = grid.best_estimator_\n"
      ]
    },
    {
      "cell_type": "code",
      "execution_count": null,
      "metadata": {},
      "outputs": [],
      "source": [
        "\n",
        "# param_grid = {\n",
        "#      'n_estimators': [100, 200, 300],\n",
        "#      'learning_rate': [0.01, 0.05, 0.1, 1],\n",
        "#  }\n",
        "# grid = GridSearchCV(AdaBoostClassifier(), param_grid,refit=True,verbose=0,cv=10, scoring='recall', return_train_score=False)\n",
        "# grid.fit(X_train_adasyn, y_train_adasyn.values.ravel())\n",
        "# print(\"ADA Best estimater:\", grid.best_estimator_)\n",
        "# print(\"ADA Best parameters:\", grid.best_params_)\n",
        "# print(\"ADA Best score:\", grid.best_score_)\n",
        "# ada_ada_best_est = grid.best_estimator_"
      ]
    },
    {
      "cell_type": "code",
      "execution_count": null,
      "metadata": {},
      "outputs": [],
      "source": [
        "# #Adapt from above\n",
        "# lr = ada_lr_best_est\n",
        "# svm = ada_svm_best_est\n",
        "# knn = ada_knn_best_est\n",
        "# rf = ada_rf_best_est\n",
        "# ada = ada_ada_best_est\n"
      ]
    },
    {
      "cell_type": "code",
      "execution_count": null,
      "metadata": {},
      "outputs": [],
      "source": [
        "results_adasyn = []\n",
        "models = [lr, svm, knn, rf, ada]\n",
        "\n",
        "for m in models:\n",
        "    m.fit(X_train_adasyn, y_train_adasyn.values.ravel())\n",
        "    predicted = m.predict(X_test)\n",
        "    acc = metrics.accuracy_score(y_test, predicted)\n",
        "    rec = metrics.recall_score(y_test, predicted)\n",
        "    prec = metrics.precision_score(y_test, predicted)\n",
        "    f1 = metrics.f1_score(y_test, predicted)\n",
        "    auc = metrics.roc_auc_score(y_test, predicted)\n",
        "    results_adasyn.append([acc, rec, prec, f1, auc])\n",
        "    m_probs = m.predict_proba(X_test)\n",
        "    m_probs = m_probs[:, 1]\n",
        "    m_fpr, m_tpr, _ = roc_curve(y_test, m_probs)\n",
        "    pyplot.plot(m_fpr, m_tpr, marker='.', label=(m))\n",
        "\n",
        "X_numpy_adasyn = np.expand_dims(X_train_adasyn.values[:,:],axis = 2)\n",
        "y_numpy_adasyn = y_train_adasyn.values[:]\n",
        "X_numpy_adasyn_test = np.expand_dims(X_test_adasyn.values[:,:],axis = 2)\n",
        "y_numpy_adasyn_test = y_test_adasyn.values[:]\n",
        "model = Sequential()\n",
        "model.add(LSTM(units=64, return_sequences=True, input_shape=(len(X_train.columns), 1)))\n",
        "model.add(Dropout(0.2))\n",
        "model.add(LSTM(units=64, return_sequences=False))\n",
        "model.add(Dropout(0.2))\n",
        "model.add(Dense(1, activation='sigmoid'))\n",
        "model.compile(loss='binary_crossentropy', optimizer='nadam', metrics=['accuracy'])\n",
        "model.fit(X_numpy_smote, y_numpy_smote, epochs=15, batch_size=64, validation_data=(X_numpy_smote_test, y_numpy_smote_test))\n",
        "\n",
        "X_numpy = np.expand_dims(X_test.values[:],axis = 2)\n",
        "y_numpy = y_test.values[:]\n",
        "ypred = model.predict(X_numpy).ravel()\n",
        "\n",
        "ba = tf.keras.metrics.BinaryAccuracy()\n",
        "ba.update_state(y_numpy, ypred)\n",
        "acc = ba.result().numpy()\n",
        "\n",
        "br = tf.keras.metrics.Recall()\n",
        "br.update_state(y_numpy, ypred)\n",
        "rec = br.result().numpy()\n",
        "\n",
        "bp = tf.keras.metrics.Precision()\n",
        "bp.update_state(y_numpy, ypred)\n",
        "prec = bp.result().numpy()\n",
        "\n",
        "# bf1 = tf.keras.metrics.F1Score()\n",
        "# bf1.update_state(y_numpy, ypred)\n",
        "# f1 = bf1.result().numpy()\n",
        "\n",
        "bauc = tf.keras.metrics.AUC()\n",
        "bauc.update_state(y_numpy, ypred)\n",
        "auc = bauc.result().numpy()\n",
        "\n",
        "results_adasyn.append([acc, rec, prec, auc])\n",
        "\n",
        "fpr_keras, tpr_keras, thresholds_keras = roc_curve(y_numpy, ypred)\n",
        "pyplot.plot(fpr_keras, tpr_keras, marker='.', label=(\"LSTM\"))\n",
        "ns_probs = [0 for _ in range(len(y_test))]\n",
        "ns_fpr, ns_tpr, _ = roc_curve(y_test, ns_probs)\n",
        "pyplot.plot(ns_fpr, ns_tpr, linestyle='--', label='No Skill')\n",
        "# axis labels\n",
        "pyplot.xlabel('False Positive Rate')\n",
        "pyplot.ylabel('True Positive Rate')\n",
        "# show the legend\n",
        "pyplot.legend()\n",
        "# show the plot\n",
        "pyplot.show()\n",
        "print(results_adasyn)"
      ]
    },
    {
      "attachments": {},
      "cell_type": "markdown",
      "metadata": {},
      "source": [
        "# Borderline SMOTE"
      ]
    },
    {
      "cell_type": "code",
      "execution_count": null,
      "metadata": {},
      "outputs": [],
      "source": [
        "X_train_blsmote, X_test_blsmote, y_train_blsmote, y_test_blsmote = train_test_split(X_final_blsmote, y_final_blsmote, test_size=0.3)"
      ]
    },
    {
      "cell_type": "code",
      "execution_count": null,
      "metadata": {},
      "outputs": [],
      "source": [
        "# #C is the most meaningful - penalty had no impact and would error out\n",
        "# param_grid = {'C': [0.1,1, 10, 100], 'max_iter': [1000]}\n",
        "# grid = GridSearchCV(LogisticRegression(),param_grid,refit=True,verbose=0,cv=10,scoring='recall', return_train_score=False)\n",
        "# grid.fit(X_train_blsmote,y_train_blsmote.values.ravel())\n",
        "# print(\"logistic regression best: \", grid.best_estimator_)\n",
        "# bls_lr_best_est = grid.best_estimator_\n",
        "\n"
      ]
    },
    {
      "cell_type": "code",
      "execution_count": null,
      "metadata": {},
      "outputs": [],
      "source": [
        "\n",
        "# #linear failed to converge\n",
        "# param_grid = {'C': [0.1,1, 10, 100], 'gamma': [1,0.1,0.01,0.001],'kernel': ['rbf', 'poly']}\n",
        "# grid = GridSearchCV(SVC(),param_grid,refit=True,verbose=0, cv=10, scoring='recall', return_train_score=False)\n",
        "# grid.fit(X_train_blsmote,y_train_blsmote.values.ravel())\n",
        "# print(\"SVM best: \", grid.best_estimator_)\n",
        "# bls_svm_best_est = grid.best_estimator_"
      ]
    },
    {
      "cell_type": "code",
      "execution_count": null,
      "metadata": {},
      "outputs": [],
      "source": [
        "\n",
        "# param_grid = {'n_neighbors': list(range(1,21)), 'metric': ['euclidean', 'manhattan', 'minkowski'], 'weights': ['uniform', 'distance'] }\n",
        "# grid = GridSearchCV(KNeighborsClassifier(),param_grid,refit=True,verbose=0,cv=10, scoring='recall', return_train_score=False)\n",
        "# grid.fit(X_train_blsmote,y_train_blsmote.values.ravel())\n",
        "# print(\"KNN best: \", grid.best_estimator_)\n",
        "# bls_knn_best_est = grid.best_estimator_\n",
        "\n"
      ]
    },
    {
      "cell_type": "code",
      "execution_count": null,
      "metadata": {},
      "outputs": [],
      "source": [
        "\n",
        "# param_grid = {\n",
        "#     'n_estimators': [10, 50, 100],\n",
        "#     'max_depth': [3, 5, None],\n",
        "#     'max_features': ['sqrt', 'log2'],\n",
        "#     'min_samples_split': [2, 5, 10],\n",
        "#     'min_samples_leaf': [1, 2, 4]\n",
        "# }\n",
        "# grid = GridSearchCV(RandomForestClassifier(), param_grid,refit=True,verbose=0,cv=10, scoring='recall', return_train_score=False)\n",
        "# grid.fit(X_train_blsmote, y_train_blsmote.values.ravel())\n",
        "# print(\"RF Best estimater:\", grid.best_estimator_)\n",
        "# print(\"RF Best parameters:\", grid.best_params_)\n",
        "# print(\"RF Best score:\", grid.best_score_)\n",
        "# bls_rf_best_est = grid.best_estimator_\n",
        "\n"
      ]
    },
    {
      "cell_type": "code",
      "execution_count": null,
      "metadata": {},
      "outputs": [],
      "source": [
        "\n",
        "# param_grid = {\n",
        "#      'n_estimators': [100, 200, 300],\n",
        "#      'learning_rate': [0.01, 0.05, 0.1, 1],\n",
        "#  }\n",
        "# grid = GridSearchCV(AdaBoostClassifier(), param_grid,refit=True,verbose=0,cv=10, scoring='recall', return_train_score=False)\n",
        "# grid.fit(X_train_blsmote, y_train_blsmote)\n",
        "# print(\"ADA Best estimater:\", grid.best_estimator_)\n",
        "# print(\"ADA Best parameters:\", grid.best_params_)\n",
        "# print(\"ADA Best score:\", grid.best_score_)\n",
        "# bls_ada_best_est = grid.best_estimator_"
      ]
    },
    {
      "cell_type": "code",
      "execution_count": null,
      "metadata": {},
      "outputs": [],
      "source": [
        "# #Adapt from above\n",
        "# lr = LogisticRegression(max_iter=1000)\n",
        "# svm = SVC(probability=True)\n",
        "# knn = bls_knn_best_est\n",
        "# rf = bls_rf_best_est\n",
        "# ada = bls_ada_best_est"
      ]
    },
    {
      "cell_type": "code",
      "execution_count": null,
      "metadata": {},
      "outputs": [],
      "source": [
        "results_blsmote = []\n",
        "models = [lr, svm, knn, rf, ada]\n",
        "\n",
        "for m in models:\n",
        "    m.fit(X_train_blsmote, y_train_blsmote.values.ravel())\n",
        "    predicted = m.predict(X_test)\n",
        "    acc = metrics.accuracy_score(y_test, predicted)\n",
        "    rec = metrics.recall_score(y_test, predicted)\n",
        "    prec = metrics.precision_score(y_test, predicted)\n",
        "    f1 = metrics.f1_score(y_test, predicted)\n",
        "    auc = metrics.roc_auc_score(y_test, predicted)\n",
        "    results_blsmote.append([acc, rec, prec, f1, auc])\n",
        "    m_probs = m.predict_proba(X_test)\n",
        "    m_probs = m_probs[:, 1]\n",
        "    m_fpr, m_tpr, _ = roc_curve(y_test, m_probs)\n",
        "    pyplot.plot(m_fpr, m_tpr, marker='.', label=(m))\n",
        "\n",
        "X_numpy_blsmote = np.expand_dims(X_train_blsmote.values[:,:],axis = 2)\n",
        "y_numpy_blsmote = y_train_blsmote.values[:]\n",
        "X_numpy_blsmote_test = np.expand_dims(X_test_blsmote.values[:,:],axis = 2)\n",
        "y_numpy_blsmote_test = y_test_blsmote.values[:]\n",
        "model = Sequential()\n",
        "model.add(LSTM(units=64, return_sequences=True, input_shape=(len(X_train.columns), 1)))\n",
        "model.add(Dropout(0.2))\n",
        "model.add(LSTM(units=64, return_sequences=False))\n",
        "model.add(Dropout(0.2))\n",
        "model.add(Dense(1, activation='sigmoid'))\n",
        "model.compile(loss='binary_crossentropy', optimizer='nadam', metrics=['accuracy'])\n",
        "model.fit(X_numpy_smote, y_numpy_smote, epochs=15, batch_size=64, validation_data=(X_numpy_smote_test, y_numpy_smote_test))\n",
        "\n",
        "X_numpy = np.expand_dims(X_test.values[:],axis = 2)\n",
        "y_numpy = y_test.values[:]\n",
        "ypred = model.predict(X_numpy).ravel()\n",
        "\n",
        "ba = tf.keras.metrics.BinaryAccuracy()\n",
        "ba.update_state(y_numpy, ypred)\n",
        "acc = ba.result().numpy()\n",
        "\n",
        "br = tf.keras.metrics.Recall()\n",
        "br.update_state(y_numpy, ypred)\n",
        "rec = br.result().numpy()\n",
        "\n",
        "bp = tf.keras.metrics.Precision()\n",
        "bp.update_state(y_numpy, ypred)\n",
        "prec = bp.result().numpy()\n",
        "\n",
        "# bf1 = tf.keras.metrics.F1Score()\n",
        "# bf1.update_state(y_numpy, ypred)\n",
        "# f1 = bf1.result().numpy()\n",
        "\n",
        "bauc = tf.keras.metrics.AUC()\n",
        "bauc.update_state(y_numpy, ypred)\n",
        "auc = bauc.result().numpy()\n",
        "\n",
        "results_blsmote.append([acc, rec, prec, auc])\n",
        "\n",
        "fpr_keras, tpr_keras, thresholds_keras = roc_curve(y_numpy, ypred)\n",
        "pyplot.plot(fpr_keras, tpr_keras, marker='.', label=(\"LSTM\"))\n",
        "ns_probs = [0 for _ in range(len(y_test))]\n",
        "ns_fpr, ns_tpr, _ = roc_curve(y_test, ns_probs)\n",
        "pyplot.plot(ns_fpr, ns_tpr, linestyle='--', label='No Skill')\n",
        "# axis labels\n",
        "pyplot.xlabel('False Positive Rate')\n",
        "pyplot.ylabel('True Positive Rate')\n",
        "# show the legend\n",
        "pyplot.legend()\n",
        "# show the plot\n",
        "pyplot.show()\n",
        "print(results_blsmote)"
      ]
    },
    {
      "cell_type": "code",
      "execution_count": null,
      "metadata": {},
      "outputs": [],
      "source": [
        "final_results = [[results_no_sample], [results_under], [results_over], [results_smote], [results_adasyn], [results_blsmote]]"
      ]
    },
    {
      "cell_type": "code",
      "execution_count": null,
      "metadata": {},
      "outputs": [],
      "source": [
        "final_results"
      ]
    },
    {
      "cell_type": "code",
      "execution_count": null,
      "metadata": {},
      "outputs": [],
      "source": [
        "# sb.heatmap(cf_matrix/np.sum(cf_matrix), annot=True, fmt='.2%', cmap='Blues')"
      ]
    },
    {
      "cell_type": "code",
      "execution_count": null,
      "metadata": {},
      "outputs": [],
      "source": [
        "# mean0 = final_adasyn[final_adasyn['label'] == 0].sample(30)\n",
        "# mean1 = final_adasyn[final_adasyn['label'] == 1].sample(30)\n",
        "# fvalue, pvalue = stats.ttest_ind(mean0['text_distance'], mean1['text_distance'])\n",
        "# print(fvalue, pvalue)"
      ]
    },
    {
      "cell_type": "code",
      "execution_count": null,
      "metadata": {},
      "outputs": [],
      "source": [
        "# pca = PCA(n_components = 5)\n",
        "# X_train_blsmote = pca.fit_transform(X_train_blsmote)\n",
        "# X_test_blsmote = pca.transform(X_test_blsmote)\n",
        "# explained_variance = pca.explained_variance_ratio_\n",
        "# explained_variance"
      ]
    }
  ],
  "metadata": {
    "accelerator": "TPU",
    "colab": {
      "include_colab_link": true,
      "provenance": []
    },
    "gpuClass": "standard",
    "kernelspec": {
      "display_name": "Python 3.9.15 ('praxis-clements')",
      "language": "python",
      "name": "python3"
    },
    "language_info": {
      "codemirror_mode": {
        "name": "ipython",
        "version": 3
      },
      "file_extension": ".py",
      "mimetype": "text/x-python",
      "name": "python",
      "nbconvert_exporter": "python",
      "pygments_lexer": "ipython3",
      "version": "3.9.16"
    },
    "orig_nbformat": 4,
    "vscode": {
      "interpreter": {
        "hash": "0e4ed65ac9cd06e325be5e4053efe5dbb28567580420031f65d0d231df994926"
      }
    }
  },
  "nbformat": 4,
  "nbformat_minor": 0
}
