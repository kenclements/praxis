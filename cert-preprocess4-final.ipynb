{
  "cells": [
    {
      "attachments": {},
      "cell_type": "markdown",
      "metadata": {},
      "source": [
        "# Loading Libraries"
      ]
    },
    {
      "cell_type": "code",
      "execution_count": 1,
      "metadata": {
        "id": "SpDcPu8tmmK0"
      },
      "outputs": [
        {
          "name": "stderr",
          "output_type": "stream",
          "text": [
            "2023-04-25 19:55:31.900537: I tensorflow/core/platform/cpu_feature_guard.cc:193] This TensorFlow binary is optimized with oneAPI Deep Neural Network Library (oneDNN) to use the following CPU instructions in performance-critical operations:  SSE4.1 SSE4.2\n",
            "To enable them in other operations, rebuild TensorFlow with the appropriate compiler flags.\n"
          ]
        }
      ],
      "source": [
        "#data management tools\n",
        "import pandas as pd\n",
        "import numpy as np\n",
        "\n",
        "from matplotlib import pyplot\n",
        "\n",
        "from imblearn.under_sampling import RandomUnderSampler\n",
        "from imblearn.over_sampling import RandomOverSampler\n",
        "from imblearn.over_sampling import SMOTE\n",
        "from imblearn.over_sampling import BorderlineSMOTE\n",
        "from imblearn.over_sampling import ADASYN\n",
        "\n",
        "import seaborn as sb\n",
        "import datetime\n",
        "\n",
        "# #Vectorization and Tokenizing\n",
        "from sklearn.feature_extraction.text import TfidfVectorizer, CountVectorizer\n",
        "from sklearn.preprocessing import MaxAbsScaler\n",
        "from sklearn.preprocessing import OneHotEncoder\n",
        "from sklearn.preprocessing import LabelEncoder\n",
        "from sklearn.preprocessing import StandardScaler\n",
        "from sklearn.decomposition import PCA\n",
        "from sklearn import decomposition\n",
        "from sklearn.pipeline import Pipeline\n",
        "from sklearn import utils\n",
        "from sklearn.metrics import roc_curve\n",
        "from sklearn.metrics import roc_auc_score\n",
        "from keras.wrappers.scikit_learn import KerasClassifier\n",
        "from sklearn.metrics import mean_absolute_error\n",
        "\n",
        "import nltk\n",
        "from nltk.corpus import stopwords\n",
        "from nltk.tokenize import word_tokenize\n",
        "from nltk import pos_tag\n",
        "from nltk.stem import PorterStemmer\n",
        "from nltk.stem import LancasterStemmer\n",
        "\n",
        "# #DNN Modules\n",
        "# import torch\n",
        "import tensorflow as tf\n",
        "from tensorflow import keras\n",
        "from keras.metrics import metrics\n",
        "from keras.models import Sequential\n",
        "from keras.layers import LSTM, Dense, Dropout\n",
        "\n",
        "# from tensorflow.keras.layers import InputLayer\n",
        "# from tensorflow.keras import losses\n",
        "# from tensorflow.keras.regularizers import L2\n",
        "# from tensorflow.keras.utils import plot_model\n",
        "# from tensorflow.keras.layers import TextVectorization\n",
        "\n",
        "# #Models\n",
        "from sklearn.ensemble import AdaBoostClassifier\n",
        "from sklearn.linear_model import LogisticRegression\n",
        "# from sklearn.naive_bayes import GaussianNB\n",
        "from sklearn.neighbors import KNeighborsClassifier\n",
        "from sklearn.ensemble import RandomForestClassifier\n",
        "from sklearn import svm\n",
        "from sklearn.svm import SVC  \n",
        "\n",
        "# #Metrics and Testing\n",
        "from sklearn.model_selection import train_test_split\n",
        "from sklearn import metrics\n",
        "from sklearn.metrics import confusion_matrix\n",
        "from sklearn.model_selection import GridSearchCV\n",
        "\n",
        "from gensim.models import Doc2Vec\n",
        "from gensim.models.doc2vec import TaggedDocument\n",
        "from tqdm import tqdm\n",
        "tqdm.pandas(desc=\"progress-bar\")\n",
        "\n",
        "import multiprocessing\n",
        "cores = multiprocessing.cpu_count()\n",
        "from itertools import chain\n",
        "\n",
        "import xlwings as xw"
      ]
    },
    {
      "attachments": {},
      "cell_type": "markdown",
      "metadata": {},
      "source": [
        "# Dataloading and Preprocessing"
      ]
    },
    {
      "cell_type": "code",
      "execution_count": 2,
      "metadata": {
        "id": "oR_xocCCmmK3"
      },
      "outputs": [],
      "source": [
        "#My MacBook\n",
        "df1 = pd.read_csv('/Users/ken.clements/code/praxis/CERT42/logon.csv')\n",
        "df2 = pd.read_csv('/Users/ken.clements/code/praxis/CERT42/device.csv')\n",
        "df3 = pd.read_csv('/Users/ken.clements/code/praxis/CERT42/email.csv')\n",
        "df4 = pd.read_csv('/Users/ken.clements/code/praxis/CERT42/file.csv')\n",
        "df5 = pd.read_csv('/Users/ken.clements/code/praxis/CERT42/http.csv')\n",
        "ans = pd.read_csv('/Users/ken.clements/code/praxis/CERT42/answers/answers.csv')\n",
        "ldap = pd.read_csv('/Users/ken.clements/code/praxis/CERT42/ldap/2009-12.csv')\n",
        "df6 = pd.read_csv('/Users/ken.clements/code/praxis/CERT42/psychometric.csv')"
      ]
    },
    {
      "cell_type": "code",
      "execution_count": 3,
      "metadata": {},
      "outputs": [],
      "source": [
        "df3['activity'] = \"email\"\n",
        "df4['activity'] = \"file\"\n",
        "df5['activity'] = \"http\""
      ]
    },
    {
      "cell_type": "code",
      "execution_count": 4,
      "metadata": {},
      "outputs": [],
      "source": [
        "START = datetime.date(2010,10,1)\n",
        "END = datetime.date(2010,10,31)"
      ]
    },
    {
      "cell_type": "code",
      "execution_count": 5,
      "metadata": {},
      "outputs": [],
      "source": [
        "df_merged = pd.concat([df1, df2, df3, df4, df5])\n",
        "df_merged['date'] = pd.to_datetime(df_merged['date'])\n",
        "df_merged['day_date'] = pd.to_datetime(df_merged['date']).dt.date"
      ]
    },
    {
      "cell_type": "code",
      "execution_count": 6,
      "metadata": {},
      "outputs": [],
      "source": [
        "df_time_range = df_merged[((df_merged['day_date'] >= START) & (df_merged['day_date'] <= END))]"
      ]
    },
    {
      "cell_type": "code",
      "execution_count": 7,
      "metadata": {},
      "outputs": [
        {
          "name": "stderr",
          "output_type": "stream",
          "text": [
            "/var/folders/p4/svf85_b50jvfz4dvm3yf5h0c0000gq/T/ipykernel_72139/1036657486.py:1: SettingWithCopyWarning: \n",
            "A value is trying to be set on a copy of a slice from a DataFrame.\n",
            "Try using .loc[row_indexer,col_indexer] = value instead\n",
            "\n",
            "See the caveats in the documentation: https://pandas.pydata.org/pandas-docs/stable/user_guide/indexing.html#returning-a-view-versus-a-copy\n",
            "  df_time_range['label'] = 'normal'\n"
          ]
        }
      ],
      "source": [
        "df_time_range['label'] = 'normal'\n",
        "df_time_range.loc[df_time_range['id'].isin(ans['id']),['label']] = 'abnormal'"
      ]
    },
    {
      "cell_type": "code",
      "execution_count": 8,
      "metadata": {},
      "outputs": [],
      "source": [
        "#userEvents = df_time_range.loc[(df_time_range['user'] == 'IJM0776')]\n",
        "userEvents = df_time_range"
      ]
    },
    {
      "cell_type": "code",
      "execution_count": 9,
      "metadata": {},
      "outputs": [
        {
          "name": "stderr",
          "output_type": "stream",
          "text": [
            "/var/folders/p4/svf85_b50jvfz4dvm3yf5h0c0000gq/T/ipykernel_72139/1096339616.py:1: SettingWithCopyWarning: \n",
            "A value is trying to be set on a copy of a slice from a DataFrame.\n",
            "Try using .loc[row_indexer,col_indexer] = value instead\n",
            "\n",
            "See the caveats in the documentation: https://pandas.pydata.org/pandas-docs/stable/user_guide/indexing.html#returning-a-view-versus-a-copy\n",
            "  userEvents['activityMinute'] = userEvents['date'].apply(lambda s: (s - s.replace(hour=0, minute=0, second=0, microsecond=0)).seconds)\n",
            "/var/folders/p4/svf85_b50jvfz4dvm3yf5h0c0000gq/T/ipykernel_72139/1096339616.py:2: SettingWithCopyWarning: \n",
            "A value is trying to be set on a copy of a slice from a DataFrame.\n",
            "Try using .loc[row_indexer,col_indexer] = value instead\n",
            "\n",
            "See the caveats in the documentation: https://pandas.pydata.org/pandas-docs/stable/user_guide/indexing.html#returning-a-view-versus-a-copy\n",
            "  userEvents['activityMinute'] = userEvents['activityMinute'].apply(lambda s: (s/60))\n"
          ]
        }
      ],
      "source": [
        "userEvents['activityMinute'] = userEvents['date'].apply(lambda s: (s - s.replace(hour=0, minute=0, second=0, microsecond=0)).seconds)\n",
        "userEvents['activityMinute'] = userEvents['activityMinute'].apply(lambda s: (s/60))"
      ]
    },
    {
      "attachments": {},
      "cell_type": "markdown",
      "metadata": {},
      "source": [
        "# NLP"
      ]
    },
    {
      "cell_type": "code",
      "execution_count": 10,
      "metadata": {},
      "outputs": [
        {
          "name": "stderr",
          "output_type": "stream",
          "text": [
            "[nltk_data] Downloading package averaged_perceptron_tagger to\n",
            "[nltk_data]     /Users/ken.clements/nltk_data...\n",
            "[nltk_data]   Package averaged_perceptron_tagger is already up-to-\n",
            "[nltk_data]       date!\n",
            "[nltk_data] Downloading package wordnet to\n",
            "[nltk_data]     /Users/ken.clements/nltk_data...\n",
            "[nltk_data]   Package wordnet is already up-to-date!\n",
            "[nltk_data] Downloading package omw-1.4 to\n",
            "[nltk_data]     /Users/ken.clements/nltk_data...\n",
            "[nltk_data]   Package omw-1.4 is already up-to-date!\n"
          ]
        }
      ],
      "source": [
        "nltk.download('averaged_perceptron_tagger')\n",
        "nltk.download('wordnet')\n",
        "nltk.download('omw-1.4')\n",
        "def prepare_text(pretext):\n",
        "\n",
        "    # tokenize mission.\n",
        "    tokens = word_tokenize(pretext, language=\"english\", preserve_line=True)\n",
        "\n",
        "    # # # Parts of speech (POS) tag tokens.\n",
        "    # token_tag = pos_tag(tokens)\n",
        "    \n",
        "    # # # Only include some of the POS tags.\n",
        "    # include_tags = ['VBN', 'VBD', 'JJ', 'JJS', 'JJR', 'CD', 'NN', 'NNS', 'NNP', 'NNPS']\n",
        "    # filtered_tokens = (tok for tok, tag in token_tag if tag in include_tags)    \n",
        "    \n",
        "    # # #stem words.\n",
        "    # stemmed_tokens = (lancaster.stem(tok) for tok in filtered_tokens)\n",
        "\n",
        "    # # #lemm words.\n",
        "    # lemmed_words = (lemmatizer.lemmatize(tok) for tok in stemmed_tokens)\n",
        "\n",
        "    # lower_words = [str.lower(tok) for tok in lemmed_words]\n",
        "\n",
        "    joined = \", \".join(tokens)\n",
        "\n",
        "    return(joined)\n",
        "\n",
        "#ps = PorterStemmer()\n",
        "lancaster = LancasterStemmer()\n",
        "lemmatizer = nltk.stem.WordNetLemmatizer()"
      ]
    },
    {
      "cell_type": "code",
      "execution_count": 11,
      "metadata": {},
      "outputs": [
        {
          "name": "stderr",
          "output_type": "stream",
          "text": [
            "/var/folders/p4/svf85_b50jvfz4dvm3yf5h0c0000gq/T/ipykernel_72139/3616404602.py:1: SettingWithCopyWarning: \n",
            "A value is trying to be set on a copy of a slice from a DataFrame\n",
            "\n",
            "See the caveats in the documentation: https://pandas.pydata.org/pandas-docs/stable/user_guide/indexing.html#returning-a-view-versus-a-copy\n",
            "  userEvents['content'].fillna('', inplace=True)\n",
            "/var/folders/p4/svf85_b50jvfz4dvm3yf5h0c0000gq/T/ipykernel_72139/3616404602.py:2: SettingWithCopyWarning: \n",
            "A value is trying to be set on a copy of a slice from a DataFrame.\n",
            "Try using .loc[row_indexer,col_indexer] = value instead\n",
            "\n",
            "See the caveats in the documentation: https://pandas.pydata.org/pandas-docs/stable/user_guide/indexing.html#returning-a-view-versus-a-copy\n",
            "  userEvents['tokenized'] = userEvents['content'].apply(prepare_text)\n",
            "[nltk_data] Downloading package stopwords to\n",
            "[nltk_data]     /Users/ken.clements/nltk_data...\n",
            "[nltk_data]   Package stopwords is already up-to-date!\n"
          ]
        }
      ],
      "source": [
        "userEvents['content'].fillna('', inplace=True)\n",
        "userEvents['tokenized'] = userEvents['content'].apply(prepare_text)\n",
        "\n",
        "nltk.download('stopwords')\n",
        "stops = set(stopwords.words('english'))\n",
        "tfidfvectorizer = TfidfVectorizer(stop_words='english', analyzer='word' )"
      ]
    },
    {
      "cell_type": "code",
      "execution_count": 12,
      "metadata": {},
      "outputs": [
        {
          "name": "stderr",
          "output_type": "stream",
          "text": [
            "/var/folders/p4/svf85_b50jvfz4dvm3yf5h0c0000gq/T/ipykernel_72139/480841705.py:2: RuntimeWarning: invalid value encountered in divide\n",
            "  userEvents['tfidf_mean'] = ((tfidf_list.sum(axis=1).transpose()) / (tfidf_list.getnnz(axis=1))).transpose()\n",
            "/var/folders/p4/svf85_b50jvfz4dvm3yf5h0c0000gq/T/ipykernel_72139/480841705.py:2: SettingWithCopyWarning: \n",
            "A value is trying to be set on a copy of a slice from a DataFrame.\n",
            "Try using .loc[row_indexer,col_indexer] = value instead\n",
            "\n",
            "See the caveats in the documentation: https://pandas.pydata.org/pandas-docs/stable/user_guide/indexing.html#returning-a-view-versus-a-copy\n",
            "  userEvents['tfidf_mean'] = ((tfidf_list.sum(axis=1).transpose()) / (tfidf_list.getnnz(axis=1))).transpose()\n"
          ]
        }
      ],
      "source": [
        "tfidf_list = tfidfvectorizer.fit_transform(userEvents['tokenized'])\n",
        "userEvents['tfidf_mean'] = ((tfidf_list.sum(axis=1).transpose()) / (tfidf_list.getnnz(axis=1))).transpose()"
      ]
    },
    {
      "attachments": {},
      "cell_type": "markdown",
      "metadata": {},
      "source": [
        "# INDIVIDUAL ANALYSIS"
      ]
    },
    {
      "cell_type": "code",
      "execution_count": 13,
      "metadata": {},
      "outputs": [],
      "source": [
        "dates = userEvents['day_date']\n",
        "dates = dates.unique()"
      ]
    },
    {
      "cell_type": "code",
      "execution_count": 14,
      "metadata": {},
      "outputs": [],
      "source": [
        "INTERVAL=60\n",
        "dateActivity = []\n",
        "for d in dates:\n",
        "    dayEvents = userEvents.loc[(userEvents['day_date'] == d)]\n",
        "    users = dayEvents['user']\n",
        "    users = users.unique()\n",
        "    for u in users:\n",
        "        label = 0\n",
        "        dailyActivityMatrix = []\n",
        "        userdf = dayEvents.loc[(dayEvents['user'] == u)]\n",
        "        for i in range(0, 1440, INTERVAL):\n",
        "            bin_Events = userdf.loc[(userdf['activityMinute'] >= i ) & (userdf['activityMinute'] < (i + INTERVAL))]\n",
        "            connect_count = bin_Events[bin_Events['activity'] == 'Connect'].shape[0]\n",
        "            disconnect_count = bin_Events[bin_Events['activity'] == 'Disconnect'].shape[0]\n",
        "            login_count = bin_Events[bin_Events['activity'] == 'Logon'].shape[0]\n",
        "            logout_count = bin_Events[bin_Events['activity'] == 'Logoff'].shape[0]\n",
        "            email_count = bin_Events[bin_Events['activity'] == 'email'].shape[0]\n",
        "            file_count = bin_Events[bin_Events['activity'] == 'file'].shape[0]\n",
        "            http_count = bin_Events[bin_Events['activity'] == 'http'].shape[0]\n",
        "            intervalList = [connect_count, login_count, logout_count, email_count, file_count, http_count, disconnect_count]\n",
        "            dailyActivityMatrix.append(intervalList)\n",
        "            if (bin_Events[(bin_Events['label'] == 'abnormal')].shape[0] > 0): label = 1\n",
        "        text_df = userdf.loc[(userdf['activity'] == 'http')]\n",
        "        tfidf_mean = text_df['tfidf_mean'].mean()\n",
        "        dateActivity.append([d, u, dailyActivityMatrix, tfidf_mean, label])"
      ]
    },
    {
      "cell_type": "code",
      "execution_count": 50,
      "metadata": {},
      "outputs": [],
      "source": [
        "final = pd.DataFrame(dateActivity, columns=['date', 'user', 'dailyActivityMatrix', 'tfidf_mean', 'label'])\n",
        "final['dailyActivityMatrix'] = final['dailyActivityMatrix'].apply(lambda y: (list(chain.from_iterable(y))))\n",
        "df_temp = pd.DataFrame(final['dailyActivityMatrix'].tolist())\n",
        "df_final = final.join(df_temp) "
      ]
    },
    {
      "cell_type": "code",
      "execution_count": 51,
      "metadata": {},
      "outputs": [],
      "source": [
        "users = df_final['user']\n",
        "users = users.unique()\n",
        "\n",
        "DAYS_PAST = 7\n",
        "indPastActivity = pd.DataFrame()\n",
        "for u in users:\n",
        "    userevents = final.loc[(final['user'] == u)]\n",
        "    vector_activity = userevents.loc[:, ['dailyActivityMatrix']]\n",
        "    vector_past_activity = vector_activity.shift(DAYS_PAST)\n",
        "    vector_past_activity = vector_past_activity.rename(columns={'dailyActivityMatrix':'dailyActivityMatrixPast'})\n",
        "    \n",
        "    vector_text = userevents.loc[:, ['tfidf_mean']]\n",
        "    vector_past_text = vector_text.shift(DAYS_PAST)\n",
        "    vector_past_text = vector_past_text.rename(columns={'tfidf_mean':'tfidf_mean_past'})\n",
        "    \n",
        "    events = userevents.filter(['user', 'date'])\n",
        "    events = events.join(vector_past_activity)\n",
        "    events = events.join(vector_past_text)\n",
        "    indPastActivity = pd.concat([indPastActivity, events])"
      ]
    },
    {
      "cell_type": "code",
      "execution_count": 52,
      "metadata": {},
      "outputs": [],
      "source": [
        "df_final = pd.merge(df_final, indPastActivity, on=['user', 'date'], how='left')"
      ]
    },
    {
      "attachments": {},
      "cell_type": "markdown",
      "metadata": {},
      "source": [
        "# GROUP ANALYSIS"
      ]
    },
    {
      "cell_type": "code",
      "execution_count": 53,
      "metadata": {},
      "outputs": [],
      "source": [
        "ldap = ldap.rename(columns={'user_id': 'user'})\n",
        "userEventsDept = pd.merge(userEvents, ldap, on='user', how='left')"
      ]
    },
    {
      "cell_type": "code",
      "execution_count": 54,
      "metadata": {},
      "outputs": [],
      "source": [
        "dates = userEvents['day_date']\n",
        "dates = dates.unique()"
      ]
    },
    {
      "cell_type": "code",
      "execution_count": 55,
      "metadata": {},
      "outputs": [],
      "source": [
        "deptActivity = []\n",
        "for d in dates:\n",
        "    DayEvents = userEventsDept.loc[(userEventsDept['day_date'] == d)]\n",
        "    depts = DayEvents['department']\n",
        "    depts = depts.unique()\n",
        "    for p in depts:\n",
        "        dailyDeptActivityMatrix = []\n",
        "        deptdf = DayEvents.loc[(DayEvents['department'] == p)]\n",
        "        for i in range(0, 1440, INTERVAL):\n",
        "            bin_Events = deptdf.loc[(deptdf['activityMinute'] >= i ) & (deptdf['activityMinute'] < (i + INTERVAL))]\n",
        "            size = bin_Events.size\n",
        "            if (bin_Events.size > 0):\n",
        "                connect_count_mean = ((bin_Events[bin_Events['activity'] == 'Connect'].shape[0]) / size)\n",
        "                disconnect_count_mean = (bin_Events[bin_Events['activity'] == 'Disconnect'].shape[0] / size)\n",
        "                login_count_mean = (bin_Events[bin_Events['activity'] == 'Logon'].shape[0] / size)\n",
        "                logout_count_mean = (bin_Events[bin_Events['activity'] == 'Logoff'].shape[0] / size)\n",
        "                email_count_mean = (bin_Events[bin_Events['activity'] == 'email'].shape[0] / size)\n",
        "                file_count_mean = (bin_Events[bin_Events['activity'] == 'file'].shape[0] / size)\n",
        "                http_count_mean = (bin_Events[bin_Events['activity'] == 'http'].shape[0] / size)\n",
        "            else:\n",
        "                connect_count_mean, disconnect_count_mean, login_count_mean, logout_count_mean, email_count_mean, file_count_mean, http_count_mean = 0,0,0,0,0,0,0\n",
        "            intervalList = [connect_count_mean, login_count_mean, logout_count_mean, email_count_mean, file_count_mean, http_count_mean, disconnect_count_mean]\n",
        "            dailyDeptActivityMatrix.append(intervalList)\n",
        "        deptActivity.append([p, d, dailyDeptActivityMatrix])"
      ]
    },
    {
      "cell_type": "code",
      "execution_count": 56,
      "metadata": {},
      "outputs": [],
      "source": [
        "df_final_dept = pd.DataFrame(deptActivity, columns=['department', 'date', 'dailyDeptActivityMatrix'])"
      ]
    },
    {
      "cell_type": "code",
      "execution_count": 57,
      "metadata": {},
      "outputs": [],
      "source": [
        "df_final_dept['dailyDeptActivityMatrix'] = df_final_dept['dailyDeptActivityMatrix'].apply(lambda y: (list(chain.from_iterable(y))))"
      ]
    },
    {
      "attachments": {},
      "cell_type": "markdown",
      "metadata": {},
      "source": [
        "# MERGE INDIVIDUAL AND GROUP"
      ]
    },
    {
      "cell_type": "code",
      "execution_count": 58,
      "metadata": {},
      "outputs": [],
      "source": [
        "#Bringing in the LDAP and Department Data\n",
        "ldap = ldap.rename(columns={'user_id': 'user'})\n",
        "df_final = pd.merge(df_final, ldap, on='user', how='left')"
      ]
    },
    {
      "cell_type": "code",
      "execution_count": 59,
      "metadata": {},
      "outputs": [],
      "source": [
        "df_final = pd.merge(df_final, df_final_dept, on=['department', 'date'], how='left')"
      ]
    },
    {
      "cell_type": "code",
      "execution_count": 60,
      "metadata": {},
      "outputs": [],
      "source": [
        "def euclidean(v1, v2):\n",
        "    return sum((p-q)**2 for p, q in zip(v1, v2)) ** .5"
      ]
    },
    {
      "cell_type": "code",
      "execution_count": 61,
      "metadata": {},
      "outputs": [],
      "source": [
        "distances = []\n",
        "for i in range(0, df_final.shape[0]):\n",
        "    distances.append(euclidean(df_final.iloc[i]['dailyActivityMatrix'], df_final.iloc[i]['dailyDeptActivityMatrix']))"
      ]
    },
    {
      "cell_type": "code",
      "execution_count": 62,
      "metadata": {},
      "outputs": [],
      "source": [
        "df_final['ind2group'] = distances"
      ]
    },
    {
      "cell_type": "code",
      "execution_count": 63,
      "metadata": {},
      "outputs": [],
      "source": [
        "df_final.dropna(how='any', inplace=True)"
      ]
    },
    {
      "cell_type": "code",
      "execution_count": 64,
      "metadata": {},
      "outputs": [],
      "source": [
        "distances1 = []\n",
        "for i in range(0, df_final.shape[0]):\n",
        "    distances1.append(euclidean(df_final.iloc[i]['dailyActivityMatrix'], df_final.iloc[i]['dailyActivityMatrixPast']))"
      ]
    },
    {
      "cell_type": "code",
      "execution_count": 65,
      "metadata": {},
      "outputs": [],
      "source": [
        "df_final['ind2past'] = distances1"
      ]
    },
    {
      "cell_type": "code",
      "execution_count": 66,
      "metadata": {},
      "outputs": [],
      "source": [
        "#Bringing in the Psychometric Data\n",
        "df6.rename(columns={'user_id': 'user'}, inplace=True)\n",
        "df_final = pd.merge(df_final, df6, on='user', how='left')"
      ]
    },
    {
      "attachments": {},
      "cell_type": "markdown",
      "metadata": {},
      "source": [
        "# CLEAN UP FIELDS NOT NEEDED"
      ]
    },
    {
      "cell_type": "code",
      "execution_count": 67,
      "metadata": {},
      "outputs": [],
      "source": [
        "#Label encoding the User Field\n",
        "label_encoder = LabelEncoder()\n",
        "df_final['userid'] = label_encoder.fit_transform(df_final['user'])"
      ]
    },
    {
      "cell_type": "code",
      "execution_count": 68,
      "metadata": {},
      "outputs": [],
      "source": [
        "df = df_final.copy()"
      ]
    },
    {
      "cell_type": "code",
      "execution_count": 78,
      "metadata": {},
      "outputs": [
        {
          "data": {
            "text/plain": [
              "Index(['label',       0,       1,       2,       3,       4,       5,       6,\n",
              "             7,       8,\n",
              "       ...\n",
              "           158,     159,     160,     161,     162,     163,     164,     165,\n",
              "           166,     167],\n",
              "      dtype='object', length=169)"
            ]
          },
          "execution_count": 78,
          "metadata": {},
          "output_type": "execute_result"
        }
      ],
      "source": [
        "df.columns"
      ]
    },
    {
      "cell_type": "code",
      "execution_count": 70,
      "metadata": {},
      "outputs": [],
      "source": [
        "df.drop(columns=['date', 'employee_name_x', 'employee_name_y', 'user', 'role', \n",
        "                 'dailyActivityMatrix', 'dailyDeptActivityMatrix', 'business_unit', \n",
        "                 'functional_unit', 'team', 'supervisor', 'email', 'department', \n",
        "                 'dailyActivityMatrixPast', 'tfidf_mean_past', 'O', 'C', 'E', 'A', 'N',\n",
        "                 'ind2group', 'ind2past',], inplace=True)\n",
        "#df.drop(columns=['ind2group', 'ind2past'], inplace=True)\n"
      ]
    },
    {
      "cell_type": "code",
      "execution_count": 72,
      "metadata": {},
      "outputs": [],
      "source": [
        "df.drop(columns=['tfidf_mean', 'userid'], inplace=True)"
      ]
    },
    {
      "attachments": {},
      "cell_type": "markdown",
      "metadata": {},
      "source": [
        "# VISUALS"
      ]
    },
    {
      "cell_type": "code",
      "execution_count": 74,
      "metadata": {},
      "outputs": [],
      "source": [
        "# sb.displot(data=df_final, x=\"\", y='ind2group', hue=\"label\", kind='kde')"
      ]
    },
    {
      "cell_type": "code",
      "execution_count": 75,
      "metadata": {},
      "outputs": [],
      "source": [
        "# sb.pairplot(X)"
      ]
    },
    {
      "attachments": {},
      "cell_type": "markdown",
      "metadata": {},
      "source": [
        "# Methods"
      ]
    },
    {
      "cell_type": "code",
      "execution_count": 76,
      "metadata": {},
      "outputs": [
        {
          "name": "stdout",
          "output_type": "stream",
          "text": [
            "Number of malicious records:  68\n",
            "Number of normal records:  11520\n"
          ]
        }
      ],
      "source": [
        "print(\"Number of malicious records: \", df_final['label'].value_counts()[1])\n",
        "print(\"Number of normal records: \", df_final['label'].value_counts()[0])"
      ]
    },
    {
      "cell_type": "code",
      "execution_count": 77,
      "metadata": {},
      "outputs": [],
      "source": [
        "X = df.drop(columns=['label'])\n",
        "X.rename(columns={'userid' : 10000, 'O': 10001, 'C': 10002, 'E': 10003, 'A': 10004, 'N': 10005, 'tfidf_mean': 10006, 'ind2group': 10007, 'ind2past': 10008}, inplace=True)"
      ]
    },
    {
      "cell_type": "code",
      "execution_count": 79,
      "metadata": {},
      "outputs": [],
      "source": [
        "y = df['label']"
      ]
    },
    {
      "cell_type": "code",
      "execution_count": 80,
      "metadata": {},
      "outputs": [],
      "source": [
        "X_train, X_test, y_train, y_test = train_test_split(X, y, test_size=0.3)"
      ]
    },
    {
      "cell_type": "code",
      "execution_count": 81,
      "metadata": {},
      "outputs": [],
      "source": [
        "X_test.sort_index(inplace=True)\n",
        "X_train.sort_index(inplace=True)\n",
        "y_test.sort_index(inplace=True)\n",
        "y_train.sort_index(inplace=True)\n",
        "\n",
        "X_test.reset_index(inplace=True)\n",
        "X_train.reset_index(inplace=True)\n",
        "y_test = y_test.reset_index()\n",
        "y_train = y_train.reset_index()"
      ]
    },
    {
      "cell_type": "code",
      "execution_count": 82,
      "metadata": {},
      "outputs": [
        {
          "ename": "KeyError",
          "evalue": "10000",
          "output_type": "error",
          "traceback": [
            "\u001b[0;31m---------------------------------------------------------------------------\u001b[0m",
            "\u001b[0;31mKeyError\u001b[0m                                  Traceback (most recent call last)",
            "File \u001b[0;32m/opt/anaconda3/envs/praxis1/lib/python3.9/site-packages/pandas/core/indexes/base.py:3802\u001b[0m, in \u001b[0;36mIndex.get_loc\u001b[0;34m(self, key, method, tolerance)\u001b[0m\n\u001b[1;32m   3801\u001b[0m \u001b[39mtry\u001b[39;00m:\n\u001b[0;32m-> 3802\u001b[0m     \u001b[39mreturn\u001b[39;00m \u001b[39mself\u001b[39;49m\u001b[39m.\u001b[39;49m_engine\u001b[39m.\u001b[39;49mget_loc(casted_key)\n\u001b[1;32m   3803\u001b[0m \u001b[39mexcept\u001b[39;00m \u001b[39mKeyError\u001b[39;00m \u001b[39mas\u001b[39;00m err:\n",
            "File \u001b[0;32m/opt/anaconda3/envs/praxis1/lib/python3.9/site-packages/pandas/_libs/index.pyx:138\u001b[0m, in \u001b[0;36mpandas._libs.index.IndexEngine.get_loc\u001b[0;34m()\u001b[0m\n",
            "File \u001b[0;32m/opt/anaconda3/envs/praxis1/lib/python3.9/site-packages/pandas/_libs/index.pyx:165\u001b[0m, in \u001b[0;36mpandas._libs.index.IndexEngine.get_loc\u001b[0;34m()\u001b[0m\n",
            "File \u001b[0;32mpandas/_libs/hashtable_class_helper.pxi:5745\u001b[0m, in \u001b[0;36mpandas._libs.hashtable.PyObjectHashTable.get_item\u001b[0;34m()\u001b[0m\n",
            "File \u001b[0;32mpandas/_libs/hashtable_class_helper.pxi:5753\u001b[0m, in \u001b[0;36mpandas._libs.hashtable.PyObjectHashTable.get_item\u001b[0;34m()\u001b[0m\n",
            "\u001b[0;31mKeyError\u001b[0m: 10000",
            "\nThe above exception was the direct cause of the following exception:\n",
            "\u001b[0;31mKeyError\u001b[0m                                  Traceback (most recent call last)",
            "Cell \u001b[0;32mIn[82], line 1\u001b[0m\n\u001b[0;32m----> 1\u001b[0m X_train_users \u001b[39m=\u001b[39m X_train[\u001b[39m10000\u001b[39;49m]\n\u001b[1;32m      2\u001b[0m X_test_users \u001b[39m=\u001b[39m X_test[\u001b[39m10000\u001b[39m]\n",
            "File \u001b[0;32m/opt/anaconda3/envs/praxis1/lib/python3.9/site-packages/pandas/core/frame.py:3807\u001b[0m, in \u001b[0;36mDataFrame.__getitem__\u001b[0;34m(self, key)\u001b[0m\n\u001b[1;32m   3805\u001b[0m \u001b[39mif\u001b[39;00m \u001b[39mself\u001b[39m\u001b[39m.\u001b[39mcolumns\u001b[39m.\u001b[39mnlevels \u001b[39m>\u001b[39m \u001b[39m1\u001b[39m:\n\u001b[1;32m   3806\u001b[0m     \u001b[39mreturn\u001b[39;00m \u001b[39mself\u001b[39m\u001b[39m.\u001b[39m_getitem_multilevel(key)\n\u001b[0;32m-> 3807\u001b[0m indexer \u001b[39m=\u001b[39m \u001b[39mself\u001b[39;49m\u001b[39m.\u001b[39;49mcolumns\u001b[39m.\u001b[39;49mget_loc(key)\n\u001b[1;32m   3808\u001b[0m \u001b[39mif\u001b[39;00m is_integer(indexer):\n\u001b[1;32m   3809\u001b[0m     indexer \u001b[39m=\u001b[39m [indexer]\n",
            "File \u001b[0;32m/opt/anaconda3/envs/praxis1/lib/python3.9/site-packages/pandas/core/indexes/base.py:3804\u001b[0m, in \u001b[0;36mIndex.get_loc\u001b[0;34m(self, key, method, tolerance)\u001b[0m\n\u001b[1;32m   3802\u001b[0m     \u001b[39mreturn\u001b[39;00m \u001b[39mself\u001b[39m\u001b[39m.\u001b[39m_engine\u001b[39m.\u001b[39mget_loc(casted_key)\n\u001b[1;32m   3803\u001b[0m \u001b[39mexcept\u001b[39;00m \u001b[39mKeyError\u001b[39;00m \u001b[39mas\u001b[39;00m err:\n\u001b[0;32m-> 3804\u001b[0m     \u001b[39mraise\u001b[39;00m \u001b[39mKeyError\u001b[39;00m(key) \u001b[39mfrom\u001b[39;00m \u001b[39merr\u001b[39;00m\n\u001b[1;32m   3805\u001b[0m \u001b[39mexcept\u001b[39;00m \u001b[39mTypeError\u001b[39;00m:\n\u001b[1;32m   3806\u001b[0m     \u001b[39m# If we have a listlike key, _check_indexing_error will raise\u001b[39;00m\n\u001b[1;32m   3807\u001b[0m     \u001b[39m#  InvalidIndexError. Otherwise we fall through and re-raise\u001b[39;00m\n\u001b[1;32m   3808\u001b[0m     \u001b[39m#  the TypeError.\u001b[39;00m\n\u001b[1;32m   3809\u001b[0m     \u001b[39mself\u001b[39m\u001b[39m.\u001b[39m_check_indexing_error(key)\n",
            "\u001b[0;31mKeyError\u001b[0m: 10000"
          ]
        }
      ],
      "source": [
        "X_train_users = X_train[10000]\n",
        "X_test_users = X_test[10000]"
      ]
    },
    {
      "cell_type": "code",
      "execution_count": 86,
      "metadata": {},
      "outputs": [],
      "source": [
        "# X_test.drop(columns=[10000, 'index'], inplace=True)\n",
        "# X_train.drop(columns=[10000, 'index'], inplace=True)\n",
        "\n",
        "X_test.drop(columns=['index'], inplace=True)\n",
        "X_train.drop(columns=['index'], inplace=True)\n",
        "\n",
        "y_test.drop(columns=['index'], inplace=True)\n",
        "y_train.drop(columns=['index'], inplace=True)\n"
      ]
    },
    {
      "cell_type": "code",
      "execution_count": 87,
      "metadata": {},
      "outputs": [],
      "source": [
        "sc = StandardScaler()\n",
        "X_train = sc.fit_transform(X_train)\n",
        "X_test = sc.fit_transform(X_test)\n",
        "X_train = pd.DataFrame(X_train)\n",
        "X_test = pd.DataFrame(X_test)"
      ]
    },
    {
      "cell_type": "code",
      "execution_count": 88,
      "metadata": {},
      "outputs": [
        {
          "name": "stdout",
          "output_type": "stream",
          "text": [
            "Explained Variance [0.06626076 0.04080059 0.03742648 0.03371119 0.02857205 0.02507866\n",
            " 0.02388384 0.02329691 0.02066538 0.01990635 0.01883813 0.01692415\n",
            " 0.01611255 0.01546896 0.01491008 0.01441164 0.0139405  0.01290742\n",
            " 0.01247554 0.01228523 0.01184249 0.01151252 0.01107184 0.01086726\n",
            " 0.01034964 0.01002723 0.00981997 0.00935272 0.00930472 0.00917953\n",
            " 0.00884262 0.00874097 0.00867979 0.00841585 0.008203   0.0079333\n",
            " 0.00782254 0.00773324 0.00765896 0.00753369 0.00725182 0.00717994\n",
            " 0.00709908 0.00699015 0.00681777 0.00675347 0.00648926 0.00640072\n",
            " 0.00629767 0.00619289]\n"
          ]
        }
      ],
      "source": [
        "pca = PCA(n_components = 50)\n",
        "X_train_pca = pca.fit_transform(X_train)\n",
        "X_test_pca = pca.fit_transform(X_test)\n",
        "explained_variance = pca.explained_variance_ratio_\n",
        "print(\"Explained Variance\", explained_variance)\n",
        "\n",
        "X_train_pca = pd.DataFrame(X_train_pca)\n",
        "X_test_pca = pd.DataFrame(X_test_pca)\n"
      ]
    },
    {
      "cell_type": "code",
      "execution_count": 89,
      "metadata": {},
      "outputs": [
        {
          "ename": "NameError",
          "evalue": "name 'X_train_users' is not defined",
          "output_type": "error",
          "traceback": [
            "\u001b[0;31m---------------------------------------------------------------------------\u001b[0m",
            "\u001b[0;31mNameError\u001b[0m                                 Traceback (most recent call last)",
            "Cell \u001b[0;32mIn[89], line 3\u001b[0m\n\u001b[1;32m      1\u001b[0m \u001b[39m# X_train = X_train_pca.join(X_train_users)\u001b[39;00m\n\u001b[1;32m      2\u001b[0m \u001b[39m# X_test = X_test_pca.join(X_test_users)\u001b[39;00m\n\u001b[0;32m----> 3\u001b[0m X_train \u001b[39m=\u001b[39m X_train\u001b[39m.\u001b[39mjoin(X_train_users)\n\u001b[1;32m      4\u001b[0m X_test \u001b[39m=\u001b[39m X_test\u001b[39m.\u001b[39mjoin(X_test_users)\n",
            "\u001b[0;31mNameError\u001b[0m: name 'X_train_users' is not defined"
          ]
        }
      ],
      "source": [
        "# X_train = X_train_pca.join(X_train_users)\n",
        "# X_test = X_test_pca.join(X_test_users)\n",
        "X_train = X_train.join(X_train_users)\n",
        "X_test = X_test.join(X_test_users)"
      ]
    },
    {
      "cell_type": "code",
      "execution_count": 90,
      "metadata": {},
      "outputs": [],
      "source": [
        "lr = LogisticRegression(max_iter=5000)\n",
        "svm = SVC(probability=True)\n",
        "knn = KNeighborsClassifier()\n",
        "rf = RandomForestClassifier()\n",
        "ada = AdaBoostClassifier()"
      ]
    },
    {
      "cell_type": "code",
      "execution_count": 91,
      "metadata": {},
      "outputs": [
        {
          "name": "stdout",
          "output_type": "stream",
          "text": [
            "LogisticRegression(max_iter=5000) \n",
            " [[3457    4]\n",
            " [  15    1]] \n",
            "\n",
            "SVC(probability=True) \n",
            " [[3461    0]\n",
            " [  16    0]] \n",
            "\n",
            "KNeighborsClassifier() \n",
            " [[3460    1]\n",
            " [  16    0]] \n",
            "\n",
            "RandomForestClassifier() \n",
            " [[3461    0]\n",
            " [  16    0]] \n",
            "\n",
            "AdaBoostClassifier() \n",
            " [[3453    8]\n",
            " [  14    2]] \n",
            "\n"
          ]
        },
        {
          "data": {
            "image/png": "[encoded data removed]",
            "text/plain": [
              "<Figure size 640x480 with 1 Axes>"
            ]
          },
          "metadata": {},
          "output_type": "display_data"
        }
      ],
      "source": [
        "results_no_sample = []\n",
        "models = [lr, svm, knn, rf, ada]\n",
        "for m in models:\n",
        "    m.fit(X_train, y_train.values.ravel())\n",
        "    predicted = m.predict(X_test)\n",
        "    acc = metrics.accuracy_score(y_test, predicted)\n",
        "    rec = metrics.recall_score(y_test, predicted)\n",
        "    #prec = metrics.precision_score(y_test, predicted)\n",
        "    f1 = metrics.f1_score(y_test, predicted)\n",
        "    auc = metrics.roc_auc_score(y_test, predicted)\n",
        "    print(m, \"\\n\", metrics.confusion_matrix(y_test,predicted), \"\\n\")\n",
        "    results_no_sample.append([acc, rec, f1, auc])\n",
        "\n",
        "    m_probs = m.predict_proba(X_test)\n",
        "    m_probs = m_probs[:, 1]\n",
        "    m_fpr, m_tpr, _ = roc_curve(y_test, m_probs)\n",
        "    pyplot.plot(m_fpr, m_tpr, marker='.', label=(m))\n",
        "\n",
        "ns_probs = [0 for _ in range(len(y_test))]\n",
        "ns_fpr, ns_tpr, _ = roc_curve(y_test, ns_probs)\n",
        "pyplot.plot(ns_fpr, ns_tpr, linestyle='--', label='No Skill')\n",
        "# axis labels\n",
        "pyplot.xlabel('False Positive Rate')\n",
        "pyplot.ylabel('True Positive Rate')\n",
        "# show the legend\n",
        "pyplot.legend()\n",
        "# show the plot\n",
        "pyplot.show()\n"
      ]
    },
    {
      "cell_type": "code",
      "execution_count": 151,
      "metadata": {},
      "outputs": [
        {
          "data": {
            "text/plain": [
              "[[0.9960163710777626,\n",
              "  0.07142857142857142,\n",
              "  0.12048192771084336,\n",
              "  0.5354951676644363],\n",
              " [0.9961800818553889, 0.0, 0.0, 0.5],\n",
              " [0.9960163710777626,\n",
              "  0.17142857142857143,\n",
              "  0.2474226804123711,\n",
              "  0.5853034393708182],\n",
              " [0.996343792633015,\n",
              "  0.04285714285714286,\n",
              "  0.0821917808219178,\n",
              "  0.5214285714285715],\n",
              " [0.9964529331514325,\n",
              "  0.21428571428571427,\n",
              "  0.3157894736842105,\n",
              "  0.6068689595805453]]"
            ]
          },
          "execution_count": 151,
          "metadata": {},
          "output_type": "execute_result"
        }
      ],
      "source": [
        "results_no_sample"
      ]
    },
    {
      "cell_type": "code",
      "execution_count": 92,
      "metadata": {},
      "outputs": [
        {
          "name": "stderr",
          "output_type": "stream",
          "text": [
            "2023-04-25 20:59:26.007304: I tensorflow/core/platform/cpu_feature_guard.cc:193] This TensorFlow binary is optimized with oneAPI Deep Neural Network Library (oneDNN) to use the following CPU instructions in performance-critical operations:  SSE4.1 SSE4.2\n",
            "To enable them in other operations, rebuild TensorFlow with the appropriate compiler flags.\n"
          ]
        },
        {
          "name": "stdout",
          "output_type": "stream",
          "text": [
            "Epoch 1/5\n",
            "507/507 [==============================] - 78s 148ms/step - loss: 0.0480 - Accuracy: 0.9922 - val_loss: 0.0312 - val_Accuracy: 0.9954\n",
            "Epoch 2/5\n",
            "507/507 [==============================] - 74s 146ms/step - loss: 0.0400 - Accuracy: 0.9936 - val_loss: 0.0296 - val_Accuracy: 0.9954\n",
            "Epoch 3/5\n",
            "507/507 [==============================] - 74s 145ms/step - loss: 0.0394 - Accuracy: 0.9936 - val_loss: 0.0296 - val_Accuracy: 0.9954\n",
            "Epoch 4/5\n",
            "507/507 [==============================] - 73s 144ms/step - loss: 0.0394 - Accuracy: 0.9936 - val_loss: 0.0296 - val_Accuracy: 0.9954\n",
            "Epoch 5/5\n",
            "507/507 [==============================] - 73s 143ms/step - loss: 0.0399 - Accuracy: 0.9936 - val_loss: 0.0308 - val_Accuracy: 0.9954\n",
            "109/109 [==============================] - 7s 57ms/step\n",
            "[[3461    0]\n",
            " [  16    0]]\n",
            "LSTM Accuracy: 0.995398331895312\n",
            "LSTM Recall: 0.0\n",
            "[[0.994535519125683, 0.0625, 0.09523809523809523, 0.530672132331696], [0.995398331895312, 0.0, 0.0, 0.5], [0.9951107276387691, 0.0, 0.0, 0.499855533082924], [0.995398331895312, 0.0, 0.0, 0.5], [0.9936727063560541, 0.125, 0.15384615384615385, 0.5613442646633922], [0.995398331895312, 0.0]]\n"
          ]
        }
      ],
      "source": [
        "X_train_np = np.expand_dims(X_train.values[:,:], axis=2)\n",
        "y_train_np = y_train.values[:]\n",
        "X_test_np = np.expand_dims(X_test.values[:,:],axis = 2)\n",
        "y_test_np = y_test.values[:]\n",
        "model = Sequential()\n",
        "model.add(LSTM(units=128, return_sequences=True, input_shape=(len(X.columns), 1)))\n",
        "model.add(Dropout(0.2))\n",
        "model.add(LSTM(units=128, return_sequences=False))\n",
        "model.add(Dropout(0.2))\n",
        "model.add(Dense(1, activation='sigmoid'))\n",
        "model.compile(loss='binary_crossentropy', optimizer='nadam', metrics=['Accuracy'])\n",
        "model.fit(X_train_np, y_train_np, epochs=5, batch_size=16, validation_data=(X_test_np, y_test_np))\n",
        "X_np = np.expand_dims(X_test.values[:,:],axis = 2)\n",
        "y_np = y_test.values[:]\n",
        "ypred = model.predict(X_np)\n",
        "predlabels = [int(p>=0.5) for p in ypred]\n",
        "acc = metrics.accuracy_score(y_test, predlabels)\n",
        "rec = metrics.recall_score(y_test, predlabels)\n",
        "cf_matrix = metrics.confusion_matrix(y_test,predlabels)\n",
        "print(cf_matrix)\n",
        "print(\"LSTM Accuracy:\", acc)\n",
        "print(\"LSTM Recall:\", rec)\n",
        "results_no_sample.append([acc, rec])\n",
        "cf_matrix = metrics.confusion_matrix(y_test,predlabels)\n",
        "print(results_no_sample)"
      ]
    },
    {
      "cell_type": "code",
      "execution_count": 93,
      "metadata": {},
      "outputs": [],
      "source": [
        "final_undersample = RandomUnderSampler(sampling_strategy='majority')\n",
        "X_final_under, y_final_under = final_undersample.fit_resample(X_train, y_train)\n",
        "final_under = X_final_under.copy()\n",
        "final_under['label'] = y_final_under\n",
        "\n",
        "final_oversample = RandomOverSampler(sampling_strategy='minority')\n",
        "X_final_over, y_final_over = final_oversample.fit_resample(X_train, y_train)\n",
        "final_over = X_final_over.copy()\n",
        "final_over['label'] = y_final_over\n",
        "\n",
        "final_smote = SMOTE(k_neighbors=10)\n",
        "X_final_smote, y_final_smote = final_smote.fit_resample(X_train, y_train)\n",
        "final_smote = X_final_smote.copy()\n",
        "final_smote['label'] = y_final_smote\n",
        "\n",
        "final_blsmote = BorderlineSMOTE(k_neighbors=10)\n",
        "X_final_blsmote, y_final_blsmote = final_blsmote.fit_resample(X_train, y_train)\n",
        "final_blsmote = X_final_blsmote.copy()\n",
        "final_blsmote['label'] = y_final_blsmote\n",
        "\n",
        "final_adasyn = ADASYN(n_neighbors=10)\n",
        "X_final_adasyn, y_final_adasyn = final_adasyn.fit_resample(X_train, y_train)\n",
        "final_adasyn = X_final_adasyn.copy()\n",
        "final_adasyn['label'] = y_final_adasyn"
      ]
    },
    {
      "attachments": {},
      "cell_type": "markdown",
      "metadata": {},
      "source": [
        "# Undersampling"
      ]
    },
    {
      "cell_type": "code",
      "execution_count": 94,
      "metadata": {},
      "outputs": [],
      "source": [
        "X_train_under, X_test_under, y_train_under, y_test_under = train_test_split(X_final_under, y_final_under, test_size=0.3)"
      ]
    },
    {
      "cell_type": "code",
      "execution_count": 95,
      "metadata": {},
      "outputs": [],
      "source": [
        "# #C is the most meaningful - penalty had no impact and would error out\n",
        "# param_grid = {'C': [0.1,1, 10, 100], 'max_iter': [1000]}\n",
        "# grid = GridSearchCV(LogisticRegression(),param_grid,refit=True,verbose=0,cv=10,scoring='recall', return_train_score=False)\n",
        "# grid.fit(X_train_under,y_train_under.values.ravel())\n",
        "# print(\"LR best estimater: \", grid.best_estimator_)\n",
        "# print(\"LR Best parameters:\", grid.best_params_)\n",
        "# under_lr_best_est = grid.best_estimator_\n"
      ]
    },
    {
      "cell_type": "code",
      "execution_count": 96,
      "metadata": {},
      "outputs": [],
      "source": [
        "\n",
        "# #linear failed to converge \n",
        "# param_grid = {'C': [0.1,1, 10, 100], 'gamma': [1,0.1,0.01,0.001],'kernel': ['rbf', 'poly']}\n",
        "# grid = GridSearchCV(SVC(),param_grid,refit=True,verbose=0, cv=10, scoring='recall', return_train_score=False)\n",
        "# grid.fit(X_train_under,y_train_under.values.ravel())\n",
        "# print(\"SVM best estimater: \", grid.best_estimator_)\n",
        "# print(\"SVM Best parameters:\", grid.best_params_)\n",
        "# under_svm_best_est = grid.best_estimator_\n",
        "\n"
      ]
    },
    {
      "cell_type": "code",
      "execution_count": 97,
      "metadata": {},
      "outputs": [],
      "source": [
        "\n",
        "# param_grid = {'n_neighbors': list(range(1,21)), 'metric': ['euclidean', 'manhattan', 'minkowski'], 'weights': ['uniform', 'distance'] }\n",
        "# grid = GridSearchCV(KNeighborsClassifier(),param_grid,refit=True,verbose=0,cv=10, scoring='recall', return_train_score=False)\n",
        "# grid.fit(X_train_under,y_train_under.values.ravel())\n",
        "# print(\"KNN best estimater: \", grid.best_estimator_)\n",
        "# print(\"KNN Best parameters:\", grid.best_params_)\n",
        "# under_knn_best_est = grid.best_estimator_\n"
      ]
    },
    {
      "cell_type": "code",
      "execution_count": 98,
      "metadata": {},
      "outputs": [],
      "source": [
        "\n",
        "# param_grid = {\n",
        "#     'n_estimators': [10, 50, 100],\n",
        "#     'max_depth': [3, 5, None],\n",
        "#     'max_features': ['sqrt', 'log2'],\n",
        "#     'min_samples_split': [2, 5, 10],\n",
        "#     'min_samples_leaf': [1, 2, 4]\n",
        "# }\n",
        "# grid = GridSearchCV(RandomForestClassifier(), param_grid,refit=True,verbose=0,cv=10, scoring='recall', return_train_score=False)\n",
        "# grid.fit(X_train_under, y_train_under.values.ravel())\n",
        "# print(\"RF Best estimater:\", grid.best_estimator_)\n",
        "# print(\"RF Best parameters:\", grid.best_params_)\n",
        "# under_rf_best_est = grid.best_estimator_\n",
        "\n"
      ]
    },
    {
      "cell_type": "code",
      "execution_count": 99,
      "metadata": {},
      "outputs": [],
      "source": [
        "\n",
        "# param_grid = {\n",
        "#      'n_estimators': [100, 200, 300],\n",
        "#      'learning_rate': [0.01, 0.05, 0.1, 1],\n",
        "#  }\n",
        "# grid = GridSearchCV(AdaBoostClassifier(), param_grid,refit=True,verbose=0,cv=10, scoring='recall', return_train_score=False)\n",
        "# grid.fit(X_train_under, y_train_under.values.ravel())\n",
        "# print(\"ADA Best estimater:\", grid.best_estimator_)\n",
        "# print(\"ADA Best parameters:\", grid.best_params_)\n",
        "# under_ada_best_est = grid.best_estimator_\n"
      ]
    },
    {
      "cell_type": "code",
      "execution_count": 100,
      "metadata": {},
      "outputs": [],
      "source": [
        "# #Adapt from above\n",
        "# lr = LogisticRegression(max_iter=1000)\n",
        "# svm = SVC(probability=True)\n",
        "# knn = bls_knn_best_est\n",
        "# rf = bls_rf_best_est\n",
        "# ada = bls_ada_best_est\n"
      ]
    },
    {
      "cell_type": "code",
      "execution_count": 101,
      "metadata": {},
      "outputs": [
        {
          "name": "stdout",
          "output_type": "stream",
          "text": [
            "LogisticRegression(max_iter=5000) \n",
            " [[2862  599]\n",
            " [   7    9]] \n",
            "\n",
            "SVC(probability=True) \n",
            " [[3205  256]\n",
            " [   6   10]] \n",
            "\n",
            "KNeighborsClassifier() \n",
            " [[3212  249]\n",
            " [  13    3]] \n",
            "\n",
            "RandomForestClassifier() \n",
            " [[2784  677]\n",
            " [   3   13]] \n",
            "\n",
            "AdaBoostClassifier() \n",
            " [[2483  978]\n",
            " [   6   10]] \n",
            "\n"
          ]
        },
        {
          "data": {
            "image/png": "[encoded data removed]",
            "text/plain": [
              "<Figure size 640x480 with 1 Axes>"
            ]
          },
          "metadata": {},
          "output_type": "display_data"
        }
      ],
      "source": [
        "results_under = []\n",
        "models = [lr, svm, knn, rf, ada]\n",
        "for m in models:\n",
        "    m.fit(X_train_under, y_train_under.values.ravel())\n",
        "    predicted = m.predict(X_test)\n",
        "    acc = metrics.accuracy_score(y_test, predicted)\n",
        "    rec = metrics.recall_score(y_test, predicted)\n",
        "    prec = metrics.precision_score(y_test, predicted)\n",
        "    f1 = metrics.f1_score(y_test, predicted)\n",
        "    auc = metrics.roc_auc_score(y_test, predicted)\n",
        "    print(m, \"\\n\", metrics.confusion_matrix(y_test,predicted), \"\\n\")\n",
        "    results_under.append([acc, rec, prec, f1, auc])\n",
        "    m_probs = m.predict_proba(X_test)\n",
        "    m_probs = m_probs[:, 1]\n",
        "    m_fpr, m_tpr, _ = roc_curve(y_test, m_probs)\n",
        "    pyplot.plot(m_fpr, m_tpr, marker='.', label=(m))\n",
        "\n",
        "ns_probs = [0 for _ in range(len(y_test))]\n",
        "ns_fpr, ns_tpr, _ = roc_curve(y_test, ns_probs)\n",
        "pyplot.plot(ns_fpr, ns_tpr, linestyle='--', label='No Skill')\n",
        "# axis labels\n",
        "pyplot.xlabel('False Positive Rate')\n",
        "pyplot.ylabel('True Positive Rate')\n",
        "# show the legend\n",
        "pyplot.legend()\n",
        "# show the plot\n",
        "pyplot.show()\n"
      ]
    },
    {
      "cell_type": "code",
      "execution_count": null,
      "metadata": {},
      "outputs": [],
      "source": [
        "\n",
        "X_numpy_under = np.expand_dims(X_train_under.values[:,:],axis = 2)\n",
        "y_numpy_under = y_train_under.values[:]\n",
        "X_numpy_under_test = np.expand_dims(X_test_under.values[:,:],axis = 2)\n",
        "y_numpy_under_test = y_test_under.values[:]\n",
        "model = Sequential()\n",
        "model.add(LSTM(units=64, return_sequences=True, input_shape=(len(X_train.columns), 1)))\n",
        "model.add(Dropout(0.2))\n",
        "model.add(LSTM(units=64, return_sequences=False))\n",
        "model.add(Dropout(0.2))\n",
        "model.add(Dense(1, activation='sigmoid'))\n",
        "model.compile(loss='binary_crossentropy', optimizer='nadam', metrics=['accuracy'])\n",
        "model.fit(X_numpy_smote, y_numpy_smote, epochs=15, batch_size=64, validation_data=(X_numpy_smote_test, y_numpy_smote_test))\n",
        "\n",
        "X_numpy = np.expand_dims(X_test.values[:],axis = 2)\n",
        "y_numpy = y_test.values[:]\n",
        "ypred = model.predict(X_numpy).ravel()\n",
        "\n",
        "ba = tf.keras.metrics.BinaryAccuracy()\n",
        "ba.update_state(y_numpy, ypred)\n",
        "acc = ba.result().numpy()\n",
        "\n",
        "br = tf.keras.metrics.Recall()\n",
        "br.update_state(y_numpy, ypred)\n",
        "rec = br.result().numpy()\n",
        "\n",
        "bp = tf.keras.metrics.Precision()\n",
        "bp.update_state(y_numpy, ypred)\n",
        "prec = bp.result().numpy()\n",
        "\n",
        "# bf1 = tf.keras.metrics.F1Score()\n",
        "# bf1.update_state(y_numpy, ypred)\n",
        "# f1 = bf1.result().numpy()\n",
        "\n",
        "bauc = tf.keras.metrics.AUC()\n",
        "bauc.update_state(y_numpy, ypred)\n",
        "auc = bauc.result().numpy()\n",
        "\n",
        "results_under.append([acc, rec, prec, auc])\n",
        "\n",
        "X_numpy = np.expand_dims(X_test.values[:],axis = 2)\n",
        "y_numpy = y_test.values[:]\n",
        "ypred = model.predict(X_numpy).ravel()\n",
        "predlabels = [int(p>=0.5) for p in ypred]\n",
        "fpr_keras, tpr_keras, thresholds_keras = roc_curve(y_test, predlabels)\n",
        "\n",
        "pyplot.plot(fpr_keras, tpr_keras, marker='.', label=(\"LSTM\"))\n",
        "\n",
        "ns_probs = [0 for _ in range(len(y_test))]\n",
        "ns_fpr, ns_tpr, _ = roc_curve(y_test, ns_probs)\n",
        "pyplot.plot(ns_fpr, ns_tpr, linestyle='--', label='No Skill')\n",
        "# axis labels\n",
        "pyplot.xlabel('False Positive Rate')\n",
        "pyplot.ylabel('True Positive Rate')\n",
        "# show the legend\n",
        "pyplot.legend()\n",
        "# show the plot\n",
        "pyplot.show()\n",
        "print(results_under)\n",
        "\n"
      ]
    },
    {
      "attachments": {},
      "cell_type": "markdown",
      "metadata": {},
      "source": [
        "# Oversampling"
      ]
    },
    {
      "cell_type": "code",
      "execution_count": 102,
      "metadata": {},
      "outputs": [],
      "source": [
        "X_train_over, X_test_over, y_train_over, y_test_over = train_test_split(X_final_over, y_final_over, test_size=0.3)\n"
      ]
    },
    {
      "cell_type": "code",
      "execution_count": 103,
      "metadata": {},
      "outputs": [],
      "source": [
        "# #C is the most meaningful - penalty had no impact and would error out\n",
        "# param_grid = {'C': [0.1,1, 10, 100], 'max_iter': [1000]}\n",
        "# grid = GridSearchCV(LogisticRegression(),param_grid,refit=True,verbose=0,cv=10,scoring='recall', return_train_score=False)\n",
        "# grid.fit(X_train_over,y_train_over.values.ravel())\n",
        "# print(\"LR best estimater: \", grid.best_estimator_)\n",
        "# print(\"LR Best parameters:\", grid.best_params_)\n",
        "# over_lr_best_est = grid.best_estimator_\n",
        "\n"
      ]
    },
    {
      "cell_type": "code",
      "execution_count": 104,
      "metadata": {},
      "outputs": [],
      "source": [
        "# #linear failed to converge \n",
        "# param_grid = {'C': [0.1,1, 10, 100], 'gamma': [1,0.1,0.01,0.001],'kernel': ['rbf', 'poly']}\n",
        "# grid = GridSearchCV(SVC(),param_grid,refit=True,verbose=0, cv=10, scoring='recall', return_train_score=False)\n",
        "# grid.fit(X_train_over,y_train_over.values.ravel())\n",
        "# print(\"SVM best estimater: \", grid.best_estimator_)\n",
        "# print(\"SVM Best parameters:\", grid.best_params_)\n",
        "# over_svm_best_est = grid.best_estimator_"
      ]
    },
    {
      "cell_type": "code",
      "execution_count": 105,
      "metadata": {},
      "outputs": [],
      "source": [
        "\n",
        "# param_grid = {'n_neighbors': list(range(1,21)), 'metric': ['euclidean', 'manhattan', 'minkowski'], 'weights': ['uniform', 'distance'] }\n",
        "# grid = GridSearchCV(KNeighborsClassifier(),param_grid,refit=True,verbose=0,cv=10, scoring='recall', return_train_score=False)\n",
        "# grid.fit(X_train_over,y_train_over.values.ravel())\n",
        "# print(\"KNN best estimater: \", grid.best_estimator_)\n",
        "# print(\"KNN Best parameters:\", grid.best_params_)\n",
        "# over_knn_best_est = grid.best_estimator_\n"
      ]
    },
    {
      "cell_type": "code",
      "execution_count": 106,
      "metadata": {},
      "outputs": [],
      "source": [
        "# param_grid = {\n",
        "#     'n_estimators': [10, 50, 100],\n",
        "#     'max_depth': [3, 5, None],\n",
        "#     'max_features': ['sqrt', 'log2'],\n",
        "#     'min_samples_split': [2, 5, 10],\n",
        "#     'min_samples_leaf': [1, 2, 4]\n",
        "# }\n",
        "# grid = GridSearchCV(RandomForestClassifier(), param_grid,refit=True,verbose=0,cv=10, scoring='recall', return_train_score=False)\n",
        "# grid.fit(X_train_over, y_train_over.values.ravel())\n",
        "# print(\"RF Best estimater:\", grid.best_estimator_)\n",
        "# print(\"RF Best parameters:\", grid.best_params_)\n",
        "# over_rf_best_est = grid.best_estimator_\n"
      ]
    },
    {
      "cell_type": "code",
      "execution_count": 107,
      "metadata": {},
      "outputs": [],
      "source": [
        "\n",
        "# param_grid = {\n",
        "#      'n_estimators': [100, 200, 300],\n",
        "#      'learning_rate': [0.01, 0.05, 0.1, 1],\n",
        "#  }\n",
        "# grid = GridSearchCV(AdaBoostClassifier(), param_grid,refit=True,verbose=0,cv=10, scoring='recall', return_train_score=False)\n",
        "# grid.fit(X_train_over, y_train_over.values.ravel())\n",
        "# print(\"ADA Best estimater:\", grid.best_estimator_)\n",
        "# print(\"ADA Best parameters:\", grid.best_params_)\n",
        "# over_ada_best_est = grid.best_estimator_\n"
      ]
    },
    {
      "cell_type": "code",
      "execution_count": 108,
      "metadata": {},
      "outputs": [],
      "source": [
        "# #Adapt from above\n",
        "lr = LogisticRegression(max_iter=1000)\n",
        "svm = SVC(probability=True)\n",
        "# knn = bls_knn_best_est\n",
        "# rf = bls_rf_best_est\n",
        "# ada = bls_ada_best_est"
      ]
    },
    {
      "cell_type": "code",
      "execution_count": 109,
      "metadata": {},
      "outputs": [
        {
          "name": "stdout",
          "output_type": "stream",
          "text": [
            "LogisticRegression(max_iter=1000) \n",
            " [[3250  211]\n",
            " [  14    2]] \n",
            "\n",
            "SVC(probability=True) \n",
            " [[3349  112]\n",
            " [  13    3]] \n",
            "\n",
            "KNeighborsClassifier() \n",
            " [[3397   64]\n",
            " [  15    1]] \n",
            "\n"
          ]
        },
        {
          "name": "stderr",
          "output_type": "stream",
          "text": [
            "/opt/anaconda3/envs/praxis1/lib/python3.9/site-packages/sklearn/metrics/_classification.py:1344: UndefinedMetricWarning: Precision is ill-defined and being set to 0.0 due to no predicted samples. Use `zero_division` parameter to control this behavior.\n",
            "  _warn_prf(average, modifier, msg_start, len(result))\n"
          ]
        },
        {
          "name": "stdout",
          "output_type": "stream",
          "text": [
            "RandomForestClassifier() \n",
            " [[3461    0]\n",
            " [  16    0]] \n",
            "\n",
            "AdaBoostClassifier() \n",
            " [[3242  219]\n",
            " [  11    5]] \n",
            "\n"
          ]
        },
        {
          "data": {
            "image/png": "[encoded data removed]",
            "text/plain": [
              "<Figure size 640x480 with 1 Axes>"
            ]
          },
          "metadata": {},
          "output_type": "display_data"
        }
      ],
      "source": [
        "results_over = []\n",
        "models = [lr, svm, knn, rf, ada]\n",
        "for m in models:\n",
        "    m.fit(X_train_over, y_train_over.values.ravel())\n",
        "    predicted = m.predict(X_test)\n",
        "    acc = metrics.accuracy_score(y_test, predicted)\n",
        "    rec = metrics.recall_score(y_test, predicted)\n",
        "    #prec = metrics.precision_score(y_test, predicted)\n",
        "    f1 = metrics.f1_score(y_test, predicted)\n",
        "    auc = metrics.roc_auc_score(y_test, predicted)\n",
        "    print(m, \"\\n\", metrics.confusion_matrix(y_test,predicted), \"\\n\")\n",
        "    results_over.append([acc, rec, prec, auc, f1])\n",
        "    m_probs = m.predict_proba(X_test)\n",
        "    m_probs = m_probs[:, 1]\n",
        "    m_fpr, m_tpr, _ = roc_curve(y_test, m_probs)\n",
        "    pyplot.plot(m_fpr, m_tpr, marker='.', label=(m))\n",
        "\n",
        "ns_probs = [0 for _ in range(len(y_test))]\n",
        "ns_fpr, ns_tpr, _ = roc_curve(y_test, ns_probs)\n",
        "pyplot.plot(ns_fpr, ns_tpr, linestyle='--', label='No Skill')\n",
        "# axis labels\n",
        "pyplot.xlabel('False Positive Rate')\n",
        "pyplot.ylabel('True Positive Rate')\n",
        "# show the legend\n",
        "pyplot.legend()\n",
        "# show the plot\n",
        "pyplot.show()\n"
      ]
    },
    {
      "cell_type": "code",
      "execution_count": null,
      "metadata": {},
      "outputs": [],
      "source": [
        "\n",
        "X_numpy_over = np.expand_dims(X_train_over.values[:,:],axis = 2)\n",
        "y_numpy_over = y_train_over.values[:]\n",
        "X_numpy_over_test = np.expand_dims(X_test_over.values[:,:],axis = 2)\n",
        "y_numpy_over_test = y_test_over.values[:]\n",
        "model = Sequential()\n",
        "model.add(LSTM(units=64, return_sequences=True, input_shape=(len(X_train.columns), 1)))\n",
        "model.add(Dropout(0.2))\n",
        "model.add(LSTM(units=64, return_sequences=False))\n",
        "model.add(Dropout(0.2))\n",
        "model.add(Dense(1, activation='sigmoid'))\n",
        "model.compile(loss='binary_crossentropy', optimizer='nadam', metrics=['accuracy'])\n",
        "model.fit(X_numpy_smote, y_numpy_smote, epochs=15, batch_size=64, validation_data=(X_numpy_smote_test, y_numpy_smote_test))\n",
        "\n",
        "X_numpy = np.expand_dims(X_test.values[:],axis = 2)\n",
        "y_numpy = y_test.values[:]\n",
        "ypred = model.predict(X_numpy).ravel()\n",
        "\n",
        "ba = tf.keras.metrics.BinaryAccuracy()\n",
        "ba.update_state(y_numpy, ypred)\n",
        "acc = ba.result().numpy()\n",
        "\n",
        "br = tf.keras.metrics.Recall()\n",
        "br.update_state(y_numpy, ypred)\n",
        "rec = br.result().numpy()\n",
        "\n",
        "bp = tf.keras.metrics.Precision()\n",
        "bp.update_state(y_numpy, ypred)\n",
        "prec = bp.result().numpy()\n",
        "\n",
        "# bf1 = tf.keras.metrics.F1Score()\n",
        "# bf1.update_state(y_numpy, ypred)\n",
        "# f1 = bf1.result().numpy()\n",
        "\n",
        "bauc = tf.keras.metrics.AUC()\n",
        "bauc.update_state(y_numpy, ypred)\n",
        "auc = bauc.result().numpy()\n",
        "results_over.append([acc, rec,])\n",
        "\n",
        "X_numpy = np.expand_dims(X_test.values[:],axis = 2)\n",
        "y_numpy = y_test.values[:]\n",
        "ypred = model.predict(X_numpy).ravel()\n",
        "predlabels = [int(p>=0.5) for p in ypred]\n",
        "fpr_keras, tpr_keras, thresholds_keras = roc_curve(y_test, predlabels)\n",
        "\n",
        "pyplot.plot(fpr_keras, tpr_keras, marker='.', label=(\"LSTM\"))\n",
        "\n",
        "ns_probs = [0 for _ in range(len(y_test))]\n",
        "ns_fpr, ns_tpr, _ = roc_curve(y_test, ns_probs)\n",
        "pyplot.plot(ns_fpr, ns_tpr, linestyle='--', label='No Skill')\n",
        "# axis labels\n",
        "pyplot.xlabel('False Positive Rate')\n",
        "pyplot.ylabel('True Positive Rate')\n",
        "# show the legend\n",
        "pyplot.legend()\n",
        "# show the plot\n",
        "pyplot.show()\n",
        "print(results_over)\n",
        "\n"
      ]
    },
    {
      "cell_type": "code",
      "execution_count": null,
      "metadata": {},
      "outputs": [],
      "source": [
        "# #Adapt from above\n",
        "lr = LogisticRegression(max_iter=1000)\n",
        "svm = SVC(probability=True, kernel='rbf', C=1, gamma='auto')\n",
        "knn = KNeighborsClassifier(n_neighbors=10, weights='distance', metric='manhattan')\n",
        "# rf = bls_rf_best_est\n",
        "# ada = bls_ada_best_est"
      ]
    },
    {
      "cell_type": "code",
      "execution_count": 110,
      "metadata": {},
      "outputs": [
        {
          "name": "stderr",
          "output_type": "stream",
          "text": [
            "/opt/anaconda3/envs/praxis1/lib/python3.9/site-packages/sklearn/metrics/_classification.py:1344: UndefinedMetricWarning: Precision is ill-defined and being set to 0.0 due to no predicted samples. Use `zero_division` parameter to control this behavior.\n",
            "  _warn_prf(average, modifier, msg_start, len(result))\n"
          ]
        },
        {
          "name": "stdout",
          "output_type": "stream",
          "text": [
            "Epoch 1/15\n",
            "76/76 [==============================] - 9s 92ms/step - loss: 0.6210 - accuracy: 0.6707 - val_loss: 0.4893 - val_accuracy: 0.9022\n",
            "Epoch 2/15\n",
            "76/76 [==============================] - 7s 86ms/step - loss: 0.5917 - accuracy: 0.6795 - val_loss: 0.3532 - val_accuracy: 0.8615\n",
            "Epoch 3/15\n",
            "76/76 [==============================] - 6s 85ms/step - loss: 0.5903 - accuracy: 0.6789 - val_loss: 0.3902 - val_accuracy: 0.8547\n",
            "Epoch 4/15\n",
            "76/76 [==============================] - 7s 87ms/step - loss: 0.5857 - accuracy: 0.6836 - val_loss: 0.3964 - val_accuracy: 0.8802\n",
            "Epoch 5/15\n",
            "76/76 [==============================] - 7s 87ms/step - loss: 0.5835 - accuracy: 0.6872 - val_loss: 0.4744 - val_accuracy: 0.9011\n",
            "Epoch 6/15\n",
            "76/76 [==============================] - 6s 84ms/step - loss: 0.5769 - accuracy: 0.6985 - val_loss: 0.3978 - val_accuracy: 0.9418\n",
            "Epoch 7/15\n",
            "76/76 [==============================] - 6s 86ms/step - loss: 0.5655 - accuracy: 0.7091 - val_loss: 0.4445 - val_accuracy: 0.8387\n",
            "Epoch 8/15\n",
            "76/76 [==============================] - 6s 85ms/step - loss: 0.5566 - accuracy: 0.7187 - val_loss: 0.4250 - val_accuracy: 0.8690\n",
            "Epoch 9/15\n",
            "76/76 [==============================] - 7s 87ms/step - loss: 0.5444 - accuracy: 0.7326 - val_loss: 0.4027 - val_accuracy: 0.9016\n",
            "Epoch 10/15\n",
            "76/76 [==============================] - 6s 85ms/step - loss: 0.5328 - accuracy: 0.7449 - val_loss: 0.3346 - val_accuracy: 0.9321\n",
            "Epoch 11/15\n",
            "76/76 [==============================] - 6s 85ms/step - loss: 0.5110 - accuracy: 0.7601 - val_loss: 0.3784 - val_accuracy: 0.9128\n",
            "Epoch 12/15\n",
            "76/76 [==============================] - 6s 85ms/step - loss: 0.5059 - accuracy: 0.7628 - val_loss: 0.3491 - val_accuracy: 0.9389\n",
            "Epoch 13/15\n",
            "76/76 [==============================] - 6s 85ms/step - loss: 0.5008 - accuracy: 0.7654 - val_loss: 0.3211 - val_accuracy: 0.9494\n",
            "Epoch 14/15\n",
            "76/76 [==============================] - 6s 85ms/step - loss: 0.4927 - accuracy: 0.7747 - val_loss: 0.3365 - val_accuracy: 0.9370\n",
            "Epoch 15/15\n",
            "76/76 [==============================] - 6s 85ms/step - loss: 0.4905 - accuracy: 0.7725 - val_loss: 0.4244 - val_accuracy: 0.9044\n",
            "109/109 [==============================] - 2s 16ms/step\n"
          ]
        },
        {
          "ename": "InvalidArgumentError",
          "evalue": "{{function_node __wrapped__Equal_device_/job:localhost/replica:0/task:0/device:CPU:0}} Incompatible shapes: [3477] vs. [584136] [Op:Equal]",
          "output_type": "error",
          "traceback": [
            "\u001b[0;31m---------------------------------------------------------------------------\u001b[0m",
            "\u001b[0;31mInvalidArgumentError\u001b[0m                      Traceback (most recent call last)",
            "Cell \u001b[0;32mIn[110], line 38\u001b[0m\n\u001b[1;32m     35\u001b[0m ypred \u001b[39m=\u001b[39m model\u001b[39m.\u001b[39mpredict(X_numpy)\u001b[39m.\u001b[39mravel()\n\u001b[1;32m     37\u001b[0m ba \u001b[39m=\u001b[39m tf\u001b[39m.\u001b[39mkeras\u001b[39m.\u001b[39mmetrics\u001b[39m.\u001b[39mBinaryAccuracy()\n\u001b[0;32m---> 38\u001b[0m ba\u001b[39m.\u001b[39;49mupdate_state(y_numpy, ypred)\n\u001b[1;32m     39\u001b[0m acc \u001b[39m=\u001b[39m ba\u001b[39m.\u001b[39mresult()\u001b[39m.\u001b[39mnumpy()\n\u001b[1;32m     41\u001b[0m br \u001b[39m=\u001b[39m tf\u001b[39m.\u001b[39mkeras\u001b[39m.\u001b[39mmetrics\u001b[39m.\u001b[39mRecall()\n",
            "File \u001b[0;32m/opt/anaconda3/envs/praxis1/lib/python3.9/site-packages/keras/utils/metrics_utils.py:77\u001b[0m, in \u001b[0;36mupdate_state_wrapper.<locals>.decorated\u001b[0;34m(metric_obj, *args, **kwargs)\u001b[0m\n\u001b[1;32m     69\u001b[0m         \u001b[39mraise\u001b[39;00m \u001b[39mValueError\u001b[39;00m(\n\u001b[1;32m     70\u001b[0m             \u001b[39m\"\u001b[39m\u001b[39mTrying to run metric.update_state in replica context when \u001b[39m\u001b[39m\"\u001b[39m\n\u001b[1;32m     71\u001b[0m             \u001b[39m\"\u001b[39m\u001b[39mthe metric was not created in TPUStrategy scope. \u001b[39m\u001b[39m\"\u001b[39m\n\u001b[1;32m     72\u001b[0m             \u001b[39m\"\u001b[39m\u001b[39mMake sure the keras Metric is created in TPUstrategy \u001b[39m\u001b[39m\"\u001b[39m\n\u001b[1;32m     73\u001b[0m             \u001b[39m\"\u001b[39m\u001b[39mscope. \u001b[39m\u001b[39m\"\u001b[39m\n\u001b[1;32m     74\u001b[0m         )\n\u001b[1;32m     76\u001b[0m \u001b[39mwith\u001b[39;00m tf_utils\u001b[39m.\u001b[39mgraph_context_for_symbolic_tensors(\u001b[39m*\u001b[39margs, \u001b[39m*\u001b[39m\u001b[39m*\u001b[39mkwargs):\n\u001b[0;32m---> 77\u001b[0m     update_op \u001b[39m=\u001b[39m update_state_fn(\u001b[39m*\u001b[39;49margs, \u001b[39m*\u001b[39;49m\u001b[39m*\u001b[39;49mkwargs)\n\u001b[1;32m     78\u001b[0m \u001b[39mif\u001b[39;00m update_op \u001b[39mis\u001b[39;00m \u001b[39mnot\u001b[39;00m \u001b[39mNone\u001b[39;00m:  \u001b[39m# update_op will be None in eager execution.\u001b[39;00m\n\u001b[1;32m     79\u001b[0m     metric_obj\u001b[39m.\u001b[39madd_update(update_op)\n",
            "File \u001b[0;32m/opt/anaconda3/envs/praxis1/lib/python3.9/site-packages/keras/metrics/base_metric.py:143\u001b[0m, in \u001b[0;36mMetric.__new__.<locals>.update_state_fn\u001b[0;34m(*args, **kwargs)\u001b[0m\n\u001b[1;32m    139\u001b[0m control_status \u001b[39m=\u001b[39m tf\u001b[39m.\u001b[39m__internal__\u001b[39m.\u001b[39mautograph\u001b[39m.\u001b[39mcontrol_status_ctx()\n\u001b[1;32m    140\u001b[0m ag_update_state \u001b[39m=\u001b[39m tf\u001b[39m.\u001b[39m__internal__\u001b[39m.\u001b[39mautograph\u001b[39m.\u001b[39mtf_convert(\n\u001b[1;32m    141\u001b[0m     obj_update_state, control_status\n\u001b[1;32m    142\u001b[0m )\n\u001b[0;32m--> 143\u001b[0m \u001b[39mreturn\u001b[39;00m ag_update_state(\u001b[39m*\u001b[39;49margs, \u001b[39m*\u001b[39;49m\u001b[39m*\u001b[39;49mkwargs)\n",
            "File \u001b[0;32m/opt/anaconda3/envs/praxis1/lib/python3.9/site-packages/tensorflow/python/autograph/impl/api.py:689\u001b[0m, in \u001b[0;36mconvert.<locals>.decorator.<locals>.wrapper\u001b[0;34m(*args, **kwargs)\u001b[0m\n\u001b[1;32m    687\u001b[0m \u001b[39mtry\u001b[39;00m:\n\u001b[1;32m    688\u001b[0m   \u001b[39mwith\u001b[39;00m conversion_ctx:\n\u001b[0;32m--> 689\u001b[0m     \u001b[39mreturn\u001b[39;00m converted_call(f, args, kwargs, options\u001b[39m=\u001b[39;49moptions)\n\u001b[1;32m    690\u001b[0m \u001b[39mexcept\u001b[39;00m \u001b[39mException\u001b[39;00m \u001b[39mas\u001b[39;00m e:  \u001b[39m# pylint:disable=broad-except\u001b[39;00m\n\u001b[1;32m    691\u001b[0m   \u001b[39mif\u001b[39;00m \u001b[39mhasattr\u001b[39m(e, \u001b[39m'\u001b[39m\u001b[39mag_error_metadata\u001b[39m\u001b[39m'\u001b[39m):\n",
            "File \u001b[0;32m/opt/anaconda3/envs/praxis1/lib/python3.9/site-packages/tensorflow/python/autograph/impl/api.py:331\u001b[0m, in \u001b[0;36mconverted_call\u001b[0;34m(f, args, kwargs, caller_fn_scope, options)\u001b[0m\n\u001b[1;32m    329\u001b[0m \u001b[39mif\u001b[39;00m conversion\u001b[39m.\u001b[39mis_in_allowlist_cache(f, options):\n\u001b[1;32m    330\u001b[0m   logging\u001b[39m.\u001b[39mlog(\u001b[39m2\u001b[39m, \u001b[39m'\u001b[39m\u001b[39mAllowlisted \u001b[39m\u001b[39m%s\u001b[39;00m\u001b[39m: from cache\u001b[39m\u001b[39m'\u001b[39m, f)\n\u001b[0;32m--> 331\u001b[0m   \u001b[39mreturn\u001b[39;00m _call_unconverted(f, args, kwargs, options, \u001b[39mFalse\u001b[39;49;00m)\n\u001b[1;32m    333\u001b[0m \u001b[39mif\u001b[39;00m ag_ctx\u001b[39m.\u001b[39mcontrol_status_ctx()\u001b[39m.\u001b[39mstatus \u001b[39m==\u001b[39m ag_ctx\u001b[39m.\u001b[39mStatus\u001b[39m.\u001b[39mDISABLED:\n\u001b[1;32m    334\u001b[0m   logging\u001b[39m.\u001b[39mlog(\u001b[39m2\u001b[39m, \u001b[39m'\u001b[39m\u001b[39mAllowlisted: \u001b[39m\u001b[39m%s\u001b[39;00m\u001b[39m: AutoGraph is disabled in context\u001b[39m\u001b[39m'\u001b[39m, f)\n",
            "File \u001b[0;32m/opt/anaconda3/envs/praxis1/lib/python3.9/site-packages/tensorflow/python/autograph/impl/api.py:458\u001b[0m, in \u001b[0;36m_call_unconverted\u001b[0;34m(f, args, kwargs, options, update_cache)\u001b[0m\n\u001b[1;32m    455\u001b[0m   \u001b[39mreturn\u001b[39;00m f\u001b[39m.\u001b[39m\u001b[39m__self__\u001b[39m\u001b[39m.\u001b[39mcall(args, kwargs)\n\u001b[1;32m    457\u001b[0m \u001b[39mif\u001b[39;00m kwargs \u001b[39mis\u001b[39;00m \u001b[39mnot\u001b[39;00m \u001b[39mNone\u001b[39;00m:\n\u001b[0;32m--> 458\u001b[0m   \u001b[39mreturn\u001b[39;00m f(\u001b[39m*\u001b[39;49margs, \u001b[39m*\u001b[39;49m\u001b[39m*\u001b[39;49mkwargs)\n\u001b[1;32m    459\u001b[0m \u001b[39mreturn\u001b[39;00m f(\u001b[39m*\u001b[39margs)\n",
            "File \u001b[0;32m/opt/anaconda3/envs/praxis1/lib/python3.9/site-packages/keras/metrics/base_metric.py:700\u001b[0m, in \u001b[0;36mMeanMetricWrapper.update_state\u001b[0;34m(self, y_true, y_pred, sample_weight)\u001b[0m\n\u001b[1;32m    693\u001b[0m y_pred, y_true \u001b[39m=\u001b[39m losses_utils\u001b[39m.\u001b[39msqueeze_or_expand_dimensions(\n\u001b[1;32m    694\u001b[0m     y_pred, y_true\n\u001b[1;32m    695\u001b[0m )\n\u001b[1;32m    697\u001b[0m ag_fn \u001b[39m=\u001b[39m tf\u001b[39m.\u001b[39m__internal__\u001b[39m.\u001b[39mautograph\u001b[39m.\u001b[39mtf_convert(\n\u001b[1;32m    698\u001b[0m     \u001b[39mself\u001b[39m\u001b[39m.\u001b[39m_fn, tf\u001b[39m.\u001b[39m__internal__\u001b[39m.\u001b[39mautograph\u001b[39m.\u001b[39mcontrol_status_ctx()\n\u001b[1;32m    699\u001b[0m )\n\u001b[0;32m--> 700\u001b[0m matches \u001b[39m=\u001b[39m ag_fn(y_true, y_pred, \u001b[39m*\u001b[39;49m\u001b[39m*\u001b[39;49m\u001b[39mself\u001b[39;49m\u001b[39m.\u001b[39;49m_fn_kwargs)\n\u001b[1;32m    701\u001b[0m mask \u001b[39m=\u001b[39m losses_utils\u001b[39m.\u001b[39mget_mask(matches)\n\u001b[1;32m    702\u001b[0m sample_weight \u001b[39m=\u001b[39m losses_utils\u001b[39m.\u001b[39mapply_valid_mask(\n\u001b[1;32m    703\u001b[0m     matches, sample_weight, mask, \u001b[39mself\u001b[39m\u001b[39m.\u001b[39mreduction\n\u001b[1;32m    704\u001b[0m )\n",
            "File \u001b[0;32m/opt/anaconda3/envs/praxis1/lib/python3.9/site-packages/tensorflow/python/autograph/impl/api.py:689\u001b[0m, in \u001b[0;36mconvert.<locals>.decorator.<locals>.wrapper\u001b[0;34m(*args, **kwargs)\u001b[0m\n\u001b[1;32m    687\u001b[0m \u001b[39mtry\u001b[39;00m:\n\u001b[1;32m    688\u001b[0m   \u001b[39mwith\u001b[39;00m conversion_ctx:\n\u001b[0;32m--> 689\u001b[0m     \u001b[39mreturn\u001b[39;00m converted_call(f, args, kwargs, options\u001b[39m=\u001b[39;49moptions)\n\u001b[1;32m    690\u001b[0m \u001b[39mexcept\u001b[39;00m \u001b[39mException\u001b[39;00m \u001b[39mas\u001b[39;00m e:  \u001b[39m# pylint:disable=broad-except\u001b[39;00m\n\u001b[1;32m    691\u001b[0m   \u001b[39mif\u001b[39;00m \u001b[39mhasattr\u001b[39m(e, \u001b[39m'\u001b[39m\u001b[39mag_error_metadata\u001b[39m\u001b[39m'\u001b[39m):\n",
            "File \u001b[0;32m/opt/anaconda3/envs/praxis1/lib/python3.9/site-packages/tensorflow/python/autograph/impl/api.py:377\u001b[0m, in \u001b[0;36mconverted_call\u001b[0;34m(f, args, kwargs, caller_fn_scope, options)\u001b[0m\n\u001b[1;32m    374\u001b[0m   \u001b[39mreturn\u001b[39;00m _call_unconverted(f, args, kwargs, options)\n\u001b[1;32m    376\u001b[0m \u001b[39mif\u001b[39;00m \u001b[39mnot\u001b[39;00m options\u001b[39m.\u001b[39muser_requested \u001b[39mand\u001b[39;00m conversion\u001b[39m.\u001b[39mis_allowlisted(f):\n\u001b[0;32m--> 377\u001b[0m   \u001b[39mreturn\u001b[39;00m _call_unconverted(f, args, kwargs, options)\n\u001b[1;32m    379\u001b[0m \u001b[39m# internal_convert_user_code is for example turned off when issuing a dynamic\u001b[39;00m\n\u001b[1;32m    380\u001b[0m \u001b[39m# call conversion from generated code while in nonrecursive mode. In that\u001b[39;00m\n\u001b[1;32m    381\u001b[0m \u001b[39m# case we evidently don't want to recurse, but we still have to convert\u001b[39;00m\n\u001b[1;32m    382\u001b[0m \u001b[39m# things like builtins.\u001b[39;00m\n\u001b[1;32m    383\u001b[0m \u001b[39mif\u001b[39;00m \u001b[39mnot\u001b[39;00m options\u001b[39m.\u001b[39minternal_convert_user_code:\n",
            "File \u001b[0;32m/opt/anaconda3/envs/praxis1/lib/python3.9/site-packages/tensorflow/python/autograph/impl/api.py:458\u001b[0m, in \u001b[0;36m_call_unconverted\u001b[0;34m(f, args, kwargs, options, update_cache)\u001b[0m\n\u001b[1;32m    455\u001b[0m   \u001b[39mreturn\u001b[39;00m f\u001b[39m.\u001b[39m\u001b[39m__self__\u001b[39m\u001b[39m.\u001b[39mcall(args, kwargs)\n\u001b[1;32m    457\u001b[0m \u001b[39mif\u001b[39;00m kwargs \u001b[39mis\u001b[39;00m \u001b[39mnot\u001b[39;00m \u001b[39mNone\u001b[39;00m:\n\u001b[0;32m--> 458\u001b[0m   \u001b[39mreturn\u001b[39;00m f(\u001b[39m*\u001b[39;49margs, \u001b[39m*\u001b[39;49m\u001b[39m*\u001b[39;49mkwargs)\n\u001b[1;32m    459\u001b[0m \u001b[39mreturn\u001b[39;00m f(\u001b[39m*\u001b[39margs)\n",
            "File \u001b[0;32m/opt/anaconda3/envs/praxis1/lib/python3.9/site-packages/keras/utils/metrics_utils.py:933\u001b[0m, in \u001b[0;36mbinary_matches\u001b[0;34m(y_true, y_pred, threshold)\u001b[0m\n\u001b[1;32m    931\u001b[0m threshold \u001b[39m=\u001b[39m tf\u001b[39m.\u001b[39mcast(threshold, y_pred\u001b[39m.\u001b[39mdtype)\n\u001b[1;32m    932\u001b[0m y_pred \u001b[39m=\u001b[39m tf\u001b[39m.\u001b[39mcast(y_pred \u001b[39m>\u001b[39m threshold, y_pred\u001b[39m.\u001b[39mdtype)\n\u001b[0;32m--> 933\u001b[0m \u001b[39mreturn\u001b[39;00m tf\u001b[39m.\u001b[39mcast(tf\u001b[39m.\u001b[39;49mequal(y_true, y_pred), backend\u001b[39m.\u001b[39mfloatx())\n",
            "File \u001b[0;32m/opt/anaconda3/envs/praxis1/lib/python3.9/site-packages/tensorflow/python/util/traceback_utils.py:153\u001b[0m, in \u001b[0;36mfilter_traceback.<locals>.error_handler\u001b[0;34m(*args, **kwargs)\u001b[0m\n\u001b[1;32m    151\u001b[0m \u001b[39mexcept\u001b[39;00m \u001b[39mException\u001b[39;00m \u001b[39mas\u001b[39;00m e:\n\u001b[1;32m    152\u001b[0m   filtered_tb \u001b[39m=\u001b[39m _process_traceback_frames(e\u001b[39m.\u001b[39m__traceback__)\n\u001b[0;32m--> 153\u001b[0m   \u001b[39mraise\u001b[39;00m e\u001b[39m.\u001b[39mwith_traceback(filtered_tb) \u001b[39mfrom\u001b[39;00m \u001b[39mNone\u001b[39;00m\n\u001b[1;32m    154\u001b[0m \u001b[39mfinally\u001b[39;00m:\n\u001b[1;32m    155\u001b[0m   \u001b[39mdel\u001b[39;00m filtered_tb\n",
            "File \u001b[0;32m/opt/anaconda3/envs/praxis1/lib/python3.9/site-packages/tensorflow/python/framework/ops.py:7209\u001b[0m, in \u001b[0;36mraise_from_not_ok_status\u001b[0;34m(e, name)\u001b[0m\n\u001b[1;32m   7207\u001b[0m \u001b[39mdef\u001b[39;00m \u001b[39mraise_from_not_ok_status\u001b[39m(e, name):\n\u001b[1;32m   7208\u001b[0m   e\u001b[39m.\u001b[39mmessage \u001b[39m+\u001b[39m\u001b[39m=\u001b[39m (\u001b[39m\"\u001b[39m\u001b[39m name: \u001b[39m\u001b[39m\"\u001b[39m \u001b[39m+\u001b[39m name \u001b[39mif\u001b[39;00m name \u001b[39mis\u001b[39;00m \u001b[39mnot\u001b[39;00m \u001b[39mNone\u001b[39;00m \u001b[39melse\u001b[39;00m \u001b[39m\"\u001b[39m\u001b[39m\"\u001b[39m)\n\u001b[0;32m-> 7209\u001b[0m   \u001b[39mraise\u001b[39;00m core\u001b[39m.\u001b[39m_status_to_exception(e) \u001b[39mfrom\u001b[39;00m \u001b[39mNone\u001b[39;00m\n",
            "\u001b[0;31mInvalidArgumentError\u001b[0m: {{function_node __wrapped__Equal_device_/job:localhost/replica:0/task:0/device:CPU:0}} Incompatible shapes: [3477] vs. [584136] [Op:Equal]"
          ]
        },
        {
          "data": {
            "image/png": "[encoded data removed]",
            "text/plain": [
              "<Figure size 640x480 with 1 Axes>"
            ]
          },
          "metadata": {},
          "output_type": "display_data"
        }
      ],
      "source": [
        "final_oversample_1 = RandomOverSampler(sampling_strategy=0.2)\n",
        "X_final_over_1, y_final_over_1 = final_oversample_1.fit_resample(X_train, y_train)\n",
        "final_undersample1 = RandomUnderSampler(sampling_strategy=.5)\n",
        "X_final_over_under, y_final_over_under = final_undersample1.fit_resample(X_final_over_1, y_final_over_1)\n",
        "\n",
        "results_over_under = []\n",
        "models = [lr, svm, knn, rf, ada]\n",
        "for m in models:\n",
        "    m.fit(X_final_over_under, y_final_over_under.values.ravel())\n",
        "    predicted = m.predict(X_test)\n",
        "    acc = metrics.accuracy_score(y_test, predicted)\n",
        "    rec = metrics.recall_score(y_test, predicted)\n",
        "    prec = metrics.precision_score(y_test, predicted)\n",
        "    f1 = metrics.f1_score(y_test, predicted)\n",
        "    auc = metrics.roc_auc_score(y_test, predicted)\n",
        "    results_over_under.append([acc, rec, prec, auc, f1])\n",
        "    m_probs = m.predict_proba(X_test)\n",
        "    m_probs = m_probs[:, 1]\n",
        "    m_fpr, m_tpr, _ = roc_curve(y_test, m_probs)\n",
        "    pyplot.plot(m_fpr, m_tpr, marker='.', label=(m))\n",
        "\n",
        "X_numpy_over_under = np.expand_dims(X_final_over_under.values[:,:],axis = 2)\n",
        "y_numpy_over_under = y_final_over_under.values[:]\n",
        "X_numpy_over_under_test = np.expand_dims(X_test.values[:,:],axis = 2)\n",
        "y_numpy_over_under_test = y_test.values[:]\n",
        "model = Sequential()\n",
        "model.add(LSTM(units=64, return_sequences=True, input_shape=(len(X_train.columns), 1)))\n",
        "model.add(Dropout(0.1))\n",
        "model.add(Dense(1, activation='sigmoid'))\n",
        "model.compile(loss='binary_crossentropy', optimizer='nadam', metrics=['accuracy'])\n",
        "model.fit(X_numpy_over_under, y_numpy_over_under, epochs=15, batch_size=64, validation_data=(X_numpy_over_under_test, y_numpy_over_under_test))\n",
        "\n",
        "X_numpy = np.expand_dims(X_test.values[:],axis = 2)\n",
        "y_numpy = y_test.values[:]\n",
        "ypred = model.predict(X_numpy).ravel()\n",
        "\n",
        "ba = tf.keras.metrics.BinaryAccuracy()\n",
        "ba.update_state(y_numpy, ypred)\n",
        "acc = ba.result().numpy()\n",
        "\n",
        "br = tf.keras.metrics.Recall()\n",
        "br.update_state(y_numpy, ypred)\n",
        "rec = br.result().numpy()\n",
        "\n",
        "bp = tf.keras.metrics.Precision()\n",
        "bp.update_state(y_numpy, ypred)\n",
        "prec = bp.result().numpy()\n",
        "\n",
        "# bf1 = tf.keras.metrics.F1Score()\n",
        "# bf1.update_state(y_numpy, ypred)\n",
        "# f1 = bf1.result().numpy()\n",
        "\n",
        "bauc = tf.keras.metrics.AUC()\n",
        "bauc.update_state(y_numpy, ypred)\n",
        "auc = bauc.result().numpy()\n",
        "results_over.append([acc, rec, prec, auc])\n",
        "\n",
        "predlabels = [int(p>=0.5) for p in ypred]\n",
        "fpr_keras, tpr_keras, thresholds_keras = roc_curve(y_test, predlabels)\n",
        "\n",
        "pyplot.plot(fpr_keras, tpr_keras, marker='.', label=(\"LSTM\"))\n",
        "\n",
        "ns_probs = [0 for _ in range(len(y_test))]\n",
        "ns_fpr, ns_tpr, _ = roc_curve(y_test, ns_probs)\n",
        "pyplot.plot(ns_fpr, ns_tpr, linestyle='--', label='No Skill')\n",
        "# axis labels\n",
        "pyplot.xlabel('False Positive Rate')\n",
        "pyplot.ylabel('True Positive Rate')\n",
        "# show the legend\n",
        "pyplot.legend()\n",
        "# show the plot\n",
        "pyplot.show()\n",
        "print(results_over)"
      ]
    },
    {
      "attachments": {},
      "cell_type": "markdown",
      "metadata": {},
      "source": [
        "# SMOTE"
      ]
    },
    {
      "cell_type": "code",
      "execution_count": 111,
      "metadata": {},
      "outputs": [],
      "source": [
        "X_train_smote, X_test_smote, y_train_smote, y_test_smote = train_test_split(X_final_smote, y_final_smote, test_size=0.3)"
      ]
    },
    {
      "cell_type": "code",
      "execution_count": 112,
      "metadata": {},
      "outputs": [],
      "source": [
        "# #C is the most meaningful - penalty had no impact and would error out\n",
        "# param_grid = {'C': [0.1,1, 10, 100], 'max_iter': [1000]}\n",
        "# grid = GridSearchCV(LogisticRegression(),param_grid,refit=True,verbose=0,cv=10,scoring='recall', return_train_score=False)\n",
        "# grid.fit(X_train_smote,y_train_smote.values.ravel())\n",
        "# print(\"logistic regression best: \", grid.best_estimator_)\n",
        "# smote_lr_best_est = grid.best_estimator_\n",
        "\n"
      ]
    },
    {
      "cell_type": "code",
      "execution_count": 113,
      "metadata": {},
      "outputs": [],
      "source": [
        "# #linear failed to converge\n",
        "# param_grid = {'C': [1], 'gamma': ['auto'],'kernel': ['rbf']}\n",
        "# grid = GridSearchCV(SVC(),param_grid,refit=True,verbose=0, cv=10, scoring='recall', return_train_score=False)\n",
        "# grid.fit(X_train_smote,y_train_smote.values.ravel())\n",
        "# print(\"SVM best: \", grid.best_estimator_)\n",
        "# smote_svm_best_est = grid.best_estimator_"
      ]
    },
    {
      "cell_type": "code",
      "execution_count": 114,
      "metadata": {},
      "outputs": [],
      "source": [
        "\n",
        "# param_grid = {'n_neighbors': list(range(5,6)), 'metric': ['manhattan'], 'weights': ['uniform'] }\n",
        "# grid = GridSearchCV(KNeighborsClassifier(),param_grid,refit=True,verbose=2,cv=1, scoring='accuracy', return_train_score=False)\n",
        "# grid.fit(X_train_smote,y_train_smote.values.ravel())\n",
        "# print(\"KNN best: \", grid.best_estimator_)\n",
        "# smote_knn_best_est = grid.best_estimator_"
      ]
    },
    {
      "cell_type": "code",
      "execution_count": 115,
      "metadata": {},
      "outputs": [],
      "source": [
        "\n",
        "# param_grid = {\n",
        "#     'n_estimators': [10, 50, 100],\n",
        "#     'max_depth': [3, 5, None],\n",
        "#     'max_features': ['sqrt', 'log2'],\n",
        "#     'min_samples_split': [2, 5, 10],\n",
        "#     'min_samples_leaf': [1, 2, 4]\n",
        "# }\n",
        "# grid = GridSearchCV(RandomForestClassifier(), param_grid,refit=True,verbose=2,cv=5, scoring='recall', return_train_score=False)\n",
        "# grid.fit(X_train_smote, y_train_smote.values.ravel())\n",
        "# print(\"RF Best estimater:\", grid.best_estimator_)\n",
        "# print(\"RF Best parameters:\", grid.best_params_)\n",
        "# print(\"RF Best score:\", grid.best_score_)\n",
        "# smote_rf_best_est = grid.best_estimator_\n"
      ]
    },
    {
      "cell_type": "code",
      "execution_count": 116,
      "metadata": {},
      "outputs": [],
      "source": [
        "# param_grid = {\n",
        "#      'n_estimators': [100, 200, 300],\n",
        "#      'learning_rate': [0.01, 0.05, 0.1, 1],\n",
        "#  }\n",
        "# grid = GridSearchCV(AdaBoostClassifier(), param_grid,refit=True,verbose=0,cv=10, scoring='recall', return_train_score=False)\n",
        "# grid.fit(X_train_smote, y_train_smote.values.ravel())\n",
        "# print(\"ADA Best estimater:\", grid.best_estimator_)\n",
        "# print(\"ADA Best parameters:\", grid.best_params_)\n",
        "# print(\"ADA Best score:\", grid.best_score_)\n",
        "# smote_ada_best_est = grid.best_estimator_"
      ]
    },
    {
      "cell_type": "code",
      "execution_count": 117,
      "metadata": {},
      "outputs": [],
      "source": [
        "# # #Adapt from above\n",
        "# # lr = LogisticRegression(max_iter=1000)\n",
        "# svm = SVC(probability=True)\n",
        "# knn = smote_knn_best_est\n",
        "# rf = smote_rf_best_est\n",
        "# # ada = bls_ada_best_est"
      ]
    },
    {
      "cell_type": "code",
      "execution_count": 118,
      "metadata": {},
      "outputs": [
        {
          "name": "stdout",
          "output_type": "stream",
          "text": [
            "LogisticRegression(max_iter=1000) \n",
            " [[3250  211]\n",
            " [  12    4]] \n",
            "\n",
            "SVC(probability=True) \n",
            " [[3395   66]\n",
            " [  14    2]] \n",
            "\n",
            "KNeighborsClassifier() \n",
            " [[3308  153]\n",
            " [   9    7]] \n",
            "\n",
            "RandomForestClassifier() \n",
            " [[3213  248]\n",
            " [  13    3]] \n",
            "\n",
            "AdaBoostClassifier() \n",
            " [[2321 1140]\n",
            " [   5   11]] \n",
            "\n"
          ]
        },
        {
          "data": {
            "image/png": "[encoded data removed]",
            "text/plain": [
              "<Figure size 640x480 with 1 Axes>"
            ]
          },
          "metadata": {},
          "output_type": "display_data"
        }
      ],
      "source": [
        "results_smote = []\n",
        "models = [lr, svm, knn, rf, ada]\n",
        "\n",
        "for m in models:\n",
        "    m.fit(X_train_smote, y_train_smote.values.ravel())\n",
        "    predicted = m.predict(X_test)\n",
        "    acc = metrics.accuracy_score(y_test, predicted)\n",
        "    rec = metrics.recall_score(y_test, predicted)\n",
        "    prec = metrics.precision_score(y_test, predicted)\n",
        "    f1 = metrics.f1_score(y_test, predicted)\n",
        "    auc = metrics.roc_auc_score(y_test, predicted)\n",
        "    print(m, \"\\n\", metrics.confusion_matrix(y_test,predicted), \"\\n\")\n",
        "    results_smote.append([acc, rec, prec, auc, f1])\n",
        "    m_probs = m.predict_proba(X_test)\n",
        "    m_probs = m_probs[:, 1]\n",
        "    m_fpr, m_tpr, _ = roc_curve(y_test, m_probs)\n",
        "    pyplot.plot(m_fpr, m_tpr, marker='.', label=(m))\n",
        "\n",
        "ns_probs = [0 for _ in range(len(y_test))]\n",
        "ns_fpr, ns_tpr, _ = roc_curve(y_test, ns_probs)\n",
        "pyplot.plot(ns_fpr, ns_tpr, linestyle='--', label='No Skill')\n",
        "# axis labels\n",
        "pyplot.xlabel('False Positive Rate')\n",
        "pyplot.ylabel('True Positive Rate')\n",
        "# show the legend\n",
        "pyplot.legend()\n",
        "# show the plot\n",
        "pyplot.show()"
      ]
    },
    {
      "cell_type": "code",
      "execution_count": null,
      "metadata": {},
      "outputs": [],
      "source": [
        "\n",
        "\n",
        "X_numpy_smote = np.expand_dims(X_train_smote.values[:,:],axis = 2)\n",
        "y_numpy_smote = y_train_smote.values[:]\n",
        "X_numpy_smote_test = np.expand_dims(X_test_smote.values[:,:],axis = 2)\n",
        "y_numpy_smote_test = y_test_smote.values[:]\n",
        "model = Sequential()\n",
        "model.add(LSTM(units=64, return_sequences=True, input_shape=(len(X_train.columns), 1)))\n",
        "model.add(Dropout(0.2))\n",
        "model.add(LSTM(units=64, return_sequences=False))\n",
        "model.add(Dropout(0.2))\n",
        "model.add(Dense(1, activation='sigmoid'))\n",
        "model.compile(loss='binary_crossentropy', optimizer='nadam', metrics=['accuracy'])\n",
        "model.fit(X_numpy_smote, y_numpy_smote, epochs=15, batch_size=64, validation_data=(X_numpy_smote_test, y_numpy_smote_test))\n",
        "\n",
        "X_numpy = np.expand_dims(X_test.values[:],axis = 2)\n",
        "y_numpy = y_test.values[:]\n",
        "ypred = model.predict(X_numpy).ravel()\n",
        "\n",
        "ba = tf.keras.metrics.BinaryAccuracy()\n",
        "ba.update_state(y_numpy, ypred)\n",
        "acc = ba.result().numpy()\n",
        "\n",
        "br = tf.keras.metrics.Recall()\n",
        "br.update_state(y_numpy, ypred)\n",
        "rec = br.result().numpy()\n",
        "\n",
        "bp = tf.keras.metrics.Precision()\n",
        "bp.update_state(y_numpy, ypred)\n",
        "prec = bp.result().numpy()\n",
        "\n",
        "# bf1 = tf.keras.metrics.F1Score()\n",
        "# bf1.update_state(y_numpy, ypred)\n",
        "# f1 = bf1.result().numpy()\n",
        "\n",
        "bauc = tf.keras.metrics.AUC()\n",
        "bauc.update_state(y_numpy, ypred)\n",
        "auc = bauc.result().numpy()\n",
        "\n",
        "results_smote.append([acc, rec, prec, auc])\n",
        "\n",
        "fpr_keras, tpr_keras, thresholds_keras = roc_curve(y_numpy, ypred)\n",
        "pyplot.plot(fpr_keras, tpr_keras, marker='.', label=(\"LSTM\"))\n",
        "ns_probs = [0 for _ in range(len(y_test))]\n",
        "ns_fpr, ns_tpr, _ = roc_curve(y_test, ns_probs)\n",
        "pyplot.plot(ns_fpr, ns_tpr, linestyle='--', label='No Skill')\n",
        "# axis labels\n",
        "pyplot.xlabel('False Positive Rate')\n",
        "pyplot.ylabel('True Positive Rate')\n",
        "# show the legend\n",
        "pyplot.legend()\n",
        "# show the plot\n",
        "pyplot.show()\n",
        "print(results_smote)"
      ]
    },
    {
      "attachments": {},
      "cell_type": "markdown",
      "metadata": {},
      "source": [
        "# ADASYN"
      ]
    },
    {
      "cell_type": "code",
      "execution_count": null,
      "metadata": {},
      "outputs": [],
      "source": [
        "X_train_adasyn, X_test_adasyn, y_train_adasyn, y_test_adasyn = train_test_split(X_final_adasyn, y_final_adasyn, test_size=0.3)"
      ]
    },
    {
      "cell_type": "code",
      "execution_count": null,
      "metadata": {},
      "outputs": [],
      "source": [
        "# #C is the most meaningful - penalty had no impact and would error out\n",
        "# param_grid = {'C': [0.1,1, 10, 100], 'max_iter': [1000]}\n",
        "# grid = GridSearchCV(LogisticRegression(),param_grid,refit=True,verbose=0,cv=10,scoring='recall', return_train_score=False)\n",
        "# grid.fit(X_train_adasyn,y_train_adasyn.values.ravel())\n",
        "# print(\"logistic regression best: \", grid.best_estimator_)\n",
        "# ada_lr_best_est = grid.best_estimator_\n",
        "\n"
      ]
    },
    {
      "cell_type": "code",
      "execution_count": null,
      "metadata": {},
      "outputs": [],
      "source": [
        "\n",
        "# #linear failed to converge\n",
        "# param_grid = {'C': [0.1,1, 10, 100], 'gamma': [1,0.1,0.01,0.001],'kernel': ['rbf', 'poly']}\n",
        "# grid = GridSearchCV(SVC(),param_grid,refit=True,verbose=0, cv=10, scoring='recall', return_train_score=False)\n",
        "# grid.fit(X_train_adasyn,y_train_adasyn.values.ravel())\n",
        "# print(\"SVM best: \", grid.best_estimator_)\n",
        "# ada_svm_best_est = grid.best_estimator_\n",
        "\n"
      ]
    },
    {
      "cell_type": "code",
      "execution_count": null,
      "metadata": {},
      "outputs": [],
      "source": [
        "\n",
        "# param_grid = {'n_neighbors': list(range(1,21)), 'metric': ['euclidean', 'manhattan', 'minkowski'], 'weights': ['uniform', 'distance'] }\n",
        "# grid = GridSearchCV(KNeighborsClassifier(),param_grid,refit=True,verbose=0,cv=10, scoring='recall', return_train_score=False)\n",
        "# grid.fit(X_train_adasyn,y_train_adasyn.values.ravel())\n",
        "# print(\"KNN best: \", grid.best_estimator_)\n",
        "# ada_knn_best_est = grid.best_estimator_\n",
        "\n"
      ]
    },
    {
      "cell_type": "code",
      "execution_count": null,
      "metadata": {},
      "outputs": [],
      "source": [
        "\n",
        "# param_grid = {\n",
        "#     'n_estimators': [10, 50, 100],\n",
        "#     'max_depth': [3, 5, None],\n",
        "#     'max_features': ['sqrt', 'log2'],\n",
        "#     'min_samples_split': [2, 5, 10],\n",
        "#     'min_samples_leaf': [1, 2, 4]\n",
        "# }\n",
        "# grid = GridSearchCV(RandomForestClassifier(), param_grid,refit=True,verbose=0,cv=10, scoring='recall', return_train_score=False)\n",
        "# grid.fit(X_train_adasyn, y_train_adasyn.values.ravel())\n",
        "# print(\"RF Best estimater:\", grid.best_estimator_)\n",
        "# print(\"RF Best parameters:\", grid.best_params_)\n",
        "# print(\"RF Best score:\", grid.best_score_)\n",
        "# ada_rf_best_est = grid.best_estimator_\n"
      ]
    },
    {
      "cell_type": "code",
      "execution_count": null,
      "metadata": {},
      "outputs": [],
      "source": [
        "\n",
        "# param_grid = {\n",
        "#      'n_estimators': [100, 200, 300],\n",
        "#      'learning_rate': [0.01, 0.05, 0.1, 1],\n",
        "#  }\n",
        "# grid = GridSearchCV(AdaBoostClassifier(), param_grid,refit=True,verbose=0,cv=10, scoring='recall', return_train_score=False)\n",
        "# grid.fit(X_train_adasyn, y_train_adasyn.values.ravel())\n",
        "# print(\"ADA Best estimater:\", grid.best_estimator_)\n",
        "# print(\"ADA Best parameters:\", grid.best_params_)\n",
        "# print(\"ADA Best score:\", grid.best_score_)\n",
        "# ada_ada_best_est = grid.best_estimator_"
      ]
    },
    {
      "cell_type": "code",
      "execution_count": null,
      "metadata": {},
      "outputs": [],
      "source": [
        "# #Adapt from above\n",
        "# lr = ada_lr_best_est\n",
        "# svm = ada_svm_best_est\n",
        "# knn = ada_knn_best_est\n",
        "# rf = ada_rf_best_est\n",
        "# ada = ada_ada_best_est\n"
      ]
    },
    {
      "cell_type": "code",
      "execution_count": null,
      "metadata": {},
      "outputs": [],
      "source": [
        "results_adasyn = []\n",
        "models = [lr, svm, knn, rf, ada]\n",
        "\n",
        "for m in models:\n",
        "    m.fit(X_train_adasyn, y_train_adasyn.values.ravel())\n",
        "    predicted = m.predict(X_test)\n",
        "    acc = metrics.accuracy_score(y_test, predicted)\n",
        "    rec = metrics.recall_score(y_test, predicted)\n",
        "    prec = metrics.precision_score(y_test, predicted)\n",
        "    f1 = metrics.f1_score(y_test, predicted)\n",
        "    auc = metrics.roc_auc_score(y_test, predicted)\n",
        "    results_adasyn.append([acc, rec, prec, f1, auc])\n",
        "    m_probs = m.predict_proba(X_test)\n",
        "    m_probs = m_probs[:, 1]\n",
        "    m_fpr, m_tpr, _ = roc_curve(y_test, m_probs)\n",
        "    pyplot.plot(m_fpr, m_tpr, marker='.', label=(m))\n",
        "\n",
        "X_numpy_adasyn = np.expand_dims(X_train_adasyn.values[:,:],axis = 2)\n",
        "y_numpy_adasyn = y_train_adasyn.values[:]\n",
        "X_numpy_adasyn_test = np.expand_dims(X_test_adasyn.values[:,:],axis = 2)\n",
        "y_numpy_adasyn_test = y_test_adasyn.values[:]\n",
        "model = Sequential()\n",
        "model.add(LSTM(units=64, return_sequences=True, input_shape=(len(X_train.columns), 1)))\n",
        "model.add(Dropout(0.2))\n",
        "model.add(LSTM(units=64, return_sequences=False))\n",
        "model.add(Dropout(0.2))\n",
        "model.add(Dense(1, activation='sigmoid'))\n",
        "model.compile(loss='binary_crossentropy', optimizer='nadam', metrics=['accuracy'])\n",
        "model.fit(X_numpy_smote, y_numpy_smote, epochs=15, batch_size=64, validation_data=(X_numpy_smote_test, y_numpy_smote_test))\n",
        "\n",
        "X_numpy = np.expand_dims(X_test.values[:],axis = 2)\n",
        "y_numpy = y_test.values[:]\n",
        "ypred = model.predict(X_numpy).ravel()\n",
        "\n",
        "ba = tf.keras.metrics.BinaryAccuracy()\n",
        "ba.update_state(y_numpy, ypred)\n",
        "acc = ba.result().numpy()\n",
        "\n",
        "br = tf.keras.metrics.Recall()\n",
        "br.update_state(y_numpy, ypred)\n",
        "rec = br.result().numpy()\n",
        "\n",
        "bp = tf.keras.metrics.Precision()\n",
        "bp.update_state(y_numpy, ypred)\n",
        "prec = bp.result().numpy()\n",
        "\n",
        "# bf1 = tf.keras.metrics.F1Score()\n",
        "# bf1.update_state(y_numpy, ypred)\n",
        "# f1 = bf1.result().numpy()\n",
        "\n",
        "bauc = tf.keras.metrics.AUC()\n",
        "bauc.update_state(y_numpy, ypred)\n",
        "auc = bauc.result().numpy()\n",
        "\n",
        "results_adasyn.append([acc, rec, prec, auc])\n",
        "\n",
        "fpr_keras, tpr_keras, thresholds_keras = roc_curve(y_numpy, ypred)\n",
        "pyplot.plot(fpr_keras, tpr_keras, marker='.', label=(\"LSTM\"))\n",
        "ns_probs = [0 for _ in range(len(y_test))]\n",
        "ns_fpr, ns_tpr, _ = roc_curve(y_test, ns_probs)\n",
        "pyplot.plot(ns_fpr, ns_tpr, linestyle='--', label='No Skill')\n",
        "# axis labels\n",
        "pyplot.xlabel('False Positive Rate')\n",
        "pyplot.ylabel('True Positive Rate')\n",
        "# show the legend\n",
        "pyplot.legend()\n",
        "# show the plot\n",
        "pyplot.show()\n",
        "print(results_adasyn)"
      ]
    },
    {
      "attachments": {},
      "cell_type": "markdown",
      "metadata": {},
      "source": [
        "# Borderline SMOTE"
      ]
    },
    {
      "cell_type": "code",
      "execution_count": null,
      "metadata": {},
      "outputs": [],
      "source": [
        "X_train_blsmote, X_test_blsmote, y_train_blsmote, y_test_blsmote = train_test_split(X_final_blsmote, y_final_blsmote, test_size=0.3)"
      ]
    },
    {
      "cell_type": "code",
      "execution_count": null,
      "metadata": {},
      "outputs": [],
      "source": [
        "# #C is the most meaningful - penalty had no impact and would error out\n",
        "# param_grid = {'C': [0.1,1, 10, 100], 'max_iter': [1000]}\n",
        "# grid = GridSearchCV(LogisticRegression(),param_grid,refit=True,verbose=0,cv=10,scoring='recall', return_train_score=False)\n",
        "# grid.fit(X_train_blsmote,y_train_blsmote.values.ravel())\n",
        "# print(\"logistic regression best: \", grid.best_estimator_)\n",
        "# bls_lr_best_est = grid.best_estimator_\n",
        "\n"
      ]
    },
    {
      "cell_type": "code",
      "execution_count": null,
      "metadata": {},
      "outputs": [],
      "source": [
        "\n",
        "# #linear failed to converge\n",
        "# param_grid = {'C': [0.1,1, 10, 100], 'gamma': [1,0.1,0.01,0.001],'kernel': ['rbf', 'poly']}\n",
        "# grid = GridSearchCV(SVC(),param_grid,refit=True,verbose=0, cv=10, scoring='recall', return_train_score=False)\n",
        "# grid.fit(X_train_blsmote,y_train_blsmote.values.ravel())\n",
        "# print(\"SVM best: \", grid.best_estimator_)\n",
        "# bls_svm_best_est = grid.best_estimator_"
      ]
    },
    {
      "cell_type": "code",
      "execution_count": null,
      "metadata": {},
      "outputs": [],
      "source": [
        "\n",
        "# param_grid = {'n_neighbors': list(range(1,21)), 'metric': ['euclidean', 'manhattan', 'minkowski'], 'weights': ['uniform', 'distance'] }\n",
        "# grid = GridSearchCV(KNeighborsClassifier(),param_grid,refit=True,verbose=0,cv=10, scoring='recall', return_train_score=False)\n",
        "# grid.fit(X_train_blsmote,y_train_blsmote.values.ravel())\n",
        "# print(\"KNN best: \", grid.best_estimator_)\n",
        "# bls_knn_best_est = grid.best_estimator_\n",
        "\n"
      ]
    },
    {
      "cell_type": "code",
      "execution_count": null,
      "metadata": {},
      "outputs": [],
      "source": [
        "\n",
        "# param_grid = {\n",
        "#     'n_estimators': [10, 50, 100],\n",
        "#     'max_depth': [3, 5, None],\n",
        "#     'max_features': ['sqrt', 'log2'],\n",
        "#     'min_samples_split': [2, 5, 10],\n",
        "#     'min_samples_leaf': [1, 2, 4]\n",
        "# }\n",
        "# grid = GridSearchCV(RandomForestClassifier(), param_grid,refit=True,verbose=0,cv=10, scoring='recall', return_train_score=False)\n",
        "# grid.fit(X_train_blsmote, y_train_blsmote.values.ravel())\n",
        "# print(\"RF Best estimater:\", grid.best_estimator_)\n",
        "# print(\"RF Best parameters:\", grid.best_params_)\n",
        "# print(\"RF Best score:\", grid.best_score_)\n",
        "# bls_rf_best_est = grid.best_estimator_\n",
        "\n"
      ]
    },
    {
      "cell_type": "code",
      "execution_count": null,
      "metadata": {},
      "outputs": [],
      "source": [
        "\n",
        "# param_grid = {\n",
        "#      'n_estimators': [100, 200, 300],\n",
        "#      'learning_rate': [0.01, 0.05, 0.1, 1],\n",
        "#  }\n",
        "# grid = GridSearchCV(AdaBoostClassifier(), param_grid,refit=True,verbose=0,cv=10, scoring='recall', return_train_score=False)\n",
        "# grid.fit(X_train_blsmote, y_train_blsmote)\n",
        "# print(\"ADA Best estimater:\", grid.best_estimator_)\n",
        "# print(\"ADA Best parameters:\", grid.best_params_)\n",
        "# print(\"ADA Best score:\", grid.best_score_)\n",
        "# bls_ada_best_est = grid.best_estimator_"
      ]
    },
    {
      "cell_type": "code",
      "execution_count": null,
      "metadata": {},
      "outputs": [],
      "source": [
        "# #Adapt from above\n",
        "# lr = LogisticRegression(max_iter=1000)\n",
        "# svm = SVC(probability=True)\n",
        "# knn = bls_knn_best_est\n",
        "# rf = bls_rf_best_est\n",
        "# ada = bls_ada_best_est"
      ]
    },
    {
      "cell_type": "code",
      "execution_count": null,
      "metadata": {},
      "outputs": [],
      "source": [
        "results_blsmote = []\n",
        "models = [lr, svm, knn, rf, ada]\n",
        "\n",
        "for m in models:\n",
        "    m.fit(X_train_blsmote, y_train_blsmote.values.ravel())\n",
        "    predicted = m.predict(X_test)\n",
        "    acc = metrics.accuracy_score(y_test, predicted)\n",
        "    rec = metrics.recall_score(y_test, predicted)\n",
        "    prec = metrics.precision_score(y_test, predicted)\n",
        "    f1 = metrics.f1_score(y_test, predicted)\n",
        "    auc = metrics.roc_auc_score(y_test, predicted)\n",
        "    results_blsmote.append([acc, rec, prec, f1, auc])\n",
        "    m_probs = m.predict_proba(X_test)\n",
        "    m_probs = m_probs[:, 1]\n",
        "    m_fpr, m_tpr, _ = roc_curve(y_test, m_probs)\n",
        "    pyplot.plot(m_fpr, m_tpr, marker='.', label=(m))\n",
        "\n",
        "X_numpy_blsmote = np.expand_dims(X_train_blsmote.values[:,:],axis = 2)\n",
        "y_numpy_blsmote = y_train_blsmote.values[:]\n",
        "X_numpy_blsmote_test = np.expand_dims(X_test_blsmote.values[:,:],axis = 2)\n",
        "y_numpy_blsmote_test = y_test_blsmote.values[:]\n",
        "model = Sequential()\n",
        "model.add(LSTM(units=64, return_sequences=True, input_shape=(len(X_train.columns), 1)))\n",
        "model.add(Dropout(0.2))\n",
        "model.add(LSTM(units=64, return_sequences=False))\n",
        "model.add(Dropout(0.2))\n",
        "model.add(Dense(1, activation='sigmoid'))\n",
        "model.compile(loss='binary_crossentropy', optimizer='nadam', metrics=['accuracy'])\n",
        "model.fit(X_numpy_smote, y_numpy_smote, epochs=15, batch_size=64, validation_data=(X_numpy_smote_test, y_numpy_smote_test))\n",
        "\n",
        "X_numpy = np.expand_dims(X_test.values[:],axis = 2)\n",
        "y_numpy = y_test.values[:]\n",
        "ypred = model.predict(X_numpy).ravel()\n",
        "\n",
        "ba = tf.keras.metrics.BinaryAccuracy()\n",
        "ba.update_state(y_numpy, ypred)\n",
        "acc = ba.result().numpy()\n",
        "\n",
        "br = tf.keras.metrics.Recall()\n",
        "br.update_state(y_numpy, ypred)\n",
        "rec = br.result().numpy()\n",
        "\n",
        "bp = tf.keras.metrics.Precision()\n",
        "bp.update_state(y_numpy, ypred)\n",
        "prec = bp.result().numpy()\n",
        "\n",
        "# bf1 = tf.keras.metrics.F1Score()\n",
        "# bf1.update_state(y_numpy, ypred)\n",
        "# f1 = bf1.result().numpy()\n",
        "\n",
        "bauc = tf.keras.metrics.AUC()\n",
        "bauc.update_state(y_numpy, ypred)\n",
        "auc = bauc.result().numpy()\n",
        "\n",
        "results_blsmote.append([acc, rec, prec, auc])\n",
        "\n",
        "fpr_keras, tpr_keras, thresholds_keras = roc_curve(y_numpy, ypred)\n",
        "pyplot.plot(fpr_keras, tpr_keras, marker='.', label=(\"LSTM\"))\n",
        "ns_probs = [0 for _ in range(len(y_test))]\n",
        "ns_fpr, ns_tpr, _ = roc_curve(y_test, ns_probs)\n",
        "pyplot.plot(ns_fpr, ns_tpr, linestyle='--', label='No Skill')\n",
        "# axis labels\n",
        "pyplot.xlabel('False Positive Rate')\n",
        "pyplot.ylabel('True Positive Rate')\n",
        "# show the legend\n",
        "pyplot.legend()\n",
        "# show the plot\n",
        "pyplot.show()\n",
        "print(results_blsmote)"
      ]
    },
    {
      "cell_type": "code",
      "execution_count": null,
      "metadata": {},
      "outputs": [],
      "source": [
        "final_results = [[results_no_sample], [results_under], [results_over], [results_smote], [results_adasyn], [results_blsmote]]"
      ]
    },
    {
      "cell_type": "code",
      "execution_count": null,
      "metadata": {},
      "outputs": [],
      "source": [
        "final_results"
      ]
    },
    {
      "cell_type": "code",
      "execution_count": null,
      "metadata": {},
      "outputs": [],
      "source": [
        "# sb.heatmap(cf_matrix/np.sum(cf_matrix), annot=True, fmt='.2%', cmap='Blues')"
      ]
    },
    {
      "cell_type": "code",
      "execution_count": null,
      "metadata": {},
      "outputs": [],
      "source": [
        "# mean0 = final_adasyn[final_adasyn['label'] == 0].sample(30)\n",
        "# mean1 = final_adasyn[final_adasyn['label'] == 1].sample(30)\n",
        "# fvalue, pvalue = stats.ttest_ind(mean0['text_distance'], mean1['text_distance'])\n",
        "# print(fvalue, pvalue)"
      ]
    },
    {
      "cell_type": "code",
      "execution_count": null,
      "metadata": {},
      "outputs": [],
      "source": [
        "# pca = PCA(n_components = 5)\n",
        "# X_train_blsmote = pca.fit_transform(X_train_blsmote)\n",
        "# X_test_blsmote = pca.transform(X_test_blsmote)\n",
        "# explained_variance = pca.explained_variance_ratio_\n",
        "# explained_variance"
      ]
    }
  ],
  "metadata": {
    "accelerator": "TPU",
    "colab": {
      "include_colab_link": true,
      "provenance": []
    },
    "gpuClass": "standard",
    "kernelspec": {
      "display_name": "Python 3.9.15 ('praxis-clements')",
      "language": "python",
      "name": "python3"
    },
    "language_info": {
      "codemirror_mode": {
        "name": "ipython",
        "version": 3
      },
      "file_extension": ".py",
      "mimetype": "text/x-python",
      "name": "python",
      "nbconvert_exporter": "python",
      "pygments_lexer": "ipython3",
      "version": "3.9.16"
    },
    "orig_nbformat": 4,
    "vscode": {
      "interpreter": {
        "hash": "0e4ed65ac9cd06e325be5e4053efe5dbb28567580420031f65d0d231df994926"
      }
    }
  },
  "nbformat": 4,
  "nbformat_minor": 0
}
