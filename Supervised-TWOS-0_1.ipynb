{
  "cells": [
    {
      "cell_type": "markdown",
      "metadata": {
        "id": "view-in-github",
        "colab_type": "text"
      },
      "source": [
        "<a href=\"https://colab.research.google.com/github/kenclements/praxis/blob/main/Supervised-TWOS-0_1.ipynb\" target=\"_parent\"><img src=\"https://colab.research.google.com/assets/colab-badge.svg\" alt=\"Open In Colab\"/></a>"
      ]
    },
    {
      "cell_type": "code",
      "execution_count": 1,
      "metadata": {
        "id": "lN5-AcoypUan",
        "colab": {
          "base_uri": "https://localhost:8080/"
        },
        "outputId": "7845d8ab-bd00-46d2-cb92-62478db05387"
      },
      "outputs": [
        {
          "output_type": "stream",
          "name": "stdout",
          "text": [
            "NVIDIA-SMI has failed because it couldn't communicate with the NVIDIA driver. Make sure that the latest NVIDIA driver is installed and running.\n",
            "\n"
          ]
        }
      ],
      "source": [
        "!nvidia-smi"
      ]
    },
    {
      "cell_type": "code",
      "execution_count": 2,
      "metadata": {
        "colab": {
          "base_uri": "https://localhost:8080/"
        },
        "id": "sI_JO6jFrD7Z",
        "outputId": "0d4a6d30-f4d9-4e1f-a977-db51aeffa28e"
      },
      "outputs": [
        {
          "output_type": "stream",
          "name": "stdout",
          "text": [
            "Drive already mounted at /content/drive; to attempt to forcibly remount, call drive.mount(\"/content/drive\", force_remount=True).\n"
          ]
        }
      ],
      "source": [
        "from google.colab import drive\n",
        "drive.mount('/content/drive')"
      ]
    },
    {
      "cell_type": "code",
      "execution_count": 3,
      "metadata": {
        "id": "SpDcPu8tmmK0"
      },
      "outputs": [],
      "source": [
        "import pandas as pd\n",
        "import numpy as np\n",
        "import matplotlib.pyplot as plt\n",
        "import seaborn as sb\n",
        "import string\n",
        "import re\n",
        "\n",
        "#Vectorization and Tokenizing\n",
        "from tensorflow.keras import layers\n",
        "\n",
        "from sklearn.feature_extraction.text import TfidfVectorizer, CountVectorizer\n",
        "from sklearn.preprocessing import MaxAbsScaler\n",
        "\n",
        "import tensorflow as tf\n",
        "from tensorflow.keras.models import Sequential\n",
        "from tensorflow.keras.layers import Dense\n",
        "from tensorflow.keras.layers import InputLayer\n",
        "import torch\n",
        "from tensorflow.keras import losses\n",
        "from tensorflow.keras.regularizers import L2\n",
        "from tensorflow.keras.utils import plot_model\n",
        "from tensorflow.keras.layers import TextVectorization\n",
        "\n",
        "import nltk\n",
        "from nltk.corpus import stopwords\n",
        "from nltk.tokenize import word_tokenize\n",
        "from nltk import pos_tag\n",
        "from nltk.stem import PorterStemmer\n",
        "from nltk.stem import LancasterStemmer\n",
        "\n",
        "#Models\n",
        "from sklearn.ensemble import AdaBoostClassifier\n",
        "from sklearn.neighbors import KNeighborsClassifier\n",
        "from sklearn.svm import SVC\n",
        "from sklearn.linear_model import LogisticRegression\n",
        "from sklearn.naive_bayes import GaussianNB\n",
        "from sklearn.linear_model import LinearRegression\n",
        "\n",
        "\n",
        "#Metrics and Testing\n",
        "from sklearn.model_selection import train_test_split\n",
        "from sklearn import metrics\n",
        "from sklearn.metrics import accuracy_score\n",
        "from sklearn.metrics import confusion_matrix"
      ]
    },
    {
      "cell_type": "code",
      "execution_count": 4,
      "metadata": {
        "id": "oR_xocCCmmK3"
      },
      "outputs": [],
      "source": [
        "df = pd.read_csv('/content/drive/MyDrive/Praxis/data/TWOS/email_ano/combined.csv')\n",
        "#df = pd.read_csv('/Data/TWOS-dataset/email_ano/combined.csv')\n",
        "#df = pd.read_csv('/Data/TWOS-dataset/email_ano/IMDB Dataset.csv')\n",
        "#df = pd.read_csv('/content/drive/MyDrive/Praxis/data/IMDB Dataset.csv')\n",
        "\n"
      ]
    },
    {
      "cell_type": "code",
      "execution_count": 5,
      "metadata": {
        "id": "tqYu3Ll9SLpp"
      },
      "outputs": [],
      "source": [
        "#keep in case combined is not good.\n",
        "#df = pd.concat([file1, file2, file3, file4, file6, file7, file8, file9, file10, file11, file12, file13, file14, file15, file16, file17, file18, file19, file20, file21, file22, file23])"
      ]
    },
    {
      "cell_type": "code",
      "execution_count": 6,
      "metadata": {
        "id": "XbC9JYmDSLpq"
      },
      "outputs": [],
      "source": [
        "#keep to test other datasets\n",
        "#df.rename(columns={\"review\": \"body_anon\", \"sentiment\": \"label\"}, inplace=True)"
      ]
    },
    {
      "cell_type": "code",
      "execution_count": 7,
      "metadata": {
        "colab": {
          "base_uri": "https://localhost:8080/",
          "height": 363
        },
        "id": "0b6u573ZSLpq",
        "outputId": "557deb44-1d2b-4d2e-9263-04f47f54b620"
      },
      "outputs": [
        {
          "output_type": "execute_result",
          "data": {
            "text/plain": [
              "<matplotlib.axes._subplots.AxesSubplot at 0x7f5ec4aa3820>"
            ]
          },
          "metadata": {},
          "execution_count": 7
        },
        {
          "output_type": "display_data",
          "data": {
            "text/plain": [
              "<Figure size 432x288 with 1 Axes>"
            ],
            "image/png": "[encoded data removed]"
          },
          "metadata": {
            "needs_background": "light"
          }
        }
      ],
      "source": [
        "sb.heatmap(df.isnull(),yticklabels=False,cbar=False,cmap='viridis')"
      ]
    },
    {
      "cell_type": "code",
      "execution_count": 8,
      "metadata": {
        "id": "qDp__hFtSLpr"
      },
      "outputs": [],
      "source": [
        "df.dropna(subset=['label'], inplace=True)\n"
      ]
    },
    {
      "cell_type": "code",
      "source": [
        "df['label'] = df['label'].map({'ANOMALY': 1, 'NORMAL': 0})"
      ],
      "metadata": {
        "id": "gQU8tzJdF8OG"
      },
      "execution_count": 9,
      "outputs": []
    },
    {
      "cell_type": "code",
      "execution_count": 10,
      "metadata": {
        "id": "erZ9jejySLpt"
      },
      "outputs": [],
      "source": [
        "def prep(dfx):\n",
        "    dfx1 = [re.sub(r'[^\\w\\s]','', x) for x in dfx]\n",
        "    dfx1 = ''.join(dfx1)\n",
        "    return(dfx1)\n",
        "\n",
        "df['body_anon'] = df['body_anon'].apply(prep)"
      ]
    },
    {
      "cell_type": "code",
      "source": [
        "df"
      ],
      "metadata": {
        "colab": {
          "base_uri": "https://localhost:8080/",
          "height": 1000
        },
        "id": "be7dF_76EbBZ",
        "outputId": "dcc6d2bb-4767-4b2f-9e66-eb95617742d6"
      },
      "execution_count": 11,
      "outputs": [
        {
          "output_type": "execute_result",
          "data": {
            "text/plain": [
              "         id  label                                          body_anon  \\\n",
              "0       758      0  Hey Yeah I think we could do that I did a test...   \n",
              "1      1643      0  Hey guys How should we go about with BVH1B5K4F...   \n",
              "2      1662      0  Yeah I think we should 71J871LWL3 Backup UAHQJ...   \n",
              "3      1675      0  Okay so as protection we will just clear all i...   \n",
              "4      1689      0  Can M5P10WM4K7 the whole desktop with excel fi...   \n",
              "...     ...    ...                                                ...   \n",
              "1970  12957      1  Oh its ok then we will just let him do what he...   \n",
              "1971  11821      1  Hi User7 Okay Can I write the info down on a p...   \n",
              "1972  25296      1  Hi guys Im back Had some trouble logging in so...   \n",
              "1973  29578      1  I meant if we know which customer has been con...   \n",
              "1974  29580      1  Oops Forgot to reply to all I meant if we know...   \n",
              "\n",
              "      liwc_WC  liwc_Analytic  liwc_Clout  liwc_Authentic  liwc_Tone  liwc_WPS  \\\n",
              "0        43.0          48.77       91.85           87.51      25.77      8.60   \n",
              "1        27.0          74.89       99.00            1.22       1.00      9.00   \n",
              "2        42.0          22.77       82.96            6.50       3.31     14.00   \n",
              "3        71.0          10.55       96.62            5.25      52.17     23.67   \n",
              "4        38.0          12.16       96.70           50.35      97.58      9.50   \n",
              "...       ...            ...         ...             ...        ...       ...   \n",
              "1970     62.0          23.43       96.18           29.34      96.14     12.40   \n",
              "1971     99.0          72.52       88.71           44.72      91.46     14.14   \n",
              "1972     26.0          53.63       93.79           63.54       1.00      6.50   \n",
              "1973     31.0           9.68       25.93           99.00      83.22      7.75   \n",
              "1974     37.0          32.06       39.34           92.70      75.85      6.17   \n",
              "\n",
              "      liwc_Sixltr  ...  liwc_Comma  liwc_Colon  liwc_SemiC  liwc_QMark  \\\n",
              "0           13.95  ...        2.33        0.00         0.0        4.65   \n",
              "1           11.11  ...        3.70        0.00         0.0        3.70   \n",
              "2           14.29  ...        0.00        2.38         0.0        2.38   \n",
              "3           16.90  ...        1.41        0.00         0.0        0.00   \n",
              "4            7.89  ...        0.00        0.00         0.0        2.63   \n",
              "...           ...  ...         ...         ...         ...         ...   \n",
              "1970        12.90  ...        3.23        0.00         0.0        0.00   \n",
              "1971        18.18  ...        9.09        7.07         0.0        1.01   \n",
              "1972        15.38  ...        0.00        0.00         0.0        3.85   \n",
              "1973        22.58  ...        0.00        0.00         0.0        0.00   \n",
              "1974        18.92  ...        0.00        0.00         0.0        0.00   \n",
              "\n",
              "      liwc_Exclam  liwc_Dash  liwc_Quote  liwc_Apostro  liwc_Parenth  \\\n",
              "0            2.33        0.0        0.00          4.65          0.00   \n",
              "1            0.00        0.0        0.00          7.41          0.00   \n",
              "2            0.00        0.0        0.00          0.00          7.14   \n",
              "3            0.00        0.0        0.00          0.00          0.00   \n",
              "4            0.00        0.0        0.00          0.00          0.00   \n",
              "...           ...        ...         ...           ...           ...   \n",
              "1970         3.23        0.0        0.00          0.00          0.00   \n",
              "1971         2.02        0.0        2.02          0.00          0.00   \n",
              "1972         3.85        0.0        0.00          3.85          0.00   \n",
              "1973         0.00        0.0        0.00          3.23          0.00   \n",
              "1974         0.00        0.0        0.00          2.70          0.00   \n",
              "\n",
              "      liwc_OtherP  \n",
              "0            0.00  \n",
              "1            0.00  \n",
              "2            0.00  \n",
              "3            0.00  \n",
              "4            0.00  \n",
              "...           ...  \n",
              "1970         0.00  \n",
              "1971         3.03  \n",
              "1972         0.00  \n",
              "1973         3.23  \n",
              "1974         2.70  \n",
              "\n",
              "[1975 rows x 96 columns]"
            ],
            "text/html": [
              "\n",
              "  <div id=\"df-f1982a39-f1de-456b-bab5-72fdce7b1edf\">\n",
              "    <div class=\"colab-df-container\">\n",
              "      <div>\n",
              "<style scoped>\n",
              "    .dataframe tbody tr th:only-of-type {\n",
              "        vertical-align: middle;\n",
              "    }\n",
              "\n",
              "    .dataframe tbody tr th {\n",
              "        vertical-align: top;\n",
              "    }\n",
              "\n",
              "    .dataframe thead th {\n",
              "        text-align: right;\n",
              "    }\n",
              "</style>\n",
              "<table border=\"1\" class=\"dataframe\">\n",
              "  <thead>\n",
              "    <tr style=\"text-align: right;\">\n",
              "      <th></th>\n",
              "      <th>id</th>\n",
              "      <th>label</th>\n",
              "      <th>body_anon</th>\n",
              "      <th>liwc_WC</th>\n",
              "      <th>liwc_Analytic</th>\n",
              "      <th>liwc_Clout</th>\n",
              "      <th>liwc_Authentic</th>\n",
              "      <th>liwc_Tone</th>\n",
              "      <th>liwc_WPS</th>\n",
              "      <th>liwc_Sixltr</th>\n",
              "      <th>...</th>\n",
              "      <th>liwc_Comma</th>\n",
              "      <th>liwc_Colon</th>\n",
              "      <th>liwc_SemiC</th>\n",
              "      <th>liwc_QMark</th>\n",
              "      <th>liwc_Exclam</th>\n",
              "      <th>liwc_Dash</th>\n",
              "      <th>liwc_Quote</th>\n",
              "      <th>liwc_Apostro</th>\n",
              "      <th>liwc_Parenth</th>\n",
              "      <th>liwc_OtherP</th>\n",
              "    </tr>\n",
              "  </thead>\n",
              "  <tbody>\n",
              "    <tr>\n",
              "      <th>0</th>\n",
              "      <td>758</td>\n",
              "      <td>0</td>\n",
              "      <td>Hey Yeah I think we could do that I did a test...</td>\n",
              "      <td>43.0</td>\n",
              "      <td>48.77</td>\n",
              "      <td>91.85</td>\n",
              "      <td>87.51</td>\n",
              "      <td>25.77</td>\n",
              "      <td>8.60</td>\n",
              "      <td>13.95</td>\n",
              "      <td>...</td>\n",
              "      <td>2.33</td>\n",
              "      <td>0.00</td>\n",
              "      <td>0.0</td>\n",
              "      <td>4.65</td>\n",
              "      <td>2.33</td>\n",
              "      <td>0.0</td>\n",
              "      <td>0.00</td>\n",
              "      <td>4.65</td>\n",
              "      <td>0.00</td>\n",
              "      <td>0.00</td>\n",
              "    </tr>\n",
              "    <tr>\n",
              "      <th>1</th>\n",
              "      <td>1643</td>\n",
              "      <td>0</td>\n",
              "      <td>Hey guys How should we go about with BVH1B5K4F...</td>\n",
              "      <td>27.0</td>\n",
              "      <td>74.89</td>\n",
              "      <td>99.00</td>\n",
              "      <td>1.22</td>\n",
              "      <td>1.00</td>\n",
              "      <td>9.00</td>\n",
              "      <td>11.11</td>\n",
              "      <td>...</td>\n",
              "      <td>3.70</td>\n",
              "      <td>0.00</td>\n",
              "      <td>0.0</td>\n",
              "      <td>3.70</td>\n",
              "      <td>0.00</td>\n",
              "      <td>0.0</td>\n",
              "      <td>0.00</td>\n",
              "      <td>7.41</td>\n",
              "      <td>0.00</td>\n",
              "      <td>0.00</td>\n",
              "    </tr>\n",
              "    <tr>\n",
              "      <th>2</th>\n",
              "      <td>1662</td>\n",
              "      <td>0</td>\n",
              "      <td>Yeah I think we should 71J871LWL3 Backup UAHQJ...</td>\n",
              "      <td>42.0</td>\n",
              "      <td>22.77</td>\n",
              "      <td>82.96</td>\n",
              "      <td>6.50</td>\n",
              "      <td>3.31</td>\n",
              "      <td>14.00</td>\n",
              "      <td>14.29</td>\n",
              "      <td>...</td>\n",
              "      <td>0.00</td>\n",
              "      <td>2.38</td>\n",
              "      <td>0.0</td>\n",
              "      <td>2.38</td>\n",
              "      <td>0.00</td>\n",
              "      <td>0.0</td>\n",
              "      <td>0.00</td>\n",
              "      <td>0.00</td>\n",
              "      <td>7.14</td>\n",
              "      <td>0.00</td>\n",
              "    </tr>\n",
              "    <tr>\n",
              "      <th>3</th>\n",
              "      <td>1675</td>\n",
              "      <td>0</td>\n",
              "      <td>Okay so as protection we will just clear all i...</td>\n",
              "      <td>71.0</td>\n",
              "      <td>10.55</td>\n",
              "      <td>96.62</td>\n",
              "      <td>5.25</td>\n",
              "      <td>52.17</td>\n",
              "      <td>23.67</td>\n",
              "      <td>16.90</td>\n",
              "      <td>...</td>\n",
              "      <td>1.41</td>\n",
              "      <td>0.00</td>\n",
              "      <td>0.0</td>\n",
              "      <td>0.00</td>\n",
              "      <td>0.00</td>\n",
              "      <td>0.0</td>\n",
              "      <td>0.00</td>\n",
              "      <td>0.00</td>\n",
              "      <td>0.00</td>\n",
              "      <td>0.00</td>\n",
              "    </tr>\n",
              "    <tr>\n",
              "      <th>4</th>\n",
              "      <td>1689</td>\n",
              "      <td>0</td>\n",
              "      <td>Can M5P10WM4K7 the whole desktop with excel fi...</td>\n",
              "      <td>38.0</td>\n",
              "      <td>12.16</td>\n",
              "      <td>96.70</td>\n",
              "      <td>50.35</td>\n",
              "      <td>97.58</td>\n",
              "      <td>9.50</td>\n",
              "      <td>7.89</td>\n",
              "      <td>...</td>\n",
              "      <td>0.00</td>\n",
              "      <td>0.00</td>\n",
              "      <td>0.0</td>\n",
              "      <td>2.63</td>\n",
              "      <td>0.00</td>\n",
              "      <td>0.0</td>\n",
              "      <td>0.00</td>\n",
              "      <td>0.00</td>\n",
              "      <td>0.00</td>\n",
              "      <td>0.00</td>\n",
              "    </tr>\n",
              "    <tr>\n",
              "      <th>...</th>\n",
              "      <td>...</td>\n",
              "      <td>...</td>\n",
              "      <td>...</td>\n",
              "      <td>...</td>\n",
              "      <td>...</td>\n",
              "      <td>...</td>\n",
              "      <td>...</td>\n",
              "      <td>...</td>\n",
              "      <td>...</td>\n",
              "      <td>...</td>\n",
              "      <td>...</td>\n",
              "      <td>...</td>\n",
              "      <td>...</td>\n",
              "      <td>...</td>\n",
              "      <td>...</td>\n",
              "      <td>...</td>\n",
              "      <td>...</td>\n",
              "      <td>...</td>\n",
              "      <td>...</td>\n",
              "      <td>...</td>\n",
              "      <td>...</td>\n",
              "    </tr>\n",
              "    <tr>\n",
              "      <th>1970</th>\n",
              "      <td>12957</td>\n",
              "      <td>1</td>\n",
              "      <td>Oh its ok then we will just let him do what he...</td>\n",
              "      <td>62.0</td>\n",
              "      <td>23.43</td>\n",
              "      <td>96.18</td>\n",
              "      <td>29.34</td>\n",
              "      <td>96.14</td>\n",
              "      <td>12.40</td>\n",
              "      <td>12.90</td>\n",
              "      <td>...</td>\n",
              "      <td>3.23</td>\n",
              "      <td>0.00</td>\n",
              "      <td>0.0</td>\n",
              "      <td>0.00</td>\n",
              "      <td>3.23</td>\n",
              "      <td>0.0</td>\n",
              "      <td>0.00</td>\n",
              "      <td>0.00</td>\n",
              "      <td>0.00</td>\n",
              "      <td>0.00</td>\n",
              "    </tr>\n",
              "    <tr>\n",
              "      <th>1971</th>\n",
              "      <td>11821</td>\n",
              "      <td>1</td>\n",
              "      <td>Hi User7 Okay Can I write the info down on a p...</td>\n",
              "      <td>99.0</td>\n",
              "      <td>72.52</td>\n",
              "      <td>88.71</td>\n",
              "      <td>44.72</td>\n",
              "      <td>91.46</td>\n",
              "      <td>14.14</td>\n",
              "      <td>18.18</td>\n",
              "      <td>...</td>\n",
              "      <td>9.09</td>\n",
              "      <td>7.07</td>\n",
              "      <td>0.0</td>\n",
              "      <td>1.01</td>\n",
              "      <td>2.02</td>\n",
              "      <td>0.0</td>\n",
              "      <td>2.02</td>\n",
              "      <td>0.00</td>\n",
              "      <td>0.00</td>\n",
              "      <td>3.03</td>\n",
              "    </tr>\n",
              "    <tr>\n",
              "      <th>1972</th>\n",
              "      <td>25296</td>\n",
              "      <td>1</td>\n",
              "      <td>Hi guys Im back Had some trouble logging in so...</td>\n",
              "      <td>26.0</td>\n",
              "      <td>53.63</td>\n",
              "      <td>93.79</td>\n",
              "      <td>63.54</td>\n",
              "      <td>1.00</td>\n",
              "      <td>6.50</td>\n",
              "      <td>15.38</td>\n",
              "      <td>...</td>\n",
              "      <td>0.00</td>\n",
              "      <td>0.00</td>\n",
              "      <td>0.0</td>\n",
              "      <td>3.85</td>\n",
              "      <td>3.85</td>\n",
              "      <td>0.0</td>\n",
              "      <td>0.00</td>\n",
              "      <td>3.85</td>\n",
              "      <td>0.00</td>\n",
              "      <td>0.00</td>\n",
              "    </tr>\n",
              "    <tr>\n",
              "      <th>1973</th>\n",
              "      <td>29578</td>\n",
              "      <td>1</td>\n",
              "      <td>I meant if we know which customer has been con...</td>\n",
              "      <td>31.0</td>\n",
              "      <td>9.68</td>\n",
              "      <td>25.93</td>\n",
              "      <td>99.00</td>\n",
              "      <td>83.22</td>\n",
              "      <td>7.75</td>\n",
              "      <td>22.58</td>\n",
              "      <td>...</td>\n",
              "      <td>0.00</td>\n",
              "      <td>0.00</td>\n",
              "      <td>0.0</td>\n",
              "      <td>0.00</td>\n",
              "      <td>0.00</td>\n",
              "      <td>0.0</td>\n",
              "      <td>0.00</td>\n",
              "      <td>3.23</td>\n",
              "      <td>0.00</td>\n",
              "      <td>3.23</td>\n",
              "    </tr>\n",
              "    <tr>\n",
              "      <th>1974</th>\n",
              "      <td>29580</td>\n",
              "      <td>1</td>\n",
              "      <td>Oops Forgot to reply to all I meant if we know...</td>\n",
              "      <td>37.0</td>\n",
              "      <td>32.06</td>\n",
              "      <td>39.34</td>\n",
              "      <td>92.70</td>\n",
              "      <td>75.85</td>\n",
              "      <td>6.17</td>\n",
              "      <td>18.92</td>\n",
              "      <td>...</td>\n",
              "      <td>0.00</td>\n",
              "      <td>0.00</td>\n",
              "      <td>0.0</td>\n",
              "      <td>0.00</td>\n",
              "      <td>0.00</td>\n",
              "      <td>0.0</td>\n",
              "      <td>0.00</td>\n",
              "      <td>2.70</td>\n",
              "      <td>0.00</td>\n",
              "      <td>2.70</td>\n",
              "    </tr>\n",
              "  </tbody>\n",
              "</table>\n",
              "<p>1975 rows × 96 columns</p>\n",
              "</div>\n",
              "      <button class=\"colab-df-convert\" onclick=\"convertToInteractive('df-f1982a39-f1de-456b-bab5-72fdce7b1edf')\"\n",
              "              title=\"Convert this dataframe to an interactive table.\"\n",
              "              style=\"display:none;\">\n",
              "        \n",
              "  <svg xmlns=\"http://www.w3.org/2000/svg\" height=\"24px\"viewBox=\"0 0 24 24\"\n",
              "       width=\"24px\">\n",
              "    <path d=\"M0 0h24v24H0V0z\" fill=\"none\"/>\n",
              "    <path d=\"M18.56 5.44l.94 2.06.94-2.06 2.06-.94-2.06-.94-.94-2.06-.94 2.06-2.06.94zm-11 1L8.5 8.5l.94-2.06 2.06-.94-2.06-.94L8.5 2.5l-.94 2.06-2.06.94zm10 10l.94 2.06.94-2.06 2.06-.94-2.06-.94-.94-2.06-.94 2.06-2.06.94z\"/><path d=\"M17.41 7.96l-1.37-1.37c-.4-.4-.92-.59-1.43-.59-.52 0-1.04.2-1.43.59L10.3 9.45l-7.72 7.72c-.78.78-.78 2.05 0 2.83L4 21.41c.39.39.9.59 1.41.59.51 0 1.02-.2 1.41-.59l7.78-7.78 2.81-2.81c.8-.78.8-2.07 0-2.86zM5.41 20L4 18.59l7.72-7.72 1.47 1.35L5.41 20z\"/>\n",
              "  </svg>\n",
              "      </button>\n",
              "      \n",
              "  <style>\n",
              "    .colab-df-container {\n",
              "      display:flex;\n",
              "      flex-wrap:wrap;\n",
              "      gap: 12px;\n",
              "    }\n",
              "\n",
              "    .colab-df-convert {\n",
              "      background-color: #E8F0FE;\n",
              "      border: none;\n",
              "      border-radius: 50%;\n",
              "      cursor: pointer;\n",
              "      display: none;\n",
              "      fill: #1967D2;\n",
              "      height: 32px;\n",
              "      padding: 0 0 0 0;\n",
              "      width: 32px;\n",
              "    }\n",
              "\n",
              "    .colab-df-convert:hover {\n",
              "      background-color: #E2EBFA;\n",
              "      box-shadow: 0px 1px 2px rgba(60, 64, 67, 0.3), 0px 1px 3px 1px rgba(60, 64, 67, 0.15);\n",
              "      fill: #174EA6;\n",
              "    }\n",
              "\n",
              "    [theme=dark] .colab-df-convert {\n",
              "      background-color: #3B4455;\n",
              "      fill: #D2E3FC;\n",
              "    }\n",
              "\n",
              "    [theme=dark] .colab-df-convert:hover {\n",
              "      background-color: #434B5C;\n",
              "      box-shadow: 0px 1px 3px 1px rgba(0, 0, 0, 0.15);\n",
              "      filter: drop-shadow(0px 1px 2px rgba(0, 0, 0, 0.3));\n",
              "      fill: #FFFFFF;\n",
              "    }\n",
              "  </style>\n",
              "\n",
              "      <script>\n",
              "        const buttonEl =\n",
              "          document.querySelector('#df-f1982a39-f1de-456b-bab5-72fdce7b1edf button.colab-df-convert');\n",
              "        buttonEl.style.display =\n",
              "          google.colab.kernel.accessAllowed ? 'block' : 'none';\n",
              "\n",
              "        async function convertToInteractive(key) {\n",
              "          const element = document.querySelector('#df-f1982a39-f1de-456b-bab5-72fdce7b1edf');\n",
              "          const dataTable =\n",
              "            await google.colab.kernel.invokeFunction('convertToInteractive',\n",
              "                                                     [key], {});\n",
              "          if (!dataTable) return;\n",
              "\n",
              "          const docLinkHtml = 'Like what you see? Visit the ' +\n",
              "            '<a target=\"_blank\" href=https://colab.research.google.com/notebooks/data_table.ipynb>data table notebook</a>'\n",
              "            + ' to learn more about interactive tables.';\n",
              "          element.innerHTML = '';\n",
              "          dataTable['output_type'] = 'display_data';\n",
              "          await google.colab.output.renderOutput(dataTable, element);\n",
              "          const docLink = document.createElement('div');\n",
              "          docLink.innerHTML = docLinkHtml;\n",
              "          element.appendChild(docLink);\n",
              "        }\n",
              "      </script>\n",
              "    </div>\n",
              "  </div>\n",
              "  "
            ]
          },
          "metadata": {},
          "execution_count": 11
        }
      ]
    },
    {
      "cell_type": "code",
      "execution_count": 12,
      "metadata": {
        "id": "ViPsUTDATwSK",
        "colab": {
          "base_uri": "https://localhost:8080/"
        },
        "outputId": "cc30b89f-fb42-4855-9dc5-9ff0bba67754"
      },
      "outputs": [
        {
          "output_type": "stream",
          "name": "stderr",
          "text": [
            "[nltk_data] Downloading package averaged_perceptron_tagger to\n",
            "[nltk_data]     /root/nltk_data...\n",
            "[nltk_data]   Package averaged_perceptron_tagger is already up-to-\n",
            "[nltk_data]       date!\n",
            "[nltk_data] Downloading package wordnet to /root/nltk_data...\n",
            "[nltk_data]   Package wordnet is already up-to-date!\n",
            "[nltk_data] Downloading package omw-1.4 to /root/nltk_data...\n",
            "[nltk_data]   Package omw-1.4 is already up-to-date!\n"
          ]
        }
      ],
      "source": [
        "#nltk.download('stopwords') #not using this yet...\n",
        "#stops = set(stopwords.words('english'))\n",
        "nltk.download('averaged_perceptron_tagger')\n",
        "nltk.download('wordnet')\n",
        "nltk.download('omw-1.4')\n",
        "def prepare_text(pretext):\n",
        "\n",
        "    # tokenize mission.\n",
        "    tokens = word_tokenize(pretext, language=\"english\", preserve_line=True)\n",
        "\n",
        "    # Parts of speech (POS) tag tokens.\n",
        "    token_tag = pos_tag(tokens)\n",
        "    \n",
        "    # Only include some of the POS tags.\n",
        "    include_tags = ['VBN', 'VBD', 'JJ', 'JJS', 'JJR', 'CD', 'NN', 'NNS', 'NNP', 'NNPS']\n",
        "    filtered_tokens = (tok for tok, tag in token_tag if tag in include_tags)    \n",
        "    #stem words.\n",
        "    stemmed_tokens = (lancaster.stem(tok) for tok in filtered_tokens)\n",
        "\n",
        "    #lemm words.\n",
        "    lemmed_words = (lemmatizer.lemmatize(tok) for tok in stemmed_tokens)\n",
        "\n",
        "    lower_words = [str.lower(tok) for tok in lemmed_words]\n",
        "\n",
        "    #x = cv.fit_transform(tokens).toarray()\n",
        "\n",
        "    joined = \" \".join(lower_words);\n",
        "\n",
        "    return(joined)\n",
        "\n",
        "#ps = PorterStemmer()\n",
        "lancaster = LancasterStemmer()\n",
        "lemmatizer = nltk.stem.WordNetLemmatizer()\n",
        "    \n",
        "df['tokenized'] = df['body_anon'].apply(prepare_text)"
      ]
    },
    {
      "cell_type": "code",
      "execution_count": 13,
      "metadata": {
        "colab": {
          "base_uri": "https://localhost:8080/",
          "height": 244
        },
        "id": "X6Hkwj_GSLpt",
        "outputId": "e377bd9d-eaa9-46f7-c3e3-ee547ff2181d"
      },
      "outputs": [
        {
          "output_type": "execute_result",
          "data": {
            "text/plain": [
              "    id  label                                          body_anon  liwc_WC  \\\n",
              "0  758      0  Hey Yeah I think we could do that I did a test...     43.0   \n",
              "\n",
              "   liwc_Analytic  liwc_Clout  liwc_Authentic  liwc_Tone  liwc_WPS  \\\n",
              "0          48.77       91.85           87.51      25.77       8.6   \n",
              "\n",
              "   liwc_Sixltr  ...  liwc_Colon  liwc_SemiC  liwc_QMark  liwc_Exclam  \\\n",
              "0        13.95  ...         0.0         0.0        4.65         2.33   \n",
              "\n",
              "   liwc_Dash  liwc_Quote  liwc_Apostro  liwc_Parenth  liwc_OtherP  \\\n",
              "0        0.0         0.0          4.65           0.0          0.0   \n",
              "\n",
              "                                           tokenized  \n",
              "0  hey did test first custom first 4gaa3hguvn let...  \n",
              "\n",
              "[1 rows x 97 columns]"
            ],
            "text/html": [
              "\n",
              "  <div id=\"df-f62995f1-89f8-48e2-aec1-9eb3cacf612d\">\n",
              "    <div class=\"colab-df-container\">\n",
              "      <div>\n",
              "<style scoped>\n",
              "    .dataframe tbody tr th:only-of-type {\n",
              "        vertical-align: middle;\n",
              "    }\n",
              "\n",
              "    .dataframe tbody tr th {\n",
              "        vertical-align: top;\n",
              "    }\n",
              "\n",
              "    .dataframe thead th {\n",
              "        text-align: right;\n",
              "    }\n",
              "</style>\n",
              "<table border=\"1\" class=\"dataframe\">\n",
              "  <thead>\n",
              "    <tr style=\"text-align: right;\">\n",
              "      <th></th>\n",
              "      <th>id</th>\n",
              "      <th>label</th>\n",
              "      <th>body_anon</th>\n",
              "      <th>liwc_WC</th>\n",
              "      <th>liwc_Analytic</th>\n",
              "      <th>liwc_Clout</th>\n",
              "      <th>liwc_Authentic</th>\n",
              "      <th>liwc_Tone</th>\n",
              "      <th>liwc_WPS</th>\n",
              "      <th>liwc_Sixltr</th>\n",
              "      <th>...</th>\n",
              "      <th>liwc_Colon</th>\n",
              "      <th>liwc_SemiC</th>\n",
              "      <th>liwc_QMark</th>\n",
              "      <th>liwc_Exclam</th>\n",
              "      <th>liwc_Dash</th>\n",
              "      <th>liwc_Quote</th>\n",
              "      <th>liwc_Apostro</th>\n",
              "      <th>liwc_Parenth</th>\n",
              "      <th>liwc_OtherP</th>\n",
              "      <th>tokenized</th>\n",
              "    </tr>\n",
              "  </thead>\n",
              "  <tbody>\n",
              "    <tr>\n",
              "      <th>0</th>\n",
              "      <td>758</td>\n",
              "      <td>0</td>\n",
              "      <td>Hey Yeah I think we could do that I did a test...</td>\n",
              "      <td>43.0</td>\n",
              "      <td>48.77</td>\n",
              "      <td>91.85</td>\n",
              "      <td>87.51</td>\n",
              "      <td>25.77</td>\n",
              "      <td>8.6</td>\n",
              "      <td>13.95</td>\n",
              "      <td>...</td>\n",
              "      <td>0.0</td>\n",
              "      <td>0.0</td>\n",
              "      <td>4.65</td>\n",
              "      <td>2.33</td>\n",
              "      <td>0.0</td>\n",
              "      <td>0.0</td>\n",
              "      <td>4.65</td>\n",
              "      <td>0.0</td>\n",
              "      <td>0.0</td>\n",
              "      <td>hey did test first custom first 4gaa3hguvn let...</td>\n",
              "    </tr>\n",
              "  </tbody>\n",
              "</table>\n",
              "<p>1 rows × 97 columns</p>\n",
              "</div>\n",
              "      <button class=\"colab-df-convert\" onclick=\"convertToInteractive('df-f62995f1-89f8-48e2-aec1-9eb3cacf612d')\"\n",
              "              title=\"Convert this dataframe to an interactive table.\"\n",
              "              style=\"display:none;\">\n",
              "        \n",
              "  <svg xmlns=\"http://www.w3.org/2000/svg\" height=\"24px\"viewBox=\"0 0 24 24\"\n",
              "       width=\"24px\">\n",
              "    <path d=\"M0 0h24v24H0V0z\" fill=\"none\"/>\n",
              "    <path d=\"M18.56 5.44l.94 2.06.94-2.06 2.06-.94-2.06-.94-.94-2.06-.94 2.06-2.06.94zm-11 1L8.5 8.5l.94-2.06 2.06-.94-2.06-.94L8.5 2.5l-.94 2.06-2.06.94zm10 10l.94 2.06.94-2.06 2.06-.94-2.06-.94-.94-2.06-.94 2.06-2.06.94z\"/><path d=\"M17.41 7.96l-1.37-1.37c-.4-.4-.92-.59-1.43-.59-.52 0-1.04.2-1.43.59L10.3 9.45l-7.72 7.72c-.78.78-.78 2.05 0 2.83L4 21.41c.39.39.9.59 1.41.59.51 0 1.02-.2 1.41-.59l7.78-7.78 2.81-2.81c.8-.78.8-2.07 0-2.86zM5.41 20L4 18.59l7.72-7.72 1.47 1.35L5.41 20z\"/>\n",
              "  </svg>\n",
              "      </button>\n",
              "      \n",
              "  <style>\n",
              "    .colab-df-container {\n",
              "      display:flex;\n",
              "      flex-wrap:wrap;\n",
              "      gap: 12px;\n",
              "    }\n",
              "\n",
              "    .colab-df-convert {\n",
              "      background-color: #E8F0FE;\n",
              "      border: none;\n",
              "      border-radius: 50%;\n",
              "      cursor: pointer;\n",
              "      display: none;\n",
              "      fill: #1967D2;\n",
              "      height: 32px;\n",
              "      padding: 0 0 0 0;\n",
              "      width: 32px;\n",
              "    }\n",
              "\n",
              "    .colab-df-convert:hover {\n",
              "      background-color: #E2EBFA;\n",
              "      box-shadow: 0px 1px 2px rgba(60, 64, 67, 0.3), 0px 1px 3px 1px rgba(60, 64, 67, 0.15);\n",
              "      fill: #174EA6;\n",
              "    }\n",
              "\n",
              "    [theme=dark] .colab-df-convert {\n",
              "      background-color: #3B4455;\n",
              "      fill: #D2E3FC;\n",
              "    }\n",
              "\n",
              "    [theme=dark] .colab-df-convert:hover {\n",
              "      background-color: #434B5C;\n",
              "      box-shadow: 0px 1px 3px 1px rgba(0, 0, 0, 0.15);\n",
              "      filter: drop-shadow(0px 1px 2px rgba(0, 0, 0, 0.3));\n",
              "      fill: #FFFFFF;\n",
              "    }\n",
              "  </style>\n",
              "\n",
              "      <script>\n",
              "        const buttonEl =\n",
              "          document.querySelector('#df-f62995f1-89f8-48e2-aec1-9eb3cacf612d button.colab-df-convert');\n",
              "        buttonEl.style.display =\n",
              "          google.colab.kernel.accessAllowed ? 'block' : 'none';\n",
              "\n",
              "        async function convertToInteractive(key) {\n",
              "          const element = document.querySelector('#df-f62995f1-89f8-48e2-aec1-9eb3cacf612d');\n",
              "          const dataTable =\n",
              "            await google.colab.kernel.invokeFunction('convertToInteractive',\n",
              "                                                     [key], {});\n",
              "          if (!dataTable) return;\n",
              "\n",
              "          const docLinkHtml = 'Like what you see? Visit the ' +\n",
              "            '<a target=\"_blank\" href=https://colab.research.google.com/notebooks/data_table.ipynb>data table notebook</a>'\n",
              "            + ' to learn more about interactive tables.';\n",
              "          element.innerHTML = '';\n",
              "          dataTable['output_type'] = 'display_data';\n",
              "          await google.colab.output.renderOutput(dataTable, element);\n",
              "          const docLink = document.createElement('div');\n",
              "          docLink.innerHTML = docLinkHtml;\n",
              "          element.appendChild(docLink);\n",
              "        }\n",
              "      </script>\n",
              "    </div>\n",
              "  </div>\n",
              "  "
            ]
          },
          "metadata": {},
          "execution_count": 13
        }
      ],
      "source": [
        "df.head(1)\n"
      ]
    },
    {
      "cell_type": "code",
      "execution_count": 14,
      "metadata": {
        "id": "EpkQEO49SLpu"
      },
      "outputs": [],
      "source": [
        "#countvectorizer = CountVectorizer(analyzer= 'word', stop_words='english')\n",
        "tfidfvectorizer = TfidfVectorizer(stop_words=None, analyzer='word' )"
      ]
    },
    {
      "cell_type": "code",
      "execution_count": 15,
      "metadata": {
        "id": "OJKPGhiMSLpu"
      },
      "outputs": [],
      "source": [
        "# count_wm = countvectorizer.fit_transform(df['body_anon'])\n",
        "tfidf_wm = tfidfvectorizer.fit_transform(df['tokenized'])\n"
      ]
    },
    {
      "cell_type": "code",
      "execution_count": 16,
      "metadata": {
        "id": "2OGvf3BlSLpu"
      },
      "outputs": [],
      "source": [
        "#count_tokens = countvectorizer.get_feature_names_out()\n",
        "tfidf_tokens = tfidfvectorizer.get_feature_names_out()"
      ]
    },
    {
      "cell_type": "code",
      "execution_count": 17,
      "metadata": {
        "id": "y9KOnvlGSLpu",
        "colab": {
          "base_uri": "https://localhost:8080/"
        },
        "outputId": "5593b239-9399-4fde-869e-c71f6113d51a"
      },
      "outputs": [
        {
          "output_type": "stream",
          "name": "stdout",
          "text": [
            "\n",
            "TD-IDF Vectorizer\n",
            "\n",
            "      0ibjzkpxq2  0jyhzuztex  0kg4y0ixy0  0m0ywnsd4o  0m5mcj3z2x  0pmpn6i2et  \\\n",
            "0            0.0         0.0         0.0         0.0         0.0         0.0   \n",
            "1            0.0         0.0         0.0         0.0         0.0         0.0   \n",
            "2            0.0         0.0         0.0         0.0         0.0         0.0   \n",
            "3            0.0         0.0         0.0         0.0         0.0         0.0   \n",
            "4            0.0         0.0         0.0         0.0         0.0         0.0   \n",
            "...          ...         ...         ...         ...         ...         ...   \n",
            "1970         0.0         0.0         0.0         0.0         0.0         0.0   \n",
            "1971         0.0         0.0         0.0         0.0         0.0         0.0   \n",
            "1972         0.0         0.0         0.0         0.0         0.0         0.0   \n",
            "1973         0.0         0.0         0.0         0.0         0.0         0.0   \n",
            "1974         0.0         0.0         0.0         0.0         0.0         0.0   \n",
            "\n",
            "      0pmpn6i2et8rzt3bp0u9  10pm  11pm  19uvp88290  ...  yuvpw30ncwwc1szxj5ev  \\\n",
            "0                      0.0   0.0   0.0         0.0  ...                   0.0   \n",
            "1                      0.0   0.0   0.0         0.0  ...                   0.0   \n",
            "2                      0.0   0.0   0.0         0.0  ...                   0.0   \n",
            "3                      0.0   0.0   0.0         0.0  ...                   0.0   \n",
            "4                      0.0   0.0   0.0         0.0  ...                   0.0   \n",
            "...                    ...   ...   ...         ...  ...                   ...   \n",
            "1970                   0.0   0.0   0.0         0.0  ...                   0.0   \n",
            "1971                   0.0   0.0   0.0         0.0  ...                   0.0   \n",
            "1972                   0.0   0.0   0.0         0.0  ...                   0.0   \n",
            "1973                   0.0   0.0   0.0         0.0  ...                   0.0   \n",
            "1974                   0.0   0.0   0.0         0.0  ...                   0.0   \n",
            "\n",
            "      yvbxzalcyt  yyxq6ktvfu  z6o6jgzeaf  z8lz2cxxli  zdnpl1m4e0  zip  \\\n",
            "0            0.0         0.0         0.0         0.0         0.0  0.0   \n",
            "1            0.0         0.0         0.0         0.0         0.0  0.0   \n",
            "2            0.0         0.0         0.0         0.0         0.0  0.0   \n",
            "3            0.0         0.0         0.0         0.0         0.0  0.0   \n",
            "4            0.0         0.0         0.0         0.0         0.0  0.0   \n",
            "...          ...         ...         ...         ...         ...  ...   \n",
            "1970         0.0         0.0         0.0         0.0         0.0  0.0   \n",
            "1971         0.0         0.0         0.0         0.0         0.0  0.0   \n",
            "1972         0.0         0.0         0.0         0.0         0.0  0.0   \n",
            "1973         0.0         0.0         0.0         0.0         0.0  0.0   \n",
            "1974         0.0         0.0         0.0         0.0         0.0  0.0   \n",
            "\n",
            "      zpiunkj1yb  zqgs37vfmq  zuxng2r2ssfgt6qre4yo  \n",
            "0            0.0         0.0                   0.0  \n",
            "1            0.0         0.0                   0.0  \n",
            "2            0.0         0.0                   0.0  \n",
            "3            0.0         0.0                   0.0  \n",
            "4            0.0         0.0                   0.0  \n",
            "...          ...         ...                   ...  \n",
            "1970         0.0         0.0                   0.0  \n",
            "1971         0.0         0.0                   0.0  \n",
            "1972         0.0         0.0                   0.0  \n",
            "1973         0.0         0.0                   0.0  \n",
            "1974         0.0         0.0                   0.0  \n",
            "\n",
            "[1975 rows x 1727 columns]\n"
          ]
        }
      ],
      "source": [
        "# df_countvect = pd.DataFrame(data = count_wm.toarray(),columns = count_tokens)\n",
        "df_tfidfvect = pd.DataFrame(data = tfidf_wm.toarray(),columns = tfidf_tokens)\n",
        "# print(\"Count Vectorizer\\n\")\n",
        "# print(df_countvect)\n",
        "print(\"\\nTD-IDF Vectorizer\\n\")\n",
        "print(df_tfidfvect)"
      ]
    },
    {
      "cell_type": "code",
      "execution_count": 18,
      "metadata": {
        "id": "zjbevHZnSLpu",
        "colab": {
          "base_uri": "https://localhost:8080/"
        },
        "outputId": "f161abe4-a954-4a82-b8d8-2cd7bd741f3a"
      },
      "outputs": [
        {
          "output_type": "stream",
          "name": "stdout",
          "text": [
            "hah account saf im last min scor school wif l57dr9bhkh\n"
          ]
        }
      ],
      "source": [
        "print(df.loc[50, 'tokenized'])"
      ]
    },
    {
      "cell_type": "code",
      "execution_count": 19,
      "metadata": {
        "id": "4OHC38p0SLpv",
        "colab": {
          "base_uri": "https://localhost:8080/"
        },
        "outputId": "294ec417-ffe4-446e-a138-ceb1c80c5254"
      },
      "outputs": [
        {
          "output_type": "stream",
          "name": "stdout",
          "text": [
            "  (0, 839)\t0.5223366945144942\n",
            "  (0, 1662)\t0.3700098176180962\n",
            "  (0, 1274)\t0.27829989943483524\n",
            "  (0, 1291)\t0.3700098176180962\n",
            "  (0, 849)\t0.29203622390495276\n",
            "  (0, 711)\t0.2341198328941223\n",
            "  (0, 1292)\t0.17843156816876066\n",
            "  (0, 637)\t0.2816931930696965\n",
            "  (0, 949)\t0.28713363160308775\n",
            "  (0, 104)\t0.20534643679670067\n"
          ]
        }
      ],
      "source": [
        "\n",
        "print(tfidf_wm[50])\n"
      ]
    },
    {
      "cell_type": "code",
      "execution_count": 20,
      "metadata": {
        "id": "j6zcGlTfSLpv"
      },
      "outputs": [],
      "source": [
        "#if we need to normalize the data\n",
        "#transformer = MaxAbsScaler().fit(tfidf_wm)\n",
        "#tfidf_wm = transformer.transform(tfidf_wm)\n",
        "# print(tfidf_wm[50])"
      ]
    },
    {
      "cell_type": "code",
      "execution_count": 21,
      "metadata": {
        "id": "T68olANDSLpv"
      },
      "outputs": [],
      "source": [
        "# Split dataset into training set and test set\n",
        "\n",
        "X_train, X_test, y_train, y_test = train_test_split(tfidf_wm, df['label'], test_size=.3) # 70% training and 30% test\n"
      ]
    },
    {
      "cell_type": "code",
      "source": [
        "df['label'].value_counts().plot(kind='bar')"
      ],
      "metadata": {
        "id": "8lgnun8DgYSz",
        "outputId": "41243438-e9cc-4d01-a5a6-6c363d8e52a6",
        "colab": {
          "base_uri": "https://localhost:8080/",
          "height": 281
        }
      },
      "execution_count": 22,
      "outputs": [
        {
          "output_type": "execute_result",
          "data": {
            "text/plain": [
              "<matplotlib.axes._subplots.AxesSubplot at 0x7f5eb8f00b50>"
            ]
          },
          "metadata": {},
          "execution_count": 22
        },
        {
          "output_type": "display_data",
          "data": {
            "text/plain": [
              "<Figure size 432x288 with 1 Axes>"
            ],
            "image/png": "[encoded data removed]"
          },
          "metadata": {
            "needs_background": "light"
          }
        }
      ]
    },
    {
      "cell_type": "markdown",
      "metadata": {
        "id": "qWQ7Rf_xSLpw"
      },
      "source": [
        "*ADABOOST* MODEL"
      ]
    },
    {
      "cell_type": "code",
      "execution_count": 23,
      "metadata": {
        "id": "A5POC5GvSLpw"
      },
      "outputs": [],
      "source": [
        "# Create adaboost classifer object\n",
        "abc = AdaBoostClassifier(n_estimators=50, learning_rate=1) \n",
        "# Train Adaboost Classifer\n",
        "model = abc.fit(X_train, y_train)\n",
        "#Predict the response for test dataset\n",
        "y_pred = model.predict(X_test)\n"
      ]
    },
    {
      "cell_type": "code",
      "execution_count": 24,
      "metadata": {
        "id": "_9yAQjELSLpw",
        "colab": {
          "base_uri": "https://localhost:8080/"
        },
        "outputId": "fb5caaa2-a388-43ae-da10-4774777cca70"
      },
      "outputs": [
        {
          "output_type": "stream",
          "name": "stdout",
          "text": [
            "Accuracy: 0.6644182124789207\n"
          ]
        }
      ],
      "source": [
        "print(\"Accuracy:\", metrics.accuracy_score(y_test, y_pred))\n"
      ]
    },
    {
      "cell_type": "code",
      "execution_count": 25,
      "metadata": {
        "id": "thCnnWHPSLpw",
        "colab": {
          "base_uri": "https://localhost:8080/"
        },
        "outputId": "135c6907-618b-4f28-849f-e0cd82d78242"
      },
      "outputs": [
        {
          "output_type": "execute_result",
          "data": {
            "text/plain": [
              "array([[ 31, 144],\n",
              "       [ 55, 363]])"
            ]
          },
          "metadata": {},
          "execution_count": 25
        }
      ],
      "source": [
        "confusion_matrix(y_test, y_pred)"
      ]
    },
    {
      "cell_type": "code",
      "source": [
        "metrics.recall_score(y_test, y_pred)"
      ],
      "metadata": {
        "id": "8uH1nFRSxFKJ",
        "colab": {
          "base_uri": "https://localhost:8080/"
        },
        "outputId": "2339eb2e-613a-419a-c571-3f97e4fe8060"
      },
      "execution_count": 27,
      "outputs": [
        {
          "output_type": "execute_result",
          "data": {
            "text/plain": [
              "0.868421052631579"
            ]
          },
          "metadata": {},
          "execution_count": 27
        }
      ]
    },
    {
      "cell_type": "markdown",
      "metadata": {
        "id": "hV_VQHa5SLpx"
      },
      "source": [
        "KNN Model"
      ]
    },
    {
      "cell_type": "code",
      "execution_count": 28,
      "metadata": {
        "id": "RFmgbTWESLpx"
      },
      "outputs": [],
      "source": [
        "# K = []\n",
        "# training = []\n",
        "# test = []\n",
        "# scores = {}\n",
        "  \n",
        "# for k in range(2, 5):\n",
        "#     clf = KNeighborsClassifier(n_neighbors = k)\n",
        "#     clf.fit(X_train, y_train)\n",
        "  \n",
        "#     training_score = clf.score(X_train, y_train)\n",
        "#     test_score = clf.score(X_test, y_test)\n",
        "#     K.append(k)\n",
        "  \n",
        "#     training.append(training_score)\n",
        "#     test.append(test_score)\n",
        "#     scores[k] = [training_score, test_score]"
      ]
    },
    {
      "cell_type": "code",
      "execution_count": 29,
      "metadata": {
        "id": "Gm5UHtPvSLpx"
      },
      "outputs": [],
      "source": [
        "# scores"
      ]
    },
    {
      "cell_type": "code",
      "execution_count": 30,
      "metadata": {
        "id": "3OcqMdCOSLpx"
      },
      "outputs": [],
      "source": [
        "# clf = KNeighborsClassifier(n_neighbors=2)\n",
        "# clf.fit(X_train, y_train)\n",
        "# y_pred = clf.predict(X_test)"
      ]
    },
    {
      "cell_type": "code",
      "execution_count": 31,
      "metadata": {
        "id": "Tpa-mwnISLpx"
      },
      "outputs": [],
      "source": [
        "# y_pred"
      ]
    },
    {
      "cell_type": "code",
      "source": [
        "# print(\"Accuracy:\", metrics.accuracy_score(y_test, y_pred))"
      ],
      "metadata": {
        "id": "3bx0UHo-xuZ9"
      },
      "execution_count": 32,
      "outputs": []
    },
    {
      "cell_type": "code",
      "execution_count": 33,
      "metadata": {
        "id": "ZfBdWb-GSLpx"
      },
      "outputs": [],
      "source": [
        "# confusion_matrix(y_test, y_pred)"
      ]
    },
    {
      "cell_type": "code",
      "execution_count": 34,
      "metadata": {
        "id": "a-vGzstqSLpy"
      },
      "outputs": [],
      "source": [
        "# plt.scatter(K, training, color ='k')\n",
        "# plt.scatter(K, test, color ='g')\n",
        "# plt.show()\n",
        "# # For overlapping scatter plots"
      ]
    },
    {
      "cell_type": "code",
      "execution_count": 35,
      "metadata": {
        "id": "MQ8IeMebSLpy"
      },
      "outputs": [],
      "source": [
        "# svm = SVC(kernel=\"poly\", degree=1, gamma=\"scale\")"
      ]
    },
    {
      "cell_type": "code",
      "execution_count": 36,
      "metadata": {
        "id": "HaoxFJj7SLpy"
      },
      "outputs": [],
      "source": [
        "# svm.fit(X_train, y_train)"
      ]
    },
    {
      "cell_type": "code",
      "execution_count": 37,
      "metadata": {
        "id": "D0wW21vbSLpy"
      },
      "outputs": [],
      "source": [
        "# y_pred = svm.predict(X_test)"
      ]
    },
    {
      "cell_type": "code",
      "execution_count": 38,
      "metadata": {
        "id": "yK57BDepSLpy"
      },
      "outputs": [],
      "source": [
        "# confusion_matrix(y_test, y_pred)"
      ]
    },
    {
      "cell_type": "code",
      "execution_count": 39,
      "metadata": {
        "id": "UthF-Ez0SLpy"
      },
      "outputs": [],
      "source": [
        "# lr = LogisticRegression()"
      ]
    },
    {
      "cell_type": "code",
      "execution_count": 40,
      "metadata": {
        "id": "mXIvBAO4SLpy"
      },
      "outputs": [],
      "source": [
        "# lr.fit(X_train, y_train)"
      ]
    },
    {
      "cell_type": "code",
      "execution_count": 41,
      "metadata": {
        "id": "dk1NRObDSLpy"
      },
      "outputs": [],
      "source": [
        "# y_pred = lr.predict(X_test)"
      ]
    },
    {
      "cell_type": "code",
      "execution_count": 42,
      "metadata": {
        "id": "WcF-V3UKSLpz"
      },
      "outputs": [],
      "source": [
        "# y_pred"
      ]
    },
    {
      "cell_type": "code",
      "execution_count": 43,
      "metadata": {
        "id": "9A7EbBC8SLpz"
      },
      "outputs": [],
      "source": [
        "# confusion_matrix(y_test, y_pred)"
      ]
    },
    {
      "cell_type": "code",
      "execution_count": 44,
      "metadata": {
        "id": "isCIdUXTSLpz"
      },
      "outputs": [],
      "source": [
        "# y_train_hat_probs = lr.predict_proba(X_test)[:,1]"
      ]
    },
    {
      "cell_type": "code",
      "execution_count": 45,
      "metadata": {
        "id": "ZwoNDWslSLpz"
      },
      "outputs": [],
      "source": [
        "# y_train_hat_probs"
      ]
    },
    {
      "cell_type": "code",
      "execution_count": 46,
      "metadata": {
        "id": "Chj9wAj3SLpz"
      },
      "outputs": [],
      "source": [
        "# nb = GaussianNB()"
      ]
    },
    {
      "cell_type": "code",
      "execution_count": 47,
      "metadata": {
        "id": "uiDiIMxBSLp0"
      },
      "outputs": [],
      "source": [
        "# nb.fit(X_train.toarray(), y_train)"
      ]
    },
    {
      "cell_type": "code",
      "execution_count": 48,
      "metadata": {
        "id": "WbM3PuZQSLp0"
      },
      "outputs": [],
      "source": [
        "# y_pred = nb.predict(X_test.toarray())"
      ]
    },
    {
      "cell_type": "code",
      "execution_count": 49,
      "metadata": {
        "id": "YaP-oRg8SLp0"
      },
      "outputs": [],
      "source": [
        "# y_pred"
      ]
    },
    {
      "cell_type": "code",
      "execution_count": 50,
      "metadata": {
        "id": "ScmI_kwRSLp0"
      },
      "outputs": [],
      "source": [
        "# confusion_matrix(y_test, y_pred)"
      ]
    },
    {
      "cell_type": "code",
      "execution_count": 50,
      "metadata": {
        "id": "B818xsEkSLp1"
      },
      "outputs": [],
      "source": []
    }
  ],
  "metadata": {
    "accelerator": "GPU",
    "colab": {
      "provenance": [],
      "include_colab_link": true
    },
    "gpuClass": "standard",
    "kernelspec": {
      "display_name": "Python 3.9.15 ('praxis-clements')",
      "language": "python",
      "name": "python3"
    },
    "language_info": {
      "codemirror_mode": {
        "name": "ipython",
        "version": 3
      },
      "file_extension": ".py",
      "mimetype": "text/x-python",
      "name": "python",
      "nbconvert_exporter": "python",
      "pygments_lexer": "ipython3",
      "version": "3.9.16"
    },
    "orig_nbformat": 4,
    "vscode": {
      "interpreter": {
        "hash": "0e4ed65ac9cd06e325be5e4053efe5dbb28567580420031f65d0d231df994926"
      }
    }
  },
  "nbformat": 4,
  "nbformat_minor": 0
}