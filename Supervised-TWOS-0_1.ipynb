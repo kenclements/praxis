{
  "cells": [
    {
      "cell_type": "markdown",
      "metadata": {
        "id": "view-in-github",
        "colab_type": "text"
      },
      "source": [
        "<a href=\"https://colab.research.google.com/github/kenclements/praxis/blob/main/Supervised-TWOS-0_1.ipynb\" target=\"_parent\"><img src=\"https://colab.research.google.com/assets/colab-badge.svg\" alt=\"Open In Colab\"/></a>"
      ]
    },
    {
      "cell_type": "code",
      "execution_count": 1,
      "metadata": {
        "id": "lN5-AcoypUan",
        "colab": {
          "base_uri": "https://localhost:8080/"
        },
        "outputId": "b48a2c94-e9dd-45e7-a21f-6c2f413fae27"
      },
      "outputs": [
        {
          "output_type": "stream",
          "name": "stdout",
          "text": [
            "NVIDIA-SMI has failed because it couldn't communicate with the NVIDIA driver. Make sure that the latest NVIDIA driver is installed and running.\n",
            "\n"
          ]
        }
      ],
      "source": [
        "!nvidia-smi"
      ]
    },
    {
      "cell_type": "code",
      "execution_count": 2,
      "metadata": {
        "colab": {
          "base_uri": "https://localhost:8080/"
        },
        "id": "sI_JO6jFrD7Z",
        "outputId": "5575f173-c1f2-4c85-e2dd-a96bd5a5518d"
      },
      "outputs": [
        {
          "output_type": "stream",
          "name": "stdout",
          "text": [
            "Mounted at /content/drive\n"
          ]
        }
      ],
      "source": [
        "from google.colab import drive\n",
        "drive.mount('/content/drive')"
      ]
    },
    {
      "cell_type": "code",
      "execution_count": 3,
      "metadata": {
        "id": "SpDcPu8tmmK0"
      },
      "outputs": [],
      "source": [
        "import pandas as pd\n",
        "import numpy as np\n",
        "import matplotlib.pyplot as plt\n",
        "import seaborn as sb\n",
        "import string\n",
        "import re\n",
        "\n",
        "#Vectorization and Tokenizing\n",
        "from tensorflow.keras import layers\n",
        "\n",
        "from sklearn.feature_extraction.text import TfidfVectorizer, CountVectorizer\n",
        "from sklearn.preprocessing import MaxAbsScaler\n",
        "\n",
        "import tensorflow as tf\n",
        "from tensorflow.keras.models import Sequential\n",
        "from tensorflow.keras.layers import Dense\n",
        "from tensorflow.keras.layers import InputLayer\n",
        "import torch\n",
        "from tensorflow.keras import losses\n",
        "from tensorflow.keras.regularizers import L2\n",
        "from tensorflow.keras.utils import plot_model\n",
        "from tensorflow.keras.layers import TextVectorization\n",
        "\n",
        "import nltk\n",
        "from nltk.corpus import stopwords\n",
        "from nltk.tokenize import word_tokenize\n",
        "from nltk import pos_tag\n",
        "from nltk.stem import PorterStemmer\n",
        "from nltk.stem import LancasterStemmer\n",
        "\n",
        "#Models\n",
        "from sklearn.ensemble import AdaBoostClassifier\n",
        "from sklearn.neighbors import KNeighborsClassifier\n",
        "from sklearn.svm import SVC\n",
        "from sklearn.linear_model import LogisticRegression\n",
        "from sklearn.naive_bayes import GaussianNB\n",
        "from sklearn.linear_model import LinearRegression\n",
        "\n",
        "\n",
        "#Metrics and Testing\n",
        "from sklearn.model_selection import train_test_split\n",
        "from sklearn import metrics\n",
        "from sklearn.metrics import accuracy_score\n",
        "from sklearn.metrics import confusion_matrix"
      ]
    },
    {
      "cell_type": "code",
      "execution_count": 4,
      "metadata": {
        "id": "oR_xocCCmmK3"
      },
      "outputs": [],
      "source": [
        "df = pd.read_csv('/content/drive/MyDrive/Praxis/data/TWOS/email_ano/combined.csv')\n",
        "#df = pd.read_csv('/Data/TWOS-dataset/email_ano/combined.csv')\n",
        "#df = pd.read_csv('/Data/TWOS-dataset/email_ano/IMDB Dataset.csv')\n",
        "#df = pd.read_csv('/content/drive/MyDrive/Praxis/data/IMDB Dataset.csv')\n",
        "\n"
      ]
    },
    {
      "cell_type": "code",
      "execution_count": 5,
      "metadata": {
        "id": "tqYu3Ll9SLpp"
      },
      "outputs": [],
      "source": [
        "#keep in case combined is not good.\n",
        "#df = pd.concat([file1, file2, file3, file4, file6, file7, file8, file9, file10, file11, file12, file13, file14, file15, file16, file17, file18, file19, file20, file21, file22, file23])"
      ]
    },
    {
      "cell_type": "code",
      "execution_count": 6,
      "metadata": {
        "id": "XbC9JYmDSLpq"
      },
      "outputs": [],
      "source": [
        "#keep to test other datasets\n",
        "#df.rename(columns={\"review\": \"body_anon\", \"sentiment\": \"label\"}, inplace=True)"
      ]
    },
    {
      "cell_type": "code",
      "execution_count": 7,
      "metadata": {
        "colab": {
          "base_uri": "https://localhost:8080/",
          "height": 363
        },
        "id": "0b6u573ZSLpq",
        "outputId": "08b20416-a8b1-4b90-ff67-9f12984a6034"
      },
      "outputs": [
        {
          "output_type": "execute_result",
          "data": {
            "text/plain": [
              "<matplotlib.axes._subplots.AxesSubplot at 0x7f0444adc3a0>"
            ]
          },
          "metadata": {},
          "execution_count": 7
        },
        {
          "output_type": "display_data",
          "data": {
            "text/plain": [
              "<Figure size 432x288 with 1 Axes>"
            ],
            "image/png": "[encoded data removed]"
          },
          "metadata": {
            "needs_background": "light"
          }
        }
      ],
      "source": [
        "sb.heatmap(df.isnull(),yticklabels=False,cbar=False,cmap='viridis')"
      ]
    },
    {
      "cell_type": "code",
      "execution_count": 8,
      "metadata": {
        "id": "qDp__hFtSLpr"
      },
      "outputs": [],
      "source": [
        "df.dropna(subset=['label'], inplace=True)\n"
      ]
    },
    {
      "cell_type": "code",
      "source": [
        "df['label'] = df['label'].map({'ANOMALY': 1, 'NORMAL': 0})"
      ],
      "metadata": {
        "id": "gQU8tzJdF8OG"
      },
      "execution_count": 9,
      "outputs": []
    },
    {
      "cell_type": "code",
      "execution_count": 10,
      "metadata": {
        "id": "erZ9jejySLpt"
      },
      "outputs": [],
      "source": [
        "def prep(dfx):\n",
        "    dfx1 = [re.sub(r'[^\\w\\s]','', x) for x in dfx]\n",
        "    dfx1 = ''.join(dfx1)\n",
        "    return(dfx1)\n",
        "\n",
        "df['body_anon'] = df['body_anon'].apply(prep)"
      ]
    },
    {
      "cell_type": "code",
      "execution_count": 11,
      "metadata": {
        "id": "ViPsUTDATwSK",
        "colab": {
          "base_uri": "https://localhost:8080/"
        },
        "outputId": "dcc4e837-8987-4da7-af3f-c519097351ea"
      },
      "outputs": [
        {
          "output_type": "stream",
          "name": "stderr",
          "text": [
            "[nltk_data] Downloading package averaged_perceptron_tagger to\n",
            "[nltk_data]     /root/nltk_data...\n",
            "[nltk_data]   Unzipping taggers/averaged_perceptron_tagger.zip.\n",
            "[nltk_data] Downloading package wordnet to /root/nltk_data...\n",
            "[nltk_data] Downloading package omw-1.4 to /root/nltk_data...\n"
          ]
        }
      ],
      "source": [
        "#nltk.download('stopwords') #not using this yet...\n",
        "#stops = set(stopwords.words('english'))\n",
        "nltk.download('averaged_perceptron_tagger')\n",
        "nltk.download('wordnet')\n",
        "nltk.download('omw-1.4')\n",
        "def prepare_text(pretext):\n",
        "\n",
        "    # tokenize mission.\n",
        "    tokens = word_tokenize(pretext, language=\"english\", preserve_line=True)\n",
        "\n",
        "    # Parts of speech (POS) tag tokens.\n",
        "    token_tag = pos_tag(tokens)\n",
        "    \n",
        "    # Only include some of the POS tags.\n",
        "    include_tags = ['VBN', 'VBD', 'JJ', 'JJS', 'JJR', 'CD', 'NN', 'NNS', 'NNP', 'NNPS']\n",
        "    filtered_tokens = (tok for tok, tag in token_tag if tag in include_tags)    \n",
        "    #stem words.\n",
        "    stemmed_tokens = (lancaster.stem(tok) for tok in filtered_tokens)\n",
        "\n",
        "    #lemm words.\n",
        "    lemmed_words = (lemmatizer.lemmatize(tok) for tok in stemmed_tokens)\n",
        "\n",
        "    lower_words = [str.lower(tok) for tok in lemmed_words]\n",
        "\n",
        "    #x = cv.fit_transform(tokens).toarray()\n",
        "\n",
        "    joined = \" \".join(lower_words);\n",
        "\n",
        "    return(joined)\n",
        "\n",
        "#ps = PorterStemmer()\n",
        "lancaster = LancasterStemmer()\n",
        "lemmatizer = nltk.stem.WordNetLemmatizer()\n",
        "    \n",
        "df['tokenized'] = df['body_anon'].apply(prepare_text)"
      ]
    },
    {
      "cell_type": "code",
      "execution_count": 12,
      "metadata": {
        "colab": {
          "base_uri": "https://localhost:8080/",
          "height": 244
        },
        "id": "X6Hkwj_GSLpt",
        "outputId": "6c102d80-96fa-44fa-e7f7-abe13f782078"
      },
      "outputs": [
        {
          "output_type": "execute_result",
          "data": {
            "text/plain": [
              "    id  label                                          body_anon  liwc_WC  \\\n",
              "0  758      0  Hey Yeah I think we could do that I did a test...     43.0   \n",
              "\n",
              "   liwc_Analytic  liwc_Clout  liwc_Authentic  liwc_Tone  liwc_WPS  \\\n",
              "0          48.77       91.85           87.51      25.77       8.6   \n",
              "\n",
              "   liwc_Sixltr  ...  liwc_Colon  liwc_SemiC  liwc_QMark  liwc_Exclam  \\\n",
              "0        13.95  ...         0.0         0.0        4.65         2.33   \n",
              "\n",
              "   liwc_Dash  liwc_Quote  liwc_Apostro  liwc_Parenth  liwc_OtherP  \\\n",
              "0        0.0         0.0          4.65           0.0          0.0   \n",
              "\n",
              "                                           tokenized  \n",
              "0  hey did test first custom first 4gaa3hguvn let...  \n",
              "\n",
              "[1 rows x 97 columns]"
            ],
            "text/html": [
              "\n",
              "  <div id=\"df-5f415220-8145-4824-b459-05cd681f9fbb\">\n",
              "    <div class=\"colab-df-container\">\n",
              "      <div>\n",
              "<style scoped>\n",
              "    .dataframe tbody tr th:only-of-type {\n",
              "        vertical-align: middle;\n",
              "    }\n",
              "\n",
              "    .dataframe tbody tr th {\n",
              "        vertical-align: top;\n",
              "    }\n",
              "\n",
              "    .dataframe thead th {\n",
              "        text-align: right;\n",
              "    }\n",
              "</style>\n",
              "<table border=\"1\" class=\"dataframe\">\n",
              "  <thead>\n",
              "    <tr style=\"text-align: right;\">\n",
              "      <th></th>\n",
              "      <th>id</th>\n",
              "      <th>label</th>\n",
              "      <th>body_anon</th>\n",
              "      <th>liwc_WC</th>\n",
              "      <th>liwc_Analytic</th>\n",
              "      <th>liwc_Clout</th>\n",
              "      <th>liwc_Authentic</th>\n",
              "      <th>liwc_Tone</th>\n",
              "      <th>liwc_WPS</th>\n",
              "      <th>liwc_Sixltr</th>\n",
              "      <th>...</th>\n",
              "      <th>liwc_Colon</th>\n",
              "      <th>liwc_SemiC</th>\n",
              "      <th>liwc_QMark</th>\n",
              "      <th>liwc_Exclam</th>\n",
              "      <th>liwc_Dash</th>\n",
              "      <th>liwc_Quote</th>\n",
              "      <th>liwc_Apostro</th>\n",
              "      <th>liwc_Parenth</th>\n",
              "      <th>liwc_OtherP</th>\n",
              "      <th>tokenized</th>\n",
              "    </tr>\n",
              "  </thead>\n",
              "  <tbody>\n",
              "    <tr>\n",
              "      <th>0</th>\n",
              "      <td>758</td>\n",
              "      <td>0</td>\n",
              "      <td>Hey Yeah I think we could do that I did a test...</td>\n",
              "      <td>43.0</td>\n",
              "      <td>48.77</td>\n",
              "      <td>91.85</td>\n",
              "      <td>87.51</td>\n",
              "      <td>25.77</td>\n",
              "      <td>8.6</td>\n",
              "      <td>13.95</td>\n",
              "      <td>...</td>\n",
              "      <td>0.0</td>\n",
              "      <td>0.0</td>\n",
              "      <td>4.65</td>\n",
              "      <td>2.33</td>\n",
              "      <td>0.0</td>\n",
              "      <td>0.0</td>\n",
              "      <td>4.65</td>\n",
              "      <td>0.0</td>\n",
              "      <td>0.0</td>\n",
              "      <td>hey did test first custom first 4gaa3hguvn let...</td>\n",
              "    </tr>\n",
              "  </tbody>\n",
              "</table>\n",
              "<p>1 rows × 97 columns</p>\n",
              "</div>\n",
              "      <button class=\"colab-df-convert\" onclick=\"convertToInteractive('df-5f415220-8145-4824-b459-05cd681f9fbb')\"\n",
              "              title=\"Convert this dataframe to an interactive table.\"\n",
              "              style=\"display:none;\">\n",
              "        \n",
              "  <svg xmlns=\"http://www.w3.org/2000/svg\" height=\"24px\"viewBox=\"0 0 24 24\"\n",
              "       width=\"24px\">\n",
              "    <path d=\"M0 0h24v24H0V0z\" fill=\"none\"/>\n",
              "    <path d=\"M18.56 5.44l.94 2.06.94-2.06 2.06-.94-2.06-.94-.94-2.06-.94 2.06-2.06.94zm-11 1L8.5 8.5l.94-2.06 2.06-.94-2.06-.94L8.5 2.5l-.94 2.06-2.06.94zm10 10l.94 2.06.94-2.06 2.06-.94-2.06-.94-.94-2.06-.94 2.06-2.06.94z\"/><path d=\"M17.41 7.96l-1.37-1.37c-.4-.4-.92-.59-1.43-.59-.52 0-1.04.2-1.43.59L10.3 9.45l-7.72 7.72c-.78.78-.78 2.05 0 2.83L4 21.41c.39.39.9.59 1.41.59.51 0 1.02-.2 1.41-.59l7.78-7.78 2.81-2.81c.8-.78.8-2.07 0-2.86zM5.41 20L4 18.59l7.72-7.72 1.47 1.35L5.41 20z\"/>\n",
              "  </svg>\n",
              "      </button>\n",
              "      \n",
              "  <style>\n",
              "    .colab-df-container {\n",
              "      display:flex;\n",
              "      flex-wrap:wrap;\n",
              "      gap: 12px;\n",
              "    }\n",
              "\n",
              "    .colab-df-convert {\n",
              "      background-color: #E8F0FE;\n",
              "      border: none;\n",
              "      border-radius: 50%;\n",
              "      cursor: pointer;\n",
              "      display: none;\n",
              "      fill: #1967D2;\n",
              "      height: 32px;\n",
              "      padding: 0 0 0 0;\n",
              "      width: 32px;\n",
              "    }\n",
              "\n",
              "    .colab-df-convert:hover {\n",
              "      background-color: #E2EBFA;\n",
              "      box-shadow: 0px 1px 2px rgba(60, 64, 67, 0.3), 0px 1px 3px 1px rgba(60, 64, 67, 0.15);\n",
              "      fill: #174EA6;\n",
              "    }\n",
              "\n",
              "    [theme=dark] .colab-df-convert {\n",
              "      background-color: #3B4455;\n",
              "      fill: #D2E3FC;\n",
              "    }\n",
              "\n",
              "    [theme=dark] .colab-df-convert:hover {\n",
              "      background-color: #434B5C;\n",
              "      box-shadow: 0px 1px 3px 1px rgba(0, 0, 0, 0.15);\n",
              "      filter: drop-shadow(0px 1px 2px rgba(0, 0, 0, 0.3));\n",
              "      fill: #FFFFFF;\n",
              "    }\n",
              "  </style>\n",
              "\n",
              "      <script>\n",
              "        const buttonEl =\n",
              "          document.querySelector('#df-5f415220-8145-4824-b459-05cd681f9fbb button.colab-df-convert');\n",
              "        buttonEl.style.display =\n",
              "          google.colab.kernel.accessAllowed ? 'block' : 'none';\n",
              "\n",
              "        async function convertToInteractive(key) {\n",
              "          const element = document.querySelector('#df-5f415220-8145-4824-b459-05cd681f9fbb');\n",
              "          const dataTable =\n",
              "            await google.colab.kernel.invokeFunction('convertToInteractive',\n",
              "                                                     [key], {});\n",
              "          if (!dataTable) return;\n",
              "\n",
              "          const docLinkHtml = 'Like what you see? Visit the ' +\n",
              "            '<a target=\"_blank\" href=https://colab.research.google.com/notebooks/data_table.ipynb>data table notebook</a>'\n",
              "            + ' to learn more about interactive tables.';\n",
              "          element.innerHTML = '';\n",
              "          dataTable['output_type'] = 'display_data';\n",
              "          await google.colab.output.renderOutput(dataTable, element);\n",
              "          const docLink = document.createElement('div');\n",
              "          docLink.innerHTML = docLinkHtml;\n",
              "          element.appendChild(docLink);\n",
              "        }\n",
              "      </script>\n",
              "    </div>\n",
              "  </div>\n",
              "  "
            ]
          },
          "metadata": {},
          "execution_count": 12
        }
      ],
      "source": [
        "df.head(1)\n"
      ]
    },
    {
      "cell_type": "code",
      "execution_count": 13,
      "metadata": {
        "id": "EpkQEO49SLpu"
      },
      "outputs": [],
      "source": [
        "#countvectorizer = CountVectorizer(analyzer= 'word', stop_words='english')\n",
        "tfidfvectorizer = TfidfVectorizer(stop_words=None, analyzer='word' )"
      ]
    },
    {
      "cell_type": "code",
      "execution_count": 14,
      "metadata": {
        "id": "OJKPGhiMSLpu"
      },
      "outputs": [],
      "source": [
        "# count_wm = countvectorizer.fit_transform(df['body_anon'])\n",
        "tfidf_wm = tfidfvectorizer.fit_transform(df['tokenized'])\n"
      ]
    },
    {
      "cell_type": "code",
      "execution_count": 15,
      "metadata": {
        "id": "2OGvf3BlSLpu"
      },
      "outputs": [],
      "source": [
        "#count_tokens = countvectorizer.get_feature_names_out()\n",
        "tfidf_tokens = tfidfvectorizer.get_feature_names_out()"
      ]
    },
    {
      "cell_type": "code",
      "execution_count": 16,
      "metadata": {
        "id": "y9KOnvlGSLpu",
        "colab": {
          "base_uri": "https://localhost:8080/"
        },
        "outputId": "da72e7fb-5fae-4009-a2a4-6cdc9c75a276"
      },
      "outputs": [
        {
          "output_type": "stream",
          "name": "stdout",
          "text": [
            "\n",
            "TD-IDF Vectorizer\n",
            "\n",
            "      0ibjzkpxq2  0jyhzuztex  0kg4y0ixy0  0m0ywnsd4o  0m5mcj3z2x  0pmpn6i2et  \\\n",
            "0            0.0         0.0         0.0         0.0         0.0         0.0   \n",
            "1            0.0         0.0         0.0         0.0         0.0         0.0   \n",
            "2            0.0         0.0         0.0         0.0         0.0         0.0   \n",
            "3            0.0         0.0         0.0         0.0         0.0         0.0   \n",
            "4            0.0         0.0         0.0         0.0         0.0         0.0   \n",
            "...          ...         ...         ...         ...         ...         ...   \n",
            "1970         0.0         0.0         0.0         0.0         0.0         0.0   \n",
            "1971         0.0         0.0         0.0         0.0         0.0         0.0   \n",
            "1972         0.0         0.0         0.0         0.0         0.0         0.0   \n",
            "1973         0.0         0.0         0.0         0.0         0.0         0.0   \n",
            "1974         0.0         0.0         0.0         0.0         0.0         0.0   \n",
            "\n",
            "      0pmpn6i2et8rzt3bp0u9  10pm  11pm  19uvp88290  ...  yuvpw30ncwwc1szxj5ev  \\\n",
            "0                      0.0   0.0   0.0         0.0  ...                   0.0   \n",
            "1                      0.0   0.0   0.0         0.0  ...                   0.0   \n",
            "2                      0.0   0.0   0.0         0.0  ...                   0.0   \n",
            "3                      0.0   0.0   0.0         0.0  ...                   0.0   \n",
            "4                      0.0   0.0   0.0         0.0  ...                   0.0   \n",
            "...                    ...   ...   ...         ...  ...                   ...   \n",
            "1970                   0.0   0.0   0.0         0.0  ...                   0.0   \n",
            "1971                   0.0   0.0   0.0         0.0  ...                   0.0   \n",
            "1972                   0.0   0.0   0.0         0.0  ...                   0.0   \n",
            "1973                   0.0   0.0   0.0         0.0  ...                   0.0   \n",
            "1974                   0.0   0.0   0.0         0.0  ...                   0.0   \n",
            "\n",
            "      yvbxzalcyt  yyxq6ktvfu  z6o6jgzeaf  z8lz2cxxli  zdnpl1m4e0  zip  \\\n",
            "0            0.0         0.0         0.0         0.0         0.0  0.0   \n",
            "1            0.0         0.0         0.0         0.0         0.0  0.0   \n",
            "2            0.0         0.0         0.0         0.0         0.0  0.0   \n",
            "3            0.0         0.0         0.0         0.0         0.0  0.0   \n",
            "4            0.0         0.0         0.0         0.0         0.0  0.0   \n",
            "...          ...         ...         ...         ...         ...  ...   \n",
            "1970         0.0         0.0         0.0         0.0         0.0  0.0   \n",
            "1971         0.0         0.0         0.0         0.0         0.0  0.0   \n",
            "1972         0.0         0.0         0.0         0.0         0.0  0.0   \n",
            "1973         0.0         0.0         0.0         0.0         0.0  0.0   \n",
            "1974         0.0         0.0         0.0         0.0         0.0  0.0   \n",
            "\n",
            "      zpiunkj1yb  zqgs37vfmq  zuxng2r2ssfgt6qre4yo  \n",
            "0            0.0         0.0                   0.0  \n",
            "1            0.0         0.0                   0.0  \n",
            "2            0.0         0.0                   0.0  \n",
            "3            0.0         0.0                   0.0  \n",
            "4            0.0         0.0                   0.0  \n",
            "...          ...         ...                   ...  \n",
            "1970         0.0         0.0                   0.0  \n",
            "1971         0.0         0.0                   0.0  \n",
            "1972         0.0         0.0                   0.0  \n",
            "1973         0.0         0.0                   0.0  \n",
            "1974         0.0         0.0                   0.0  \n",
            "\n",
            "[1975 rows x 1727 columns]\n"
          ]
        }
      ],
      "source": [
        "# df_countvect = pd.DataFrame(data = count_wm.toarray(),columns = count_tokens)\n",
        "df_tfidfvect = pd.DataFrame(data = tfidf_wm.toarray(),columns = tfidf_tokens)\n",
        "# print(\"Count Vectorizer\\n\")\n",
        "# print(df_countvect)\n",
        "print(\"\\nTD-IDF Vectorizer\\n\")\n",
        "print(df_tfidfvect)"
      ]
    },
    {
      "cell_type": "code",
      "execution_count": 17,
      "metadata": {
        "id": "zjbevHZnSLpu",
        "colab": {
          "base_uri": "https://localhost:8080/"
        },
        "outputId": "b7e95c8f-5918-4325-a306-a4563ac57ad6"
      },
      "outputs": [
        {
          "output_type": "stream",
          "name": "stdout",
          "text": [
            "hah account saf im last min scor school wif l57dr9bhkh\n"
          ]
        }
      ],
      "source": [
        "print(df.loc[50, 'tokenized'])"
      ]
    },
    {
      "cell_type": "code",
      "execution_count": 18,
      "metadata": {
        "id": "4OHC38p0SLpv",
        "colab": {
          "base_uri": "https://localhost:8080/"
        },
        "outputId": "011b40a2-997f-44eb-f636-157179a78f8e"
      },
      "outputs": [
        {
          "output_type": "stream",
          "name": "stdout",
          "text": [
            "  (0, 839)\t0.5223366945144942\n",
            "  (0, 1662)\t0.3700098176180962\n",
            "  (0, 1274)\t0.27829989943483524\n",
            "  (0, 1291)\t0.3700098176180962\n",
            "  (0, 849)\t0.29203622390495276\n",
            "  (0, 711)\t0.2341198328941223\n",
            "  (0, 1292)\t0.17843156816876066\n",
            "  (0, 637)\t0.2816931930696965\n",
            "  (0, 949)\t0.28713363160308775\n",
            "  (0, 104)\t0.20534643679670067\n"
          ]
        }
      ],
      "source": [
        "\n",
        "print(tfidf_wm[50])\n"
      ]
    },
    {
      "cell_type": "code",
      "execution_count": 19,
      "metadata": {
        "id": "j6zcGlTfSLpv"
      },
      "outputs": [],
      "source": [
        "#if we need to normalize the data\n",
        "#transformer = MaxAbsScaler().fit(tfidf_wm)\n",
        "#tfidf_wm = transformer.transform(tfidf_wm)\n",
        "# print(tfidf_wm[50])"
      ]
    },
    {
      "cell_type": "code",
      "execution_count": 20,
      "metadata": {
        "id": "T68olANDSLpv"
      },
      "outputs": [],
      "source": [
        "# Split dataset into training set and test set\n",
        "\n",
        "X_train, X_test, y_train, y_test = train_test_split(tfidf_wm, df['label'], test_size=.3) # 70% training and 30% test\n"
      ]
    },
    {
      "cell_type": "code",
      "source": [
        "df['label'].value_counts().plot(kind='bar')"
      ],
      "metadata": {
        "id": "8lgnun8DgYSz",
        "outputId": "ae413819-7d77-4994-a1e6-36b2c08543a2",
        "colab": {
          "base_uri": "https://localhost:8080/",
          "height": 281
        }
      },
      "execution_count": 21,
      "outputs": [
        {
          "output_type": "execute_result",
          "data": {
            "text/plain": [
              "<matplotlib.axes._subplots.AxesSubplot at 0x7f0438d84160>"
            ]
          },
          "metadata": {},
          "execution_count": 21
        },
        {
          "output_type": "display_data",
          "data": {
            "text/plain": [
              "<Figure size 432x288 with 1 Axes>"
            ],
            "image/png": "[encoded data removed]"
          },
          "metadata": {
            "needs_background": "light"
          }
        }
      ]
    },
    {
      "cell_type": "markdown",
      "metadata": {
        "id": "qWQ7Rf_xSLpw"
      },
      "source": [
        "## ***ADABOOST MODEL***"
      ]
    },
    {
      "cell_type": "code",
      "execution_count": 22,
      "metadata": {
        "id": "A5POC5GvSLpw"
      },
      "outputs": [],
      "source": [
        "# Create adaboost classifer object\n",
        "abc = AdaBoostClassifier(n_estimators=50, learning_rate=1) \n",
        "# Train Adaboost Classifer\n",
        "model = abc.fit(X_train, y_train)\n",
        "#Predict the response for test dataset\n",
        "y_pred = model.predict(X_test)\n"
      ]
    },
    {
      "cell_type": "code",
      "execution_count": 23,
      "metadata": {
        "id": "_9yAQjELSLpw",
        "colab": {
          "base_uri": "https://localhost:8080/"
        },
        "outputId": "d9fc4f4a-35d3-4fcd-df77-052541cc8df4"
      },
      "outputs": [
        {
          "output_type": "stream",
          "name": "stdout",
          "text": [
            "Accuracy: 0.6677908937605397\n"
          ]
        }
      ],
      "source": [
        "print(\"Accuracy:\", metrics.accuracy_score(y_test, y_pred))\n"
      ]
    },
    {
      "cell_type": "code",
      "execution_count": 24,
      "metadata": {
        "id": "thCnnWHPSLpw",
        "colab": {
          "base_uri": "https://localhost:8080/"
        },
        "outputId": "75f1daab-ebaa-42c2-ca3d-776093fc4afe"
      },
      "outputs": [
        {
          "output_type": "execute_result",
          "data": {
            "text/plain": [
              "array([[ 31, 145],\n",
              "       [ 52, 365]])"
            ]
          },
          "metadata": {},
          "execution_count": 24
        }
      ],
      "source": [
        "confusion_matrix(y_test, y_pred)"
      ]
    },
    {
      "cell_type": "code",
      "source": [
        "metrics.recall_score(y_test, y_pred)"
      ],
      "metadata": {
        "id": "8uH1nFRSxFKJ",
        "colab": {
          "base_uri": "https://localhost:8080/"
        },
        "outputId": "620cbf26-45bb-4d17-8bbc-9d63a102e0f3"
      },
      "execution_count": 25,
      "outputs": [
        {
          "output_type": "execute_result",
          "data": {
            "text/plain": [
              "0.8752997601918465"
            ]
          },
          "metadata": {},
          "execution_count": 25
        }
      ]
    },
    {
      "cell_type": "markdown",
      "metadata": {
        "id": "hV_VQHa5SLpx"
      },
      "source": [
        "## ***KNN Model***"
      ]
    },
    {
      "cell_type": "code",
      "execution_count": 56,
      "metadata": {
        "id": "RFmgbTWESLpx"
      },
      "outputs": [],
      "source": [
        "K = []\n",
        "training = []\n",
        "test = []\n",
        "scores = {}\n",
        "  \n",
        "for k in range(2, 11):\n",
        "    clf = KNeighborsClassifier(n_neighbors = k)\n",
        "    clf.fit(X_train, y_train)\n",
        "  \n",
        "    training_score = clf.score(X_train, y_train)\n",
        "    test_score = clf.score(X_test, y_test)\n",
        "    K.append(k)\n",
        "  \n",
        "    training.append(training_score)\n",
        "    test.append(test_score)\n",
        "    scores[k] = [training_score, test_score]"
      ]
    },
    {
      "cell_type": "code",
      "execution_count": 57,
      "metadata": {
        "id": "Gm5UHtPvSLpx",
        "outputId": "2e6f007c-abd2-4750-b4cf-7c646883ce20",
        "colab": {
          "base_uri": "https://localhost:8080/"
        }
      },
      "outputs": [
        {
          "output_type": "execute_result",
          "data": {
            "text/plain": [
              "{2: [0.7091172214182344, 0.521079258010118],\n",
              " 3: [0.76410998552822, 0.6559865092748736],\n",
              " 4: [0.7424023154848046, 0.6020236087689713],\n",
              " 5: [0.7460202604920405, 0.6930860033726813],\n",
              " 6: [0.7337192474674384, 0.6559865092748736],\n",
              " 7: [0.7351664254703328, 0.6812816188870152],\n",
              " 8: [0.7293777134587555, 0.6728499156829679],\n",
              " 9: [0.7272069464544139, 0.6897133220910624],\n",
              " 10: [0.7329956584659914, 0.6863406408094435]}"
            ]
          },
          "metadata": {},
          "execution_count": 57
        }
      ],
      "source": [
        " scores"
      ]
    },
    {
      "cell_type": "code",
      "execution_count": 58,
      "metadata": {
        "id": "3OcqMdCOSLpx"
      },
      "outputs": [],
      "source": [
        "clf = KNeighborsClassifier(n_neighbors=5)\n",
        "clf.fit(X_train, y_train)\n",
        "y_pred = clf.predict(X_test)"
      ]
    },
    {
      "cell_type": "code",
      "source": [
        "print(\"Accuracy:\", metrics.accuracy_score(y_test, y_pred))"
      ],
      "metadata": {
        "id": "3bx0UHo-xuZ9",
        "outputId": "8723edef-2d30-4ff7-a3e0-42811bf408f3",
        "colab": {
          "base_uri": "https://localhost:8080/"
        }
      },
      "execution_count": 60,
      "outputs": [
        {
          "output_type": "stream",
          "name": "stdout",
          "text": [
            "Accuracy: 0.6930860033726813\n"
          ]
        }
      ]
    },
    {
      "cell_type": "code",
      "execution_count": 61,
      "metadata": {
        "id": "ZfBdWb-GSLpx",
        "outputId": "58a5e832-c0a3-4aab-9601-964d3de43204",
        "colab": {
          "base_uri": "https://localhost:8080/"
        }
      },
      "outputs": [
        {
          "output_type": "execute_result",
          "data": {
            "text/plain": [
              "array([[ 37, 139],\n",
              "       [ 43, 374]])"
            ]
          },
          "metadata": {},
          "execution_count": 61
        }
      ],
      "source": [
        "confusion_matrix(y_test, y_pred)"
      ]
    },
    {
      "cell_type": "code",
      "execution_count": 62,
      "metadata": {
        "id": "a-vGzstqSLpy",
        "outputId": "f9d8a86e-994c-440b-cb79-770d41c9706e",
        "colab": {
          "base_uri": "https://localhost:8080/",
          "height": 265
        }
      },
      "outputs": [
        {
          "output_type": "display_data",
          "data": {
            "text/plain": [
              "<Figure size 432x288 with 1 Axes>"
            ],
            "image/png": "[encoded data removed]"
          },
          "metadata": {
            "needs_background": "light"
          }
        }
      ],
      "source": [
        "plt.scatter(K, training, color ='k')\n",
        "plt.scatter(K, test, color ='g')\n",
        "plt.show()"
      ]
    },
    {
      "cell_type": "code",
      "execution_count": 33,
      "metadata": {
        "id": "MQ8IeMebSLpy"
      },
      "outputs": [],
      "source": [
        "# svm = SVC(kernel=\"poly\", degree=1, gamma=\"scale\")"
      ]
    },
    {
      "cell_type": "code",
      "execution_count": 34,
      "metadata": {
        "id": "HaoxFJj7SLpy"
      },
      "outputs": [],
      "source": [
        "# svm.fit(X_train, y_train)"
      ]
    },
    {
      "cell_type": "code",
      "execution_count": 35,
      "metadata": {
        "id": "D0wW21vbSLpy"
      },
      "outputs": [],
      "source": [
        "# y_pred = svm.predict(X_test)"
      ]
    },
    {
      "cell_type": "code",
      "execution_count": 36,
      "metadata": {
        "id": "yK57BDepSLpy"
      },
      "outputs": [],
      "source": [
        "# confusion_matrix(y_test, y_pred)"
      ]
    },
    {
      "cell_type": "code",
      "execution_count": 37,
      "metadata": {
        "id": "UthF-Ez0SLpy"
      },
      "outputs": [],
      "source": [
        "# lr = LogisticRegression()"
      ]
    },
    {
      "cell_type": "code",
      "execution_count": 38,
      "metadata": {
        "id": "mXIvBAO4SLpy"
      },
      "outputs": [],
      "source": [
        "# lr.fit(X_train, y_train)"
      ]
    },
    {
      "cell_type": "code",
      "execution_count": 39,
      "metadata": {
        "id": "dk1NRObDSLpy"
      },
      "outputs": [],
      "source": [
        "# y_pred = lr.predict(X_test)"
      ]
    },
    {
      "cell_type": "code",
      "execution_count": 40,
      "metadata": {
        "id": "WcF-V3UKSLpz"
      },
      "outputs": [],
      "source": [
        "# y_pred"
      ]
    },
    {
      "cell_type": "code",
      "execution_count": 41,
      "metadata": {
        "id": "9A7EbBC8SLpz"
      },
      "outputs": [],
      "source": [
        "# confusion_matrix(y_test, y_pred)"
      ]
    },
    {
      "cell_type": "code",
      "execution_count": 42,
      "metadata": {
        "id": "isCIdUXTSLpz"
      },
      "outputs": [],
      "source": [
        "# y_train_hat_probs = lr.predict_proba(X_test)[:,1]"
      ]
    },
    {
      "cell_type": "code",
      "execution_count": 43,
      "metadata": {
        "id": "ZwoNDWslSLpz"
      },
      "outputs": [],
      "source": [
        "# y_train_hat_probs"
      ]
    },
    {
      "cell_type": "code",
      "execution_count": 44,
      "metadata": {
        "id": "Chj9wAj3SLpz"
      },
      "outputs": [],
      "source": [
        "# nb = GaussianNB()"
      ]
    },
    {
      "cell_type": "code",
      "execution_count": 45,
      "metadata": {
        "id": "uiDiIMxBSLp0"
      },
      "outputs": [],
      "source": [
        "# nb.fit(X_train.toarray(), y_train)"
      ]
    },
    {
      "cell_type": "code",
      "execution_count": 46,
      "metadata": {
        "id": "WbM3PuZQSLp0"
      },
      "outputs": [],
      "source": [
        "# y_pred = nb.predict(X_test.toarray())"
      ]
    },
    {
      "cell_type": "code",
      "execution_count": 47,
      "metadata": {
        "id": "YaP-oRg8SLp0"
      },
      "outputs": [],
      "source": [
        "# y_pred"
      ]
    },
    {
      "cell_type": "code",
      "execution_count": 48,
      "metadata": {
        "id": "ScmI_kwRSLp0"
      },
      "outputs": [],
      "source": [
        "# confusion_matrix(y_test, y_pred)"
      ]
    },
    {
      "cell_type": "code",
      "execution_count": 48,
      "metadata": {
        "id": "B818xsEkSLp1"
      },
      "outputs": [],
      "source": []
    }
  ],
  "metadata": {
    "accelerator": "GPU",
    "colab": {
      "provenance": [],
      "include_colab_link": true
    },
    "gpuClass": "standard",
    "kernelspec": {
      "display_name": "Python 3.9.15 ('praxis-clements')",
      "language": "python",
      "name": "python3"
    },
    "language_info": {
      "codemirror_mode": {
        "name": "ipython",
        "version": 3
      },
      "file_extension": ".py",
      "mimetype": "text/x-python",
      "name": "python",
      "nbconvert_exporter": "python",
      "pygments_lexer": "ipython3",
      "version": "3.9.16"
    },
    "orig_nbformat": 4,
    "vscode": {
      "interpreter": {
        "hash": "0e4ed65ac9cd06e325be5e4053efe5dbb28567580420031f65d0d231df994926"
      }
    }
  },
  "nbformat": 4,
  "nbformat_minor": 0
}