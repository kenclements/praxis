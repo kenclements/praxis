{
  "cells": [
    {
      "cell_type": "markdown",
      "metadata": {
        "id": "view-in-github",
        "colab_type": "text"
      },
      "source": [
        "<a href=\"https://colab.research.google.com/github/kenclements/praxis/blob/main/DNN-Basic-TWOS-0-1.ipynb\" target=\"_parent\"><img src=\"https://colab.research.google.com/assets/colab-badge.svg\" alt=\"Open In Colab\"/></a>"
      ]
    },
    {
      "cell_type": "code",
      "execution_count": 74,
      "metadata": {
        "id": "lN5-AcoypUan",
        "colab": {
          "base_uri": "https://localhost:8080/"
        },
        "outputId": "09238c19-c425-4dc6-f553-d0fc9fee57fe"
      },
      "outputs": [
        {
          "output_type": "stream",
          "name": "stdout",
          "text": [
            "Tue Feb 21 22:15:47 2023       \n",
            "+-----------------------------------------------------------------------------+\n",
            "| NVIDIA-SMI 510.47.03    Driver Version: 510.47.03    CUDA Version: 11.6     |\n",
            "|-------------------------------+----------------------+----------------------+\n",
            "| GPU  Name        Persistence-M| Bus-Id        Disp.A | Volatile Uncorr. ECC |\n",
            "| Fan  Temp  Perf  Pwr:Usage/Cap|         Memory-Usage | GPU-Util  Compute M. |\n",
            "|                               |                      |               MIG M. |\n",
            "|===============================+======================+======================|\n",
            "|   0  Tesla T4            Off  | 00000000:00:04.0 Off |                    0 |\n",
            "| N/A   47C    P0    26W /  70W |   1030MiB / 15360MiB |      0%      Default |\n",
            "|                               |                      |                  N/A |\n",
            "+-------------------------------+----------------------+----------------------+\n",
            "                                                                               \n",
            "+-----------------------------------------------------------------------------+\n",
            "| Processes:                                                                  |\n",
            "|  GPU   GI   CI        PID   Type   Process name                  GPU Memory |\n",
            "|        ID   ID                                                   Usage      |\n",
            "|=============================================================================|\n",
            "|    0   N/A  N/A      6447      C                                    1027MiB |\n",
            "+-----------------------------------------------------------------------------+\n"
          ]
        }
      ],
      "source": [
        "!nvidia-smi"
      ]
    },
    {
      "cell_type": "code",
      "execution_count": 75,
      "metadata": {
        "colab": {
          "base_uri": "https://localhost:8080/"
        },
        "id": "sI_JO6jFrD7Z",
        "outputId": "e2126fc1-188f-4399-f39c-1daac1ed441f"
      },
      "outputs": [
        {
          "output_type": "stream",
          "name": "stdout",
          "text": [
            "Drive already mounted at /content/drive; to attempt to forcibly remount, call drive.mount(\"/content/drive\", force_remount=True).\n"
          ]
        }
      ],
      "source": [
        "from google.colab import drive\n",
        "drive.mount('/content/drive')"
      ]
    },
    {
      "cell_type": "code",
      "execution_count": 76,
      "metadata": {
        "id": "SpDcPu8tmmK0"
      },
      "outputs": [],
      "source": [
        "import pandas as pd\n",
        "import numpy as np\n",
        "import matplotlib.pyplot as plt\n",
        "import seaborn as sb\n",
        "import string\n",
        "import re\n",
        "\n",
        "#Vectorization and Tokenizing\n",
        "from sklearn.feature_extraction.text import TfidfVectorizer, CountVectorizer\n",
        "from sklearn.preprocessing import MaxAbsScaler\n",
        "\n",
        "import nltk\n",
        "from nltk.corpus import stopwords\n",
        "from nltk.tokenize import word_tokenize\n",
        "from nltk import pos_tag\n",
        "from nltk.stem import PorterStemmer\n",
        "from nltk.stem import LancasterStemmer\n",
        "\n",
        "\n",
        "#DNN Modules\n",
        "import torch\n",
        "import tensorflow as tf\n",
        "from tensorflow.keras import layers\n",
        "from tensorflow.keras.models import Sequential\n",
        "from tensorflow.keras.layers import Dense\n",
        "from tensorflow.keras.layers import InputLayer\n",
        "from tensorflow.keras import losses\n",
        "from tensorflow.keras.regularizers import L2\n",
        "from tensorflow.keras.utils import plot_model\n",
        "from tensorflow.keras.layers import TextVectorization\n",
        "\n",
        "\n",
        "#Models\n",
        "from sklearn.ensemble import AdaBoostClassifier\n",
        "from sklearn.neighbors import KNeighborsClassifier\n",
        "from sklearn.svm import SVC\n",
        "from sklearn.linear_model import LogisticRegression\n",
        "from sklearn.naive_bayes import GaussianNB\n",
        "from sklearn.linear_model import LinearRegression\n",
        "\n",
        "\n",
        "#Metrics and Testing\n",
        "from sklearn.model_selection import train_test_split\n",
        "from sklearn import metrics\n",
        "from sklearn.metrics import accuracy_score\n",
        "from sklearn.metrics import confusion_matrix"
      ]
    },
    {
      "cell_type": "code",
      "execution_count": 77,
      "metadata": {
        "id": "oR_xocCCmmK3"
      },
      "outputs": [],
      "source": [
        "df = pd.read_csv('/content/drive/MyDrive/Praxis/data/TWOS/email_ano/combined.csv')\n",
        "#df = pd.read_csv('/Data/TWOS-dataset/email_ano/combined.csv')\n",
        "#df = pd.read_csv('/Data/TWOS-dataset/email_ano/IMDB Dataset.csv')\n",
        "#df = pd.read_csv('/content/drive/MyDrive/Praxis/data/IMDB Dataset.csv')\n",
        "\n"
      ]
    },
    {
      "cell_type": "code",
      "source": [
        "df.head(1)"
      ],
      "metadata": {
        "id": "AD5BtUYeSjKJ",
        "outputId": "1fa2fa4a-a479-4dd7-89b6-61c5e02caf41",
        "colab": {
          "base_uri": "https://localhost:8080/",
          "height": 243
        }
      },
      "execution_count": 78,
      "outputs": [
        {
          "output_type": "execute_result",
          "data": {
            "text/plain": [
              "    id   label                                          body_anon  liwc_WC  \\\n",
              "0  758  NORMAL  Hey Yeah I think we could do that. I did a tes...     43.0   \n",
              "\n",
              "   liwc_Analytic  liwc_Clout  liwc_Authentic  liwc_Tone  liwc_WPS  \\\n",
              "0          48.77       91.85           87.51      25.77       8.6   \n",
              "\n",
              "   liwc_Sixltr  ...  liwc_Comma  liwc_Colon  liwc_SemiC  liwc_QMark  \\\n",
              "0        13.95  ...        2.33         0.0         0.0        4.65   \n",
              "\n",
              "   liwc_Exclam  liwc_Dash  liwc_Quote  liwc_Apostro  liwc_Parenth  liwc_OtherP  \n",
              "0         2.33        0.0         0.0          4.65           0.0          0.0  \n",
              "\n",
              "[1 rows x 96 columns]"
            ],
            "text/html": [
              "\n",
              "  <div id=\"df-32fdb3ee-5d56-4b47-ae4d-01ad82f55525\">\n",
              "    <div class=\"colab-df-container\">\n",
              "      <div>\n",
              "<style scoped>\n",
              "    .dataframe tbody tr th:only-of-type {\n",
              "        vertical-align: middle;\n",
              "    }\n",
              "\n",
              "    .dataframe tbody tr th {\n",
              "        vertical-align: top;\n",
              "    }\n",
              "\n",
              "    .dataframe thead th {\n",
              "        text-align: right;\n",
              "    }\n",
              "</style>\n",
              "<table border=\"1\" class=\"dataframe\">\n",
              "  <thead>\n",
              "    <tr style=\"text-align: right;\">\n",
              "      <th></th>\n",
              "      <th>id</th>\n",
              "      <th>label</th>\n",
              "      <th>body_anon</th>\n",
              "      <th>liwc_WC</th>\n",
              "      <th>liwc_Analytic</th>\n",
              "      <th>liwc_Clout</th>\n",
              "      <th>liwc_Authentic</th>\n",
              "      <th>liwc_Tone</th>\n",
              "      <th>liwc_WPS</th>\n",
              "      <th>liwc_Sixltr</th>\n",
              "      <th>...</th>\n",
              "      <th>liwc_Comma</th>\n",
              "      <th>liwc_Colon</th>\n",
              "      <th>liwc_SemiC</th>\n",
              "      <th>liwc_QMark</th>\n",
              "      <th>liwc_Exclam</th>\n",
              "      <th>liwc_Dash</th>\n",
              "      <th>liwc_Quote</th>\n",
              "      <th>liwc_Apostro</th>\n",
              "      <th>liwc_Parenth</th>\n",
              "      <th>liwc_OtherP</th>\n",
              "    </tr>\n",
              "  </thead>\n",
              "  <tbody>\n",
              "    <tr>\n",
              "      <th>0</th>\n",
              "      <td>758</td>\n",
              "      <td>NORMAL</td>\n",
              "      <td>Hey Yeah I think we could do that. I did a tes...</td>\n",
              "      <td>43.0</td>\n",
              "      <td>48.77</td>\n",
              "      <td>91.85</td>\n",
              "      <td>87.51</td>\n",
              "      <td>25.77</td>\n",
              "      <td>8.6</td>\n",
              "      <td>13.95</td>\n",
              "      <td>...</td>\n",
              "      <td>2.33</td>\n",
              "      <td>0.0</td>\n",
              "      <td>0.0</td>\n",
              "      <td>4.65</td>\n",
              "      <td>2.33</td>\n",
              "      <td>0.0</td>\n",
              "      <td>0.0</td>\n",
              "      <td>4.65</td>\n",
              "      <td>0.0</td>\n",
              "      <td>0.0</td>\n",
              "    </tr>\n",
              "  </tbody>\n",
              "</table>\n",
              "<p>1 rows × 96 columns</p>\n",
              "</div>\n",
              "      <button class=\"colab-df-convert\" onclick=\"convertToInteractive('df-32fdb3ee-5d56-4b47-ae4d-01ad82f55525')\"\n",
              "              title=\"Convert this dataframe to an interactive table.\"\n",
              "              style=\"display:none;\">\n",
              "        \n",
              "  <svg xmlns=\"http://www.w3.org/2000/svg\" height=\"24px\"viewBox=\"0 0 24 24\"\n",
              "       width=\"24px\">\n",
              "    <path d=\"M0 0h24v24H0V0z\" fill=\"none\"/>\n",
              "    <path d=\"M18.56 5.44l.94 2.06.94-2.06 2.06-.94-2.06-.94-.94-2.06-.94 2.06-2.06.94zm-11 1L8.5 8.5l.94-2.06 2.06-.94-2.06-.94L8.5 2.5l-.94 2.06-2.06.94zm10 10l.94 2.06.94-2.06 2.06-.94-2.06-.94-.94-2.06-.94 2.06-2.06.94z\"/><path d=\"M17.41 7.96l-1.37-1.37c-.4-.4-.92-.59-1.43-.59-.52 0-1.04.2-1.43.59L10.3 9.45l-7.72 7.72c-.78.78-.78 2.05 0 2.83L4 21.41c.39.39.9.59 1.41.59.51 0 1.02-.2 1.41-.59l7.78-7.78 2.81-2.81c.8-.78.8-2.07 0-2.86zM5.41 20L4 18.59l7.72-7.72 1.47 1.35L5.41 20z\"/>\n",
              "  </svg>\n",
              "      </button>\n",
              "      \n",
              "  <style>\n",
              "    .colab-df-container {\n",
              "      display:flex;\n",
              "      flex-wrap:wrap;\n",
              "      gap: 12px;\n",
              "    }\n",
              "\n",
              "    .colab-df-convert {\n",
              "      background-color: #E8F0FE;\n",
              "      border: none;\n",
              "      border-radius: 50%;\n",
              "      cursor: pointer;\n",
              "      display: none;\n",
              "      fill: #1967D2;\n",
              "      height: 32px;\n",
              "      padding: 0 0 0 0;\n",
              "      width: 32px;\n",
              "    }\n",
              "\n",
              "    .colab-df-convert:hover {\n",
              "      background-color: #E2EBFA;\n",
              "      box-shadow: 0px 1px 2px rgba(60, 64, 67, 0.3), 0px 1px 3px 1px rgba(60, 64, 67, 0.15);\n",
              "      fill: #174EA6;\n",
              "    }\n",
              "\n",
              "    [theme=dark] .colab-df-convert {\n",
              "      background-color: #3B4455;\n",
              "      fill: #D2E3FC;\n",
              "    }\n",
              "\n",
              "    [theme=dark] .colab-df-convert:hover {\n",
              "      background-color: #434B5C;\n",
              "      box-shadow: 0px 1px 3px 1px rgba(0, 0, 0, 0.15);\n",
              "      filter: drop-shadow(0px 1px 2px rgba(0, 0, 0, 0.3));\n",
              "      fill: #FFFFFF;\n",
              "    }\n",
              "  </style>\n",
              "\n",
              "      <script>\n",
              "        const buttonEl =\n",
              "          document.querySelector('#df-32fdb3ee-5d56-4b47-ae4d-01ad82f55525 button.colab-df-convert');\n",
              "        buttonEl.style.display =\n",
              "          google.colab.kernel.accessAllowed ? 'block' : 'none';\n",
              "\n",
              "        async function convertToInteractive(key) {\n",
              "          const element = document.querySelector('#df-32fdb3ee-5d56-4b47-ae4d-01ad82f55525');\n",
              "          const dataTable =\n",
              "            await google.colab.kernel.invokeFunction('convertToInteractive',\n",
              "                                                     [key], {});\n",
              "          if (!dataTable) return;\n",
              "\n",
              "          const docLinkHtml = 'Like what you see? Visit the ' +\n",
              "            '<a target=\"_blank\" href=https://colab.research.google.com/notebooks/data_table.ipynb>data table notebook</a>'\n",
              "            + ' to learn more about interactive tables.';\n",
              "          element.innerHTML = '';\n",
              "          dataTable['output_type'] = 'display_data';\n",
              "          await google.colab.output.renderOutput(dataTable, element);\n",
              "          const docLink = document.createElement('div');\n",
              "          docLink.innerHTML = docLinkHtml;\n",
              "          element.appendChild(docLink);\n",
              "        }\n",
              "      </script>\n",
              "    </div>\n",
              "  </div>\n",
              "  "
            ]
          },
          "metadata": {},
          "execution_count": 78
        }
      ]
    },
    {
      "cell_type": "code",
      "execution_count": 79,
      "metadata": {
        "id": "XbC9JYmDSLpq"
      },
      "outputs": [],
      "source": [
        "#Only when working on another dataset to confirm function or universality\n",
        "#df.rename(columns={\"review\": \"body_anon\", \"sentiment\": \"label\"}, inplace=True)"
      ]
    },
    {
      "cell_type": "code",
      "execution_count": 80,
      "metadata": {
        "colab": {
          "base_uri": "https://localhost:8080/",
          "height": 362
        },
        "id": "0b6u573ZSLpq",
        "outputId": "b0d8223e-192c-4007-f990-f6142cfce445"
      },
      "outputs": [
        {
          "output_type": "execute_result",
          "data": {
            "text/plain": [
              "<matplotlib.axes._subplots.AxesSubplot at 0x7faa2007d1f0>"
            ]
          },
          "metadata": {},
          "execution_count": 80
        },
        {
          "output_type": "display_data",
          "data": {
            "text/plain": [
              "<Figure size 432x288 with 1 Axes>"
            ],
            "image/png": "[encoded data removed]"
          },
          "metadata": {
            "needs_background": "light"
          }
        }
      ],
      "source": [
        "sb.heatmap(df.isnull(),yticklabels=False,cbar=False,cmap='viridis')"
      ]
    },
    {
      "cell_type": "code",
      "execution_count": 81,
      "metadata": {
        "id": "qDp__hFtSLpr"
      },
      "outputs": [],
      "source": [
        "df.dropna(subset=['label'], inplace=True)\n"
      ]
    },
    {
      "cell_type": "code",
      "execution_count": 82,
      "metadata": {
        "id": "erZ9jejySLpt"
      },
      "outputs": [],
      "source": [
        "def prep(dfx):\n",
        "    dfx1 = [re.sub(r'[^\\w\\s]','', x) for x in dfx]\n",
        "    dfx1 = ''.join(dfx1)\n",
        "    return(dfx1)\n",
        "\n",
        "#df['body_anon'] = df['body_anon'].apply(prep)"
      ]
    },
    {
      "cell_type": "code",
      "source": [
        "df.head(1)"
      ],
      "metadata": {
        "id": "kg9eCaY2Uesv",
        "outputId": "8e34517d-b29a-40d8-d364-de7ce01d6736",
        "colab": {
          "base_uri": "https://localhost:8080/",
          "height": 243
        }
      },
      "execution_count": 83,
      "outputs": [
        {
          "output_type": "execute_result",
          "data": {
            "text/plain": [
              "    id   label                                          body_anon  liwc_WC  \\\n",
              "0  758  NORMAL  Hey Yeah I think we could do that. I did a tes...     43.0   \n",
              "\n",
              "   liwc_Analytic  liwc_Clout  liwc_Authentic  liwc_Tone  liwc_WPS  \\\n",
              "0          48.77       91.85           87.51      25.77       8.6   \n",
              "\n",
              "   liwc_Sixltr  ...  liwc_Comma  liwc_Colon  liwc_SemiC  liwc_QMark  \\\n",
              "0        13.95  ...        2.33         0.0         0.0        4.65   \n",
              "\n",
              "   liwc_Exclam  liwc_Dash  liwc_Quote  liwc_Apostro  liwc_Parenth  liwc_OtherP  \n",
              "0         2.33        0.0         0.0          4.65           0.0          0.0  \n",
              "\n",
              "[1 rows x 96 columns]"
            ],
            "text/html": [
              "\n",
              "  <div id=\"df-f58537c2-730f-467c-83c1-617cb687cfa9\">\n",
              "    <div class=\"colab-df-container\">\n",
              "      <div>\n",
              "<style scoped>\n",
              "    .dataframe tbody tr th:only-of-type {\n",
              "        vertical-align: middle;\n",
              "    }\n",
              "\n",
              "    .dataframe tbody tr th {\n",
              "        vertical-align: top;\n",
              "    }\n",
              "\n",
              "    .dataframe thead th {\n",
              "        text-align: right;\n",
              "    }\n",
              "</style>\n",
              "<table border=\"1\" class=\"dataframe\">\n",
              "  <thead>\n",
              "    <tr style=\"text-align: right;\">\n",
              "      <th></th>\n",
              "      <th>id</th>\n",
              "      <th>label</th>\n",
              "      <th>body_anon</th>\n",
              "      <th>liwc_WC</th>\n",
              "      <th>liwc_Analytic</th>\n",
              "      <th>liwc_Clout</th>\n",
              "      <th>liwc_Authentic</th>\n",
              "      <th>liwc_Tone</th>\n",
              "      <th>liwc_WPS</th>\n",
              "      <th>liwc_Sixltr</th>\n",
              "      <th>...</th>\n",
              "      <th>liwc_Comma</th>\n",
              "      <th>liwc_Colon</th>\n",
              "      <th>liwc_SemiC</th>\n",
              "      <th>liwc_QMark</th>\n",
              "      <th>liwc_Exclam</th>\n",
              "      <th>liwc_Dash</th>\n",
              "      <th>liwc_Quote</th>\n",
              "      <th>liwc_Apostro</th>\n",
              "      <th>liwc_Parenth</th>\n",
              "      <th>liwc_OtherP</th>\n",
              "    </tr>\n",
              "  </thead>\n",
              "  <tbody>\n",
              "    <tr>\n",
              "      <th>0</th>\n",
              "      <td>758</td>\n",
              "      <td>NORMAL</td>\n",
              "      <td>Hey Yeah I think we could do that. I did a tes...</td>\n",
              "      <td>43.0</td>\n",
              "      <td>48.77</td>\n",
              "      <td>91.85</td>\n",
              "      <td>87.51</td>\n",
              "      <td>25.77</td>\n",
              "      <td>8.6</td>\n",
              "      <td>13.95</td>\n",
              "      <td>...</td>\n",
              "      <td>2.33</td>\n",
              "      <td>0.0</td>\n",
              "      <td>0.0</td>\n",
              "      <td>4.65</td>\n",
              "      <td>2.33</td>\n",
              "      <td>0.0</td>\n",
              "      <td>0.0</td>\n",
              "      <td>4.65</td>\n",
              "      <td>0.0</td>\n",
              "      <td>0.0</td>\n",
              "    </tr>\n",
              "  </tbody>\n",
              "</table>\n",
              "<p>1 rows × 96 columns</p>\n",
              "</div>\n",
              "      <button class=\"colab-df-convert\" onclick=\"convertToInteractive('df-f58537c2-730f-467c-83c1-617cb687cfa9')\"\n",
              "              title=\"Convert this dataframe to an interactive table.\"\n",
              "              style=\"display:none;\">\n",
              "        \n",
              "  <svg xmlns=\"http://www.w3.org/2000/svg\" height=\"24px\"viewBox=\"0 0 24 24\"\n",
              "       width=\"24px\">\n",
              "    <path d=\"M0 0h24v24H0V0z\" fill=\"none\"/>\n",
              "    <path d=\"M18.56 5.44l.94 2.06.94-2.06 2.06-.94-2.06-.94-.94-2.06-.94 2.06-2.06.94zm-11 1L8.5 8.5l.94-2.06 2.06-.94-2.06-.94L8.5 2.5l-.94 2.06-2.06.94zm10 10l.94 2.06.94-2.06 2.06-.94-2.06-.94-.94-2.06-.94 2.06-2.06.94z\"/><path d=\"M17.41 7.96l-1.37-1.37c-.4-.4-.92-.59-1.43-.59-.52 0-1.04.2-1.43.59L10.3 9.45l-7.72 7.72c-.78.78-.78 2.05 0 2.83L4 21.41c.39.39.9.59 1.41.59.51 0 1.02-.2 1.41-.59l7.78-7.78 2.81-2.81c.8-.78.8-2.07 0-2.86zM5.41 20L4 18.59l7.72-7.72 1.47 1.35L5.41 20z\"/>\n",
              "  </svg>\n",
              "      </button>\n",
              "      \n",
              "  <style>\n",
              "    .colab-df-container {\n",
              "      display:flex;\n",
              "      flex-wrap:wrap;\n",
              "      gap: 12px;\n",
              "    }\n",
              "\n",
              "    .colab-df-convert {\n",
              "      background-color: #E8F0FE;\n",
              "      border: none;\n",
              "      border-radius: 50%;\n",
              "      cursor: pointer;\n",
              "      display: none;\n",
              "      fill: #1967D2;\n",
              "      height: 32px;\n",
              "      padding: 0 0 0 0;\n",
              "      width: 32px;\n",
              "    }\n",
              "\n",
              "    .colab-df-convert:hover {\n",
              "      background-color: #E2EBFA;\n",
              "      box-shadow: 0px 1px 2px rgba(60, 64, 67, 0.3), 0px 1px 3px 1px rgba(60, 64, 67, 0.15);\n",
              "      fill: #174EA6;\n",
              "    }\n",
              "\n",
              "    [theme=dark] .colab-df-convert {\n",
              "      background-color: #3B4455;\n",
              "      fill: #D2E3FC;\n",
              "    }\n",
              "\n",
              "    [theme=dark] .colab-df-convert:hover {\n",
              "      background-color: #434B5C;\n",
              "      box-shadow: 0px 1px 3px 1px rgba(0, 0, 0, 0.15);\n",
              "      filter: drop-shadow(0px 1px 2px rgba(0, 0, 0, 0.3));\n",
              "      fill: #FFFFFF;\n",
              "    }\n",
              "  </style>\n",
              "\n",
              "      <script>\n",
              "        const buttonEl =\n",
              "          document.querySelector('#df-f58537c2-730f-467c-83c1-617cb687cfa9 button.colab-df-convert');\n",
              "        buttonEl.style.display =\n",
              "          google.colab.kernel.accessAllowed ? 'block' : 'none';\n",
              "\n",
              "        async function convertToInteractive(key) {\n",
              "          const element = document.querySelector('#df-f58537c2-730f-467c-83c1-617cb687cfa9');\n",
              "          const dataTable =\n",
              "            await google.colab.kernel.invokeFunction('convertToInteractive',\n",
              "                                                     [key], {});\n",
              "          if (!dataTable) return;\n",
              "\n",
              "          const docLinkHtml = 'Like what you see? Visit the ' +\n",
              "            '<a target=\"_blank\" href=https://colab.research.google.com/notebooks/data_table.ipynb>data table notebook</a>'\n",
              "            + ' to learn more about interactive tables.';\n",
              "          element.innerHTML = '';\n",
              "          dataTable['output_type'] = 'display_data';\n",
              "          await google.colab.output.renderOutput(dataTable, element);\n",
              "          const docLink = document.createElement('div');\n",
              "          docLink.innerHTML = docLinkHtml;\n",
              "          element.appendChild(docLink);\n",
              "        }\n",
              "      </script>\n",
              "    </div>\n",
              "  </div>\n",
              "  "
            ]
          },
          "metadata": {},
          "execution_count": 83
        }
      ]
    },
    {
      "cell_type": "code",
      "execution_count": 84,
      "metadata": {
        "id": "ViPsUTDATwSK",
        "colab": {
          "base_uri": "https://localhost:8080/"
        },
        "outputId": "b68d9bc0-068b-4968-dcb0-f5f79b8a4fa2"
      },
      "outputs": [
        {
          "output_type": "stream",
          "name": "stderr",
          "text": [
            "[nltk_data] Downloading package stopwords to /root/nltk_data...\n",
            "[nltk_data]   Package stopwords is already up-to-date!\n",
            "[nltk_data] Downloading package averaged_perceptron_tagger to\n",
            "[nltk_data]     /root/nltk_data...\n",
            "[nltk_data]   Package averaged_perceptron_tagger is already up-to-\n",
            "[nltk_data]       date!\n",
            "[nltk_data] Downloading package wordnet to /root/nltk_data...\n",
            "[nltk_data]   Package wordnet is already up-to-date!\n",
            "[nltk_data] Downloading package omw-1.4 to /root/nltk_data...\n",
            "[nltk_data]   Package omw-1.4 is already up-to-date!\n"
          ]
        }
      ],
      "source": [
        "nltk.download('stopwords')\n",
        "stops = set(stopwords.words('english'))\n",
        "nltk.download('averaged_perceptron_tagger')\n",
        "nltk.download('wordnet')\n",
        "nltk.download('omw-1.4')\n",
        "def prepare_text(pretext):\n",
        "\n",
        "    # tokenize mission.\n",
        "    tokens = word_tokenize(pretext, language=\"english\", preserve_line=True)\n",
        "\n",
        "    # Parts of speech (POS) tag tokens.\n",
        "    token_tag = pos_tag(tokens)\n",
        "    \n",
        "    # Only include some of the POS tags.\n",
        "    include_tags = ['VBN', 'VBD', 'JJ', 'JJS', 'JJR', 'CD', 'NN', 'NNS', 'NNP', 'NNPS']\n",
        "    filtered_tokens = (tok for tok, tag in token_tag if tag in include_tags)    \n",
        "    \n",
        "    #stem words.\n",
        "    stemmed_tokens = (lancaster.stem(tok) for tok in filtered_tokens)\n",
        "\n",
        "    #lemm words.\n",
        "    lemmed_words = (lemmatizer.lemmatize(tok) for tok in stemmed_tokens)\n",
        "\n",
        "    lower_words = [str.lower(tok) for tok in lemmed_words]\n",
        "\n",
        "    #x = cv.fit_transform(tokens).toarray()\n",
        "\n",
        "    joined = \" \".join(lower_words);\n",
        "\n",
        "    return(joined)\n",
        "\n",
        "#ps = PorterStemmer()\n",
        "lancaster = LancasterStemmer()\n",
        "lemmatizer = nltk.stem.WordNetLemmatizer()\n",
        "    \n",
        "df['tokenized'] = df['body_anon']\n",
        "#.apply(prepare_text)\n",
        "\n"
      ]
    },
    {
      "cell_type": "code",
      "execution_count": 85,
      "metadata": {
        "colab": {
          "base_uri": "https://localhost:8080/",
          "height": 243
        },
        "id": "X6Hkwj_GSLpt",
        "outputId": "d112794b-23a1-46bc-f256-83c64f14aeef"
      },
      "outputs": [
        {
          "output_type": "execute_result",
          "data": {
            "text/plain": [
              "    id   label                                          body_anon  liwc_WC  \\\n",
              "0  758  NORMAL  Hey Yeah I think we could do that. I did a tes...     43.0   \n",
              "\n",
              "   liwc_Analytic  liwc_Clout  liwc_Authentic  liwc_Tone  liwc_WPS  \\\n",
              "0          48.77       91.85           87.51      25.77       8.6   \n",
              "\n",
              "   liwc_Sixltr  ...  liwc_Colon  liwc_SemiC  liwc_QMark  liwc_Exclam  \\\n",
              "0        13.95  ...         0.0         0.0        4.65         2.33   \n",
              "\n",
              "   liwc_Dash  liwc_Quote  liwc_Apostro  liwc_Parenth  liwc_OtherP  \\\n",
              "0        0.0         0.0          4.65           0.0          0.0   \n",
              "\n",
              "                                           tokenized  \n",
              "0  Hey Yeah I think we could do that. I did a tes...  \n",
              "\n",
              "[1 rows x 97 columns]"
            ],
            "text/html": [
              "\n",
              "  <div id=\"df-ff382c05-7583-4da1-b2c0-642cb8215c2e\">\n",
              "    <div class=\"colab-df-container\">\n",
              "      <div>\n",
              "<style scoped>\n",
              "    .dataframe tbody tr th:only-of-type {\n",
              "        vertical-align: middle;\n",
              "    }\n",
              "\n",
              "    .dataframe tbody tr th {\n",
              "        vertical-align: top;\n",
              "    }\n",
              "\n",
              "    .dataframe thead th {\n",
              "        text-align: right;\n",
              "    }\n",
              "</style>\n",
              "<table border=\"1\" class=\"dataframe\">\n",
              "  <thead>\n",
              "    <tr style=\"text-align: right;\">\n",
              "      <th></th>\n",
              "      <th>id</th>\n",
              "      <th>label</th>\n",
              "      <th>body_anon</th>\n",
              "      <th>liwc_WC</th>\n",
              "      <th>liwc_Analytic</th>\n",
              "      <th>liwc_Clout</th>\n",
              "      <th>liwc_Authentic</th>\n",
              "      <th>liwc_Tone</th>\n",
              "      <th>liwc_WPS</th>\n",
              "      <th>liwc_Sixltr</th>\n",
              "      <th>...</th>\n",
              "      <th>liwc_Colon</th>\n",
              "      <th>liwc_SemiC</th>\n",
              "      <th>liwc_QMark</th>\n",
              "      <th>liwc_Exclam</th>\n",
              "      <th>liwc_Dash</th>\n",
              "      <th>liwc_Quote</th>\n",
              "      <th>liwc_Apostro</th>\n",
              "      <th>liwc_Parenth</th>\n",
              "      <th>liwc_OtherP</th>\n",
              "      <th>tokenized</th>\n",
              "    </tr>\n",
              "  </thead>\n",
              "  <tbody>\n",
              "    <tr>\n",
              "      <th>0</th>\n",
              "      <td>758</td>\n",
              "      <td>NORMAL</td>\n",
              "      <td>Hey Yeah I think we could do that. I did a tes...</td>\n",
              "      <td>43.0</td>\n",
              "      <td>48.77</td>\n",
              "      <td>91.85</td>\n",
              "      <td>87.51</td>\n",
              "      <td>25.77</td>\n",
              "      <td>8.6</td>\n",
              "      <td>13.95</td>\n",
              "      <td>...</td>\n",
              "      <td>0.0</td>\n",
              "      <td>0.0</td>\n",
              "      <td>4.65</td>\n",
              "      <td>2.33</td>\n",
              "      <td>0.0</td>\n",
              "      <td>0.0</td>\n",
              "      <td>4.65</td>\n",
              "      <td>0.0</td>\n",
              "      <td>0.0</td>\n",
              "      <td>Hey Yeah I think we could do that. I did a tes...</td>\n",
              "    </tr>\n",
              "  </tbody>\n",
              "</table>\n",
              "<p>1 rows × 97 columns</p>\n",
              "</div>\n",
              "      <button class=\"colab-df-convert\" onclick=\"convertToInteractive('df-ff382c05-7583-4da1-b2c0-642cb8215c2e')\"\n",
              "              title=\"Convert this dataframe to an interactive table.\"\n",
              "              style=\"display:none;\">\n",
              "        \n",
              "  <svg xmlns=\"http://www.w3.org/2000/svg\" height=\"24px\"viewBox=\"0 0 24 24\"\n",
              "       width=\"24px\">\n",
              "    <path d=\"M0 0h24v24H0V0z\" fill=\"none\"/>\n",
              "    <path d=\"M18.56 5.44l.94 2.06.94-2.06 2.06-.94-2.06-.94-.94-2.06-.94 2.06-2.06.94zm-11 1L8.5 8.5l.94-2.06 2.06-.94-2.06-.94L8.5 2.5l-.94 2.06-2.06.94zm10 10l.94 2.06.94-2.06 2.06-.94-2.06-.94-.94-2.06-.94 2.06-2.06.94z\"/><path d=\"M17.41 7.96l-1.37-1.37c-.4-.4-.92-.59-1.43-.59-.52 0-1.04.2-1.43.59L10.3 9.45l-7.72 7.72c-.78.78-.78 2.05 0 2.83L4 21.41c.39.39.9.59 1.41.59.51 0 1.02-.2 1.41-.59l7.78-7.78 2.81-2.81c.8-.78.8-2.07 0-2.86zM5.41 20L4 18.59l7.72-7.72 1.47 1.35L5.41 20z\"/>\n",
              "  </svg>\n",
              "      </button>\n",
              "      \n",
              "  <style>\n",
              "    .colab-df-container {\n",
              "      display:flex;\n",
              "      flex-wrap:wrap;\n",
              "      gap: 12px;\n",
              "    }\n",
              "\n",
              "    .colab-df-convert {\n",
              "      background-color: #E8F0FE;\n",
              "      border: none;\n",
              "      border-radius: 50%;\n",
              "      cursor: pointer;\n",
              "      display: none;\n",
              "      fill: #1967D2;\n",
              "      height: 32px;\n",
              "      padding: 0 0 0 0;\n",
              "      width: 32px;\n",
              "    }\n",
              "\n",
              "    .colab-df-convert:hover {\n",
              "      background-color: #E2EBFA;\n",
              "      box-shadow: 0px 1px 2px rgba(60, 64, 67, 0.3), 0px 1px 3px 1px rgba(60, 64, 67, 0.15);\n",
              "      fill: #174EA6;\n",
              "    }\n",
              "\n",
              "    [theme=dark] .colab-df-convert {\n",
              "      background-color: #3B4455;\n",
              "      fill: #D2E3FC;\n",
              "    }\n",
              "\n",
              "    [theme=dark] .colab-df-convert:hover {\n",
              "      background-color: #434B5C;\n",
              "      box-shadow: 0px 1px 3px 1px rgba(0, 0, 0, 0.15);\n",
              "      filter: drop-shadow(0px 1px 2px rgba(0, 0, 0, 0.3));\n",
              "      fill: #FFFFFF;\n",
              "    }\n",
              "  </style>\n",
              "\n",
              "      <script>\n",
              "        const buttonEl =\n",
              "          document.querySelector('#df-ff382c05-7583-4da1-b2c0-642cb8215c2e button.colab-df-convert');\n",
              "        buttonEl.style.display =\n",
              "          google.colab.kernel.accessAllowed ? 'block' : 'none';\n",
              "\n",
              "        async function convertToInteractive(key) {\n",
              "          const element = document.querySelector('#df-ff382c05-7583-4da1-b2c0-642cb8215c2e');\n",
              "          const dataTable =\n",
              "            await google.colab.kernel.invokeFunction('convertToInteractive',\n",
              "                                                     [key], {});\n",
              "          if (!dataTable) return;\n",
              "\n",
              "          const docLinkHtml = 'Like what you see? Visit the ' +\n",
              "            '<a target=\"_blank\" href=https://colab.research.google.com/notebooks/data_table.ipynb>data table notebook</a>'\n",
              "            + ' to learn more about interactive tables.';\n",
              "          element.innerHTML = '';\n",
              "          dataTable['output_type'] = 'display_data';\n",
              "          await google.colab.output.renderOutput(dataTable, element);\n",
              "          const docLink = document.createElement('div');\n",
              "          docLink.innerHTML = docLinkHtml;\n",
              "          element.appendChild(docLink);\n",
              "        }\n",
              "      </script>\n",
              "    </div>\n",
              "  </div>\n",
              "  "
            ]
          },
          "metadata": {},
          "execution_count": 85
        }
      ],
      "source": [
        "df.head(1)\n"
      ]
    },
    {
      "cell_type": "code",
      "source": [
        "df['label'].value_counts().plot(kind='bar')"
      ],
      "metadata": {
        "id": "8lgnun8DgYSz",
        "outputId": "0de3cafe-33ad-4cec-be6c-86ed5191aca5",
        "colab": {
          "base_uri": "https://localhost:8080/",
          "height": 321
        }
      },
      "execution_count": 86,
      "outputs": [
        {
          "output_type": "execute_result",
          "data": {
            "text/plain": [
              "<matplotlib.axes._subplots.AxesSubplot at 0x7faa20330d90>"
            ]
          },
          "metadata": {},
          "execution_count": 86
        },
        {
          "output_type": "display_data",
          "data": {
            "text/plain": [
              "<Figure size 432x288 with 1 Axes>"
            ],
            "image/png": "[encoded data removed]"
          },
          "metadata": {
            "needs_background": "light"
          }
        }
      ]
    },
    {
      "cell_type": "code",
      "source": [
        "df['label'] = df['label'].map({'ANOMALY': 0, 'NORMAL': 1})"
      ],
      "metadata": {
        "id": "7QTeOVScgh8L"
      },
      "execution_count": 87,
      "outputs": []
    },
    {
      "cell_type": "code",
      "source": [
        "train, test = train_test_split(df, test_size=0.3, stratify=df['label'])\n",
        "train, validation = train_test_split(train, test_size=0.3, stratify=train['label'])\n",
        "\n",
        "train.shape, validation.shape, test.shape"
      ],
      "metadata": {
        "id": "I5qFIWg-hVY1",
        "outputId": "5b73379d-22b9-488a-b6de-9b4c599338a0",
        "colab": {
          "base_uri": "https://localhost:8080/"
        }
      },
      "execution_count": 88,
      "outputs": [
        {
          "output_type": "execute_result",
          "data": {
            "text/plain": [
              "((967, 97), (415, 97), (593, 97))"
            ]
          },
          "metadata": {},
          "execution_count": 88
        }
      ]
    },
    {
      "cell_type": "code",
      "source": [
        "training_dataset = tf.data.Dataset.from_tensor_slices(\n",
        "    (train['body_anon'].values, train['label'].values)).batch(batch_size=32)\n",
        "\n",
        "validation_dataset = tf.data.Dataset.from_tensor_slices(\n",
        "    (validation['body_anon'].values, validation['label'].values)).batch(batch_size=32)"
      ],
      "metadata": {
        "id": "uumgrOo1hggC"
      },
      "execution_count": 89,
      "outputs": []
    },
    {
      "cell_type": "code",
      "source": [
        "vocab_size = 5000       \n",
        "\n",
        "tfidf_vectorizer = layers.TextVectorization(\n",
        "    max_tokens=vocab_size,\n",
        "    output_mode='tf_idf'\n",
        ")\n",
        "\n",
        "tfidf_vectorizer.adapt(train['body_anon'].values)\n",
        "\n"
      ],
      "metadata": {
        "id": "oy8ByINZiTWU"
      },
      "execution_count": 90,
      "outputs": []
    },
    {
      "cell_type": "code",
      "source": [
        "model = Sequential()\n",
        "model.add(tfidf_vectorizer)\n",
        "model.add(Dense(128, activation='relu'))\n",
        "model.add(Dense(64, activation='relu'))\n",
        "model.add(Dense(1, activation='sigmoid'))\n"
      ],
      "metadata": {
        "id": "eR0S_xQgxFES"
      },
      "execution_count": 91,
      "outputs": []
    },
    {
      "cell_type": "code",
      "source": [
        "model.summary()"
      ],
      "metadata": {
        "colab": {
          "base_uri": "https://localhost:8080/"
        },
        "id": "y_baoDg5xFA6",
        "outputId": "6c44b8af-d31a-4646-90b7-98ce6d9def61"
      },
      "execution_count": 92,
      "outputs": [
        {
          "output_type": "stream",
          "name": "stdout",
          "text": [
            "Model: \"sequential_3\"\n",
            "_________________________________________________________________\n",
            " Layer (type)                Output Shape              Param #   \n",
            "=================================================================\n",
            " text_vectorization_3 (TextV  (None, 2486)             1         \n",
            " ectorization)                                                   \n",
            "                                                                 \n",
            " dense_8 (Dense)             (None, 128)               318336    \n",
            "                                                                 \n",
            " dense_9 (Dense)             (None, 64)                8256      \n",
            "                                                                 \n",
            " dense_10 (Dense)            (None, 1)                 65        \n",
            "                                                                 \n",
            "=================================================================\n",
            "Total params: 326,658\n",
            "Trainable params: 326,657\n",
            "Non-trainable params: 1\n",
            "_________________________________________________________________\n"
          ]
        }
      ]
    },
    {
      "cell_type": "code",
      "source": [
        "optimizer=tf.keras.optimizers.Adam(learning_rate=0.01)\n",
        "model.compile(optimizer=optimizer, loss='binary_crossentropy', metrics=['accuracy'])"
      ],
      "metadata": {
        "id": "YED60nX3xE9Z"
      },
      "execution_count": 93,
      "outputs": []
    },
    {
      "cell_type": "code",
      "source": [
        "history = model.fit(training_dataset, epochs=20, validation_data=validation_dataset)"
      ],
      "metadata": {
        "colab": {
          "base_uri": "https://localhost:8080/"
        },
        "id": "-ONSvFDMERvJ",
        "outputId": "c648e313-0bb6-4b72-a9cf-afcb2f5983c0"
      },
      "execution_count": 94,
      "outputs": [
        {
          "output_type": "stream",
          "name": "stdout",
          "text": [
            "Epoch 1/20\n",
            "31/31 [==============================] - 2s 12ms/step - loss: 0.6951 - accuracy: 0.6670 - val_loss: 0.6665 - val_accuracy: 0.6651\n",
            "Epoch 2/20\n",
            "31/31 [==============================] - 0s 6ms/step - loss: 0.6243 - accuracy: 0.6949 - val_loss: 0.7909 - val_accuracy: 0.5614\n",
            "Epoch 3/20\n",
            "31/31 [==============================] - 0s 6ms/step - loss: 0.5260 - accuracy: 0.7053 - val_loss: 1.0417 - val_accuracy: 0.5614\n",
            "Epoch 4/20\n",
            "31/31 [==============================] - 0s 7ms/step - loss: 0.4855 - accuracy: 0.7487 - val_loss: 1.5638 - val_accuracy: 0.6313\n",
            "Epoch 5/20\n",
            "31/31 [==============================] - 0s 6ms/step - loss: 0.4768 - accuracy: 0.7580 - val_loss: 1.2701 - val_accuracy: 0.6386\n",
            "Epoch 6/20\n",
            "31/31 [==============================] - 0s 7ms/step - loss: 0.4559 - accuracy: 0.7735 - val_loss: 1.4019 - val_accuracy: 0.6361\n",
            "Epoch 7/20\n",
            "31/31 [==============================] - 0s 6ms/step - loss: 0.3673 - accuracy: 0.8190 - val_loss: 1.4716 - val_accuracy: 0.6554\n",
            "Epoch 8/20\n",
            "31/31 [==============================] - 0s 7ms/step - loss: 0.3406 - accuracy: 0.8211 - val_loss: 2.0306 - val_accuracy: 0.6627\n",
            "Epoch 9/20\n",
            "31/31 [==============================] - 0s 6ms/step - loss: 0.3300 - accuracy: 0.8252 - val_loss: 2.1015 - val_accuracy: 0.6627\n",
            "Epoch 10/20\n",
            "31/31 [==============================] - 0s 6ms/step - loss: 0.3227 - accuracy: 0.8283 - val_loss: 2.0728 - val_accuracy: 0.6651\n",
            "Epoch 11/20\n",
            "31/31 [==============================] - 0s 6ms/step - loss: 0.3159 - accuracy: 0.8314 - val_loss: 2.2162 - val_accuracy: 0.6627\n",
            "Epoch 12/20\n",
            "31/31 [==============================] - 0s 6ms/step - loss: 0.3134 - accuracy: 0.8304 - val_loss: 2.1366 - val_accuracy: 0.6627\n",
            "Epoch 13/20\n",
            "31/31 [==============================] - 0s 7ms/step - loss: 0.3103 - accuracy: 0.8314 - val_loss: 2.3841 - val_accuracy: 0.6554\n",
            "Epoch 14/20\n",
            "31/31 [==============================] - 0s 6ms/step - loss: 0.3345 - accuracy: 0.8294 - val_loss: 2.3576 - val_accuracy: 0.6578\n",
            "Epoch 15/20\n",
            "31/31 [==============================] - 0s 6ms/step - loss: 0.3166 - accuracy: 0.8314 - val_loss: 2.4117 - val_accuracy: 0.6675\n",
            "Epoch 16/20\n",
            "31/31 [==============================] - 0s 6ms/step - loss: 0.3159 - accuracy: 0.8294 - val_loss: 2.1371 - val_accuracy: 0.6627\n",
            "Epoch 17/20\n",
            "31/31 [==============================] - 0s 6ms/step - loss: 0.3112 - accuracy: 0.8314 - val_loss: 2.2029 - val_accuracy: 0.6554\n",
            "Epoch 18/20\n",
            "31/31 [==============================] - 0s 6ms/step - loss: 0.3126 - accuracy: 0.8283 - val_loss: 2.0815 - val_accuracy: 0.6602\n",
            "Epoch 19/20\n",
            "31/31 [==============================] - 0s 7ms/step - loss: 0.3213 - accuracy: 0.8273 - val_loss: 2.1555 - val_accuracy: 0.6627\n",
            "Epoch 20/20\n",
            "31/31 [==============================] - 0s 6ms/step - loss: 0.3149 - accuracy: 0.8273 - val_loss: 2.1553 - val_accuracy: 0.6627\n"
          ]
        }
      ]
    },
    {
      "cell_type": "code",
      "source": [
        "predictions = model.predict(test['body_anon']).round()"
      ],
      "metadata": {
        "id": "Ptq-OnSXBAFd",
        "colab": {
          "base_uri": "https://localhost:8080/"
        },
        "outputId": "7ec1dae6-b1f8-4d61-8169-11c5ca695cca"
      },
      "execution_count": 95,
      "outputs": [
        {
          "output_type": "stream",
          "name": "stdout",
          "text": [
            "19/19 [==============================] - 0s 3ms/step\n"
          ]
        }
      ]
    },
    {
      "cell_type": "code",
      "source": [
        "accuracy_score(test['label'].values, predictions)"
      ],
      "metadata": {
        "id": "rYlOhFG-AjrQ",
        "outputId": "3ded593e-c38a-4fdd-9f9c-6397712a5d22",
        "colab": {
          "base_uri": "https://localhost:8080/"
        }
      },
      "execution_count": 96,
      "outputs": [
        {
          "output_type": "execute_result",
          "data": {
            "text/plain": [
              "0.6155143338954469"
            ]
          },
          "metadata": {},
          "execution_count": 96
        }
      ]
    },
    {
      "cell_type": "code",
      "execution_count": 97,
      "metadata": {
        "id": "B818xsEkSLp1",
        "outputId": "37a1ed71-49ca-492f-ba2a-97818acd9be2",
        "colab": {
          "base_uri": "https://localhost:8080/"
        }
      },
      "outputs": [
        {
          "output_type": "execute_result",
          "data": {
            "text/plain": [
              "array([[353,  63],\n",
              "       [165,  12]])"
            ]
          },
          "metadata": {},
          "execution_count": 97
        }
      ],
      "source": [
        "confusion_matrix(test['label'].values, predictions)"
      ]
    },
    {
      "cell_type": "code",
      "source": [],
      "metadata": {
        "id": "75Ltwq4xCBKx"
      },
      "execution_count": 97,
      "outputs": []
    }
  ],
  "metadata": {
    "accelerator": "GPU",
    "colab": {
      "provenance": [],
      "include_colab_link": true
    },
    "gpuClass": "standard",
    "kernelspec": {
      "display_name": "Python 3.9.15 ('praxis-clements')",
      "language": "python",
      "name": "python3"
    },
    "language_info": {
      "codemirror_mode": {
        "name": "ipython",
        "version": 3
      },
      "file_extension": ".py",
      "mimetype": "text/x-python",
      "name": "python",
      "nbconvert_exporter": "python",
      "pygments_lexer": "ipython3",
      "version": "3.9.16"
    },
    "orig_nbformat": 4,
    "vscode": {
      "interpreter": {
        "hash": "0e4ed65ac9cd06e325be5e4053efe5dbb28567580420031f65d0d231df994926"
      }
    }
  },
  "nbformat": 4,
  "nbformat_minor": 0
}