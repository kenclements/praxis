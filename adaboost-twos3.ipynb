{
  "cells": [
    {
      "cell_type": "markdown",
      "metadata": {
        "id": "view-in-github",
        "colab_type": "text"
      },
      "source": [
        "<a href=\"https://colab.research.google.com/github/kenclements/praxis/blob/main/adaboost-twos3.ipynb\" target=\"_parent\"><img src=\"https://colab.research.google.com/assets/colab-badge.svg\" alt=\"Open In Colab\"/></a>"
      ]
    },
    {
      "cell_type": "code",
      "execution_count": 2,
      "metadata": {
        "id": "lN5-AcoypUan",
        "colab": {
          "base_uri": "https://localhost:8080/"
        },
        "outputId": "02bbe16e-0bfb-40fa-f5e1-5ed845d658c7"
      },
      "outputs": [
        {
          "output_type": "stream",
          "name": "stdout",
          "text": [
            "Tue Feb 21 01:13:11 2023       \n",
            "+-----------------------------------------------------------------------------+\n",
            "| NVIDIA-SMI 510.47.03    Driver Version: 510.47.03    CUDA Version: 11.6     |\n",
            "|-------------------------------+----------------------+----------------------+\n",
            "| GPU  Name        Persistence-M| Bus-Id        Disp.A | Volatile Uncorr. ECC |\n",
            "| Fan  Temp  Perf  Pwr:Usage/Cap|         Memory-Usage | GPU-Util  Compute M. |\n",
            "|                               |                      |               MIG M. |\n",
            "|===============================+======================+======================|\n",
            "|   0  Tesla T4            Off  | 00000000:00:04.0 Off |                    0 |\n",
            "| N/A   57C    P0    29W /  70W |      0MiB / 15360MiB |      0%      Default |\n",
            "|                               |                      |                  N/A |\n",
            "+-------------------------------+----------------------+----------------------+\n",
            "                                                                               \n",
            "+-----------------------------------------------------------------------------+\n",
            "| Processes:                                                                  |\n",
            "|  GPU   GI   CI        PID   Type   Process name                  GPU Memory |\n",
            "|        ID   ID                                                   Usage      |\n",
            "|=============================================================================|\n",
            "|  No running processes found                                                 |\n",
            "+-----------------------------------------------------------------------------+\n"
          ]
        }
      ],
      "source": [
        "!nvidia-smi"
      ]
    },
    {
      "cell_type": "code",
      "execution_count": 3,
      "metadata": {
        "colab": {
          "base_uri": "https://localhost:8080/"
        },
        "id": "sI_JO6jFrD7Z",
        "outputId": "5d129507-544e-45d7-821b-837d3a83fd8e"
      },
      "outputs": [
        {
          "output_type": "stream",
          "name": "stdout",
          "text": [
            "Mounted at /content/drive\n"
          ]
        }
      ],
      "source": [
        "from google.colab import drive\n",
        "drive.mount('/content/drive')"
      ]
    },
    {
      "cell_type": "code",
      "execution_count": 4,
      "metadata": {
        "id": "SpDcPu8tmmK0"
      },
      "outputs": [],
      "source": [
        "import pandas as pd\n",
        "import numpy as np\n",
        "import matplotlib.pyplot as plt\n",
        "import seaborn as sb\n",
        "import string\n",
        "import re\n",
        "\n",
        "#Vectorization and Tokenizing\n",
        "from tensorflow.keras import layers\n",
        "\n",
        "from sklearn.feature_extraction.text import TfidfVectorizer, CountVectorizer\n",
        "from sklearn.preprocessing import MaxAbsScaler\n",
        "\n",
        "import tensorflow as tf\n",
        "from tensorflow.keras.models import Sequential\n",
        "from tensorflow.keras.layers import Dense\n",
        "from tensorflow.keras.layers import InputLayer\n",
        "import torch\n",
        "from tensorflow.keras import losses\n",
        "from tensorflow.keras.regularizers import L2\n",
        "from tensorflow.keras.utils import plot_model\n",
        "from tensorflow.keras.layers import TextVectorization\n",
        "\n",
        "import nltk\n",
        "from nltk.corpus import stopwords\n",
        "from nltk.tokenize import word_tokenize\n",
        "from nltk import pos_tag\n",
        "from nltk.stem import PorterStemmer\n",
        "from nltk.stem import LancasterStemmer\n",
        "\n",
        "#Models\n",
        "from sklearn.ensemble import AdaBoostClassifier\n",
        "from sklearn.neighbors import KNeighborsClassifier\n",
        "from sklearn.svm import SVC\n",
        "from sklearn.linear_model import LogisticRegression\n",
        "from sklearn.naive_bayes import GaussianNB\n",
        "from sklearn.linear_model import LinearRegression\n",
        "\n",
        "\n",
        "#Metrics and Testing\n",
        "from sklearn.model_selection import train_test_split\n",
        "from sklearn import metrics\n",
        "from sklearn.metrics import confusion_matrix"
      ]
    },
    {
      "cell_type": "code",
      "execution_count": 5,
      "metadata": {
        "id": "oR_xocCCmmK3"
      },
      "outputs": [],
      "source": [
        "# file1 = pd.read_csv('/Data/TWOS-dataset/email_ano/User1.csv')\n",
        "# file2 = pd.read_csv('/Data/TWOS-dataset/email_ano/User2.csv')\n",
        "# file3 = pd.read_csv('/Data/TWOS-dataset/email_ano/User3.csv')\n",
        "# file4 = pd.read_csv('/Data/TWOS-dataset/email_ano/User4.csv')\n",
        "# file6 = pd.read_csv('/Data/TWOS-dataset/email_ano/User6.csv')\n",
        "# file7 = pd.read_csv('/Data/TWOS-dataset/email_ano/User7.csv')\n",
        "# file8 = pd.read_csv('/Data/TWOS-dataset/email_ano/User8.csv')\n",
        "# file9 = pd.read_csv('/Data/TWOS-dataset/email_ano/User9.csv')\n",
        "# file10 = pd.read_csv('/Data/TWOS-dataset/email_ano/User10.csv')\n",
        "# file11 = pd.read_csv('/Data/TWOS-dataset/email_ano/User11.csv')\n",
        "# file12 = pd.read_csv('/Data/TWOS-dataset/email_ano/User12.csv')\n",
        "# file13 = pd.read_csv('/Data/TWOS-dataset/email_ano/User13.csv')\n",
        "# file14 = pd.read_csv('/Data/TWOS-dataset/email_ano/User14.csv')\n",
        "# file15 = pd.read_csv('/Data/TWOS-dataset/email_ano/User15.csv')\n",
        "# file16 = pd.read_csv('/Data/TWOS-dataset/email_ano/User16.csv')\n",
        "# file17 = pd.read_csv('/Data/TWOS-dataset/email_ano/User17.csv')\n",
        "# file18 = pd.read_csv('/Data/TWOS-dataset/email_ano/User18.csv')\n",
        "# file19 = pd.read_csv('/Data/TWOS-dataset/email_ano/User19.csv')\n",
        "# file20 = pd.read_csv('/Data/TWOS-dataset/email_ano/User20.csv')\n",
        "# file21 = pd.read_csv('/Data/TWOS-dataset/email_ano/User21.csv')\n",
        "# file22 = pd.read_csv('/Data/TWOS-dataset/email_ano/User22.csv')\n",
        "# file23 = pd.read_csv('/Data/TWOS-dataset/email_ano/User23.csv')\n",
        "# combined = pd.read_csv('/Data/TWOS-dataset/email_ano/combined.csv')\n",
        "#test = pd.read_csv('/Data/TWOS-dataset/email_ano/test.csv')\n",
        "#train = pd.read_csv('/Data/TWOS-dataset/email_ano/train.csv')\n",
        "#imdb = pd.read_csv('/Data/TWOS-dataset/email_ano/IMDB Dataset.csv')\n",
        "df = pd.read_csv('/content/drive/MyDrive/Praxis/data/IMDB Dataset.csv')\n",
        "\n"
      ]
    },
    {
      "cell_type": "code",
      "execution_count": 6,
      "metadata": {
        "id": "tqYu3Ll9SLpp"
      },
      "outputs": [],
      "source": [
        "#df = pd.concat([file1, file2, file3, file4, file6, file7, file8, file9, file10, file11, file12, file13, file14, file15, file16, file17, file18, file19, file20, file21, file22, file23])"
      ]
    },
    {
      "cell_type": "code",
      "execution_count": 7,
      "metadata": {
        "id": "XbC9JYmDSLpq"
      },
      "outputs": [],
      "source": [
        "df.rename(columns={\"review\": \"body_anon\", \"sentiment\": \"label\"}, inplace=True)"
      ]
    },
    {
      "cell_type": "code",
      "execution_count": 8,
      "metadata": {
        "colab": {
          "base_uri": "https://localhost:8080/",
          "height": 284
        },
        "id": "0b6u573ZSLpq",
        "outputId": "bb5e1953-3b43-40e0-8408-d6601138ed3f"
      },
      "outputs": [
        {
          "output_type": "execute_result",
          "data": {
            "text/plain": [
              "<matplotlib.axes._subplots.AxesSubplot at 0x7fd76b9d82b0>"
            ]
          },
          "metadata": {},
          "execution_count": 8
        },
        {
          "output_type": "display_data",
          "data": {
            "text/plain": [
              "<Figure size 432x288 with 1 Axes>"
            ],
            "image/png": "[encoded data removed]"
          },
          "metadata": {
            "needs_background": "light"
          }
        }
      ],
      "source": [
        "sb.heatmap(df.isnull(),yticklabels=False,cbar=False,cmap='viridis')"
      ]
    },
    {
      "cell_type": "code",
      "execution_count": 9,
      "metadata": {
        "id": "qDp__hFtSLpr"
      },
      "outputs": [],
      "source": [
        "df.dropna(subset=['label'], inplace=True)\n"
      ]
    },
    {
      "cell_type": "code",
      "execution_count": 10,
      "metadata": {
        "id": "erZ9jejySLpt"
      },
      "outputs": [],
      "source": [
        "def prep(dfx):\n",
        "    dfx1 = [re.sub(r'[^\\w\\s]','', x) for x in dfx]\n",
        "    dfx1 = ''.join(dfx1)\n",
        "    return(dfx1)\n",
        "\n",
        "#df1 = df['body_anon'].apply(prep)"
      ]
    },
    {
      "cell_type": "code",
      "execution_count": 11,
      "metadata": {
        "colab": {
          "base_uri": "https://localhost:8080/"
        },
        "id": "rchczflXSLpt",
        "outputId": "2974eb78-7ea3-41f5-f1dd-b9833dc81a9a"
      },
      "outputs": [
        {
          "output_type": "stream",
          "name": "stderr",
          "text": [
            "[nltk_data] Downloading package stopwords to /root/nltk_data...\n",
            "[nltk_data]   Unzipping corpora/stopwords.zip.\n"
          ]
        }
      ],
      "source": [
        "nltk.download('stopwords')\n",
        "stops = set(stopwords.words('english'))\n",
        "#print(stops)"
      ]
    },
    {
      "cell_type": "code",
      "execution_count": 12,
      "metadata": {
        "id": "ViPsUTDATwSK",
        "colab": {
          "base_uri": "https://localhost:8080/"
        },
        "outputId": "108f5bdb-8b89-4af4-cd45-2408ab43ff56"
      },
      "outputs": [
        {
          "output_type": "stream",
          "name": "stderr",
          "text": [
            "[nltk_data] Downloading package averaged_perceptron_tagger to\n",
            "[nltk_data]     /root/nltk_data...\n",
            "[nltk_data]   Unzipping taggers/averaged_perceptron_tagger.zip.\n",
            "[nltk_data] Downloading package wordnet to /root/nltk_data...\n",
            "[nltk_data] Downloading package omw-1.4 to /root/nltk_data...\n"
          ]
        }
      ],
      "source": [
        "nltk.download('averaged_perceptron_tagger')\n",
        "nltk.download('wordnet')\n",
        "nltk.download('omw-1.4')\n",
        "def prepare_text(pretext):\n",
        "\n",
        "    # tokenize mission.\n",
        "    tokens = word_tokenize(pretext, language=\"english\", preserve_line=True)\n",
        "\n",
        "    # Parts of speech (POS) tag tokens.\n",
        "    token_tag = pos_tag(tokens)\n",
        "    \n",
        "    # Only include some of the POS tags.\n",
        "    include_tags = ['VBN', 'VBD', 'JJ', 'JJS', 'JJR', 'CD', 'NN', 'NNS', 'NNP', 'NNPS']\n",
        "    filtered_tokens = (tok for tok, tag in token_tag if tag in include_tags)    \n",
        "    #stem words.\n",
        "    stemmed_tokens = (lancaster.stem(tok) for tok in filtered_tokens)\n",
        "\n",
        "    #lemm words.\n",
        "    lemmed_words = (lemmatizer.lemmatize(tok) for tok in stemmed_tokens)\n",
        "\n",
        "    lower_words = [str.lower(tok) for tok in lemmed_words]\n",
        "\n",
        "    #x = cv.fit_transform(tokens).toarray()\n",
        "\n",
        "    joined = \" \".join(lower_words);\n",
        "\n",
        "    return(joined)\n",
        "\n",
        "    #ps = PorterStemmer()\n",
        "lancaster = LancasterStemmer()\n",
        "lemmatizer = nltk.stem.WordNetLemmatizer()\n",
        "    \n",
        "#df['tokenized'] = df['body_anon'].apply(prepare_text)\n",
        "df['tokenized'] = df['body_anon']\n",
        "\n"
      ]
    },
    {
      "cell_type": "code",
      "execution_count": 13,
      "metadata": {
        "colab": {
          "base_uri": "https://localhost:8080/",
          "height": 80
        },
        "id": "X6Hkwj_GSLpt",
        "outputId": "36012446-51ac-4ef4-9fe8-f7f64b881365"
      },
      "outputs": [
        {
          "output_type": "execute_result",
          "data": {
            "text/plain": [
              "                                           body_anon     label  \\\n",
              "0  One of the other reviewers has mentioned that ...  positive   \n",
              "\n",
              "                                           tokenized  \n",
              "0  One of the other reviewers has mentioned that ...  "
            ],
            "text/html": [
              "\n",
              "  <div id=\"df-e3940708-a221-4b00-9e45-8b76c159c211\">\n",
              "    <div class=\"colab-df-container\">\n",
              "      <div>\n",
              "<style scoped>\n",
              "    .dataframe tbody tr th:only-of-type {\n",
              "        vertical-align: middle;\n",
              "    }\n",
              "\n",
              "    .dataframe tbody tr th {\n",
              "        vertical-align: top;\n",
              "    }\n",
              "\n",
              "    .dataframe thead th {\n",
              "        text-align: right;\n",
              "    }\n",
              "</style>\n",
              "<table border=\"1\" class=\"dataframe\">\n",
              "  <thead>\n",
              "    <tr style=\"text-align: right;\">\n",
              "      <th></th>\n",
              "      <th>body_anon</th>\n",
              "      <th>label</th>\n",
              "      <th>tokenized</th>\n",
              "    </tr>\n",
              "  </thead>\n",
              "  <tbody>\n",
              "    <tr>\n",
              "      <th>0</th>\n",
              "      <td>One of the other reviewers has mentioned that ...</td>\n",
              "      <td>positive</td>\n",
              "      <td>One of the other reviewers has mentioned that ...</td>\n",
              "    </tr>\n",
              "  </tbody>\n",
              "</table>\n",
              "</div>\n",
              "      <button class=\"colab-df-convert\" onclick=\"convertToInteractive('df-e3940708-a221-4b00-9e45-8b76c159c211')\"\n",
              "              title=\"Convert this dataframe to an interactive table.\"\n",
              "              style=\"display:none;\">\n",
              "        \n",
              "  <svg xmlns=\"http://www.w3.org/2000/svg\" height=\"24px\"viewBox=\"0 0 24 24\"\n",
              "       width=\"24px\">\n",
              "    <path d=\"M0 0h24v24H0V0z\" fill=\"none\"/>\n",
              "    <path d=\"M18.56 5.44l.94 2.06.94-2.06 2.06-.94-2.06-.94-.94-2.06-.94 2.06-2.06.94zm-11 1L8.5 8.5l.94-2.06 2.06-.94-2.06-.94L8.5 2.5l-.94 2.06-2.06.94zm10 10l.94 2.06.94-2.06 2.06-.94-2.06-.94-.94-2.06-.94 2.06-2.06.94z\"/><path d=\"M17.41 7.96l-1.37-1.37c-.4-.4-.92-.59-1.43-.59-.52 0-1.04.2-1.43.59L10.3 9.45l-7.72 7.72c-.78.78-.78 2.05 0 2.83L4 21.41c.39.39.9.59 1.41.59.51 0 1.02-.2 1.41-.59l7.78-7.78 2.81-2.81c.8-.78.8-2.07 0-2.86zM5.41 20L4 18.59l7.72-7.72 1.47 1.35L5.41 20z\"/>\n",
              "  </svg>\n",
              "      </button>\n",
              "      \n",
              "  <style>\n",
              "    .colab-df-container {\n",
              "      display:flex;\n",
              "      flex-wrap:wrap;\n",
              "      gap: 12px;\n",
              "    }\n",
              "\n",
              "    .colab-df-convert {\n",
              "      background-color: #E8F0FE;\n",
              "      border: none;\n",
              "      border-radius: 50%;\n",
              "      cursor: pointer;\n",
              "      display: none;\n",
              "      fill: #1967D2;\n",
              "      height: 32px;\n",
              "      padding: 0 0 0 0;\n",
              "      width: 32px;\n",
              "    }\n",
              "\n",
              "    .colab-df-convert:hover {\n",
              "      background-color: #E2EBFA;\n",
              "      box-shadow: 0px 1px 2px rgba(60, 64, 67, 0.3), 0px 1px 3px 1px rgba(60, 64, 67, 0.15);\n",
              "      fill: #174EA6;\n",
              "    }\n",
              "\n",
              "    [theme=dark] .colab-df-convert {\n",
              "      background-color: #3B4455;\n",
              "      fill: #D2E3FC;\n",
              "    }\n",
              "\n",
              "    [theme=dark] .colab-df-convert:hover {\n",
              "      background-color: #434B5C;\n",
              "      box-shadow: 0px 1px 3px 1px rgba(0, 0, 0, 0.15);\n",
              "      filter: drop-shadow(0px 1px 2px rgba(0, 0, 0, 0.3));\n",
              "      fill: #FFFFFF;\n",
              "    }\n",
              "  </style>\n",
              "\n",
              "      <script>\n",
              "        const buttonEl =\n",
              "          document.querySelector('#df-e3940708-a221-4b00-9e45-8b76c159c211 button.colab-df-convert');\n",
              "        buttonEl.style.display =\n",
              "          google.colab.kernel.accessAllowed ? 'block' : 'none';\n",
              "\n",
              "        async function convertToInteractive(key) {\n",
              "          const element = document.querySelector('#df-e3940708-a221-4b00-9e45-8b76c159c211');\n",
              "          const dataTable =\n",
              "            await google.colab.kernel.invokeFunction('convertToInteractive',\n",
              "                                                     [key], {});\n",
              "          if (!dataTable) return;\n",
              "\n",
              "          const docLinkHtml = 'Like what you see? Visit the ' +\n",
              "            '<a target=\"_blank\" href=https://colab.research.google.com/notebooks/data_table.ipynb>data table notebook</a>'\n",
              "            + ' to learn more about interactive tables.';\n",
              "          element.innerHTML = '';\n",
              "          dataTable['output_type'] = 'display_data';\n",
              "          await google.colab.output.renderOutput(dataTable, element);\n",
              "          const docLink = document.createElement('div');\n",
              "          docLink.innerHTML = docLinkHtml;\n",
              "          element.appendChild(docLink);\n",
              "        }\n",
              "      </script>\n",
              "    </div>\n",
              "  </div>\n",
              "  "
            ]
          },
          "metadata": {},
          "execution_count": 13
        }
      ],
      "source": [
        "df.head(1)\n"
      ]
    },
    {
      "cell_type": "code",
      "execution_count": 14,
      "metadata": {
        "id": "EpkQEO49SLpu"
      },
      "outputs": [],
      "source": [
        "# countvectorizer = CountVectorizer(analyzer= 'word', stop_words='english')\n",
        "# tfidfvectorizer = TfidfVectorizer(stop_words=None, analyzer='word' )"
      ]
    },
    {
      "cell_type": "code",
      "execution_count": 15,
      "metadata": {
        "id": "OJKPGhiMSLpu"
      },
      "outputs": [],
      "source": [
        "# count_wm = countvectorizer.fit_transform(df['body_anon'])\n",
        "# tfidf_wm = tfidfvectorizer.fit_transform(df['tokenized'])\n"
      ]
    },
    {
      "cell_type": "code",
      "execution_count": 16,
      "metadata": {
        "id": "2OGvf3BlSLpu"
      },
      "outputs": [],
      "source": [
        "#count_tokens = countvectorizer.get_feature_names_out()\n",
        "#tfidf_tokens = tfidfvectorizer.get_feature_names_out()"
      ]
    },
    {
      "cell_type": "code",
      "execution_count": 17,
      "metadata": {
        "id": "y9KOnvlGSLpu"
      },
      "outputs": [],
      "source": [
        "# df_countvect = pd.DataFrame(data = count_wm.toarray(),columns = count_tokens)\n",
        "# df_tfidfvect = pd.DataFrame(data = tfidf_wm.toarray(),columns = tfidf_tokens)\n",
        "# print(\"Count Vectorizer\\n\")\n",
        "# print(df_countvect)\n",
        "# print(\"\\nTD-IDF Vectorizer\\n\")\n",
        "# print(df_tfidfvect)"
      ]
    },
    {
      "cell_type": "code",
      "execution_count": 18,
      "metadata": {
        "id": "rFuQ5qSjSLpu"
      },
      "outputs": [],
      "source": [
        "# df = df.reset_index(drop=True)\n"
      ]
    },
    {
      "cell_type": "code",
      "execution_count": 19,
      "metadata": {
        "id": "zjbevHZnSLpu"
      },
      "outputs": [],
      "source": [
        "# print(df.loc[50, 'tokenized'])"
      ]
    },
    {
      "cell_type": "code",
      "execution_count": 20,
      "metadata": {
        "id": "4OHC38p0SLpv"
      },
      "outputs": [],
      "source": [
        "\n",
        "# print(tfidf_wm[50])\n"
      ]
    },
    {
      "cell_type": "code",
      "execution_count": 21,
      "metadata": {
        "id": "j6zcGlTfSLpv"
      },
      "outputs": [],
      "source": [
        "#transformer = MaxAbsScaler().fit(tfidf_wm)\n",
        "#tfidf_wm = transformer.transform(tfidf_wm)"
      ]
    },
    {
      "cell_type": "code",
      "execution_count": 22,
      "metadata": {
        "id": "j4QGQXqtSLpv"
      },
      "outputs": [],
      "source": [
        "# print(tfidf_wm[50])"
      ]
    },
    {
      "cell_type": "code",
      "execution_count": 23,
      "metadata": {
        "id": "T68olANDSLpv"
      },
      "outputs": [],
      "source": [
        "# Split dataset into training set and test set\n",
        "#X_train, X_test, y_train, y_test = train_test_split(tfidf_wm, df['label'], test_size=.9) # 70% training and 30% test\n"
      ]
    },
    {
      "cell_type": "code",
      "source": [
        "df['label'].value_counts().plot(kind='bar')"
      ],
      "metadata": {
        "id": "8lgnun8DgYSz",
        "outputId": "b3dcf93f-98ec-4eda-db9f-c5111d61573d",
        "colab": {
          "base_uri": "https://localhost:8080/",
          "height": 317
        }
      },
      "execution_count": 24,
      "outputs": [
        {
          "output_type": "execute_result",
          "data": {
            "text/plain": [
              "<matplotlib.axes._subplots.AxesSubplot at 0x7fd76870b340>"
            ]
          },
          "metadata": {},
          "execution_count": 24
        },
        {
          "output_type": "display_data",
          "data": {
            "text/plain": [
              "<Figure size 432x288 with 1 Axes>"
            ],
            "image/png": "[encoded data removed]"
          },
          "metadata": {
            "needs_background": "light"
          }
        }
      ]
    },
    {
      "cell_type": "code",
      "source": [
        "df['label'] = df['label'].map({'positive': 1, 'negative': 0})"
      ],
      "metadata": {
        "id": "7QTeOVScgh8L"
      },
      "execution_count": 25,
      "outputs": []
    },
    {
      "cell_type": "code",
      "source": [
        "train, test = train_test_split(df, test_size=0.2, stratify=df['label'])\n",
        "train, validation = train_test_split(train, test_size=0.2, stratify=train['label'])\n",
        "\n",
        "train.shape, validation.shape, test.shape"
      ],
      "metadata": {
        "id": "I5qFIWg-hVY1",
        "outputId": "f8c38a47-2c29-44e9-fdae-1469dcc14fa3",
        "colab": {
          "base_uri": "https://localhost:8080/"
        }
      },
      "execution_count": 26,
      "outputs": [
        {
          "output_type": "execute_result",
          "data": {
            "text/plain": [
              "((32000, 3), (8000, 3), (10000, 3))"
            ]
          },
          "metadata": {},
          "execution_count": 26
        }
      ]
    },
    {
      "cell_type": "code",
      "source": [
        "training_dataset = tf.data.Dataset.from_tensor_slices(\n",
        "    (train['body_anon'].values, train['label'].values)).batch(batch_size=32)\n",
        "\n",
        "validation_dataset = tf.data.Dataset.from_tensor_slices(\n",
        "    (validation['body_anon'].values, validation['label'].values)).batch(batch_size=32)"
      ],
      "metadata": {
        "id": "uumgrOo1hggC"
      },
      "execution_count": 27,
      "outputs": []
    },
    {
      "cell_type": "code",
      "source": [
        "vocab_size = 10000       \n",
        "\n",
        "tfidf_vectorizer = layers.TextVectorization(\n",
        "    max_tokens=vocab_size,\n",
        "    output_mode='tf_idf'\n",
        ")\n",
        "\n",
        "tfidf_vectorizer.adapt(train['body_anon'].values)\n",
        "\n"
      ],
      "metadata": {
        "id": "oy8ByINZiTWU"
      },
      "execution_count": 32,
      "outputs": []
    },
    {
      "cell_type": "code",
      "source": [],
      "metadata": {
        "id": "ctAGB1rwiTSj"
      },
      "execution_count": null,
      "outputs": []
    },
    {
      "cell_type": "code",
      "source": [],
      "metadata": {
        "id": "XMraDML7iTOI"
      },
      "execution_count": null,
      "outputs": []
    },
    {
      "cell_type": "markdown",
      "metadata": {
        "id": "KHp4St0oSLpv"
      },
      "source": [
        "**This is the Keras TF-IDF vectorization method**"
      ]
    },
    {
      "cell_type": "code",
      "execution_count": null,
      "metadata": {
        "id": "u82dxcMaSLpw"
      },
      "outputs": [],
      "source": [
        "# text_vectorizer = layers.TextVectorization(output_mode=\"tf-idf\")\n",
        "# text_vectorizer.adapt(df['tokenized'])\n",
        "# keras_vector = text_vectorizer(df['tokenized']).numpy()\n",
        "# X_train, X_test, y_train, y_test = train_test_split(keras_vector, df['label'], test_size=.3) # 70% training and 30% test\n"
      ]
    },
    {
      "cell_type": "markdown",
      "metadata": {
        "id": "qWQ7Rf_xSLpw"
      },
      "source": [
        "ADABOOST MODEL"
      ]
    },
    {
      "cell_type": "code",
      "execution_count": null,
      "metadata": {
        "id": "A5POC5GvSLpw"
      },
      "outputs": [],
      "source": [
        "# # Create adaboost classifer object\n",
        "# abc = AdaBoostClassifier(n_estimators=50, learning_rate=1) \n",
        "# # Train Adaboost Classifer\n",
        "# model = abc.fit(X_train, y_train)\n",
        "\n",
        "# #Predict the response for test dataset\n",
        "# y_pred = model.predict(X_test)\n"
      ]
    },
    {
      "cell_type": "code",
      "execution_count": null,
      "metadata": {
        "id": "_9yAQjELSLpw"
      },
      "outputs": [],
      "source": [
        "# print(\"Accuracy:\", metrics.accuracy_score(y_test, y_pred))\n"
      ]
    },
    {
      "cell_type": "code",
      "execution_count": null,
      "metadata": {
        "id": "thCnnWHPSLpw"
      },
      "outputs": [],
      "source": [
        "# confusion_matrix(y_test, y_pred)"
      ]
    },
    {
      "cell_type": "code",
      "source": [
        "# metrics.recall_score(y_test, y_pred)"
      ],
      "metadata": {
        "id": "8uH1nFRSxFKJ"
      },
      "execution_count": null,
      "outputs": []
    },
    {
      "cell_type": "code",
      "source": [],
      "metadata": {
        "id": "pMG-NSuQxFHS"
      },
      "execution_count": null,
      "outputs": []
    },
    {
      "cell_type": "code",
      "source": [
        "model = Sequential()\n",
        "\n",
        "model.add(tfidf_vectorizer)\n",
        "model.add(Dense(64, activation='relu'))\n",
        "model.add(Dense(1, activation='sigmoid'))\n"
      ],
      "metadata": {
        "id": "eR0S_xQgxFES"
      },
      "execution_count": 48,
      "outputs": []
    },
    {
      "cell_type": "code",
      "source": [
        "model.summary()"
      ],
      "metadata": {
        "colab": {
          "base_uri": "https://localhost:8080/"
        },
        "id": "y_baoDg5xFA6",
        "outputId": "b8b2e386-3d53-4786-eb22-fbb74afc5146"
      },
      "execution_count": 49,
      "outputs": [
        {
          "output_type": "stream",
          "name": "stdout",
          "text": [
            "Model: \"sequential_4\"\n",
            "_________________________________________________________________\n",
            " Layer (type)                Output Shape              Param #   \n",
            "=================================================================\n",
            " text_vectorization_1 (TextV  (None, 10000)            1         \n",
            " ectorization)                                                   \n",
            "                                                                 \n",
            " dense_4 (Dense)             (None, 64)                640064    \n",
            "                                                                 \n",
            " dense_5 (Dense)             (None, 1)                 65        \n",
            "                                                                 \n",
            "=================================================================\n",
            "Total params: 640,130\n",
            "Trainable params: 640,129\n",
            "Non-trainable params: 1\n",
            "_________________________________________________________________\n"
          ]
        }
      ]
    },
    {
      "cell_type": "code",
      "source": [
        "optimizer=tf.keras.optimizers.Adam(learning_rate=0.05)\n",
        "model.compile(optimizer=optimizer, loss='binary_crossentropy', metrics=['accuracy'])"
      ],
      "metadata": {
        "id": "YED60nX3xE9Z"
      },
      "execution_count": 50,
      "outputs": []
    },
    {
      "cell_type": "code",
      "source": [
        "# a = X_train.tocoo()"
      ],
      "metadata": {
        "id": "ubL6SIhDFpp7"
      },
      "execution_count": null,
      "outputs": []
    },
    {
      "cell_type": "code",
      "source": [
        "# values = a.data\n",
        "# indices = np.vstack((a.row, a.col))\n",
        "\n",
        "# i = torch.LongTensor(indices)\n",
        "# v = torch.FloatTensor(values)\n",
        "# shape = a.shape\n",
        "\n",
        "# b = torch.sparse.FloatTensor(i, v, torch.Size(shape)).to_dense()"
      ],
      "metadata": {
        "id": "WOYvlvoNMNf3"
      },
      "execution_count": null,
      "outputs": []
    },
    {
      "cell_type": "code",
      "source": [
        "# c = tf.convert_to_tensor(X_train.shape[0], dtype=tf.float32)"
      ],
      "metadata": {
        "id": "rmV4Y5ZZMqhU"
      },
      "execution_count": null,
      "outputs": []
    },
    {
      "cell_type": "code",
      "source": [
        "history = model.fit(training_dataset, epochs=5, validation_data=validation_dataset)"
      ],
      "metadata": {
        "colab": {
          "base_uri": "https://localhost:8080/"
        },
        "id": "-ONSvFDMERvJ",
        "outputId": "52d04d56-a4c4-443a-ec93-a0eac25e8e1e"
      },
      "execution_count": 51,
      "outputs": [
        {
          "output_type": "stream",
          "name": "stdout",
          "text": [
            "Epoch 1/5\n",
            "1000/1000 [==============================] - 9s 8ms/step - loss: 0.5565 - accuracy: 0.7918 - val_loss: 0.4801 - val_accuracy: 0.8075\n",
            "Epoch 2/5\n",
            "1000/1000 [==============================] - 7s 7ms/step - loss: 0.4193 - accuracy: 0.8506 - val_loss: 0.6233 - val_accuracy: 0.8345\n",
            "Epoch 3/5\n",
            "1000/1000 [==============================] - 8s 8ms/step - loss: 0.3450 - accuracy: 0.8584 - val_loss: 0.4819 - val_accuracy: 0.7857\n",
            "Epoch 4/5\n",
            "1000/1000 [==============================] - 7s 7ms/step - loss: 0.3538 - accuracy: 0.8255 - val_loss: 0.5394 - val_accuracy: 0.7768\n",
            "Epoch 5/5\n",
            "1000/1000 [==============================] - 8s 8ms/step - loss: 0.3313 - accuracy: 0.8460 - val_loss: 1.1660 - val_accuracy: 0.7473\n"
          ]
        }
      ]
    },
    {
      "cell_type": "code",
      "source": [],
      "metadata": {
        "id": "Ptq-OnSXBAFd"
      },
      "execution_count": null,
      "outputs": []
    },
    {
      "cell_type": "code",
      "source": [],
      "metadata": {
        "id": "rYlOhFG-AjrQ"
      },
      "execution_count": null,
      "outputs": []
    },
    {
      "cell_type": "code",
      "source": [],
      "metadata": {
        "id": "wcTRHjQzAjoH"
      },
      "execution_count": null,
      "outputs": []
    },
    {
      "cell_type": "markdown",
      "metadata": {
        "id": "hV_VQHa5SLpx"
      },
      "source": [
        "KNN Model"
      ]
    },
    {
      "cell_type": "code",
      "execution_count": null,
      "metadata": {
        "id": "RFmgbTWESLpx"
      },
      "outputs": [],
      "source": [
        "# K = []\n",
        "# training = []\n",
        "# test = []\n",
        "# scores = {}\n",
        "  \n",
        "# for k in range(2, 5):\n",
        "#     clf = KNeighborsClassifier(n_neighbors = k)\n",
        "#     clf.fit(X_train, y_train)\n",
        "  \n",
        "#     training_score = clf.score(X_train, y_train)\n",
        "#     test_score = clf.score(X_test, y_test)\n",
        "#     K.append(k)\n",
        "  \n",
        "#     training.append(training_score)\n",
        "#     test.append(test_score)\n",
        "#     scores[k] = [training_score, test_score]"
      ]
    },
    {
      "cell_type": "code",
      "execution_count": null,
      "metadata": {
        "id": "Gm5UHtPvSLpx"
      },
      "outputs": [],
      "source": [
        "# scores"
      ]
    },
    {
      "cell_type": "code",
      "execution_count": null,
      "metadata": {
        "id": "3OcqMdCOSLpx"
      },
      "outputs": [],
      "source": [
        "# clf = KNeighborsClassifier(n_neighbors=2)\n",
        "# clf.fit(X_train, y_train)\n",
        "# y_pred = clf.predict(X_test)"
      ]
    },
    {
      "cell_type": "code",
      "execution_count": null,
      "metadata": {
        "id": "Tpa-mwnISLpx"
      },
      "outputs": [],
      "source": [
        "# y_pred"
      ]
    },
    {
      "cell_type": "code",
      "source": [
        "# print(\"Accuracy:\", metrics.accuracy_score(y_test, y_pred))"
      ],
      "metadata": {
        "id": "3bx0UHo-xuZ9"
      },
      "execution_count": null,
      "outputs": []
    },
    {
      "cell_type": "code",
      "execution_count": null,
      "metadata": {
        "id": "ZfBdWb-GSLpx"
      },
      "outputs": [],
      "source": [
        "# confusion_matrix(y_test, y_pred)"
      ]
    },
    {
      "cell_type": "code",
      "execution_count": null,
      "metadata": {
        "id": "a-vGzstqSLpy"
      },
      "outputs": [],
      "source": [
        "# plt.scatter(K, training, color ='k')\n",
        "# plt.scatter(K, test, color ='g')\n",
        "# plt.show()\n",
        "# # For overlapping scatter plots"
      ]
    },
    {
      "cell_type": "code",
      "execution_count": null,
      "metadata": {
        "id": "MQ8IeMebSLpy"
      },
      "outputs": [],
      "source": [
        "# svm = SVC(kernel=\"poly\", degree=1, gamma=\"scale\")"
      ]
    },
    {
      "cell_type": "code",
      "execution_count": null,
      "metadata": {
        "id": "HaoxFJj7SLpy"
      },
      "outputs": [],
      "source": [
        "# svm.fit(X_train, y_train)"
      ]
    },
    {
      "cell_type": "code",
      "execution_count": null,
      "metadata": {
        "id": "D0wW21vbSLpy"
      },
      "outputs": [],
      "source": [
        "# y_pred = svm.predict(X_test)"
      ]
    },
    {
      "cell_type": "code",
      "execution_count": null,
      "metadata": {
        "id": "yK57BDepSLpy"
      },
      "outputs": [],
      "source": [
        "# confusion_matrix(y_test, y_pred)"
      ]
    },
    {
      "cell_type": "code",
      "execution_count": null,
      "metadata": {
        "id": "UthF-Ez0SLpy"
      },
      "outputs": [],
      "source": [
        "# lr = LogisticRegression()"
      ]
    },
    {
      "cell_type": "code",
      "execution_count": null,
      "metadata": {
        "id": "mXIvBAO4SLpy"
      },
      "outputs": [],
      "source": [
        "# lr.fit(X_train, y_train)"
      ]
    },
    {
      "cell_type": "code",
      "execution_count": null,
      "metadata": {
        "id": "dk1NRObDSLpy"
      },
      "outputs": [],
      "source": [
        "# y_pred = lr.predict(X_test)"
      ]
    },
    {
      "cell_type": "code",
      "execution_count": null,
      "metadata": {
        "id": "WcF-V3UKSLpz"
      },
      "outputs": [],
      "source": [
        "# y_pred"
      ]
    },
    {
      "cell_type": "code",
      "execution_count": null,
      "metadata": {
        "id": "9A7EbBC8SLpz"
      },
      "outputs": [],
      "source": [
        "# confusion_matrix(y_test, y_pred)"
      ]
    },
    {
      "cell_type": "code",
      "execution_count": null,
      "metadata": {
        "id": "isCIdUXTSLpz"
      },
      "outputs": [],
      "source": [
        "# y_train_hat_probs = lr.predict_proba(X_test)[:,1]"
      ]
    },
    {
      "cell_type": "code",
      "execution_count": null,
      "metadata": {
        "id": "ZwoNDWslSLpz"
      },
      "outputs": [],
      "source": [
        "# y_train_hat_probs"
      ]
    },
    {
      "cell_type": "code",
      "execution_count": null,
      "metadata": {
        "id": "Chj9wAj3SLpz"
      },
      "outputs": [],
      "source": [
        "# nb = GaussianNB()"
      ]
    },
    {
      "cell_type": "code",
      "execution_count": null,
      "metadata": {
        "id": "uiDiIMxBSLp0"
      },
      "outputs": [],
      "source": [
        "# nb.fit(X_train.toarray(), y_train)"
      ]
    },
    {
      "cell_type": "code",
      "execution_count": null,
      "metadata": {
        "id": "WbM3PuZQSLp0"
      },
      "outputs": [],
      "source": [
        "# y_pred = nb.predict(X_test.toarray())"
      ]
    },
    {
      "cell_type": "code",
      "execution_count": null,
      "metadata": {
        "id": "YaP-oRg8SLp0"
      },
      "outputs": [],
      "source": [
        "# y_pred"
      ]
    },
    {
      "cell_type": "code",
      "execution_count": null,
      "metadata": {
        "id": "ScmI_kwRSLp0"
      },
      "outputs": [],
      "source": [
        "# confusion_matrix(y_test, y_pred)"
      ]
    },
    {
      "cell_type": "code",
      "execution_count": null,
      "metadata": {
        "id": "B818xsEkSLp1"
      },
      "outputs": [],
      "source": []
    }
  ],
  "metadata": {
    "accelerator": "GPU",
    "colab": {
      "provenance": [],
      "include_colab_link": true
    },
    "gpuClass": "standard",
    "kernelspec": {
      "display_name": "Python 3.9.15 ('praxis-clements')",
      "language": "python",
      "name": "python3"
    },
    "language_info": {
      "codemirror_mode": {
        "name": "ipython",
        "version": 3
      },
      "file_extension": ".py",
      "mimetype": "text/x-python",
      "name": "python",
      "nbconvert_exporter": "python",
      "pygments_lexer": "ipython3",
      "version": "3.9.16"
    },
    "orig_nbformat": 4,
    "vscode": {
      "interpreter": {
        "hash": "0e4ed65ac9cd06e325be5e4053efe5dbb28567580420031f65d0d231df994926"
      }
    }
  },
  "nbformat": 4,
  "nbformat_minor": 0
}